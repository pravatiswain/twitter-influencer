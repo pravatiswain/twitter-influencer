{
 "cells": [
  {
   "cell_type": "code",
   "execution_count": 1,
   "metadata": {},
   "outputs": [],
   "source": [
    "# impor libraries\n",
    "\n",
    "import pandas as pd\n",
    "import numpy as np\n",
    "\n",
    "import matplotlib.pyplot as plt\n",
    "import seaborn as sns\n",
    "\n",
    "import nltk \n",
    "from nltk.corpus import stopwords\n",
    "from nltk.tokenize import word_tokenize\n",
    "\n",
    "from wordcloud import WordCloud"
   ]
  },
  {
   "cell_type": "code",
   "execution_count": 2,
   "metadata": {},
   "outputs": [
    {
     "data": {
      "text/html": [
       "\n",
       "<style>\n",
       ".output_png {\n",
       "    display: table-cell;\n",
       "    text-align: center;\n",
       "    vertical-align: middle;\n",
       "}\n",
       "</style>\n"
      ],
      "text/plain": [
       "<IPython.core.display.HTML object>"
      ]
     },
     "execution_count": 2,
     "metadata": {},
     "output_type": "execute_result"
    }
   ],
   "source": [
    "# codes to center the images\n",
    "\n",
    "from IPython.core.display import HTML\n",
    "HTML(\"\"\"\n",
    "<style>\n",
    ".output_png {\n",
    "    display: table-cell;\n",
    "    text-align: center;\n",
    "    vertical-align: middle;\n",
    "}\n",
    "</style>\n",
    "\"\"\")"
   ]
  },
  {
   "cell_type": "code",
   "execution_count": 36,
   "metadata": {},
   "outputs": [
    {
     "data": {
      "text/html": [
       "<div>\n",
       "<style scoped>\n",
       "    .dataframe tbody tr th:only-of-type {\n",
       "        vertical-align: middle;\n",
       "    }\n",
       "\n",
       "    .dataframe tbody tr th {\n",
       "        vertical-align: top;\n",
       "    }\n",
       "\n",
       "    .dataframe thead th {\n",
       "        text-align: right;\n",
       "    }\n",
       "</style>\n",
       "<table border=\"1\" class=\"dataframe\">\n",
       "  <thead>\n",
       "    <tr style=\"text-align: right;\">\n",
       "      <th></th>\n",
       "      <th>user_name</th>\n",
       "      <th>user_desc</th>\n",
       "      <th>location</th>\n",
       "      <th>following</th>\n",
       "      <th>followers</th>\n",
       "      <th>totaltweets</th>\n",
       "      <th>user_createdts</th>\n",
       "      <th>tweet_createdts</th>\n",
       "      <th>retweet_count</th>\n",
       "      <th>text</th>\n",
       "    </tr>\n",
       "  </thead>\n",
       "  <tbody>\n",
       "    <tr>\n",
       "      <th>0</th>\n",
       "      <td>Michelleferg79</td>\n",
       "      <td>NaN</td>\n",
       "      <td>NaN</td>\n",
       "      <td>4981</td>\n",
       "      <td>669</td>\n",
       "      <td>98487</td>\n",
       "      <td>2013-10-25 18:38:52</td>\n",
       "      <td>2020-10-04 17:40:05</td>\n",
       "      <td>174</td>\n",
       "      <td>RT @AnythingGoesL: #Win the 3-Step Anthology f...</td>\n",
       "    </tr>\n",
       "    <tr>\n",
       "      <th>1</th>\n",
       "      <td>GillybeansH</td>\n",
       "      <td>NaN</td>\n",
       "      <td>England</td>\n",
       "      <td>4637</td>\n",
       "      <td>238</td>\n",
       "      <td>15409</td>\n",
       "      <td>2009-05-10 13:18:12</td>\n",
       "      <td>2020-10-04 17:40:05</td>\n",
       "      <td>476</td>\n",
       "      <td>RT @So_Lippy: Enter our #October #Competition ...</td>\n",
       "    </tr>\n",
       "    <tr>\n",
       "      <th>2</th>\n",
       "      <td>luccaromeo</td>\n",
       "      <td>Everything has beauty, but not everyone sees i...</td>\n",
       "      <td>Los Angeles, CA</td>\n",
       "      <td>275</td>\n",
       "      <td>179</td>\n",
       "      <td>21939</td>\n",
       "      <td>2015-09-08 17:43:34</td>\n",
       "      <td>2020-10-04 17:40:03</td>\n",
       "      <td>0</td>\n",
       "      <td>Visage de Layla also offers waxing treatment h...</td>\n",
       "    </tr>\n",
       "    <tr>\n",
       "      <th>3</th>\n",
       "      <td>FashListings</td>\n",
       "      <td>Sell fashion? List your business for FREE in o...</td>\n",
       "      <td>Northampton, UK</td>\n",
       "      <td>30747</td>\n",
       "      <td>35104</td>\n",
       "      <td>224859</td>\n",
       "      <td>2014-12-27 15:53:24</td>\n",
       "      <td>2020-10-04 17:40:03</td>\n",
       "      <td>0</td>\n",
       "      <td>Sell #fashion? Submit your website to our #dir...</td>\n",
       "    </tr>\n",
       "    <tr>\n",
       "      <th>4</th>\n",
       "      <td>_Fanii10</td>\n",
       "      <td>NaN</td>\n",
       "      <td>NaN</td>\n",
       "      <td>25</td>\n",
       "      <td>36</td>\n",
       "      <td>32</td>\n",
       "      <td>2015-06-21 21:26:09</td>\n",
       "      <td>2020-10-04 17:39:57</td>\n",
       "      <td>1</td>\n",
       "      <td>RT @theregoesjared: Candy Battle 🍬🍭🍫\\nStarburs...</td>\n",
       "    </tr>\n",
       "  </tbody>\n",
       "</table>\n",
       "</div>"
      ],
      "text/plain": [
       "        user_name                                          user_desc  \\\n",
       "0  Michelleferg79                                                NaN   \n",
       "1     GillybeansH                                                NaN   \n",
       "2      luccaromeo  Everything has beauty, but not everyone sees i...   \n",
       "3    FashListings  Sell fashion? List your business for FREE in o...   \n",
       "4        _Fanii10                                                NaN   \n",
       "\n",
       "          location  following  followers  totaltweets       user_createdts  \\\n",
       "0              NaN       4981        669        98487  2013-10-25 18:38:52   \n",
       "1          England       4637        238        15409  2009-05-10 13:18:12   \n",
       "2  Los Angeles, CA        275        179        21939  2015-09-08 17:43:34   \n",
       "3  Northampton, UK      30747      35104       224859  2014-12-27 15:53:24   \n",
       "4              NaN         25         36           32  2015-06-21 21:26:09   \n",
       "\n",
       "       tweet_createdts  retweet_count  \\\n",
       "0  2020-10-04 17:40:05            174   \n",
       "1  2020-10-04 17:40:05            476   \n",
       "2  2020-10-04 17:40:03              0   \n",
       "3  2020-10-04 17:40:03              0   \n",
       "4  2020-10-04 17:39:57              1   \n",
       "\n",
       "                                                text  \n",
       "0  RT @AnythingGoesL: #Win the 3-Step Anthology f...  \n",
       "1  RT @So_Lippy: Enter our #October #Competition ...  \n",
       "2  Visage de Layla also offers waxing treatment h...  \n",
       "3  Sell #fashion? Submit your website to our #dir...  \n",
       "4  RT @theregoesjared: Candy Battle 🍬🍭🍫\\nStarburs...  "
      ]
     },
     "execution_count": 36,
     "metadata": {},
     "output_type": "execute_result"
    }
   ],
   "source": [
    "# Load data into a pandas DataFrame\n",
    "fashion_df = pd.read_csv('fashion_tweets_allf.csv')\n",
    "fashion_df.head()"
   ]
  },
  {
   "cell_type": "code",
   "execution_count": 37,
   "metadata": {},
   "outputs": [
    {
     "data": {
      "text/plain": [
       "(130000, 10)"
      ]
     },
     "execution_count": 37,
     "metadata": {},
     "output_type": "execute_result"
    }
   ],
   "source": [
    "# Find out total no of rows and columns\n",
    "fashion_df.shape"
   ]
  },
  {
   "cell_type": "code",
   "execution_count": 38,
   "metadata": {},
   "outputs": [
    {
     "name": "stdout",
     "output_type": "stream",
     "text": [
      "<class 'pandas.core.frame.DataFrame'>\n",
      "RangeIndex: 130000 entries, 0 to 129999\n",
      "Data columns (total 10 columns):\n",
      "user_name          130000 non-null object\n",
      "user_desc          112866 non-null object\n",
      "location           86636 non-null object\n",
      "following          130000 non-null int64\n",
      "followers          130000 non-null int64\n",
      "totaltweets        130000 non-null int64\n",
      "user_createdts     130000 non-null object\n",
      "tweet_createdts    130000 non-null object\n",
      "retweet_count      130000 non-null int64\n",
      "text               130000 non-null object\n",
      "dtypes: int64(4), object(6)\n",
      "memory usage: 9.9+ MB\n"
     ]
    }
   ],
   "source": [
    "# Count missing values\n",
    "fashion_df.info()"
   ]
  },
  {
   "cell_type": "code",
   "execution_count": 39,
   "metadata": {},
   "outputs": [
    {
     "data": {
      "text/plain": [
       "6596"
      ]
     },
     "execution_count": 39,
     "metadata": {},
     "output_type": "execute_result"
    }
   ],
   "source": [
    "# Check for duplicate tweets \n",
    "\n",
    "duplicate_tweets_fashion = fashion_df.duplicated(keep='first').sum()\n",
    "duplicate_tweets_fashion"
   ]
  },
  {
   "cell_type": "code",
   "execution_count": 40,
   "metadata": {},
   "outputs": [
    {
     "data": {
      "text/plain": [
       "123404"
      ]
     },
     "execution_count": 40,
     "metadata": {},
     "output_type": "execute_result"
    }
   ],
   "source": [
    "# drop duplicates\n",
    "fashion_df = fashion_df.drop_duplicates()\n",
    "len(fashion_df)"
   ]
  },
  {
   "cell_type": "code",
   "execution_count": 41,
   "metadata": {},
   "outputs": [
    {
     "data": {
      "text/plain": [
       "0.4175796570613594"
      ]
     },
     "execution_count": 41,
     "metadata": {},
     "output_type": "execute_result"
    }
   ],
   "source": [
    "# Check for % of retweets\n",
    "fashion_df['text'].apply(lambda x: 'RT' in x[:3]).mean()"
   ]
  },
  {
   "cell_type": "code",
   "execution_count": 42,
   "metadata": {},
   "outputs": [
    {
     "data": {
      "text/plain": [
       "71882"
      ]
     },
     "execution_count": 42,
     "metadata": {},
     "output_type": "execute_result"
    }
   ],
   "source": [
    "# Drop the retweets\n",
    "fashion_df = fashion_df[~fashion_df.text.str.startswith('RT')]\n",
    "len(fashion_df)"
   ]
  },
  {
   "cell_type": "code",
   "execution_count": 43,
   "metadata": {},
   "outputs": [
    {
     "data": {
      "text/html": [
       "<div>\n",
       "<style scoped>\n",
       "    .dataframe tbody tr th:only-of-type {\n",
       "        vertical-align: middle;\n",
       "    }\n",
       "\n",
       "    .dataframe tbody tr th {\n",
       "        vertical-align: top;\n",
       "    }\n",
       "\n",
       "    .dataframe thead th {\n",
       "        text-align: right;\n",
       "    }\n",
       "</style>\n",
       "<table border=\"1\" class=\"dataframe\">\n",
       "  <thead>\n",
       "    <tr style=\"text-align: right;\">\n",
       "      <th></th>\n",
       "      <th>user_name</th>\n",
       "      <th>user_desc</th>\n",
       "      <th>location</th>\n",
       "      <th>following</th>\n",
       "      <th>followers</th>\n",
       "      <th>totaltweets</th>\n",
       "      <th>user_createdts</th>\n",
       "      <th>tweet_createdts</th>\n",
       "      <th>retweet_count</th>\n",
       "      <th>text</th>\n",
       "    </tr>\n",
       "  </thead>\n",
       "  <tbody>\n",
       "    <tr>\n",
       "      <th>2</th>\n",
       "      <td>luccaromeo</td>\n",
       "      <td>Everything has beauty, but not everyone sees i...</td>\n",
       "      <td>Los Angeles, CA</td>\n",
       "      <td>275</td>\n",
       "      <td>179</td>\n",
       "      <td>21939</td>\n",
       "      <td>2015-09-08 17:43:34</td>\n",
       "      <td>2020-10-04 17:40:03</td>\n",
       "      <td>0</td>\n",
       "      <td>Visage de Layla also offers waxing treatment h...</td>\n",
       "    </tr>\n",
       "    <tr>\n",
       "      <th>3</th>\n",
       "      <td>FashListings</td>\n",
       "      <td>Sell fashion? List your business for FREE in o...</td>\n",
       "      <td>Northampton, UK</td>\n",
       "      <td>30747</td>\n",
       "      <td>35104</td>\n",
       "      <td>224859</td>\n",
       "      <td>2014-12-27 15:53:24</td>\n",
       "      <td>2020-10-04 17:40:03</td>\n",
       "      <td>0</td>\n",
       "      <td>Sell #fashion? Submit your website to our #dir...</td>\n",
       "    </tr>\n",
       "    <tr>\n",
       "      <th>7</th>\n",
       "      <td>dukebarrett</td>\n",
       "      <td>Baltimore based photographer. Ready to make yo...</td>\n",
       "      <td>Parkville, MD</td>\n",
       "      <td>136</td>\n",
       "      <td>257</td>\n",
       "      <td>8859</td>\n",
       "      <td>2009-07-14 03:15:32</td>\n",
       "      <td>2020-10-04 17:39:36</td>\n",
       "      <td>0</td>\n",
       "      <td>#model #fashion #texture #baltimorephotographe...</td>\n",
       "    </tr>\n",
       "    <tr>\n",
       "      <th>9</th>\n",
       "      <td>Panty_Buns</td>\n",
       "      <td>Love to male-model/review full brief panties+f...</td>\n",
       "      <td>Long Island, NY</td>\n",
       "      <td>1295</td>\n",
       "      <td>1276</td>\n",
       "      <td>63481</td>\n",
       "      <td>2011-09-09 01:22:26</td>\n",
       "      <td>2020-10-04 17:39:32</td>\n",
       "      <td>0</td>\n",
       "      <td>'Fall 2020 Fashion Trend' - #Fbloggers 5 #OOTD...</td>\n",
       "    </tr>\n",
       "    <tr>\n",
       "      <th>11</th>\n",
       "      <td>MartaFerrazAtom</td>\n",
       "      <td>Futurist Scientist, Polymath\\nAugmented Humans...</td>\n",
       "      <td>Netherlands</td>\n",
       "      <td>483</td>\n",
       "      <td>37</td>\n",
       "      <td>11</td>\n",
       "      <td>2010-03-30 20:21:44</td>\n",
       "      <td>2020-10-04 17:39:29</td>\n",
       "      <td>0</td>\n",
       "      <td>Design for the Future When the Future Is Bleak...</td>\n",
       "    </tr>\n",
       "  </tbody>\n",
       "</table>\n",
       "</div>"
      ],
      "text/plain": [
       "          user_name                                          user_desc  \\\n",
       "2        luccaromeo  Everything has beauty, but not everyone sees i...   \n",
       "3      FashListings  Sell fashion? List your business for FREE in o...   \n",
       "7       dukebarrett  Baltimore based photographer. Ready to make yo...   \n",
       "9        Panty_Buns  Love to male-model/review full brief panties+f...   \n",
       "11  MartaFerrazAtom  Futurist Scientist, Polymath\\nAugmented Humans...   \n",
       "\n",
       "           location  following  followers  totaltweets       user_createdts  \\\n",
       "2   Los Angeles, CA        275        179        21939  2015-09-08 17:43:34   \n",
       "3   Northampton, UK      30747      35104       224859  2014-12-27 15:53:24   \n",
       "7     Parkville, MD        136        257         8859  2009-07-14 03:15:32   \n",
       "9   Long Island, NY       1295       1276        63481  2011-09-09 01:22:26   \n",
       "11     Netherlands         483         37           11  2010-03-30 20:21:44   \n",
       "\n",
       "        tweet_createdts  retweet_count  \\\n",
       "2   2020-10-04 17:40:03              0   \n",
       "3   2020-10-04 17:40:03              0   \n",
       "7   2020-10-04 17:39:36              0   \n",
       "9   2020-10-04 17:39:32              0   \n",
       "11  2020-10-04 17:39:29              0   \n",
       "\n",
       "                                                 text  \n",
       "2   Visage de Layla also offers waxing treatment h...  \n",
       "3   Sell #fashion? Submit your website to our #dir...  \n",
       "7   #model #fashion #texture #baltimorephotographe...  \n",
       "9   'Fall 2020 Fashion Trend' - #Fbloggers 5 #OOTD...  \n",
       "11  Design for the Future When the Future Is Bleak...  "
      ]
     },
     "execution_count": 43,
     "metadata": {},
     "output_type": "execute_result"
    }
   ],
   "source": [
    "fashion_df.head(5)"
   ]
  },
  {
   "cell_type": "code",
   "execution_count": 44,
   "metadata": {
    "scrolled": true
   },
   "outputs": [
    {
     "data": {
      "text/html": [
       "<div>\n",
       "<style scoped>\n",
       "    .dataframe tbody tr th:only-of-type {\n",
       "        vertical-align: middle;\n",
       "    }\n",
       "\n",
       "    .dataframe tbody tr th {\n",
       "        vertical-align: top;\n",
       "    }\n",
       "\n",
       "    .dataframe thead th {\n",
       "        text-align: right;\n",
       "    }\n",
       "</style>\n",
       "<table border=\"1\" class=\"dataframe\">\n",
       "  <thead>\n",
       "    <tr style=\"text-align: right;\">\n",
       "      <th></th>\n",
       "      <th>user_name</th>\n",
       "      <th>user_desc</th>\n",
       "      <th>location</th>\n",
       "      <th>following</th>\n",
       "      <th>followers</th>\n",
       "      <th>totaltweets</th>\n",
       "      <th>user_createdts</th>\n",
       "      <th>tweet_createdts</th>\n",
       "      <th>retweet_count</th>\n",
       "      <th>text</th>\n",
       "      <th>hashtags</th>\n",
       "    </tr>\n",
       "  </thead>\n",
       "  <tbody>\n",
       "    <tr>\n",
       "      <th>2</th>\n",
       "      <td>luccaromeo</td>\n",
       "      <td>Everything has beauty, but not everyone sees i...</td>\n",
       "      <td>Los Angeles, CA</td>\n",
       "      <td>275</td>\n",
       "      <td>179</td>\n",
       "      <td>21939</td>\n",
       "      <td>2015-09-08 17:43:34</td>\n",
       "      <td>2020-10-04 17:40:03</td>\n",
       "      <td>0</td>\n",
       "      <td>Visage de Layla also offers waxing treatment h...</td>\n",
       "      <td>{#beauty}</td>\n",
       "    </tr>\n",
       "    <tr>\n",
       "      <th>3</th>\n",
       "      <td>FashListings</td>\n",
       "      <td>Sell fashion? List your business for FREE in o...</td>\n",
       "      <td>Northampton, UK</td>\n",
       "      <td>30747</td>\n",
       "      <td>35104</td>\n",
       "      <td>224859</td>\n",
       "      <td>2014-12-27 15:53:24</td>\n",
       "      <td>2020-10-04 17:40:03</td>\n",
       "      <td>0</td>\n",
       "      <td>Sell #fashion? Submit your website to our #dir...</td>\n",
       "      <td>{#bizitalk, #seo, #fashion?, #fnzb, #directory}</td>\n",
       "    </tr>\n",
       "    <tr>\n",
       "      <th>7</th>\n",
       "      <td>dukebarrett</td>\n",
       "      <td>Baltimore based photographer. Ready to make yo...</td>\n",
       "      <td>Parkville, MD</td>\n",
       "      <td>136</td>\n",
       "      <td>257</td>\n",
       "      <td>8859</td>\n",
       "      <td>2009-07-14 03:15:32</td>\n",
       "      <td>2020-10-04 17:39:36</td>\n",
       "      <td>0</td>\n",
       "      <td>#model #fashion #texture #baltimorephotographe...</td>\n",
       "      <td>{#fashion, #texture, #paulcbuff, #newcommer, #...</td>\n",
       "    </tr>\n",
       "  </tbody>\n",
       "</table>\n",
       "</div>"
      ],
      "text/plain": [
       "      user_name                                          user_desc  \\\n",
       "2    luccaromeo  Everything has beauty, but not everyone sees i...   \n",
       "3  FashListings  Sell fashion? List your business for FREE in o...   \n",
       "7   dukebarrett  Baltimore based photographer. Ready to make yo...   \n",
       "\n",
       "          location  following  followers  totaltweets       user_createdts  \\\n",
       "2  Los Angeles, CA        275        179        21939  2015-09-08 17:43:34   \n",
       "3  Northampton, UK      30747      35104       224859  2014-12-27 15:53:24   \n",
       "7    Parkville, MD        136        257         8859  2009-07-14 03:15:32   \n",
       "\n",
       "       tweet_createdts  retweet_count  \\\n",
       "2  2020-10-04 17:40:03              0   \n",
       "3  2020-10-04 17:40:03              0   \n",
       "7  2020-10-04 17:39:36              0   \n",
       "\n",
       "                                                text  \\\n",
       "2  Visage de Layla also offers waxing treatment h...   \n",
       "3  Sell #fashion? Submit your website to our #dir...   \n",
       "7  #model #fashion #texture #baltimorephotographe...   \n",
       "\n",
       "                                            hashtags  \n",
       "2                                          {#beauty}  \n",
       "3    {#bizitalk, #seo, #fashion?, #fnzb, #directory}  \n",
       "7  {#fashion, #texture, #paulcbuff, #newcommer, #...  "
      ]
     },
     "execution_count": 44,
     "metadata": {},
     "output_type": "execute_result"
    }
   ],
   "source": [
    "# defind a function to find all the hashtags in a tweet\n",
    "\n",
    "def hashtag(text):\n",
    "    return (set([str(i.lower()) for i in text.split() if i.startswith(\"#\")]))\n",
    "\n",
    "fashion_df['hashtags'] = fashion_df['text'].apply(hashtag)\n",
    "fashion_df.head(3)"
   ]
  },
  {
   "cell_type": "code",
   "execution_count": 45,
   "metadata": {},
   "outputs": [
    {
     "data": {
      "text/html": [
       "<div>\n",
       "<style scoped>\n",
       "    .dataframe tbody tr th:only-of-type {\n",
       "        vertical-align: middle;\n",
       "    }\n",
       "\n",
       "    .dataframe tbody tr th {\n",
       "        vertical-align: top;\n",
       "    }\n",
       "\n",
       "    .dataframe thead th {\n",
       "        text-align: right;\n",
       "    }\n",
       "</style>\n",
       "<table border=\"1\" class=\"dataframe\">\n",
       "  <thead>\n",
       "    <tr style=\"text-align: right;\">\n",
       "      <th></th>\n",
       "      <th>user_name</th>\n",
       "      <th>user_desc</th>\n",
       "      <th>location</th>\n",
       "      <th>following</th>\n",
       "      <th>followers</th>\n",
       "      <th>totaltweets</th>\n",
       "      <th>user_createdts</th>\n",
       "      <th>tweet_createdts</th>\n",
       "      <th>retweet_count</th>\n",
       "      <th>text</th>\n",
       "      <th>hashtags</th>\n",
       "      <th>num_hashtags</th>\n",
       "    </tr>\n",
       "  </thead>\n",
       "  <tbody>\n",
       "    <tr>\n",
       "      <th>2</th>\n",
       "      <td>luccaromeo</td>\n",
       "      <td>Everything has beauty, but not everyone sees i...</td>\n",
       "      <td>Los Angeles, CA</td>\n",
       "      <td>275</td>\n",
       "      <td>179</td>\n",
       "      <td>21939</td>\n",
       "      <td>2015-09-08 17:43:34</td>\n",
       "      <td>2020-10-04 17:40:03</td>\n",
       "      <td>0</td>\n",
       "      <td>Visage de Layla also offers waxing treatment h...</td>\n",
       "      <td>{#beauty}</td>\n",
       "      <td>1</td>\n",
       "    </tr>\n",
       "    <tr>\n",
       "      <th>3</th>\n",
       "      <td>FashListings</td>\n",
       "      <td>Sell fashion? List your business for FREE in o...</td>\n",
       "      <td>Northampton, UK</td>\n",
       "      <td>30747</td>\n",
       "      <td>35104</td>\n",
       "      <td>224859</td>\n",
       "      <td>2014-12-27 15:53:24</td>\n",
       "      <td>2020-10-04 17:40:03</td>\n",
       "      <td>0</td>\n",
       "      <td>Sell #fashion? Submit your website to our #dir...</td>\n",
       "      <td>{#bizitalk, #seo, #fashion?, #fnzb, #directory}</td>\n",
       "      <td>5</td>\n",
       "    </tr>\n",
       "    <tr>\n",
       "      <th>7</th>\n",
       "      <td>dukebarrett</td>\n",
       "      <td>Baltimore based photographer. Ready to make yo...</td>\n",
       "      <td>Parkville, MD</td>\n",
       "      <td>136</td>\n",
       "      <td>257</td>\n",
       "      <td>8859</td>\n",
       "      <td>2009-07-14 03:15:32</td>\n",
       "      <td>2020-10-04 17:39:36</td>\n",
       "      <td>0</td>\n",
       "      <td>#model #fashion #texture #baltimorephotographe...</td>\n",
       "      <td>{#fashion, #texture, #paulcbuff, #newcommer, #...</td>\n",
       "      <td>15</td>\n",
       "    </tr>\n",
       "  </tbody>\n",
       "</table>\n",
       "</div>"
      ],
      "text/plain": [
       "      user_name                                          user_desc  \\\n",
       "2    luccaromeo  Everything has beauty, but not everyone sees i...   \n",
       "3  FashListings  Sell fashion? List your business for FREE in o...   \n",
       "7   dukebarrett  Baltimore based photographer. Ready to make yo...   \n",
       "\n",
       "          location  following  followers  totaltweets       user_createdts  \\\n",
       "2  Los Angeles, CA        275        179        21939  2015-09-08 17:43:34   \n",
       "3  Northampton, UK      30747      35104       224859  2014-12-27 15:53:24   \n",
       "7    Parkville, MD        136        257         8859  2009-07-14 03:15:32   \n",
       "\n",
       "       tweet_createdts  retweet_count  \\\n",
       "2  2020-10-04 17:40:03              0   \n",
       "3  2020-10-04 17:40:03              0   \n",
       "7  2020-10-04 17:39:36              0   \n",
       "\n",
       "                                                text  \\\n",
       "2  Visage de Layla also offers waxing treatment h...   \n",
       "3  Sell #fashion? Submit your website to our #dir...   \n",
       "7  #model #fashion #texture #baltimorephotographe...   \n",
       "\n",
       "                                            hashtags  num_hashtags  \n",
       "2                                          {#beauty}             1  \n",
       "3    {#bizitalk, #seo, #fashion?, #fnzb, #directory}             5  \n",
       "7  {#fashion, #texture, #paulcbuff, #newcommer, #...            15  "
      ]
     },
     "execution_count": 45,
     "metadata": {},
     "output_type": "execute_result"
    }
   ],
   "source": [
    "# Count the hashtags per each tweets\n",
    "fashion_df['num_hashtags'] = fashion_df['hashtags'].apply(len)\n",
    "fashion_df.head(3)"
   ]
  },
  {
   "cell_type": "code",
   "execution_count": 46,
   "metadata": {},
   "outputs": [
    {
     "data": {
      "text/html": [
       "<div>\n",
       "<style scoped>\n",
       "    .dataframe tbody tr th:only-of-type {\n",
       "        vertical-align: middle;\n",
       "    }\n",
       "\n",
       "    .dataframe tbody tr th {\n",
       "        vertical-align: top;\n",
       "    }\n",
       "\n",
       "    .dataframe thead th {\n",
       "        text-align: right;\n",
       "    }\n",
       "</style>\n",
       "<table border=\"1\" class=\"dataframe\">\n",
       "  <thead>\n",
       "    <tr style=\"text-align: right;\">\n",
       "      <th></th>\n",
       "      <th>user_name</th>\n",
       "      <th>user_desc</th>\n",
       "      <th>location</th>\n",
       "      <th>following</th>\n",
       "      <th>followers</th>\n",
       "      <th>totaltweets</th>\n",
       "      <th>user_createdts</th>\n",
       "      <th>tweet_createdts</th>\n",
       "      <th>retweet_count</th>\n",
       "      <th>text</th>\n",
       "      <th>hashtags</th>\n",
       "      <th>num_hashtags</th>\n",
       "      <th>num_search_tags</th>\n",
       "    </tr>\n",
       "  </thead>\n",
       "  <tbody>\n",
       "    <tr>\n",
       "      <th>2</th>\n",
       "      <td>luccaromeo</td>\n",
       "      <td>Everything has beauty, but not everyone sees i...</td>\n",
       "      <td>Los Angeles, CA</td>\n",
       "      <td>275</td>\n",
       "      <td>179</td>\n",
       "      <td>21939</td>\n",
       "      <td>2015-09-08 17:43:34</td>\n",
       "      <td>2020-10-04 17:40:03</td>\n",
       "      <td>0</td>\n",
       "      <td>Visage de Layla also offers waxing treatment h...</td>\n",
       "      <td>{#beauty}</td>\n",
       "      <td>1</td>\n",
       "      <td>1</td>\n",
       "    </tr>\n",
       "    <tr>\n",
       "      <th>3</th>\n",
       "      <td>FashListings</td>\n",
       "      <td>Sell fashion? List your business for FREE in o...</td>\n",
       "      <td>Northampton, UK</td>\n",
       "      <td>30747</td>\n",
       "      <td>35104</td>\n",
       "      <td>224859</td>\n",
       "      <td>2014-12-27 15:53:24</td>\n",
       "      <td>2020-10-04 17:40:03</td>\n",
       "      <td>0</td>\n",
       "      <td>Sell #fashion? Submit your website to our #dir...</td>\n",
       "      <td>{#bizitalk, #seo, #fashion?, #fnzb, #directory}</td>\n",
       "      <td>5</td>\n",
       "      <td>1</td>\n",
       "    </tr>\n",
       "    <tr>\n",
       "      <th>7</th>\n",
       "      <td>dukebarrett</td>\n",
       "      <td>Baltimore based photographer. Ready to make yo...</td>\n",
       "      <td>Parkville, MD</td>\n",
       "      <td>136</td>\n",
       "      <td>257</td>\n",
       "      <td>8859</td>\n",
       "      <td>2009-07-14 03:15:32</td>\n",
       "      <td>2020-10-04 17:39:36</td>\n",
       "      <td>0</td>\n",
       "      <td>#model #fashion #texture #baltimorephotographe...</td>\n",
       "      <td>{#fashion, #texture, #paulcbuff, #newcommer, #...</td>\n",
       "      <td>15</td>\n",
       "      <td>3</td>\n",
       "    </tr>\n",
       "    <tr>\n",
       "      <th>9</th>\n",
       "      <td>Panty_Buns</td>\n",
       "      <td>Love to male-model/review full brief panties+f...</td>\n",
       "      <td>Long Island, NY</td>\n",
       "      <td>1295</td>\n",
       "      <td>1276</td>\n",
       "      <td>63481</td>\n",
       "      <td>2011-09-09 01:22:26</td>\n",
       "      <td>2020-10-04 17:39:32</td>\n",
       "      <td>0</td>\n",
       "      <td>'Fall 2020 Fashion Trend' - #Fbloggers 5 #OOTD...</td>\n",
       "      <td>{#fashion, #outfit, #lookbook, #style, #fblogg...</td>\n",
       "      <td>6</td>\n",
       "      <td>2</td>\n",
       "    </tr>\n",
       "    <tr>\n",
       "      <th>11</th>\n",
       "      <td>MartaFerrazAtom</td>\n",
       "      <td>Futurist Scientist, Polymath\\nAugmented Humans...</td>\n",
       "      <td>Netherlands</td>\n",
       "      <td>483</td>\n",
       "      <td>37</td>\n",
       "      <td>11</td>\n",
       "      <td>2010-03-30 20:21:44</td>\n",
       "      <td>2020-10-04 17:39:29</td>\n",
       "      <td>0</td>\n",
       "      <td>Design for the Future When the Future Is Bleak...</td>\n",
       "      <td>{#environment, #fiction, #design}</td>\n",
       "      <td>3</td>\n",
       "      <td>1</td>\n",
       "    </tr>\n",
       "  </tbody>\n",
       "</table>\n",
       "</div>"
      ],
      "text/plain": [
       "          user_name                                          user_desc  \\\n",
       "2        luccaromeo  Everything has beauty, but not everyone sees i...   \n",
       "3      FashListings  Sell fashion? List your business for FREE in o...   \n",
       "7       dukebarrett  Baltimore based photographer. Ready to make yo...   \n",
       "9        Panty_Buns  Love to male-model/review full brief panties+f...   \n",
       "11  MartaFerrazAtom  Futurist Scientist, Polymath\\nAugmented Humans...   \n",
       "\n",
       "           location  following  followers  totaltweets       user_createdts  \\\n",
       "2   Los Angeles, CA        275        179        21939  2015-09-08 17:43:34   \n",
       "3   Northampton, UK      30747      35104       224859  2014-12-27 15:53:24   \n",
       "7     Parkville, MD        136        257         8859  2009-07-14 03:15:32   \n",
       "9   Long Island, NY       1295       1276        63481  2011-09-09 01:22:26   \n",
       "11     Netherlands         483         37           11  2010-03-30 20:21:44   \n",
       "\n",
       "        tweet_createdts  retweet_count  \\\n",
       "2   2020-10-04 17:40:03              0   \n",
       "3   2020-10-04 17:40:03              0   \n",
       "7   2020-10-04 17:39:36              0   \n",
       "9   2020-10-04 17:39:32              0   \n",
       "11  2020-10-04 17:39:29              0   \n",
       "\n",
       "                                                 text  \\\n",
       "2   Visage de Layla also offers waxing treatment h...   \n",
       "3   Sell #fashion? Submit your website to our #dir...   \n",
       "7   #model #fashion #texture #baltimorephotographe...   \n",
       "9   'Fall 2020 Fashion Trend' - #Fbloggers 5 #OOTD...   \n",
       "11  Design for the Future When the Future Is Bleak...   \n",
       "\n",
       "                                             hashtags  num_hashtags  \\\n",
       "2                                           {#beauty}             1   \n",
       "3     {#bizitalk, #seo, #fashion?, #fnzb, #directory}             5   \n",
       "7   {#fashion, #texture, #paulcbuff, #newcommer, #...            15   \n",
       "9   {#fashion, #outfit, #lookbook, #style, #fblogg...             6   \n",
       "11                  {#environment, #fiction, #design}             3   \n",
       "\n",
       "    num_search_tags  \n",
       "2                 1  \n",
       "3                 1  \n",
       "7                 3  \n",
       "9                 2  \n",
       "11                1  "
      ]
     },
     "execution_count": 46,
     "metadata": {},
     "output_type": "execute_result"
    }
   ],
   "source": [
    "# find the number of search hashtags (we used thsese tags to pull the tweet) in a tweet\n",
    "search_tags = ['#fashion', '#style',  '#design',  '#beauty',  '#fashiontrends',  '#fashionblogger', '#fashionstyle',  '#fashionweek',  '#fashionstylist',  '#fashionmodel' , '#fasionista' , '#model',  '#fashionlover',  '#womenfashion', '#menfashion']\n",
    "\n",
    "def search_hashtags(tags):\n",
    "    t = 0\n",
    "    for i in search_tags:\n",
    "        for j in tags:\n",
    "            if i in j:\n",
    "                t += 1\n",
    "    return t\n",
    "\n",
    "                \n",
    "fashion_df['num_search_tags'] = fashion_df['hashtags'].apply(search_hashtags)\n",
    "fashion_df.head()            "
   ]
  },
  {
   "cell_type": "code",
   "execution_count": 47,
   "metadata": {},
   "outputs": [
    {
     "data": {
      "text/plain": [
       "105"
      ]
     },
     "execution_count": 47,
     "metadata": {},
     "output_type": "execute_result"
    }
   ],
   "source": [
    "# find the the number of tweets with no search hashtags\n",
    "len(fashion_df[fashion_df.num_search_tags == 0])"
   ]
  },
  {
   "cell_type": "code",
   "execution_count": 48,
   "metadata": {},
   "outputs": [
    {
     "data": {
      "text/plain": [
       "71777"
      ]
     },
     "execution_count": 48,
     "metadata": {},
     "output_type": "execute_result"
    }
   ],
   "source": [
    "# drop the tweets with no search hashtags\n",
    "\n",
    "fashion_df = fashion_df[fashion_df.num_search_tags != 0]\n",
    "len(fashion_df)\n"
   ]
  },
  {
   "cell_type": "code",
   "execution_count": 49,
   "metadata": {},
   "outputs": [
    {
     "data": {
      "text/plain": [
       "66445"
      ]
     },
     "execution_count": 49,
     "metadata": {},
     "output_type": "execute_result"
    }
   ],
   "source": [
    "# Remove tweets between 5000 and 30,000 followers\n",
    "fashion_df = fashion_df[(fashion_df.followers <= 5000) | (fashion_df.followers > 30000)]\n",
    "len(fashion_df)"
   ]
  },
  {
   "cell_type": "code",
   "execution_count": 50,
   "metadata": {},
   "outputs": [
    {
     "data": {
      "text/html": [
       "<div>\n",
       "<style scoped>\n",
       "    .dataframe tbody tr th:only-of-type {\n",
       "        vertical-align: middle;\n",
       "    }\n",
       "\n",
       "    .dataframe tbody tr th {\n",
       "        vertical-align: top;\n",
       "    }\n",
       "\n",
       "    .dataframe thead th {\n",
       "        text-align: right;\n",
       "    }\n",
       "</style>\n",
       "<table border=\"1\" class=\"dataframe\">\n",
       "  <thead>\n",
       "    <tr style=\"text-align: right;\">\n",
       "      <th></th>\n",
       "      <th>user_name</th>\n",
       "      <th>user_desc</th>\n",
       "      <th>location</th>\n",
       "      <th>following</th>\n",
       "      <th>followers</th>\n",
       "      <th>totaltweets</th>\n",
       "      <th>user_createdts</th>\n",
       "      <th>tweet_createdts</th>\n",
       "      <th>retweet_count</th>\n",
       "      <th>text</th>\n",
       "      <th>hashtags</th>\n",
       "      <th>num_hashtags</th>\n",
       "      <th>num_search_tags</th>\n",
       "      <th>label</th>\n",
       "    </tr>\n",
       "  </thead>\n",
       "  <tbody>\n",
       "    <tr>\n",
       "      <th>2</th>\n",
       "      <td>luccaromeo</td>\n",
       "      <td>Everything has beauty, but not everyone sees i...</td>\n",
       "      <td>Los Angeles, CA</td>\n",
       "      <td>275</td>\n",
       "      <td>179</td>\n",
       "      <td>21939</td>\n",
       "      <td>2015-09-08 17:43:34</td>\n",
       "      <td>2020-10-04 17:40:03</td>\n",
       "      <td>0</td>\n",
       "      <td>Visage de Layla also offers waxing treatment h...</td>\n",
       "      <td>{#beauty}</td>\n",
       "      <td>1</td>\n",
       "      <td>1</td>\n",
       "      <td>0</td>\n",
       "    </tr>\n",
       "    <tr>\n",
       "      <th>3</th>\n",
       "      <td>FashListings</td>\n",
       "      <td>Sell fashion? List your business for FREE in o...</td>\n",
       "      <td>Northampton, UK</td>\n",
       "      <td>30747</td>\n",
       "      <td>35104</td>\n",
       "      <td>224859</td>\n",
       "      <td>2014-12-27 15:53:24</td>\n",
       "      <td>2020-10-04 17:40:03</td>\n",
       "      <td>0</td>\n",
       "      <td>Sell #fashion? Submit your website to our #dir...</td>\n",
       "      <td>{#bizitalk, #seo, #fashion?, #fnzb, #directory}</td>\n",
       "      <td>5</td>\n",
       "      <td>1</td>\n",
       "      <td>1</td>\n",
       "    </tr>\n",
       "    <tr>\n",
       "      <th>7</th>\n",
       "      <td>dukebarrett</td>\n",
       "      <td>Baltimore based photographer. Ready to make yo...</td>\n",
       "      <td>Parkville, MD</td>\n",
       "      <td>136</td>\n",
       "      <td>257</td>\n",
       "      <td>8859</td>\n",
       "      <td>2009-07-14 03:15:32</td>\n",
       "      <td>2020-10-04 17:39:36</td>\n",
       "      <td>0</td>\n",
       "      <td>#model #fashion #texture #baltimorephotographe...</td>\n",
       "      <td>{#fashion, #texture, #paulcbuff, #newcommer, #...</td>\n",
       "      <td>15</td>\n",
       "      <td>3</td>\n",
       "      <td>0</td>\n",
       "    </tr>\n",
       "    <tr>\n",
       "      <th>9</th>\n",
       "      <td>Panty_Buns</td>\n",
       "      <td>Love to male-model/review full brief panties+f...</td>\n",
       "      <td>Long Island, NY</td>\n",
       "      <td>1295</td>\n",
       "      <td>1276</td>\n",
       "      <td>63481</td>\n",
       "      <td>2011-09-09 01:22:26</td>\n",
       "      <td>2020-10-04 17:39:32</td>\n",
       "      <td>0</td>\n",
       "      <td>'Fall 2020 Fashion Trend' - #Fbloggers 5 #OOTD...</td>\n",
       "      <td>{#fashion, #outfit, #lookbook, #style, #fblogg...</td>\n",
       "      <td>6</td>\n",
       "      <td>2</td>\n",
       "      <td>0</td>\n",
       "    </tr>\n",
       "    <tr>\n",
       "      <th>11</th>\n",
       "      <td>MartaFerrazAtom</td>\n",
       "      <td>Futurist Scientist, Polymath\\nAugmented Humans...</td>\n",
       "      <td>Netherlands</td>\n",
       "      <td>483</td>\n",
       "      <td>37</td>\n",
       "      <td>11</td>\n",
       "      <td>2010-03-30 20:21:44</td>\n",
       "      <td>2020-10-04 17:39:29</td>\n",
       "      <td>0</td>\n",
       "      <td>Design for the Future When the Future Is Bleak...</td>\n",
       "      <td>{#environment, #fiction, #design}</td>\n",
       "      <td>3</td>\n",
       "      <td>1</td>\n",
       "      <td>0</td>\n",
       "    </tr>\n",
       "  </tbody>\n",
       "</table>\n",
       "</div>"
      ],
      "text/plain": [
       "          user_name                                          user_desc  \\\n",
       "2        luccaromeo  Everything has beauty, but not everyone sees i...   \n",
       "3      FashListings  Sell fashion? List your business for FREE in o...   \n",
       "7       dukebarrett  Baltimore based photographer. Ready to make yo...   \n",
       "9        Panty_Buns  Love to male-model/review full brief panties+f...   \n",
       "11  MartaFerrazAtom  Futurist Scientist, Polymath\\nAugmented Humans...   \n",
       "\n",
       "           location  following  followers  totaltweets       user_createdts  \\\n",
       "2   Los Angeles, CA        275        179        21939  2015-09-08 17:43:34   \n",
       "3   Northampton, UK      30747      35104       224859  2014-12-27 15:53:24   \n",
       "7     Parkville, MD        136        257         8859  2009-07-14 03:15:32   \n",
       "9   Long Island, NY       1295       1276        63481  2011-09-09 01:22:26   \n",
       "11     Netherlands         483         37           11  2010-03-30 20:21:44   \n",
       "\n",
       "        tweet_createdts  retweet_count  \\\n",
       "2   2020-10-04 17:40:03              0   \n",
       "3   2020-10-04 17:40:03              0   \n",
       "7   2020-10-04 17:39:36              0   \n",
       "9   2020-10-04 17:39:32              0   \n",
       "11  2020-10-04 17:39:29              0   \n",
       "\n",
       "                                                 text  \\\n",
       "2   Visage de Layla also offers waxing treatment h...   \n",
       "3   Sell #fashion? Submit your website to our #dir...   \n",
       "7   #model #fashion #texture #baltimorephotographe...   \n",
       "9   'Fall 2020 Fashion Trend' - #Fbloggers 5 #OOTD...   \n",
       "11  Design for the Future When the Future Is Bleak...   \n",
       "\n",
       "                                             hashtags  num_hashtags  \\\n",
       "2                                           {#beauty}             1   \n",
       "3     {#bizitalk, #seo, #fashion?, #fnzb, #directory}             5   \n",
       "7   {#fashion, #texture, #paulcbuff, #newcommer, #...            15   \n",
       "9   {#fashion, #outfit, #lookbook, #style, #fblogg...             6   \n",
       "11                  {#environment, #fiction, #design}             3   \n",
       "\n",
       "    num_search_tags  label  \n",
       "2                 1      0  \n",
       "3                 1      1  \n",
       "7                 3      0  \n",
       "9                 2      0  \n",
       "11                1      0  "
      ]
     },
     "execution_count": 50,
     "metadata": {},
     "output_type": "execute_result"
    }
   ],
   "source": [
    "def label_func(followers):\n",
    "    if followers > 30000:\n",
    "        return 1\n",
    "    else:\n",
    "        return 0\n",
    "fashion_df['label'] = fashion_df['followers'].apply(label_func)\n",
    "fashion_df.head()"
   ]
  },
  {
   "cell_type": "code",
   "execution_count": 51,
   "metadata": {},
   "outputs": [
    {
     "data": {
      "text/plain": [
       "0    65192\n",
       "1     1253\n",
       "Name: label, dtype: int64"
      ]
     },
     "execution_count": 51,
     "metadata": {},
     "output_type": "execute_result"
    }
   ],
   "source": [
    "followers_count = fashion_df['label'].value_counts().sort_index()\n",
    "followers_count"
   ]
  },
  {
   "cell_type": "code",
   "execution_count": 52,
   "metadata": {},
   "outputs": [
    {
     "data": {
      "image/png": "[encoded data removed]",
      "text/plain": [
       "<Figure size 576x432 with 1 Axes>"
      ]
     },
     "metadata": {},
     "output_type": "display_data"
    }
   ],
   "source": [
    "fig, ax = plt.subplots(figsize=(8, 6), subplot_kw=dict(aspect=\"equal\"))\n",
    "plt.pie(followers_count, labels=[0,1],startangle=90, autopct='%.0f%%')\n",
    "\n",
    "ax.legend([\"0: Followers count < 30,000\", \"1: Followers count > 30,000\"], loc=\"center left\",bbox_to_anchor=(1, 0, 0.5, 1))\n",
    "\n",
    "ax.set_title(\"Followers count\")\n",
    "\n",
    "plt.show()"
   ]
  },
  {
   "cell_type": "markdown",
   "metadata": {},
   "source": [
    "### Distribution of Word Count, % of caps, number of hashtags in different labels (followers count category)"
   ]
  },
  {
   "cell_type": "code",
   "execution_count": 53,
   "metadata": {},
   "outputs": [
    {
     "data": {
      "text/html": [
       "<div>\n",
       "<style scoped>\n",
       "    .dataframe tbody tr th:only-of-type {\n",
       "        vertical-align: middle;\n",
       "    }\n",
       "\n",
       "    .dataframe tbody tr th {\n",
       "        vertical-align: top;\n",
       "    }\n",
       "\n",
       "    .dataframe thead th {\n",
       "        text-align: right;\n",
       "    }\n",
       "</style>\n",
       "<table border=\"1\" class=\"dataframe\">\n",
       "  <thead>\n",
       "    <tr style=\"text-align: right;\">\n",
       "      <th></th>\n",
       "      <th>user_name</th>\n",
       "      <th>user_desc</th>\n",
       "      <th>location</th>\n",
       "      <th>following</th>\n",
       "      <th>followers</th>\n",
       "      <th>totaltweets</th>\n",
       "      <th>user_createdts</th>\n",
       "      <th>tweet_createdts</th>\n",
       "      <th>retweet_count</th>\n",
       "      <th>text</th>\n",
       "      <th>hashtags</th>\n",
       "      <th>num_hashtags</th>\n",
       "      <th>num_search_tags</th>\n",
       "      <th>label</th>\n",
       "      <th>tweet_length</th>\n",
       "    </tr>\n",
       "  </thead>\n",
       "  <tbody>\n",
       "    <tr>\n",
       "      <th>2</th>\n",
       "      <td>luccaromeo</td>\n",
       "      <td>Everything has beauty, but not everyone sees i...</td>\n",
       "      <td>Los Angeles, CA</td>\n",
       "      <td>275</td>\n",
       "      <td>179</td>\n",
       "      <td>21939</td>\n",
       "      <td>2015-09-08 17:43:34</td>\n",
       "      <td>2020-10-04 17:40:03</td>\n",
       "      <td>0</td>\n",
       "      <td>Visage de Layla also offers waxing treatment h...</td>\n",
       "      <td>{#beauty}</td>\n",
       "      <td>1</td>\n",
       "      <td>1</td>\n",
       "      <td>0</td>\n",
       "      <td>9</td>\n",
       "    </tr>\n",
       "    <tr>\n",
       "      <th>3</th>\n",
       "      <td>FashListings</td>\n",
       "      <td>Sell fashion? List your business for FREE in o...</td>\n",
       "      <td>Northampton, UK</td>\n",
       "      <td>30747</td>\n",
       "      <td>35104</td>\n",
       "      <td>224859</td>\n",
       "      <td>2014-12-27 15:53:24</td>\n",
       "      <td>2020-10-04 17:40:03</td>\n",
       "      <td>0</td>\n",
       "      <td>Sell #fashion? Submit your website to our #dir...</td>\n",
       "      <td>{#bizitalk, #seo, #fashion?, #fnzb, #directory}</td>\n",
       "      <td>5</td>\n",
       "      <td>1</td>\n",
       "      <td>1</td>\n",
       "      <td>13</td>\n",
       "    </tr>\n",
       "  </tbody>\n",
       "</table>\n",
       "</div>"
      ],
      "text/plain": [
       "      user_name                                          user_desc  \\\n",
       "2    luccaromeo  Everything has beauty, but not everyone sees i...   \n",
       "3  FashListings  Sell fashion? List your business for FREE in o...   \n",
       "\n",
       "          location  following  followers  totaltweets       user_createdts  \\\n",
       "2  Los Angeles, CA        275        179        21939  2015-09-08 17:43:34   \n",
       "3  Northampton, UK      30747      35104       224859  2014-12-27 15:53:24   \n",
       "\n",
       "       tweet_createdts  retweet_count  \\\n",
       "2  2020-10-04 17:40:03              0   \n",
       "3  2020-10-04 17:40:03              0   \n",
       "\n",
       "                                                text  \\\n",
       "2  Visage de Layla also offers waxing treatment h...   \n",
       "3  Sell #fashion? Submit your website to our #dir...   \n",
       "\n",
       "                                          hashtags  num_hashtags  \\\n",
       "2                                        {#beauty}             1   \n",
       "3  {#bizitalk, #seo, #fashion?, #fnzb, #directory}             5   \n",
       "\n",
       "   num_search_tags  label  tweet_length  \n",
       "2                1      0             9  \n",
       "3                1      1            13  "
      ]
     },
     "execution_count": 53,
     "metadata": {},
     "output_type": "execute_result"
    }
   ],
   "source": [
    "# Distribution of tweet length in different labels (followers category)\n",
    "\n",
    "fashion_df['tweet_length'] = fashion_df['text'].apply(lambda x: len(x.split())) # tweet length\n",
    "fashion_df.head(2)"
   ]
  },
  {
   "cell_type": "code",
   "execution_count": 54,
   "metadata": {},
   "outputs": [
    {
     "data": {
      "text/plain": [
       "Kada_soulayman     328\n",
       "FitCasuallyMODA    259\n",
       "DLentilse          240\n",
       "FitCasuallySKIN    221\n",
       "PrettyGemsLoved    157\n",
       "insoc_on_ebay      136\n",
       "HannahB74560504    127\n",
       "GraphicsTania      117\n",
       "AusFashionEx       114\n",
       "SkincareNetAu      108\n",
       "Name: user_name, dtype: int64"
      ]
     },
     "execution_count": 54,
     "metadata": {},
     "output_type": "execute_result"
    }
   ],
   "source": [
    "# user with higest number of tweets on fashion\n",
    "user = fashion_df['user_name'].value_counts()\n",
    "user.head(10)"
   ]
  },
  {
   "cell_type": "code",
   "execution_count": 220,
   "metadata": {},
   "outputs": [
    {
     "data": {
      "image/png": "[encoded data removed]",
      "text/plain": [
       "<Figure size 720x576 with 1 Axes>"
      ]
     },
     "metadata": {
      "needs_background": "light"
     },
     "output_type": "display_data"
    }
   ],
   "source": [
    "# tweet length distribution at different labels\n",
    "plt.figure(figsize=(10, 8))\n",
    "sns.boxplot(x = 'label', y = 'tweet_length', data = fashion_df, showfliers=False,color='#348ABD').set(xlabel= 'Label', ylabel='Tweet Length', title='Distribution of Tweet Length (Fashion Tweets)')\n",
    "plt.show()"
   ]
  },
  {
   "cell_type": "code",
   "execution_count": 59,
   "metadata": {},
   "outputs": [
    {
     "data": {
      "text/html": [
       "<div>\n",
       "<style scoped>\n",
       "    .dataframe tbody tr th:only-of-type {\n",
       "        vertical-align: middle;\n",
       "    }\n",
       "\n",
       "    .dataframe tbody tr th {\n",
       "        vertical-align: top;\n",
       "    }\n",
       "\n",
       "    .dataframe thead th {\n",
       "        text-align: right;\n",
       "    }\n",
       "</style>\n",
       "<table border=\"1\" class=\"dataframe\">\n",
       "  <thead>\n",
       "    <tr style=\"text-align: right;\">\n",
       "      <th></th>\n",
       "      <th>user_name</th>\n",
       "      <th>user_desc</th>\n",
       "      <th>location</th>\n",
       "      <th>following</th>\n",
       "      <th>followers</th>\n",
       "      <th>totaltweets</th>\n",
       "      <th>user_createdts</th>\n",
       "      <th>tweet_createdts</th>\n",
       "      <th>retweet_count</th>\n",
       "      <th>text</th>\n",
       "      <th>hashtags</th>\n",
       "      <th>num_hashtags</th>\n",
       "      <th>num_search_tags</th>\n",
       "      <th>label</th>\n",
       "      <th>tweet_length</th>\n",
       "      <th>% caps</th>\n",
       "    </tr>\n",
       "  </thead>\n",
       "  <tbody>\n",
       "    <tr>\n",
       "      <th>2</th>\n",
       "      <td>luccaromeo</td>\n",
       "      <td>Everything has beauty, but not everyone sees i...</td>\n",
       "      <td>Los Angeles, CA</td>\n",
       "      <td>275</td>\n",
       "      <td>179</td>\n",
       "      <td>21939</td>\n",
       "      <td>2015-09-08 17:43:34</td>\n",
       "      <td>2020-10-04 17:40:03</td>\n",
       "      <td>0</td>\n",
       "      <td>Visage de Layla also offers waxing treatment h...</td>\n",
       "      <td>{#beauty}</td>\n",
       "      <td>1</td>\n",
       "      <td>1</td>\n",
       "      <td>0</td>\n",
       "      <td>9</td>\n",
       "      <td>7.894737</td>\n",
       "    </tr>\n",
       "    <tr>\n",
       "      <th>3</th>\n",
       "      <td>FashListings</td>\n",
       "      <td>Sell fashion? List your business for FREE in o...</td>\n",
       "      <td>Northampton, UK</td>\n",
       "      <td>30747</td>\n",
       "      <td>35104</td>\n",
       "      <td>224859</td>\n",
       "      <td>2014-12-27 15:53:24</td>\n",
       "      <td>2020-10-04 17:40:03</td>\n",
       "      <td>0</td>\n",
       "      <td>Sell #fashion? Submit your website to our #dir...</td>\n",
       "      <td>{#bizitalk, #seo, #fashion?, #fnzb, #directory}</td>\n",
       "      <td>5</td>\n",
       "      <td>1</td>\n",
       "      <td>1</td>\n",
       "      <td>13</td>\n",
       "      <td>12.264151</td>\n",
       "    </tr>\n",
       "  </tbody>\n",
       "</table>\n",
       "</div>"
      ],
      "text/plain": [
       "      user_name                                          user_desc  \\\n",
       "2    luccaromeo  Everything has beauty, but not everyone sees i...   \n",
       "3  FashListings  Sell fashion? List your business for FREE in o...   \n",
       "\n",
       "          location  following  followers  totaltweets       user_createdts  \\\n",
       "2  Los Angeles, CA        275        179        21939  2015-09-08 17:43:34   \n",
       "3  Northampton, UK      30747      35104       224859  2014-12-27 15:53:24   \n",
       "\n",
       "       tweet_createdts  retweet_count  \\\n",
       "2  2020-10-04 17:40:03              0   \n",
       "3  2020-10-04 17:40:03              0   \n",
       "\n",
       "                                                text  \\\n",
       "2  Visage de Layla also offers waxing treatment h...   \n",
       "3  Sell #fashion? Submit your website to our #dir...   \n",
       "\n",
       "                                          hashtags  num_hashtags  \\\n",
       "2                                        {#beauty}             1   \n",
       "3  {#bizitalk, #seo, #fashion?, #fnzb, #directory}             5   \n",
       "\n",
       "   num_search_tags  label  tweet_length     % caps  \n",
       "2                1      0             9   7.894737  \n",
       "3                1      1            13  12.264151  "
      ]
     },
     "execution_count": 59,
     "metadata": {},
     "output_type": "execute_result"
    }
   ],
   "source": [
    "# define a function to get % of caps in a tweet\n",
    "def caps(text):\n",
    "    return np.mean([1 if i.isupper() else 0 for i in text]) * 100 # % caps per tweet\n",
    "\n",
    "fashion_df['% caps'] = fashion_df['text'].apply(caps)\n",
    "fashion_df.head(2)"
   ]
  },
  {
   "cell_type": "code",
   "execution_count": 218,
   "metadata": {},
   "outputs": [
    {
     "data": {
      "image/png": "[encoded data removed]",
      "text/plain": [
       "<Figure size 720x576 with 1 Axes>"
      ]
     },
     "metadata": {
      "needs_background": "light"
     },
     "output_type": "display_data"
    }
   ],
   "source": [
    "# Distribution of % of Caps in different followers count (labels)\n",
    "plt.figure(figsize=(10, 8))\n",
    "sns.boxplot(x = 'label', y = fashion_df['% caps'], data = fashion_df, showfliers=False, color='#348ABD').set(xlabel= 'Label',ylabel='% of Capitals', title='Distribution of % caps (Fashion Tweets)')\n",
    "plt.show()"
   ]
  },
  {
   "cell_type": "code",
   "execution_count": 228,
   "metadata": {},
   "outputs": [
    {
     "data": {
      "image/png": "[encoded data removed]",
      "text/plain": [
       "<Figure size 720x576 with 1 Axes>"
      ]
     },
     "metadata": {
      "needs_background": "light"
     },
     "output_type": "display_data"
    }
   ],
   "source": [
    "# Distribution of % caps\n",
    "plt.figure(figsize=(10, 8))\n",
    "\n",
    "fashion_df['% caps'].hist(color='#348ABD', alpha=0.8)\n",
    "plt.yscale('log', nonposy='clip')\n",
    "plt.title('Fashion Tweets')\n",
    "plt.xlabel('% Caps')\n",
    "plt.ylabel('Count');"
   ]
  },
  {
   "cell_type": "code",
   "execution_count": 26,
   "metadata": {},
   "outputs": [
    {
     "data": {
      "text/plain": [
       "1741     OH HI THERE! VERY FIRST SHINY SMOOCHUM!!! ✨✨✨ ...\n",
       "63590    IM A MODEL!!! U KNW WHAT I MEAN! EITHER U GOT ...\n",
       "67714    Check out DIESEL JEANS ZANITY 822R BOOTCUT BUT...\n",
       "89869    【別注】GRAMICCI×URBAN RESEARCH　WASHABLE WOOLLY PA...\n",
       "Name: text, dtype: object"
      ]
     },
     "execution_count": 26,
     "metadata": {},
     "output_type": "execute_result"
    }
   ],
   "source": [
    "fashion_df[(fashion_df['text'].apply(caps) > 30) & (fashion_df['followers'].apply(lambda x: x >30000))].text"
   ]
  },
  {
   "cell_type": "code",
   "execution_count": 219,
   "metadata": {},
   "outputs": [
    {
     "data": {
      "text/html": [
       "<div>\n",
       "<style scoped>\n",
       "    .dataframe tbody tr th:only-of-type {\n",
       "        vertical-align: middle;\n",
       "    }\n",
       "\n",
       "    .dataframe tbody tr th {\n",
       "        vertical-align: top;\n",
       "    }\n",
       "\n",
       "    .dataframe thead th {\n",
       "        text-align: right;\n",
       "    }\n",
       "</style>\n",
       "<table border=\"1\" class=\"dataframe\">\n",
       "  <thead>\n",
       "    <tr style=\"text-align: right;\">\n",
       "      <th></th>\n",
       "      <th>% caps</th>\n",
       "    </tr>\n",
       "    <tr>\n",
       "      <th>label</th>\n",
       "      <th></th>\n",
       "    </tr>\n",
       "  </thead>\n",
       "  <tbody>\n",
       "    <tr>\n",
       "      <th>0</th>\n",
       "      <td>7.995563</td>\n",
       "    </tr>\n",
       "    <tr>\n",
       "      <th>1</th>\n",
       "      <td>9.022750</td>\n",
       "    </tr>\n",
       "  </tbody>\n",
       "</table>\n",
       "</div>"
      ],
      "text/plain": [
       "         % caps\n",
       "label          \n",
       "0      7.995563\n",
       "1      9.022750"
      ]
     },
     "execution_count": 219,
     "metadata": {},
     "output_type": "execute_result"
    }
   ],
   "source": [
    "fashion_df[['label', '% caps']].groupby('label').mean()"
   ]
  },
  {
   "cell_type": "code",
   "execution_count": 64,
   "metadata": {},
   "outputs": [
    {
     "data": {
      "text/html": [
       "<div>\n",
       "<style scoped>\n",
       "    .dataframe tbody tr th:only-of-type {\n",
       "        vertical-align: middle;\n",
       "    }\n",
       "\n",
       "    .dataframe tbody tr th {\n",
       "        vertical-align: top;\n",
       "    }\n",
       "\n",
       "    .dataframe thead th {\n",
       "        text-align: right;\n",
       "    }\n",
       "</style>\n",
       "<table border=\"1\" class=\"dataframe\">\n",
       "  <thead>\n",
       "    <tr style=\"text-align: right;\">\n",
       "      <th></th>\n",
       "      <th>user_name</th>\n",
       "      <th>user_desc</th>\n",
       "      <th>location</th>\n",
       "      <th>following</th>\n",
       "      <th>followers</th>\n",
       "      <th>totaltweets</th>\n",
       "      <th>user_createdts</th>\n",
       "      <th>tweet_createdts</th>\n",
       "      <th>retweet_count</th>\n",
       "      <th>text</th>\n",
       "      <th>hashtags</th>\n",
       "      <th>num_hashtags</th>\n",
       "      <th>num_search_tags</th>\n",
       "      <th>label</th>\n",
       "      <th>tweet_length</th>\n",
       "      <th>% caps</th>\n",
       "      <th>manycaps</th>\n",
       "    </tr>\n",
       "  </thead>\n",
       "  <tbody>\n",
       "    <tr>\n",
       "      <th>2</th>\n",
       "      <td>luccaromeo</td>\n",
       "      <td>Everything has beauty, but not everyone sees i...</td>\n",
       "      <td>Los Angeles, CA</td>\n",
       "      <td>275</td>\n",
       "      <td>179</td>\n",
       "      <td>21939</td>\n",
       "      <td>2015-09-08 17:43:34</td>\n",
       "      <td>2020-10-04 17:40:03</td>\n",
       "      <td>0</td>\n",
       "      <td>Visage de Layla also offers waxing treatment h...</td>\n",
       "      <td>{#beauty}</td>\n",
       "      <td>1</td>\n",
       "      <td>1</td>\n",
       "      <td>0</td>\n",
       "      <td>9</td>\n",
       "      <td>7.894737</td>\n",
       "      <td>False</td>\n",
       "    </tr>\n",
       "    <tr>\n",
       "      <th>3</th>\n",
       "      <td>FashListings</td>\n",
       "      <td>Sell fashion? List your business for FREE in o...</td>\n",
       "      <td>Northampton, UK</td>\n",
       "      <td>30747</td>\n",
       "      <td>35104</td>\n",
       "      <td>224859</td>\n",
       "      <td>2014-12-27 15:53:24</td>\n",
       "      <td>2020-10-04 17:40:03</td>\n",
       "      <td>0</td>\n",
       "      <td>Sell #fashion? Submit your website to our #dir...</td>\n",
       "      <td>{#bizitalk, #seo, #fashion?, #fnzb, #directory}</td>\n",
       "      <td>5</td>\n",
       "      <td>1</td>\n",
       "      <td>1</td>\n",
       "      <td>13</td>\n",
       "      <td>12.264151</td>\n",
       "      <td>False</td>\n",
       "    </tr>\n",
       "  </tbody>\n",
       "</table>\n",
       "</div>"
      ],
      "text/plain": [
       "      user_name                                          user_desc  \\\n",
       "2    luccaromeo  Everything has beauty, but not everyone sees i...   \n",
       "3  FashListings  Sell fashion? List your business for FREE in o...   \n",
       "\n",
       "          location  following  followers  totaltweets       user_createdts  \\\n",
       "2  Los Angeles, CA        275        179        21939  2015-09-08 17:43:34   \n",
       "3  Northampton, UK      30747      35104       224859  2014-12-27 15:53:24   \n",
       "\n",
       "       tweet_createdts  retweet_count  \\\n",
       "2  2020-10-04 17:40:03              0   \n",
       "3  2020-10-04 17:40:03              0   \n",
       "\n",
       "                                                text  \\\n",
       "2  Visage de Layla also offers waxing treatment h...   \n",
       "3  Sell #fashion? Submit your website to our #dir...   \n",
       "\n",
       "                                          hashtags  num_hashtags  \\\n",
       "2                                        {#beauty}             1   \n",
       "3  {#bizitalk, #seo, #fashion?, #fnzb, #directory}             5   \n",
       "\n",
       "   num_search_tags  label  tweet_length     % caps  manycaps  \n",
       "2                1      0             9   7.894737     False  \n",
       "3                1      1            13  12.264151     False  "
      ]
     },
     "execution_count": 64,
     "metadata": {},
     "output_type": "execute_result"
    }
   ],
   "source": [
    "# Distributions of % caps (> 20%) in different labels\n",
    "\n",
    "fashion_df['manycaps'] = fashion_df['% caps'].apply(lambda x: x > 20)\n",
    "fashion_df.head(2)"
   ]
  },
  {
   "cell_type": "code",
   "execution_count": 70,
   "metadata": {},
   "outputs": [
    {
     "data": {
      "text/html": [
       "<div>\n",
       "<style scoped>\n",
       "    .dataframe tbody tr th:only-of-type {\n",
       "        vertical-align: middle;\n",
       "    }\n",
       "\n",
       "    .dataframe tbody tr th {\n",
       "        vertical-align: top;\n",
       "    }\n",
       "\n",
       "    .dataframe thead th {\n",
       "        text-align: right;\n",
       "    }\n",
       "</style>\n",
       "<table border=\"1\" class=\"dataframe\">\n",
       "  <thead>\n",
       "    <tr style=\"text-align: right;\">\n",
       "      <th></th>\n",
       "      <th>manycaps</th>\n",
       "    </tr>\n",
       "    <tr>\n",
       "      <th>label</th>\n",
       "      <th></th>\n",
       "    </tr>\n",
       "  </thead>\n",
       "  <tbody>\n",
       "    <tr>\n",
       "      <th>0</th>\n",
       "      <td>0.019389</td>\n",
       "    </tr>\n",
       "    <tr>\n",
       "      <th>1</th>\n",
       "      <td>0.014366</td>\n",
       "    </tr>\n",
       "  </tbody>\n",
       "</table>\n",
       "</div>"
      ],
      "text/plain": [
       "       manycaps\n",
       "label          \n",
       "0      0.019389\n",
       "1      0.014366"
      ]
     },
     "execution_count": 70,
     "metadata": {},
     "output_type": "execute_result"
    }
   ],
   "source": [
    "manycaps_fashion = fashion_df[['label', 'manycaps']].groupby('label').mean()\n",
    "manycaps_fashion"
   ]
  },
  {
   "cell_type": "code",
   "execution_count": 214,
   "metadata": {},
   "outputs": [
    {
     "data": {
      "image/png": "[encoded data removed]",
      "text/plain": [
       "<Figure size 720x576 with 1 Axes>"
      ]
     },
     "metadata": {
      "needs_background": "light"
     },
     "output_type": "display_data"
    }
   ],
   "source": [
    "manycaps_fashion.plot(kind='bar', color='#348ABD',rot = 0, alpha=0.8, figsize=(10,8)).set(xlabel='Label', ylabel='% of tweets with >20% Capitals', title='Fashion Tweets');\n"
   ]
  },
  {
   "cell_type": "code",
   "execution_count": 215,
   "metadata": {},
   "outputs": [
    {
     "data": {
      "image/png": "[encoded data removed]",
      "text/plain": [
       "<Figure size 720x576 with 1 Axes>"
      ]
     },
     "metadata": {
      "needs_background": "light"
     },
     "output_type": "display_data"
    }
   ],
   "source": [
    "# Distribution of number of hashtags in different labels\n",
    "plt.figure(figsize=(10, 8))\n",
    "sns.boxplot(x = 'label', y = 'num_hashtags', data = fashion_df, showfliers=False,color='#348ABD' ).set(xlabel= 'Label',ylabel='Hashtags Per Tweet', title='Distribution of hashtags per tweet (Fashion Tweets)')\n",
    "plt.show()"
   ]
  },
  {
   "cell_type": "code",
   "execution_count": 216,
   "metadata": {},
   "outputs": [],
   "source": [
    "# import textstat library and set it for English language to study the reading level of the tweets\n",
    "import textstat\n",
    "textstat.set_lang('en')\n"
   ]
  },
  {
   "cell_type": "code",
   "execution_count": 221,
   "metadata": {},
   "outputs": [
    {
     "data": {
      "image/png": "[encoded data removed]",
      "text/plain": [
       "<Figure size 720x576 with 1 Axes>"
      ]
     },
     "metadata": {
      "needs_background": "light"
     },
     "output_type": "display_data"
    }
   ],
   "source": [
    "# Distribution of reading level in different labels (Automated Readability Index)\n",
    "plt.figure(figsize=(10, 8))\n",
    "sns.boxplot(x = 'label', y = fashion_df['text'].apply(lambda x: textstat.automated_readability_index(x)), data = fashion_df, showfliers=False, color='#348ABD').set(xlabel= 'Label',ylabel='Reading Level', title='Distribution of Tweet Reading Level (Fashion Tweets)')\n",
    "plt.show()"
   ]
  },
  {
   "cell_type": "code",
   "execution_count": 222,
   "metadata": {},
   "outputs": [
    {
     "data": {
      "image/png": "[encoded data removed]",
      "text/plain": [
       "<Figure size 720x576 with 1 Axes>"
      ]
     },
     "metadata": {
      "needs_background": "light"
     },
     "output_type": "display_data"
    }
   ],
   "source": [
    "# Distribution of reading level in different labels (Fog Scale)\n",
    "plt.figure(figsize=(10, 8))\n",
    "sns.boxplot(x = 'label', y = fashion_df['text'].apply(lambda x: textstat.gunning_fog(x)), data = fashion_df, showfliers=False, color='#348ABD').set(xlabel= 'Label',ylabel='Reading Level', title='Distribution of Tweet Reading Level (Fashion Tweets)')\n",
    "plt.show()"
   ]
  },
  {
   "cell_type": "code",
   "execution_count": 223,
   "metadata": {},
   "outputs": [
    {
     "data": {
      "image/png": "[encoded data removed]",
      "text/plain": [
       "<Figure size 720x576 with 1 Axes>"
      ]
     },
     "metadata": {
      "needs_background": "light"
     },
     "output_type": "display_data"
    }
   ],
   "source": [
    "# Distribution of reading level in different labels (Linsear Write Formula)\n",
    "plt.figure(figsize=(10, 8))\n",
    "sns.boxplot(x = 'label', y = fashion_df['text'].apply(lambda x: textstat.linsear_write_formula(x)), data = fashion_df, showfliers=False, color='#348ABD').set(xlabel= 'Label',ylabel='Reading Level', title='Distribution of Tweet Reading Level (Fashion Tweets)')\n",
    "plt.show()"
   ]
  },
  {
   "cell_type": "markdown",
   "metadata": {},
   "source": [
    "## Preprocessing of tweet\n",
    "\n",
    "- Remove URLs\n",
    "- Remove Mentions\n",
    "- Remove Punctuations, numbers and special characters\n",
    "- Tokenization\n",
    "- Remove Stopwords\n"
   ]
  },
  {
   "cell_type": "code",
   "execution_count": 134,
   "metadata": {},
   "outputs": [
    {
     "data": {
      "text/html": [
       "<div>\n",
       "<style scoped>\n",
       "    .dataframe tbody tr th:only-of-type {\n",
       "        vertical-align: middle;\n",
       "    }\n",
       "\n",
       "    .dataframe tbody tr th {\n",
       "        vertical-align: top;\n",
       "    }\n",
       "\n",
       "    .dataframe thead th {\n",
       "        text-align: right;\n",
       "    }\n",
       "</style>\n",
       "<table border=\"1\" class=\"dataframe\">\n",
       "  <thead>\n",
       "    <tr style=\"text-align: right;\">\n",
       "      <th></th>\n",
       "      <th>user_name</th>\n",
       "      <th>user_desc</th>\n",
       "      <th>location</th>\n",
       "      <th>following</th>\n",
       "      <th>followers</th>\n",
       "      <th>totaltweets</th>\n",
       "      <th>user_createdts</th>\n",
       "      <th>tweet_createdts</th>\n",
       "      <th>retweet_count</th>\n",
       "      <th>text</th>\n",
       "      <th>hashtags</th>\n",
       "      <th>num_hashtags</th>\n",
       "      <th>num_search_tags</th>\n",
       "      <th>label</th>\n",
       "      <th>tweet_length</th>\n",
       "      <th>% caps</th>\n",
       "      <th>manycaps</th>\n",
       "      <th>clean_tweet</th>\n",
       "    </tr>\n",
       "  </thead>\n",
       "  <tbody>\n",
       "    <tr>\n",
       "      <th>2</th>\n",
       "      <td>luccaromeo</td>\n",
       "      <td>Everything has beauty, but not everyone sees i...</td>\n",
       "      <td>Los Angeles, CA</td>\n",
       "      <td>275</td>\n",
       "      <td>179</td>\n",
       "      <td>21939</td>\n",
       "      <td>2015-09-08 17:43:34</td>\n",
       "      <td>2020-10-04 17:40:03</td>\n",
       "      <td>0</td>\n",
       "      <td>Visage de Layla also offers waxing treatment h...</td>\n",
       "      <td>{#beauty}</td>\n",
       "      <td>1</td>\n",
       "      <td>1</td>\n",
       "      <td>0</td>\n",
       "      <td>9</td>\n",
       "      <td>7.894737</td>\n",
       "      <td>False</td>\n",
       "      <td>visage de layla also offers waxing treatment #...</td>\n",
       "    </tr>\n",
       "    <tr>\n",
       "      <th>3</th>\n",
       "      <td>FashListings</td>\n",
       "      <td>Sell fashion? List your business for FREE in o...</td>\n",
       "      <td>Northampton, UK</td>\n",
       "      <td>30747</td>\n",
       "      <td>35104</td>\n",
       "      <td>224859</td>\n",
       "      <td>2014-12-27 15:53:24</td>\n",
       "      <td>2020-10-04 17:40:03</td>\n",
       "      <td>0</td>\n",
       "      <td>Sell #fashion? Submit your website to our #dir...</td>\n",
       "      <td>{#bizitalk, #seo, #fashion?, #fnzb, #directory}</td>\n",
       "      <td>5</td>\n",
       "      <td>1</td>\n",
       "      <td>1</td>\n",
       "      <td>13</td>\n",
       "      <td>12.264151</td>\n",
       "      <td>False</td>\n",
       "      <td>sell #fashion submit website #directory gt gt ...</td>\n",
       "    </tr>\n",
       "  </tbody>\n",
       "</table>\n",
       "</div>"
      ],
      "text/plain": [
       "      user_name                                          user_desc  \\\n",
       "2    luccaromeo  Everything has beauty, but not everyone sees i...   \n",
       "3  FashListings  Sell fashion? List your business for FREE in o...   \n",
       "\n",
       "          location  following  followers  totaltweets       user_createdts  \\\n",
       "2  Los Angeles, CA        275        179        21939  2015-09-08 17:43:34   \n",
       "3  Northampton, UK      30747      35104       224859  2014-12-27 15:53:24   \n",
       "\n",
       "       tweet_createdts  retweet_count  \\\n",
       "2  2020-10-04 17:40:03              0   \n",
       "3  2020-10-04 17:40:03              0   \n",
       "\n",
       "                                                text  \\\n",
       "2  Visage de Layla also offers waxing treatment h...   \n",
       "3  Sell #fashion? Submit your website to our #dir...   \n",
       "\n",
       "                                          hashtags  num_hashtags  \\\n",
       "2                                        {#beauty}             1   \n",
       "3  {#bizitalk, #seo, #fashion?, #fnzb, #directory}             5   \n",
       "\n",
       "   num_search_tags  label  tweet_length     % caps  manycaps  \\\n",
       "2                1      0             9   7.894737     False   \n",
       "3                1      1            13  12.264151     False   \n",
       "\n",
       "                                         clean_tweet  \n",
       "2  visage de layla also offers waxing treatment #...  \n",
       "3  sell #fashion submit website #directory gt gt ...  "
      ]
     },
     "execution_count": 134,
     "metadata": {},
     "output_type": "execute_result"
    }
   ],
   "source": [
    "# import NLP packages\n",
    "import re\n",
    "import nltk\n",
    "from nltk.corpus import stopwords\n",
    "stop_words = set(stopwords.words('english'))\n",
    "\n",
    "# Preprocessed text (without lemmatization) before the findinding the most predictive words\n",
    "def text_preprocessing(text):\n",
    "    text = re.sub(r'http\\S+', '', text)   # removing URL\n",
    "    text = re.sub(r'@(\\w+)','',text, flags = re.MULTILINE) # remove mentions\n",
    "    text = re.sub('[^a-zA-Z#]', ' ', text) # keep only alpha (removing numbers, punctions and special characters)\n",
    "    text = str(text).lower()              # Lowercase all text\n",
    "    text = [w for w in text.split() if w not in stop_words] # Removing Stopwords\n",
    "    text = ' '.join(text)\n",
    "    return text\n",
    "\n",
    "fashion_df[\"clean_tweet\"] = fashion_df['text'].apply(text_preprocessing)\n",
    "fashion_df.head(2)"
   ]
  },
  {
   "cell_type": "code",
   "execution_count": 135,
   "metadata": {},
   "outputs": [],
   "source": [
    "# make a pickled file to store the preprocessed tweets\n",
    "pd.to_pickle(fashion_df, 'fashion_preprocessed.pkl')"
   ]
  },
  {
   "cell_type": "code",
   "execution_count": null,
   "metadata": {},
   "outputs": [],
   "source": []
  },
  {
   "cell_type": "code",
   "execution_count": null,
   "metadata": {},
   "outputs": [],
   "source": []
  },
  {
   "cell_type": "markdown",
   "metadata": {},
   "source": [
    "## Fitness Tweets"
   ]
  },
  {
   "cell_type": "code",
   "execution_count": 90,
   "metadata": {},
   "outputs": [
    {
     "data": {
      "text/html": [
       "<div>\n",
       "<style scoped>\n",
       "    .dataframe tbody tr th:only-of-type {\n",
       "        vertical-align: middle;\n",
       "    }\n",
       "\n",
       "    .dataframe tbody tr th {\n",
       "        vertical-align: top;\n",
       "    }\n",
       "\n",
       "    .dataframe thead th {\n",
       "        text-align: right;\n",
       "    }\n",
       "</style>\n",
       "<table border=\"1\" class=\"dataframe\">\n",
       "  <thead>\n",
       "    <tr style=\"text-align: right;\">\n",
       "      <th></th>\n",
       "      <th>user_name</th>\n",
       "      <th>user_desc</th>\n",
       "      <th>location</th>\n",
       "      <th>following</th>\n",
       "      <th>followers</th>\n",
       "      <th>totaltweets</th>\n",
       "      <th>user_createdts</th>\n",
       "      <th>tweet_createdts</th>\n",
       "      <th>retweet_count</th>\n",
       "      <th>text</th>\n",
       "    </tr>\n",
       "  </thead>\n",
       "  <tbody>\n",
       "    <tr>\n",
       "      <th>0</th>\n",
       "      <td>anusualauthor</td>\n",
       "      <td>official tweet of Enigma Anu Aggarwal</td>\n",
       "      <td>Mumbai, India</td>\n",
       "      <td>544</td>\n",
       "      <td>3743</td>\n",
       "      <td>2661</td>\n",
       "      <td>2010-04-30 12:38:54</td>\n",
       "      <td>2020-10-05 15:34:17</td>\n",
       "      <td>0</td>\n",
       "      <td>You get to know your #true #nature in that mom...</td>\n",
       "    </tr>\n",
       "    <tr>\n",
       "      <th>1</th>\n",
       "      <td>WhtIStheSCIENCE</td>\n",
       "      <td>Clinical Director #BCBA for @SpecialNeedsLA #A...</td>\n",
       "      <td>Los Angeles, CA</td>\n",
       "      <td>1008</td>\n",
       "      <td>696</td>\n",
       "      <td>7214</td>\n",
       "      <td>2012-10-15 06:38:35</td>\n",
       "      <td>2020-10-05 15:34:07</td>\n",
       "      <td>1</td>\n",
       "      <td>RT @SpectrumSports8: Cone Flip Melee!! \\n\\n#do...</td>\n",
       "    </tr>\n",
       "    <tr>\n",
       "      <th>2</th>\n",
       "      <td>HeathAJordan</td>\n",
       "      <td>Entrepreneur/ Filmmaker/ CEO/ Producer/ Direct...</td>\n",
       "      <td>Sarasota Florida</td>\n",
       "      <td>6775</td>\n",
       "      <td>8567</td>\n",
       "      <td>50578</td>\n",
       "      <td>2011-06-21 22:56:28</td>\n",
       "      <td>2020-10-05 15:34:03</td>\n",
       "      <td>0</td>\n",
       "      <td>#RT @lucaslagoons: RT @LagoonsDesign: Want to ...</td>\n",
       "    </tr>\n",
       "    <tr>\n",
       "      <th>3</th>\n",
       "      <td>CeciliaMaundu</td>\n",
       "      <td>Broadcast journalist, Specialist in Gender Dig...</td>\n",
       "      <td>Nairobi</td>\n",
       "      <td>888</td>\n",
       "      <td>754</td>\n",
       "      <td>7282</td>\n",
       "      <td>2012-01-11 04:09:14</td>\n",
       "      <td>2020-10-05 15:34:00</td>\n",
       "      <td>4</td>\n",
       "      <td>RT @PollicyOrg: Register for our next hands-on...</td>\n",
       "    </tr>\n",
       "    <tr>\n",
       "      <th>4</th>\n",
       "      <td>LidiaSegundoCar</td>\n",
       "      <td>NaN</td>\n",
       "      <td>NaN</td>\n",
       "      <td>722</td>\n",
       "      <td>772</td>\n",
       "      <td>591</td>\n",
       "      <td>2019-04-09 00:48:01</td>\n",
       "      <td>2020-10-05 15:33:54</td>\n",
       "      <td>1</td>\n",
       "      <td>RT @petertamayo: Nada #cambia si tu no cambias...</td>\n",
       "    </tr>\n",
       "  </tbody>\n",
       "</table>\n",
       "</div>"
      ],
      "text/plain": [
       "         user_name                                          user_desc  \\\n",
       "0    anusualauthor              official tweet of Enigma Anu Aggarwal   \n",
       "1  WhtIStheSCIENCE  Clinical Director #BCBA for @SpecialNeedsLA #A...   \n",
       "2     HeathAJordan  Entrepreneur/ Filmmaker/ CEO/ Producer/ Direct...   \n",
       "3    CeciliaMaundu  Broadcast journalist, Specialist in Gender Dig...   \n",
       "4  LidiaSegundoCar                                                NaN   \n",
       "\n",
       "           location  following  followers  totaltweets       user_createdts  \\\n",
       "0     Mumbai, India        544       3743         2661  2010-04-30 12:38:54   \n",
       "1   Los Angeles, CA       1008        696         7214  2012-10-15 06:38:35   \n",
       "2  Sarasota Florida       6775       8567        50578  2011-06-21 22:56:28   \n",
       "3           Nairobi        888        754         7282  2012-01-11 04:09:14   \n",
       "4               NaN        722        772          591  2019-04-09 00:48:01   \n",
       "\n",
       "       tweet_createdts  retweet_count  \\\n",
       "0  2020-10-05 15:34:17              0   \n",
       "1  2020-10-05 15:34:07              1   \n",
       "2  2020-10-05 15:34:03              0   \n",
       "3  2020-10-05 15:34:00              4   \n",
       "4  2020-10-05 15:33:54              1   \n",
       "\n",
       "                                                text  \n",
       "0  You get to know your #true #nature in that mom...  \n",
       "1  RT @SpectrumSports8: Cone Flip Melee!! \\n\\n#do...  \n",
       "2  #RT @lucaslagoons: RT @LagoonsDesign: Want to ...  \n",
       "3  RT @PollicyOrg: Register for our next hands-on...  \n",
       "4  RT @petertamayo: Nada #cambia si tu no cambias...  "
      ]
     },
     "execution_count": 90,
     "metadata": {},
     "output_type": "execute_result"
    }
   ],
   "source": [
    "# Load fitness tweets into a pandas DataFrame\n",
    "fitness_df = pd.read_csv('fitness_tweets.csv')\n",
    "fitness_df.head()"
   ]
  },
  {
   "cell_type": "code",
   "execution_count": 91,
   "metadata": {},
   "outputs": [
    {
     "data": {
      "text/plain": [
       "(95776, 10)"
      ]
     },
     "execution_count": 91,
     "metadata": {},
     "output_type": "execute_result"
    }
   ],
   "source": [
    "# Find out total no of rows and columns\n",
    "fitness_df.shape"
   ]
  },
  {
   "cell_type": "code",
   "execution_count": 92,
   "metadata": {},
   "outputs": [
    {
     "name": "stdout",
     "output_type": "stream",
     "text": [
      "<class 'pandas.core.frame.DataFrame'>\n",
      "RangeIndex: 95776 entries, 0 to 95775\n",
      "Data columns (total 10 columns):\n",
      "user_name          95776 non-null object\n",
      "user_desc          86638 non-null object\n",
      "location           68689 non-null object\n",
      "following          95776 non-null int64\n",
      "followers          95776 non-null int64\n",
      "totaltweets        95776 non-null int64\n",
      "user_createdts     95776 non-null object\n",
      "tweet_createdts    95776 non-null object\n",
      "retweet_count      95776 non-null int64\n",
      "text               95776 non-null object\n",
      "dtypes: int64(4), object(6)\n",
      "memory usage: 7.3+ MB\n"
     ]
    }
   ],
   "source": [
    "# Count missing values\n",
    "fitness_df.info()"
   ]
  },
  {
   "cell_type": "code",
   "execution_count": 93,
   "metadata": {},
   "outputs": [
    {
     "data": {
      "text/plain": [
       "18596"
      ]
     },
     "execution_count": 93,
     "metadata": {},
     "output_type": "execute_result"
    }
   ],
   "source": [
    "# Check for duplicate tweets \n",
    "duplicate_tweets_fitness = fitness_df.duplicated(keep='first').sum()\n",
    "duplicate_tweets_fitness"
   ]
  },
  {
   "cell_type": "code",
   "execution_count": 94,
   "metadata": {},
   "outputs": [
    {
     "data": {
      "text/plain": [
       "77180"
      ]
     },
     "execution_count": 94,
     "metadata": {},
     "output_type": "execute_result"
    }
   ],
   "source": [
    "# drop duplicates\n",
    "fitness_df = fitness_df.drop_duplicates()\n",
    "len(fitness_df)"
   ]
  },
  {
   "cell_type": "code",
   "execution_count": 95,
   "metadata": {},
   "outputs": [
    {
     "data": {
      "text/plain": [
       "0.40186576833376525"
      ]
     },
     "execution_count": 95,
     "metadata": {},
     "output_type": "execute_result"
    }
   ],
   "source": [
    "# Check for % of retweets\n",
    "fitness_df['text'].apply(lambda x: 'RT' in x[:3]).mean()"
   ]
  },
  {
   "cell_type": "code",
   "execution_count": 96,
   "metadata": {},
   "outputs": [
    {
     "data": {
      "text/plain": [
       "46186"
      ]
     },
     "execution_count": 96,
     "metadata": {},
     "output_type": "execute_result"
    }
   ],
   "source": [
    "# Drop the retweets\n",
    "fitness_df = fitness_df[~fitness_df.text.str.startswith('RT')]\n",
    "len(fitness_df)"
   ]
  },
  {
   "cell_type": "code",
   "execution_count": 97,
   "metadata": {},
   "outputs": [
    {
     "data": {
      "text/html": [
       "<div>\n",
       "<style scoped>\n",
       "    .dataframe tbody tr th:only-of-type {\n",
       "        vertical-align: middle;\n",
       "    }\n",
       "\n",
       "    .dataframe tbody tr th {\n",
       "        vertical-align: top;\n",
       "    }\n",
       "\n",
       "    .dataframe thead th {\n",
       "        text-align: right;\n",
       "    }\n",
       "</style>\n",
       "<table border=\"1\" class=\"dataframe\">\n",
       "  <thead>\n",
       "    <tr style=\"text-align: right;\">\n",
       "      <th></th>\n",
       "      <th>user_name</th>\n",
       "      <th>user_desc</th>\n",
       "      <th>location</th>\n",
       "      <th>following</th>\n",
       "      <th>followers</th>\n",
       "      <th>totaltweets</th>\n",
       "      <th>user_createdts</th>\n",
       "      <th>tweet_createdts</th>\n",
       "      <th>retweet_count</th>\n",
       "      <th>text</th>\n",
       "      <th>hashtags</th>\n",
       "    </tr>\n",
       "  </thead>\n",
       "  <tbody>\n",
       "    <tr>\n",
       "      <th>0</th>\n",
       "      <td>anusualauthor</td>\n",
       "      <td>official tweet of Enigma Anu Aggarwal</td>\n",
       "      <td>Mumbai, India</td>\n",
       "      <td>544</td>\n",
       "      <td>3743</td>\n",
       "      <td>2661</td>\n",
       "      <td>2010-04-30 12:38:54</td>\n",
       "      <td>2020-10-05 15:34:17</td>\n",
       "      <td>0</td>\n",
       "      <td>You get to know your #true #nature in that mom...</td>\n",
       "      <td>{#anuaggarwalfoundation, #mentalhealth, #bloom...</td>\n",
       "    </tr>\n",
       "    <tr>\n",
       "      <th>2</th>\n",
       "      <td>HeathAJordan</td>\n",
       "      <td>Entrepreneur/ Filmmaker/ CEO/ Producer/ Direct...</td>\n",
       "      <td>Sarasota Florida</td>\n",
       "      <td>6775</td>\n",
       "      <td>8567</td>\n",
       "      <td>50578</td>\n",
       "      <td>2011-06-21 22:56:28</td>\n",
       "      <td>2020-10-05 15:34:03</td>\n",
       "      <td>0</td>\n",
       "      <td>#RT @lucaslagoons: RT @LagoonsDesign: Want to ...</td>\n",
       "      <td>{#workout, #insanepools, #lucaslagoons, #rt}</td>\n",
       "    </tr>\n",
       "    <tr>\n",
       "      <th>7</th>\n",
       "      <td>IHealthtou</td>\n",
       "      <td>Welcome to I Health 2 U store!</td>\n",
       "      <td>United States</td>\n",
       "      <td>1</td>\n",
       "      <td>45</td>\n",
       "      <td>3205</td>\n",
       "      <td>2019-12-15 18:16:24</td>\n",
       "      <td>2020-10-05 15:33:33</td>\n",
       "      <td>0</td>\n",
       "      <td>13.58I Health 2 U#inspiration #wellness 310 ml...</td>\n",
       "      <td>{#wellness}</td>\n",
       "    </tr>\n",
       "  </tbody>\n",
       "</table>\n",
       "</div>"
      ],
      "text/plain": [
       "       user_name                                          user_desc  \\\n",
       "0  anusualauthor              official tweet of Enigma Anu Aggarwal   \n",
       "2   HeathAJordan  Entrepreneur/ Filmmaker/ CEO/ Producer/ Direct...   \n",
       "7     IHealthtou                     Welcome to I Health 2 U store!   \n",
       "\n",
       "           location  following  followers  totaltweets       user_createdts  \\\n",
       "0     Mumbai, India        544       3743         2661  2010-04-30 12:38:54   \n",
       "2  Sarasota Florida       6775       8567        50578  2011-06-21 22:56:28   \n",
       "7     United States          1         45         3205  2019-12-15 18:16:24   \n",
       "\n",
       "       tweet_createdts  retweet_count  \\\n",
       "0  2020-10-05 15:34:17              0   \n",
       "2  2020-10-05 15:34:03              0   \n",
       "7  2020-10-05 15:33:33              0   \n",
       "\n",
       "                                                text  \\\n",
       "0  You get to know your #true #nature in that mom...   \n",
       "2  #RT @lucaslagoons: RT @LagoonsDesign: Want to ...   \n",
       "7  13.58I Health 2 U#inspiration #wellness 310 ml...   \n",
       "\n",
       "                                            hashtags  \n",
       "0  {#anuaggarwalfoundation, #mentalhealth, #bloom...  \n",
       "2       {#workout, #insanepools, #lucaslagoons, #rt}  \n",
       "7                                        {#wellness}  "
      ]
     },
     "execution_count": 97,
     "metadata": {},
     "output_type": "execute_result"
    }
   ],
   "source": [
    "# defind a function to find all the hashtags in a tweet\n",
    "\n",
    "def hashtag(text):\n",
    "    return (set([str(i.lower()) for i in text.split() if i.startswith(\"#\")]))\n",
    "\n",
    "fitness_df['hashtags'] = fitness_df['text'].apply(hashtag)\n",
    "fitness_df.head(3)"
   ]
  },
  {
   "cell_type": "code",
   "execution_count": 98,
   "metadata": {},
   "outputs": [
    {
     "data": {
      "text/html": [
       "<div>\n",
       "<style scoped>\n",
       "    .dataframe tbody tr th:only-of-type {\n",
       "        vertical-align: middle;\n",
       "    }\n",
       "\n",
       "    .dataframe tbody tr th {\n",
       "        vertical-align: top;\n",
       "    }\n",
       "\n",
       "    .dataframe thead th {\n",
       "        text-align: right;\n",
       "    }\n",
       "</style>\n",
       "<table border=\"1\" class=\"dataframe\">\n",
       "  <thead>\n",
       "    <tr style=\"text-align: right;\">\n",
       "      <th></th>\n",
       "      <th>user_name</th>\n",
       "      <th>user_desc</th>\n",
       "      <th>location</th>\n",
       "      <th>following</th>\n",
       "      <th>followers</th>\n",
       "      <th>totaltweets</th>\n",
       "      <th>user_createdts</th>\n",
       "      <th>tweet_createdts</th>\n",
       "      <th>retweet_count</th>\n",
       "      <th>text</th>\n",
       "      <th>hashtags</th>\n",
       "      <th>num_hashtags</th>\n",
       "    </tr>\n",
       "  </thead>\n",
       "  <tbody>\n",
       "    <tr>\n",
       "      <th>0</th>\n",
       "      <td>anusualauthor</td>\n",
       "      <td>official tweet of Enigma Anu Aggarwal</td>\n",
       "      <td>Mumbai, India</td>\n",
       "      <td>544</td>\n",
       "      <td>3743</td>\n",
       "      <td>2661</td>\n",
       "      <td>2010-04-30 12:38:54</td>\n",
       "      <td>2020-10-05 15:34:17</td>\n",
       "      <td>0</td>\n",
       "      <td>You get to know your #true #nature in that mom...</td>\n",
       "      <td>{#anuaggarwalfoundation, #mentalhealth, #bloom...</td>\n",
       "      <td>15</td>\n",
       "    </tr>\n",
       "    <tr>\n",
       "      <th>2</th>\n",
       "      <td>HeathAJordan</td>\n",
       "      <td>Entrepreneur/ Filmmaker/ CEO/ Producer/ Direct...</td>\n",
       "      <td>Sarasota Florida</td>\n",
       "      <td>6775</td>\n",
       "      <td>8567</td>\n",
       "      <td>50578</td>\n",
       "      <td>2011-06-21 22:56:28</td>\n",
       "      <td>2020-10-05 15:34:03</td>\n",
       "      <td>0</td>\n",
       "      <td>#RT @lucaslagoons: RT @LagoonsDesign: Want to ...</td>\n",
       "      <td>{#workout, #insanepools, #lucaslagoons, #rt}</td>\n",
       "      <td>4</td>\n",
       "    </tr>\n",
       "    <tr>\n",
       "      <th>7</th>\n",
       "      <td>IHealthtou</td>\n",
       "      <td>Welcome to I Health 2 U store!</td>\n",
       "      <td>United States</td>\n",
       "      <td>1</td>\n",
       "      <td>45</td>\n",
       "      <td>3205</td>\n",
       "      <td>2019-12-15 18:16:24</td>\n",
       "      <td>2020-10-05 15:33:33</td>\n",
       "      <td>0</td>\n",
       "      <td>13.58I Health 2 U#inspiration #wellness 310 ml...</td>\n",
       "      <td>{#wellness}</td>\n",
       "      <td>1</td>\n",
       "    </tr>\n",
       "  </tbody>\n",
       "</table>\n",
       "</div>"
      ],
      "text/plain": [
       "       user_name                                          user_desc  \\\n",
       "0  anusualauthor              official tweet of Enigma Anu Aggarwal   \n",
       "2   HeathAJordan  Entrepreneur/ Filmmaker/ CEO/ Producer/ Direct...   \n",
       "7     IHealthtou                     Welcome to I Health 2 U store!   \n",
       "\n",
       "           location  following  followers  totaltweets       user_createdts  \\\n",
       "0     Mumbai, India        544       3743         2661  2010-04-30 12:38:54   \n",
       "2  Sarasota Florida       6775       8567        50578  2011-06-21 22:56:28   \n",
       "7     United States          1         45         3205  2019-12-15 18:16:24   \n",
       "\n",
       "       tweet_createdts  retweet_count  \\\n",
       "0  2020-10-05 15:34:17              0   \n",
       "2  2020-10-05 15:34:03              0   \n",
       "7  2020-10-05 15:33:33              0   \n",
       "\n",
       "                                                text  \\\n",
       "0  You get to know your #true #nature in that mom...   \n",
       "2  #RT @lucaslagoons: RT @LagoonsDesign: Want to ...   \n",
       "7  13.58I Health 2 U#inspiration #wellness 310 ml...   \n",
       "\n",
       "                                            hashtags  num_hashtags  \n",
       "0  {#anuaggarwalfoundation, #mentalhealth, #bloom...            15  \n",
       "2       {#workout, #insanepools, #lucaslagoons, #rt}             4  \n",
       "7                                        {#wellness}             1  "
      ]
     },
     "execution_count": 98,
     "metadata": {},
     "output_type": "execute_result"
    }
   ],
   "source": [
    "# Count the hashtags per each tweets\n",
    "fitness_df['num_hashtags'] = fitness_df['hashtags'].apply(len)\n",
    "fitness_df.head(3)"
   ]
  },
  {
   "cell_type": "code",
   "execution_count": 99,
   "metadata": {},
   "outputs": [
    {
     "data": {
      "text/html": [
       "<div>\n",
       "<style scoped>\n",
       "    .dataframe tbody tr th:only-of-type {\n",
       "        vertical-align: middle;\n",
       "    }\n",
       "\n",
       "    .dataframe tbody tr th {\n",
       "        vertical-align: top;\n",
       "    }\n",
       "\n",
       "    .dataframe thead th {\n",
       "        text-align: right;\n",
       "    }\n",
       "</style>\n",
       "<table border=\"1\" class=\"dataframe\">\n",
       "  <thead>\n",
       "    <tr style=\"text-align: right;\">\n",
       "      <th></th>\n",
       "      <th>user_name</th>\n",
       "      <th>user_desc</th>\n",
       "      <th>location</th>\n",
       "      <th>following</th>\n",
       "      <th>followers</th>\n",
       "      <th>totaltweets</th>\n",
       "      <th>user_createdts</th>\n",
       "      <th>tweet_createdts</th>\n",
       "      <th>retweet_count</th>\n",
       "      <th>text</th>\n",
       "      <th>hashtags</th>\n",
       "      <th>num_hashtags</th>\n",
       "      <th>num_search_tags</th>\n",
       "    </tr>\n",
       "  </thead>\n",
       "  <tbody>\n",
       "    <tr>\n",
       "      <th>0</th>\n",
       "      <td>anusualauthor</td>\n",
       "      <td>official tweet of Enigma Anu Aggarwal</td>\n",
       "      <td>Mumbai, India</td>\n",
       "      <td>544</td>\n",
       "      <td>3743</td>\n",
       "      <td>2661</td>\n",
       "      <td>2010-04-30 12:38:54</td>\n",
       "      <td>2020-10-05 15:34:17</td>\n",
       "      <td>0</td>\n",
       "      <td>You get to know your #true #nature in that mom...</td>\n",
       "      <td>{#anuaggarwalfoundation, #mentalhealth, #bloom...</td>\n",
       "      <td>15</td>\n",
       "      <td>1</td>\n",
       "    </tr>\n",
       "    <tr>\n",
       "      <th>2</th>\n",
       "      <td>HeathAJordan</td>\n",
       "      <td>Entrepreneur/ Filmmaker/ CEO/ Producer/ Direct...</td>\n",
       "      <td>Sarasota Florida</td>\n",
       "      <td>6775</td>\n",
       "      <td>8567</td>\n",
       "      <td>50578</td>\n",
       "      <td>2011-06-21 22:56:28</td>\n",
       "      <td>2020-10-05 15:34:03</td>\n",
       "      <td>0</td>\n",
       "      <td>#RT @lucaslagoons: RT @LagoonsDesign: Want to ...</td>\n",
       "      <td>{#workout, #insanepools, #lucaslagoons, #rt}</td>\n",
       "      <td>4</td>\n",
       "      <td>1</td>\n",
       "    </tr>\n",
       "    <tr>\n",
       "      <th>7</th>\n",
       "      <td>IHealthtou</td>\n",
       "      <td>Welcome to I Health 2 U store!</td>\n",
       "      <td>United States</td>\n",
       "      <td>1</td>\n",
       "      <td>45</td>\n",
       "      <td>3205</td>\n",
       "      <td>2019-12-15 18:16:24</td>\n",
       "      <td>2020-10-05 15:33:33</td>\n",
       "      <td>0</td>\n",
       "      <td>13.58I Health 2 U#inspiration #wellness 310 ml...</td>\n",
       "      <td>{#wellness}</td>\n",
       "      <td>1</td>\n",
       "      <td>1</td>\n",
       "    </tr>\n",
       "    <tr>\n",
       "      <th>9</th>\n",
       "      <td>KavitaRaoMD</td>\n",
       "      <td>Dr. Kavita Rao M.D. is a Gulf Coast internist ...</td>\n",
       "      <td>St. Petersburg, FL</td>\n",
       "      <td>40</td>\n",
       "      <td>5</td>\n",
       "      <td>673</td>\n",
       "      <td>2014-12-19 18:06:56</td>\n",
       "      <td>2020-10-05 15:33:30</td>\n",
       "      <td>0</td>\n",
       "      <td>Love yourself enough to live a healthy lifesty...</td>\n",
       "      <td>{#health, #wellness, #healthyliving}</td>\n",
       "      <td>3</td>\n",
       "      <td>2</td>\n",
       "    </tr>\n",
       "    <tr>\n",
       "      <th>11</th>\n",
       "      <td>Crystal_Price13</td>\n",
       "      <td>Just me - all day - everyday</td>\n",
       "      <td>Panama City, FL</td>\n",
       "      <td>60</td>\n",
       "      <td>445</td>\n",
       "      <td>12936</td>\n",
       "      <td>2013-05-21 23:46:02</td>\n",
       "      <td>2020-10-05 15:33:25</td>\n",
       "      <td>0</td>\n",
       "      <td>I thought you might enjoy a 5 minute break wit...</td>\n",
       "      <td>{#mylifemindfully, #healthylifestyle, #meditat...</td>\n",
       "      <td>6</td>\n",
       "      <td>4</td>\n",
       "    </tr>\n",
       "  </tbody>\n",
       "</table>\n",
       "</div>"
      ],
      "text/plain": [
       "          user_name                                          user_desc  \\\n",
       "0     anusualauthor              official tweet of Enigma Anu Aggarwal   \n",
       "2      HeathAJordan  Entrepreneur/ Filmmaker/ CEO/ Producer/ Direct...   \n",
       "7        IHealthtou                     Welcome to I Health 2 U store!   \n",
       "9       KavitaRaoMD  Dr. Kavita Rao M.D. is a Gulf Coast internist ...   \n",
       "11  Crystal_Price13                       Just me - all day - everyday   \n",
       "\n",
       "              location  following  followers  totaltweets  \\\n",
       "0        Mumbai, India        544       3743         2661   \n",
       "2     Sarasota Florida       6775       8567        50578   \n",
       "7        United States          1         45         3205   \n",
       "9   St. Petersburg, FL         40          5          673   \n",
       "11     Panama City, FL         60        445        12936   \n",
       "\n",
       "         user_createdts      tweet_createdts  retweet_count  \\\n",
       "0   2010-04-30 12:38:54  2020-10-05 15:34:17              0   \n",
       "2   2011-06-21 22:56:28  2020-10-05 15:34:03              0   \n",
       "7   2019-12-15 18:16:24  2020-10-05 15:33:33              0   \n",
       "9   2014-12-19 18:06:56  2020-10-05 15:33:30              0   \n",
       "11  2013-05-21 23:46:02  2020-10-05 15:33:25              0   \n",
       "\n",
       "                                                 text  \\\n",
       "0   You get to know your #true #nature in that mom...   \n",
       "2   #RT @lucaslagoons: RT @LagoonsDesign: Want to ...   \n",
       "7   13.58I Health 2 U#inspiration #wellness 310 ml...   \n",
       "9   Love yourself enough to live a healthy lifesty...   \n",
       "11  I thought you might enjoy a 5 minute break wit...   \n",
       "\n",
       "                                             hashtags  num_hashtags  \\\n",
       "0   {#anuaggarwalfoundation, #mentalhealth, #bloom...            15   \n",
       "2        {#workout, #insanepools, #lucaslagoons, #rt}             4   \n",
       "7                                         {#wellness}             1   \n",
       "9                {#health, #wellness, #healthyliving}             3   \n",
       "11  {#mylifemindfully, #healthylifestyle, #meditat...             6   \n",
       "\n",
       "    num_search_tags  \n",
       "0                 1  \n",
       "2                 1  \n",
       "7                 1  \n",
       "9                 2  \n",
       "11                4  "
      ]
     },
     "execution_count": 99,
     "metadata": {},
     "output_type": "execute_result"
    }
   ],
   "source": [
    "# find the number of search hashtags (we used thsese tags to pull the tweet) in a tweet\n",
    "fit_search_tags = ['#fitness', '#workout', '#gym', '#healthy', '#fitnessmotivation', '#fitnessmodel', '#healthylifestyle', '#fit', '#mtivation', '#wellness', '#lifestyle', '#mindbody', '#training', '#exercise', '#exercise', '#firnesslife', '#healthandfitness', '#exercisemotivation']\n",
    "\n",
    "\n",
    "def search_hashtags(tags):\n",
    "    t = 0\n",
    "    for i in fit_search_tags:\n",
    "        for j in tags:\n",
    "            if i in j:\n",
    "                t += 1\n",
    "    return t\n",
    "\n",
    "                \n",
    "fitness_df['num_search_tags'] = fitness_df['hashtags'].apply(search_hashtags)\n",
    "fitness_df.head()            "
   ]
  },
  {
   "cell_type": "code",
   "execution_count": 100,
   "metadata": {},
   "outputs": [
    {
     "data": {
      "text/plain": [
       "111"
      ]
     },
     "execution_count": 100,
     "metadata": {},
     "output_type": "execute_result"
    }
   ],
   "source": [
    "# find the the number of tweets with no search hashtags\n",
    "len(fitness_df[fitness_df.num_search_tags == 0])"
   ]
  },
  {
   "cell_type": "code",
   "execution_count": 101,
   "metadata": {},
   "outputs": [
    {
     "data": {
      "text/plain": [
       "46075"
      ]
     },
     "execution_count": 101,
     "metadata": {},
     "output_type": "execute_result"
    }
   ],
   "source": [
    "# drop the tweets with no search hashtags\n",
    "fitness_df = fitness_df[fitness_df.num_search_tags != 0]\n",
    "len(fitness_df)"
   ]
  },
  {
   "cell_type": "code",
   "execution_count": 103,
   "metadata": {},
   "outputs": [
    {
     "data": {
      "text/plain": [
       "41504"
      ]
     },
     "execution_count": 103,
     "metadata": {},
     "output_type": "execute_result"
    }
   ],
   "source": [
    "# Remove tweets between 5000 and 30,000 followers\n",
    "fitness_df = fitness_df[(fitness_df.followers <= 5000) | (fitness_df.followers > 30000)]\n",
    "len(fitness_df)"
   ]
  },
  {
   "cell_type": "code",
   "execution_count": 105,
   "metadata": {},
   "outputs": [
    {
     "data": {
      "text/html": [
       "<div>\n",
       "<style scoped>\n",
       "    .dataframe tbody tr th:only-of-type {\n",
       "        vertical-align: middle;\n",
       "    }\n",
       "\n",
       "    .dataframe tbody tr th {\n",
       "        vertical-align: top;\n",
       "    }\n",
       "\n",
       "    .dataframe thead th {\n",
       "        text-align: right;\n",
       "    }\n",
       "</style>\n",
       "<table border=\"1\" class=\"dataframe\">\n",
       "  <thead>\n",
       "    <tr style=\"text-align: right;\">\n",
       "      <th></th>\n",
       "      <th>user_name</th>\n",
       "      <th>user_desc</th>\n",
       "      <th>location</th>\n",
       "      <th>following</th>\n",
       "      <th>followers</th>\n",
       "      <th>totaltweets</th>\n",
       "      <th>user_createdts</th>\n",
       "      <th>tweet_createdts</th>\n",
       "      <th>retweet_count</th>\n",
       "      <th>text</th>\n",
       "      <th>hashtags</th>\n",
       "      <th>num_hashtags</th>\n",
       "      <th>num_search_tags</th>\n",
       "      <th>label</th>\n",
       "    </tr>\n",
       "  </thead>\n",
       "  <tbody>\n",
       "    <tr>\n",
       "      <th>0</th>\n",
       "      <td>anusualauthor</td>\n",
       "      <td>official tweet of Enigma Anu Aggarwal</td>\n",
       "      <td>Mumbai, India</td>\n",
       "      <td>544</td>\n",
       "      <td>3743</td>\n",
       "      <td>2661</td>\n",
       "      <td>2010-04-30 12:38:54</td>\n",
       "      <td>2020-10-05 15:34:17</td>\n",
       "      <td>0</td>\n",
       "      <td>You get to know your #true #nature in that mom...</td>\n",
       "      <td>{#anuaggarwalfoundation, #mentalhealth, #bloom...</td>\n",
       "      <td>15</td>\n",
       "      <td>1</td>\n",
       "      <td>0</td>\n",
       "    </tr>\n",
       "    <tr>\n",
       "      <th>7</th>\n",
       "      <td>IHealthtou</td>\n",
       "      <td>Welcome to I Health 2 U store!</td>\n",
       "      <td>United States</td>\n",
       "      <td>1</td>\n",
       "      <td>45</td>\n",
       "      <td>3205</td>\n",
       "      <td>2019-12-15 18:16:24</td>\n",
       "      <td>2020-10-05 15:33:33</td>\n",
       "      <td>0</td>\n",
       "      <td>13.58I Health 2 U#inspiration #wellness 310 ml...</td>\n",
       "      <td>{#wellness}</td>\n",
       "      <td>1</td>\n",
       "      <td>1</td>\n",
       "      <td>0</td>\n",
       "    </tr>\n",
       "  </tbody>\n",
       "</table>\n",
       "</div>"
      ],
      "text/plain": [
       "       user_name                              user_desc       location  \\\n",
       "0  anusualauthor  official tweet of Enigma Anu Aggarwal  Mumbai, India   \n",
       "7     IHealthtou         Welcome to I Health 2 U store!  United States   \n",
       "\n",
       "   following  followers  totaltweets       user_createdts  \\\n",
       "0        544       3743         2661  2010-04-30 12:38:54   \n",
       "7          1         45         3205  2019-12-15 18:16:24   \n",
       "\n",
       "       tweet_createdts  retweet_count  \\\n",
       "0  2020-10-05 15:34:17              0   \n",
       "7  2020-10-05 15:33:33              0   \n",
       "\n",
       "                                                text  \\\n",
       "0  You get to know your #true #nature in that mom...   \n",
       "7  13.58I Health 2 U#inspiration #wellness 310 ml...   \n",
       "\n",
       "                                            hashtags  num_hashtags  \\\n",
       "0  {#anuaggarwalfoundation, #mentalhealth, #bloom...            15   \n",
       "7                                        {#wellness}             1   \n",
       "\n",
       "   num_search_tags  label  \n",
       "0                1      0  \n",
       "7                1      0  "
      ]
     },
     "execution_count": 105,
     "metadata": {},
     "output_type": "execute_result"
    }
   ],
   "source": [
    "# define a function to label the tweets based on the number of followers the user have\n",
    "def label_func(followers):\n",
    "    if followers > 30000:\n",
    "        return 1\n",
    "    else:\n",
    "        return 0\n",
    "fitness_df['label'] = fitness_df['followers'].apply(label_func)\n",
    "fitness_df.head(2)"
   ]
  },
  {
   "cell_type": "code",
   "execution_count": 106,
   "metadata": {},
   "outputs": [
    {
     "data": {
      "text/plain": [
       "0    39958\n",
       "1     1546\n",
       "Name: label, dtype: int64"
      ]
     },
     "execution_count": 106,
     "metadata": {},
     "output_type": "execute_result"
    }
   ],
   "source": [
    "# counts the number of tweets in each label\n",
    "followers_count_fit = fitness_df['label'].value_counts().sort_index()\n",
    "followers_count_fit"
   ]
  },
  {
   "cell_type": "code",
   "execution_count": 107,
   "metadata": {},
   "outputs": [
    {
     "data": {
      "image/png": "[encoded data removed]",
      "text/plain": [
       "<Figure size 576x432 with 1 Axes>"
      ]
     },
     "metadata": {},
     "output_type": "display_data"
    }
   ],
   "source": [
    "# Pie plot to show the percentage of tweets in each label\n",
    "fig, ax = plt.subplots(figsize=(8, 6), subplot_kw=dict(aspect=\"equal\"))\n",
    "plt.pie(followers_count_fit, labels=[0,1],startangle=90, autopct='%.0f%%')\n",
    "\n",
    "ax.legend([\"0: Followers count <= 5000\", \"1: Followers count > 30000\"], loc=\"center left\",bbox_to_anchor=(1, 0, 0.5, 1))\n",
    "\n",
    "ax.set_title(\"Followers Count (Fitness Tweets)\")\n",
    "\n",
    "plt.show()"
   ]
  },
  {
   "cell_type": "markdown",
   "metadata": {},
   "source": [
    "### Distribution of Word Count, % of caps, number of hashtags in different labels (followers count category)"
   ]
  },
  {
   "cell_type": "code",
   "execution_count": 108,
   "metadata": {},
   "outputs": [
    {
     "data": {
      "text/html": [
       "<div>\n",
       "<style scoped>\n",
       "    .dataframe tbody tr th:only-of-type {\n",
       "        vertical-align: middle;\n",
       "    }\n",
       "\n",
       "    .dataframe tbody tr th {\n",
       "        vertical-align: top;\n",
       "    }\n",
       "\n",
       "    .dataframe thead th {\n",
       "        text-align: right;\n",
       "    }\n",
       "</style>\n",
       "<table border=\"1\" class=\"dataframe\">\n",
       "  <thead>\n",
       "    <tr style=\"text-align: right;\">\n",
       "      <th></th>\n",
       "      <th>user_name</th>\n",
       "      <th>user_desc</th>\n",
       "      <th>location</th>\n",
       "      <th>following</th>\n",
       "      <th>followers</th>\n",
       "      <th>totaltweets</th>\n",
       "      <th>user_createdts</th>\n",
       "      <th>tweet_createdts</th>\n",
       "      <th>retweet_count</th>\n",
       "      <th>text</th>\n",
       "      <th>hashtags</th>\n",
       "      <th>num_hashtags</th>\n",
       "      <th>num_search_tags</th>\n",
       "      <th>label</th>\n",
       "      <th>tweet_length</th>\n",
       "    </tr>\n",
       "  </thead>\n",
       "  <tbody>\n",
       "    <tr>\n",
       "      <th>0</th>\n",
       "      <td>anusualauthor</td>\n",
       "      <td>official tweet of Enigma Anu Aggarwal</td>\n",
       "      <td>Mumbai, India</td>\n",
       "      <td>544</td>\n",
       "      <td>3743</td>\n",
       "      <td>2661</td>\n",
       "      <td>2010-04-30 12:38:54</td>\n",
       "      <td>2020-10-05 15:34:17</td>\n",
       "      <td>0</td>\n",
       "      <td>You get to know your #true #nature in that mom...</td>\n",
       "      <td>{#anuaggarwalfoundation, #mentalhealth, #bloom...</td>\n",
       "      <td>15</td>\n",
       "      <td>1</td>\n",
       "      <td>0</td>\n",
       "      <td>36</td>\n",
       "    </tr>\n",
       "    <tr>\n",
       "      <th>7</th>\n",
       "      <td>IHealthtou</td>\n",
       "      <td>Welcome to I Health 2 U store!</td>\n",
       "      <td>United States</td>\n",
       "      <td>1</td>\n",
       "      <td>45</td>\n",
       "      <td>3205</td>\n",
       "      <td>2019-12-15 18:16:24</td>\n",
       "      <td>2020-10-05 15:33:33</td>\n",
       "      <td>0</td>\n",
       "      <td>13.58I Health 2 U#inspiration #wellness 310 ml...</td>\n",
       "      <td>{#wellness}</td>\n",
       "      <td>1</td>\n",
       "      <td>1</td>\n",
       "      <td>0</td>\n",
       "      <td>15</td>\n",
       "    </tr>\n",
       "  </tbody>\n",
       "</table>\n",
       "</div>"
      ],
      "text/plain": [
       "       user_name                              user_desc       location  \\\n",
       "0  anusualauthor  official tweet of Enigma Anu Aggarwal  Mumbai, India   \n",
       "7     IHealthtou         Welcome to I Health 2 U store!  United States   \n",
       "\n",
       "   following  followers  totaltweets       user_createdts  \\\n",
       "0        544       3743         2661  2010-04-30 12:38:54   \n",
       "7          1         45         3205  2019-12-15 18:16:24   \n",
       "\n",
       "       tweet_createdts  retweet_count  \\\n",
       "0  2020-10-05 15:34:17              0   \n",
       "7  2020-10-05 15:33:33              0   \n",
       "\n",
       "                                                text  \\\n",
       "0  You get to know your #true #nature in that mom...   \n",
       "7  13.58I Health 2 U#inspiration #wellness 310 ml...   \n",
       "\n",
       "                                            hashtags  num_hashtags  \\\n",
       "0  {#anuaggarwalfoundation, #mentalhealth, #bloom...            15   \n",
       "7                                        {#wellness}             1   \n",
       "\n",
       "   num_search_tags  label  tweet_length  \n",
       "0                1      0            36  \n",
       "7                1      0            15  "
      ]
     },
     "execution_count": 108,
     "metadata": {},
     "output_type": "execute_result"
    }
   ],
   "source": [
    "# Distribution of tweet length in different labels (followers category)\n",
    "\n",
    "fitness_df['tweet_length'] = fitness_df['text'].apply(lambda x: len(x.split())) # tweet length\n",
    "fitness_df.head(2)"
   ]
  },
  {
   "cell_type": "code",
   "execution_count": 109,
   "metadata": {},
   "outputs": [
    {
     "data": {
      "text/plain": [
       "TheMysticMist      292\n",
       "StanleyEpstein     149\n",
       "EarthWizardInfo    126\n",
       "buzbuzhd           112\n",
       "DatinginAus         95\n",
       "DatingAceUSA        91\n",
       "VanessaCarters      88\n",
       "XFitnessWelland     84\n",
       "discoveryvip        78\n",
       "BcabaNetwork        73\n",
       "Name: user_name, dtype: int64"
      ]
     },
     "execution_count": 109,
     "metadata": {},
     "output_type": "execute_result"
    }
   ],
   "source": [
    "# user with higest number of tweets on fashion\n",
    "user_fit = fitness_df['user_name'].value_counts()\n",
    "user_fit.head(10)"
   ]
  },
  {
   "cell_type": "code",
   "execution_count": 213,
   "metadata": {},
   "outputs": [
    {
     "data": {
      "image/png": "[encoded data removed]",
      "text/plain": [
       "<Figure size 720x576 with 1 Axes>"
      ]
     },
     "metadata": {
      "needs_background": "light"
     },
     "output_type": "display_data"
    }
   ],
   "source": [
    "# tweet length distribution at different labels\n",
    "plt.figure(figsize=(10, 8))\n",
    "sns.boxplot(x = 'label', y = 'tweet_length', data = fitness_df, showfliers=False, color='#A60628').set(xlabel= 'Label', ylabel='Tweet Length', title='Distribution of Tweet Length (Fitness Tweets)')\n",
    "plt.show()"
   ]
  },
  {
   "cell_type": "code",
   "execution_count": 116,
   "metadata": {},
   "outputs": [
    {
     "data": {
      "text/html": [
       "<div>\n",
       "<style scoped>\n",
       "    .dataframe tbody tr th:only-of-type {\n",
       "        vertical-align: middle;\n",
       "    }\n",
       "\n",
       "    .dataframe tbody tr th {\n",
       "        vertical-align: top;\n",
       "    }\n",
       "\n",
       "    .dataframe thead th {\n",
       "        text-align: right;\n",
       "    }\n",
       "</style>\n",
       "<table border=\"1\" class=\"dataframe\">\n",
       "  <thead>\n",
       "    <tr style=\"text-align: right;\">\n",
       "      <th></th>\n",
       "      <th>user_name</th>\n",
       "      <th>user_desc</th>\n",
       "      <th>location</th>\n",
       "      <th>following</th>\n",
       "      <th>followers</th>\n",
       "      <th>totaltweets</th>\n",
       "      <th>user_createdts</th>\n",
       "      <th>tweet_createdts</th>\n",
       "      <th>retweet_count</th>\n",
       "      <th>text</th>\n",
       "      <th>hashtags</th>\n",
       "      <th>num_hashtags</th>\n",
       "      <th>num_search_tags</th>\n",
       "      <th>label</th>\n",
       "      <th>tweet_length</th>\n",
       "      <th>% caps</th>\n",
       "    </tr>\n",
       "  </thead>\n",
       "  <tbody>\n",
       "    <tr>\n",
       "      <th>0</th>\n",
       "      <td>anusualauthor</td>\n",
       "      <td>official tweet of Enigma Anu Aggarwal</td>\n",
       "      <td>Mumbai, India</td>\n",
       "      <td>544</td>\n",
       "      <td>3743</td>\n",
       "      <td>2661</td>\n",
       "      <td>2010-04-30 12:38:54</td>\n",
       "      <td>2020-10-05 15:34:17</td>\n",
       "      <td>0</td>\n",
       "      <td>You get to know your #true #nature in that mom...</td>\n",
       "      <td>{#anuaggarwalfoundation, #mentalhealth, #bloom...</td>\n",
       "      <td>15</td>\n",
       "      <td>1</td>\n",
       "      <td>0</td>\n",
       "      <td>36</td>\n",
       "      <td>2.105263</td>\n",
       "    </tr>\n",
       "    <tr>\n",
       "      <th>7</th>\n",
       "      <td>IHealthtou</td>\n",
       "      <td>Welcome to I Health 2 U store!</td>\n",
       "      <td>United States</td>\n",
       "      <td>1</td>\n",
       "      <td>45</td>\n",
       "      <td>3205</td>\n",
       "      <td>2019-12-15 18:16:24</td>\n",
       "      <td>2020-10-05 15:33:33</td>\n",
       "      <td>0</td>\n",
       "      <td>13.58I Health 2 U#inspiration #wellness 310 ml...</td>\n",
       "      <td>{#wellness}</td>\n",
       "      <td>1</td>\n",
       "      <td>1</td>\n",
       "      <td>0</td>\n",
       "      <td>15</td>\n",
       "      <td>11.111111</td>\n",
       "    </tr>\n",
       "  </tbody>\n",
       "</table>\n",
       "</div>"
      ],
      "text/plain": [
       "       user_name                              user_desc       location  \\\n",
       "0  anusualauthor  official tweet of Enigma Anu Aggarwal  Mumbai, India   \n",
       "7     IHealthtou         Welcome to I Health 2 U store!  United States   \n",
       "\n",
       "   following  followers  totaltweets       user_createdts  \\\n",
       "0        544       3743         2661  2010-04-30 12:38:54   \n",
       "7          1         45         3205  2019-12-15 18:16:24   \n",
       "\n",
       "       tweet_createdts  retweet_count  \\\n",
       "0  2020-10-05 15:34:17              0   \n",
       "7  2020-10-05 15:33:33              0   \n",
       "\n",
       "                                                text  \\\n",
       "0  You get to know your #true #nature in that mom...   \n",
       "7  13.58I Health 2 U#inspiration #wellness 310 ml...   \n",
       "\n",
       "                                            hashtags  num_hashtags  \\\n",
       "0  {#anuaggarwalfoundation, #mentalhealth, #bloom...            15   \n",
       "7                                        {#wellness}             1   \n",
       "\n",
       "   num_search_tags  label  tweet_length     % caps  \n",
       "0                1      0            36   2.105263  \n",
       "7                1      0            15  11.111111  "
      ]
     },
     "execution_count": 116,
     "metadata": {},
     "output_type": "execute_result"
    }
   ],
   "source": [
    "# define a function to get % of caps in a tweet\n",
    "def caps(text):\n",
    "    return np.mean([1 if i.isupper() else 0 for i in text]) * 100\n",
    "\n",
    "fitness_df['% caps'] = fitness_df['text'].apply(caps)\n",
    "fitness_df.head(2)"
   ]
  },
  {
   "cell_type": "code",
   "execution_count": 212,
   "metadata": {},
   "outputs": [
    {
     "data": {
      "image/png": "[encoded data removed]",
      "text/plain": [
       "<Figure size 720x576 with 1 Axes>"
      ]
     },
     "metadata": {
      "needs_background": "light"
     },
     "output_type": "display_data"
    }
   ],
   "source": [
    "# Distribution of % of Caps in different followers count (labels)\n",
    "plt.figure(figsize=(10, 8))\n",
    "sns.boxplot(x = 'label', y = fitness_df['% caps'], data = fitness_df, showfliers=False, color='#A60628').set(xlabel= 'Label',ylabel='% of Capitals', title='Distribution of % caps (Fitness Tweets)')\n",
    "plt.show()"
   ]
  },
  {
   "cell_type": "code",
   "execution_count": 118,
   "metadata": {},
   "outputs": [
    {
     "data": {
      "text/html": [
       "<div>\n",
       "<style scoped>\n",
       "    .dataframe tbody tr th:only-of-type {\n",
       "        vertical-align: middle;\n",
       "    }\n",
       "\n",
       "    .dataframe tbody tr th {\n",
       "        vertical-align: top;\n",
       "    }\n",
       "\n",
       "    .dataframe thead th {\n",
       "        text-align: right;\n",
       "    }\n",
       "</style>\n",
       "<table border=\"1\" class=\"dataframe\">\n",
       "  <thead>\n",
       "    <tr style=\"text-align: right;\">\n",
       "      <th></th>\n",
       "      <th>% caps</th>\n",
       "    </tr>\n",
       "    <tr>\n",
       "      <th>label</th>\n",
       "      <th></th>\n",
       "    </tr>\n",
       "  </thead>\n",
       "  <tbody>\n",
       "    <tr>\n",
       "      <th>0</th>\n",
       "      <td>7.961947</td>\n",
       "    </tr>\n",
       "    <tr>\n",
       "      <th>1</th>\n",
       "      <td>7.904393</td>\n",
       "    </tr>\n",
       "  </tbody>\n",
       "</table>\n",
       "</div>"
      ],
      "text/plain": [
       "         % caps\n",
       "label          \n",
       "0      7.961947\n",
       "1      7.904393"
      ]
     },
     "execution_count": 118,
     "metadata": {},
     "output_type": "execute_result"
    }
   ],
   "source": [
    "fitness_df[['label', '% caps']].groupby('label').mean()"
   ]
  },
  {
   "cell_type": "code",
   "execution_count": 210,
   "metadata": {},
   "outputs": [
    {
     "data": {
      "image/png": "[encoded data removed]",
      "text/plain": [
       "<Figure size 720x576 with 1 Axes>"
      ]
     },
     "metadata": {
      "needs_background": "light"
     },
     "output_type": "display_data"
    }
   ],
   "source": [
    "# Distribution of % caps\n",
    "plt.figure(figsize=(18, 6))\n",
    "\n",
    "fitness_df['% caps'].hist(color='#A60628', alpha=0.8, figsize=(10,8))\n",
    "plt.yscale('log', nonposy='clip')\n",
    "plt.title('Fitness Tweets')\n",
    "plt.xlabel('% Caps')\n",
    "plt.ylabel('Count')\n",
    "plt.show()"
   ]
  },
  {
   "cell_type": "code",
   "execution_count": 120,
   "metadata": {
    "scrolled": true
   },
   "outputs": [
    {
     "data": {
      "text/html": [
       "<div>\n",
       "<style scoped>\n",
       "    .dataframe tbody tr th:only-of-type {\n",
       "        vertical-align: middle;\n",
       "    }\n",
       "\n",
       "    .dataframe tbody tr th {\n",
       "        vertical-align: top;\n",
       "    }\n",
       "\n",
       "    .dataframe thead th {\n",
       "        text-align: right;\n",
       "    }\n",
       "</style>\n",
       "<table border=\"1\" class=\"dataframe\">\n",
       "  <thead>\n",
       "    <tr style=\"text-align: right;\">\n",
       "      <th></th>\n",
       "      <th>user_name</th>\n",
       "      <th>user_desc</th>\n",
       "      <th>location</th>\n",
       "      <th>following</th>\n",
       "      <th>followers</th>\n",
       "      <th>totaltweets</th>\n",
       "      <th>user_createdts</th>\n",
       "      <th>tweet_createdts</th>\n",
       "      <th>retweet_count</th>\n",
       "      <th>text</th>\n",
       "      <th>hashtags</th>\n",
       "      <th>num_hashtags</th>\n",
       "      <th>num_search_tags</th>\n",
       "      <th>label</th>\n",
       "      <th>tweet_length</th>\n",
       "      <th>% caps</th>\n",
       "      <th>manycaps</th>\n",
       "    </tr>\n",
       "  </thead>\n",
       "  <tbody>\n",
       "    <tr>\n",
       "      <th>0</th>\n",
       "      <td>anusualauthor</td>\n",
       "      <td>official tweet of Enigma Anu Aggarwal</td>\n",
       "      <td>Mumbai, India</td>\n",
       "      <td>544</td>\n",
       "      <td>3743</td>\n",
       "      <td>2661</td>\n",
       "      <td>2010-04-30 12:38:54</td>\n",
       "      <td>2020-10-05 15:34:17</td>\n",
       "      <td>0</td>\n",
       "      <td>You get to know your #true #nature in that mom...</td>\n",
       "      <td>{#anuaggarwalfoundation, #mentalhealth, #bloom...</td>\n",
       "      <td>15</td>\n",
       "      <td>1</td>\n",
       "      <td>0</td>\n",
       "      <td>36</td>\n",
       "      <td>2.105263</td>\n",
       "      <td>False</td>\n",
       "    </tr>\n",
       "    <tr>\n",
       "      <th>7</th>\n",
       "      <td>IHealthtou</td>\n",
       "      <td>Welcome to I Health 2 U store!</td>\n",
       "      <td>United States</td>\n",
       "      <td>1</td>\n",
       "      <td>45</td>\n",
       "      <td>3205</td>\n",
       "      <td>2019-12-15 18:16:24</td>\n",
       "      <td>2020-10-05 15:33:33</td>\n",
       "      <td>0</td>\n",
       "      <td>13.58I Health 2 U#inspiration #wellness 310 ml...</td>\n",
       "      <td>{#wellness}</td>\n",
       "      <td>1</td>\n",
       "      <td>1</td>\n",
       "      <td>0</td>\n",
       "      <td>15</td>\n",
       "      <td>11.111111</td>\n",
       "      <td>False</td>\n",
       "    </tr>\n",
       "  </tbody>\n",
       "</table>\n",
       "</div>"
      ],
      "text/plain": [
       "       user_name                              user_desc       location  \\\n",
       "0  anusualauthor  official tweet of Enigma Anu Aggarwal  Mumbai, India   \n",
       "7     IHealthtou         Welcome to I Health 2 U store!  United States   \n",
       "\n",
       "   following  followers  totaltweets       user_createdts  \\\n",
       "0        544       3743         2661  2010-04-30 12:38:54   \n",
       "7          1         45         3205  2019-12-15 18:16:24   \n",
       "\n",
       "       tweet_createdts  retweet_count  \\\n",
       "0  2020-10-05 15:34:17              0   \n",
       "7  2020-10-05 15:33:33              0   \n",
       "\n",
       "                                                text  \\\n",
       "0  You get to know your #true #nature in that mom...   \n",
       "7  13.58I Health 2 U#inspiration #wellness 310 ml...   \n",
       "\n",
       "                                            hashtags  num_hashtags  \\\n",
       "0  {#anuaggarwalfoundation, #mentalhealth, #bloom...            15   \n",
       "7                                        {#wellness}             1   \n",
       "\n",
       "   num_search_tags  label  tweet_length     % caps  manycaps  \n",
       "0                1      0            36   2.105263     False  \n",
       "7                1      0            15  11.111111     False  "
      ]
     },
     "execution_count": 120,
     "metadata": {},
     "output_type": "execute_result"
    }
   ],
   "source": [
    "# Distributions of % caps (> 20%) in different labels\n",
    "\n",
    "fitness_df['manycaps'] = fitness_df['% caps'].apply(lambda x: x > 20)\n",
    "fitness_df.head(2)"
   ]
  },
  {
   "cell_type": "code",
   "execution_count": 137,
   "metadata": {},
   "outputs": [
    {
     "data": {
      "text/html": [
       "<div>\n",
       "<style scoped>\n",
       "    .dataframe tbody tr th:only-of-type {\n",
       "        vertical-align: middle;\n",
       "    }\n",
       "\n",
       "    .dataframe tbody tr th {\n",
       "        vertical-align: top;\n",
       "    }\n",
       "\n",
       "    .dataframe thead th {\n",
       "        text-align: right;\n",
       "    }\n",
       "</style>\n",
       "<table border=\"1\" class=\"dataframe\">\n",
       "  <thead>\n",
       "    <tr style=\"text-align: right;\">\n",
       "      <th></th>\n",
       "      <th>manycaps</th>\n",
       "    </tr>\n",
       "    <tr>\n",
       "      <th>label</th>\n",
       "      <th></th>\n",
       "    </tr>\n",
       "  </thead>\n",
       "  <tbody>\n",
       "    <tr>\n",
       "      <th>0</th>\n",
       "      <td>0.022223</td>\n",
       "    </tr>\n",
       "    <tr>\n",
       "      <th>1</th>\n",
       "      <td>0.007762</td>\n",
       "    </tr>\n",
       "  </tbody>\n",
       "</table>\n",
       "</div>"
      ],
      "text/plain": [
       "       manycaps\n",
       "label          \n",
       "0      0.022223\n",
       "1      0.007762"
      ]
     },
     "execution_count": 137,
     "metadata": {},
     "output_type": "execute_result"
    }
   ],
   "source": [
    "manycaps_fitness = fitness_df[['label', 'manycaps']].groupby('label').mean()\n",
    "manycaps_fitness"
   ]
  },
  {
   "cell_type": "code",
   "execution_count": 203,
   "metadata": {},
   "outputs": [
    {
     "data": {
      "image/png": "[encoded data removed]",
      "text/plain": [
       "<Figure size 720x576 with 1 Axes>"
      ]
     },
     "metadata": {
      "needs_background": "light"
     },
     "output_type": "display_data"
    }
   ],
   "source": [
    "manycaps_fitness = fitness_df[['label', 'manycaps']].groupby('label').mean()\n",
    "manycaps_fitness.plot(kind='bar', color='#A60628',rot = 0, alpha=0.8, figsize=(10,8)).set(xlabel='Label', ylabel='% of tweets with >20% Capitals', title='Fitness Tweets');"
   ]
  },
  {
   "cell_type": "code",
   "execution_count": 224,
   "metadata": {},
   "outputs": [
    {
     "data": {
      "image/png": "[encoded data removed]",
      "text/plain": [
       "<Figure size 720x576 with 1 Axes>"
      ]
     },
     "metadata": {
      "needs_background": "light"
     },
     "output_type": "display_data"
    }
   ],
   "source": [
    "# Distribution of number of hashtags in different labels\n",
    "plt.figure(figsize=(10, 8))\n",
    "sns.boxplot(x = 'label', y = 'num_hashtags', data = fitness_df, showfliers=False, color='#A60628').set(xlabel= 'Label',ylabel='Hashtags Per Tweet', title='Distribution of hashtags per tweet (Fitness Tweets)')\n",
    "plt.show()"
   ]
  },
  {
   "cell_type": "code",
   "execution_count": 225,
   "metadata": {},
   "outputs": [
    {
     "data": {
      "image/png": "[encoded data removed]",
      "text/plain": [
       "<Figure size 720x576 with 1 Axes>"
      ]
     },
     "metadata": {
      "needs_background": "light"
     },
     "output_type": "display_data"
    }
   ],
   "source": [
    "# Distribution of reading level in different labels (Automated Readability Index)\n",
    "plt.figure(figsize=(10, 8))\n",
    "sns.boxplot(x = 'label', y = fitness_df['text'].apply(lambda x: textstat.automated_readability_index(x)), data = fitness_df, showfliers=False,color='#A60628').set(xlabel= 'Label',ylabel='Reading Level', title='Distribution of Tweet Reading Level (Fitness Tweets)')\n",
    "plt.show()"
   ]
  },
  {
   "cell_type": "code",
   "execution_count": 226,
   "metadata": {},
   "outputs": [
    {
     "data": {
      "image/png": "[encoded data removed]",
      "text/plain": [
       "<Figure size 720x576 with 1 Axes>"
      ]
     },
     "metadata": {
      "needs_background": "light"
     },
     "output_type": "display_data"
    }
   ],
   "source": [
    "# Distribution of reading level in different labels (Fog Scale)\n",
    "plt.figure(figsize=(10, 8))\n",
    "sns.boxplot(x = 'label', y = fitness_df['text'].apply(lambda x: textstat.gunning_fog(x)), data = fitness_df, showfliers=False, color='#A60628').set(xlabel= 'Label',ylabel='Reading Level', title='Distribution of Tweet Reading Level (Fitness Tweets)')\n",
    "plt.show()"
   ]
  },
  {
   "cell_type": "code",
   "execution_count": 227,
   "metadata": {},
   "outputs": [
    {
     "data": {
      "image/png": "[encoded data removed]",
      "text/plain": [
       "<Figure size 720x576 with 1 Axes>"
      ]
     },
     "metadata": {
      "needs_background": "light"
     },
     "output_type": "display_data"
    }
   ],
   "source": [
    "# Distribution of reading level in different labels (Coleman-Liau Index)\n",
    "plt.figure(figsize=(10, 8))\n",
    "sns.boxplot(x = 'label', y = fitness_df['text'].apply(lambda x: textstat.coleman_liau_index(x)), data = fitness_df, showfliers=False, color='#A60628').set(xlabel= 'Label',ylabel='Reading Level', title='Distribution of Tweet Reading Level (Fitness Tweets)')\n",
    "plt.show()"
   ]
  },
  {
   "cell_type": "code",
   "execution_count": 132,
   "metadata": {},
   "outputs": [
    {
     "data": {
      "text/html": [
       "<div>\n",
       "<style scoped>\n",
       "    .dataframe tbody tr th:only-of-type {\n",
       "        vertical-align: middle;\n",
       "    }\n",
       "\n",
       "    .dataframe tbody tr th {\n",
       "        vertical-align: top;\n",
       "    }\n",
       "\n",
       "    .dataframe thead th {\n",
       "        text-align: right;\n",
       "    }\n",
       "</style>\n",
       "<table border=\"1\" class=\"dataframe\">\n",
       "  <thead>\n",
       "    <tr style=\"text-align: right;\">\n",
       "      <th></th>\n",
       "      <th>user_name</th>\n",
       "      <th>user_desc</th>\n",
       "      <th>location</th>\n",
       "      <th>following</th>\n",
       "      <th>followers</th>\n",
       "      <th>totaltweets</th>\n",
       "      <th>user_createdts</th>\n",
       "      <th>tweet_createdts</th>\n",
       "      <th>retweet_count</th>\n",
       "      <th>text</th>\n",
       "      <th>hashtags</th>\n",
       "      <th>num_hashtags</th>\n",
       "      <th>num_search_tags</th>\n",
       "      <th>label</th>\n",
       "      <th>tweet_length</th>\n",
       "      <th>% caps</th>\n",
       "      <th>manycaps</th>\n",
       "      <th>clean_tweet</th>\n",
       "    </tr>\n",
       "  </thead>\n",
       "  <tbody>\n",
       "    <tr>\n",
       "      <th>0</th>\n",
       "      <td>anusualauthor</td>\n",
       "      <td>official tweet of Enigma Anu Aggarwal</td>\n",
       "      <td>Mumbai, India</td>\n",
       "      <td>544</td>\n",
       "      <td>3743</td>\n",
       "      <td>2661</td>\n",
       "      <td>2010-04-30 12:38:54</td>\n",
       "      <td>2020-10-05 15:34:17</td>\n",
       "      <td>0</td>\n",
       "      <td>You get to know your #true #nature in that mom...</td>\n",
       "      <td>{#anuaggarwalfoundation, #mentalhealth, #bloom...</td>\n",
       "      <td>15</td>\n",
       "      <td>1</td>\n",
       "      <td>0</td>\n",
       "      <td>36</td>\n",
       "      <td>2.105263</td>\n",
       "      <td>False</td>\n",
       "      <td>get know #true #nature moment #bloom like flow...</td>\n",
       "    </tr>\n",
       "    <tr>\n",
       "      <th>7</th>\n",
       "      <td>IHealthtou</td>\n",
       "      <td>Welcome to I Health 2 U store!</td>\n",
       "      <td>United States</td>\n",
       "      <td>1</td>\n",
       "      <td>45</td>\n",
       "      <td>3205</td>\n",
       "      <td>2019-12-15 18:16:24</td>\n",
       "      <td>2020-10-05 15:33:33</td>\n",
       "      <td>0</td>\n",
       "      <td>13.58I Health 2 U#inspiration #wellness 310 ml...</td>\n",
       "      <td>{#wellness}</td>\n",
       "      <td>1</td>\n",
       "      <td>1</td>\n",
       "      <td>0</td>\n",
       "      <td>15</td>\n",
       "      <td>11.111111</td>\n",
       "      <td>False</td>\n",
       "      <td>health u#inspiration #wellness ml large rectal...</td>\n",
       "    </tr>\n",
       "  </tbody>\n",
       "</table>\n",
       "</div>"
      ],
      "text/plain": [
       "       user_name                              user_desc       location  \\\n",
       "0  anusualauthor  official tweet of Enigma Anu Aggarwal  Mumbai, India   \n",
       "7     IHealthtou         Welcome to I Health 2 U store!  United States   \n",
       "\n",
       "   following  followers  totaltweets       user_createdts  \\\n",
       "0        544       3743         2661  2010-04-30 12:38:54   \n",
       "7          1         45         3205  2019-12-15 18:16:24   \n",
       "\n",
       "       tweet_createdts  retweet_count  \\\n",
       "0  2020-10-05 15:34:17              0   \n",
       "7  2020-10-05 15:33:33              0   \n",
       "\n",
       "                                                text  \\\n",
       "0  You get to know your #true #nature in that mom...   \n",
       "7  13.58I Health 2 U#inspiration #wellness 310 ml...   \n",
       "\n",
       "                                            hashtags  num_hashtags  \\\n",
       "0  {#anuaggarwalfoundation, #mentalhealth, #bloom...            15   \n",
       "7                                        {#wellness}             1   \n",
       "\n",
       "   num_search_tags  label  tweet_length     % caps  manycaps  \\\n",
       "0                1      0            36   2.105263     False   \n",
       "7                1      0            15  11.111111     False   \n",
       "\n",
       "                                         clean_tweet  \n",
       "0  get know #true #nature moment #bloom like flow...  \n",
       "7  health u#inspiration #wellness ml large rectal...  "
      ]
     },
     "execution_count": 132,
     "metadata": {},
     "output_type": "execute_result"
    }
   ],
   "source": [
    "# import NLP packages\n",
    "import re\n",
    "import nltk\n",
    "from nltk.corpus import stopwords\n",
    "stop_words = set(stopwords.words('english'))\n",
    "\n",
    "# Preprocessed text (without lemmatization) before the findinding the most predictive words\n",
    "def text_preprocessing(text):\n",
    "    text = re.sub(r'http\\S+', '', text)   # removing URL\n",
    "    text = re.sub(r'@(\\w+)','',text, flags = re.MULTILINE) # remove mentions\n",
    "    text = re.sub('[^a-zA-Z#]', ' ', text) # keep only alpha (removing numbers, punctions and special characters)\n",
    "    text = str(text).lower()              # Lowercase all text\n",
    "    text = [w for w in text.split() if w not in stop_words] # Removing Stopwords\n",
    "    text = ' '.join(text)\n",
    "    return text\n",
    "\n",
    "fitness_df[\"clean_tweet\"] = fitness_df['text'].apply(text_preprocessing)\n",
    "fitness_df.head(2)"
   ]
  },
  {
   "cell_type": "code",
   "execution_count": 177,
   "metadata": {},
   "outputs": [],
   "source": [
    "# make a pickled file to store the preprocessed tweets (without lemmatization)\n",
    "pd.to_pickle(fitness_df, 'fitness_preprocessed.pkl')"
   ]
  },
  {
   "cell_type": "code",
   "execution_count": null,
   "metadata": {},
   "outputs": [],
   "source": []
  },
  {
   "cell_type": "code",
   "execution_count": null,
   "metadata": {},
   "outputs": [],
   "source": []
  },
  {
   "cell_type": "markdown",
   "metadata": {},
   "source": [
    "## Travel Tweets"
   ]
  },
  {
   "cell_type": "code",
   "execution_count": 139,
   "metadata": {},
   "outputs": [
    {
     "data": {
      "text/html": [
       "<div>\n",
       "<style scoped>\n",
       "    .dataframe tbody tr th:only-of-type {\n",
       "        vertical-align: middle;\n",
       "    }\n",
       "\n",
       "    .dataframe tbody tr th {\n",
       "        vertical-align: top;\n",
       "    }\n",
       "\n",
       "    .dataframe thead th {\n",
       "        text-align: right;\n",
       "    }\n",
       "</style>\n",
       "<table border=\"1\" class=\"dataframe\">\n",
       "  <thead>\n",
       "    <tr style=\"text-align: right;\">\n",
       "      <th></th>\n",
       "      <th>user_name</th>\n",
       "      <th>user_desc</th>\n",
       "      <th>location</th>\n",
       "      <th>following</th>\n",
       "      <th>followers</th>\n",
       "      <th>totaltweets</th>\n",
       "      <th>user_createdts</th>\n",
       "      <th>tweet_createdts</th>\n",
       "      <th>retweet_count</th>\n",
       "      <th>text</th>\n",
       "    </tr>\n",
       "  </thead>\n",
       "  <tbody>\n",
       "    <tr>\n",
       "      <th>0</th>\n",
       "      <td>kthjkuwu</td>\n",
       "      <td>˗ˏˋ I love you MORE than yesterday and LESS th...</td>\n",
       "      <td>NaN</td>\n",
       "      <td>1160</td>\n",
       "      <td>302</td>\n",
       "      <td>21909</td>\n",
       "      <td>2015-05-23 17:04:00</td>\n",
       "      <td>2020-10-06 15:21:27</td>\n",
       "      <td>9223</td>\n",
       "      <td>RT @RBW_MAMAMOO: [#마마무]\\n\\nMAMAMOO 10th\\nMini ...</td>\n",
       "    </tr>\n",
       "    <tr>\n",
       "      <th>1</th>\n",
       "      <td>nayeon1727228</td>\n",
       "      <td>Twice💖💖</td>\n",
       "      <td>NaN</td>\n",
       "      <td>130</td>\n",
       "      <td>5</td>\n",
       "      <td>1709</td>\n",
       "      <td>2020-06-21 16:28:11</td>\n",
       "      <td>2020-10-06 15:21:27</td>\n",
       "      <td>9223</td>\n",
       "      <td>RT @RBW_MAMAMOO: [#마마무]\\n\\nMAMAMOO 10th\\nMini ...</td>\n",
       "    </tr>\n",
       "    <tr>\n",
       "      <th>2</th>\n",
       "      <td>seoulbyjoon_</td>\n",
       "      <td>𝑺𝒕𝒓𝒆𝒂𝒎 𝑫𝒀𝑵𝒂𝒎𝒊𝑻𝑬💿📼  𝑺𝒕𝒓𝒆𝒂𝒎 𝑾𝒂𝒏𝒏𝒂 𝑩𝒆 𝑴𝒚𝒔𝒆𝒍𝒇 💗💚💙💜...</td>\n",
       "      <td>s/h•15•🇲🇽•CA</td>\n",
       "      <td>474</td>\n",
       "      <td>276</td>\n",
       "      <td>9005</td>\n",
       "      <td>2018-12-04 01:11:37</td>\n",
       "      <td>2020-10-06 15:21:27</td>\n",
       "      <td>9223</td>\n",
       "      <td>RT @RBW_MAMAMOO: [#마마무]\\n\\nMAMAMOO 10th\\nMini ...</td>\n",
       "    </tr>\n",
       "    <tr>\n",
       "      <th>3</th>\n",
       "      <td>wheemoonve</td>\n",
       "      <td>moomoo-tomoon-weve fan account | she/her.</td>\n",
       "      <td>01l | broken eng/ina</td>\n",
       "      <td>477</td>\n",
       "      <td>429</td>\n",
       "      <td>16205</td>\n",
       "      <td>2020-07-31 11:58:21</td>\n",
       "      <td>2020-10-06 15:21:26</td>\n",
       "      <td>0</td>\n",
       "      <td>chop chop mumu time to diligently collect star...</td>\n",
       "    </tr>\n",
       "    <tr>\n",
       "      <th>4</th>\n",
       "      <td>namchildz</td>\n",
       "      <td>⠀ ⠀⠀       𝐃-𝟐⠀‎—⠀𝘁𝗿𝗮𝗰𝗸 𝟯⠀:⠀𝗴𝗼 𝗳𝘂𝗰𝗸 𝘆𝗼𝘂𝗿𝘀𝗲𝗹𝗳  ...</td>\n",
       "      <td>only army</td>\n",
       "      <td>1933</td>\n",
       "      <td>2855</td>\n",
       "      <td>176342</td>\n",
       "      <td>2014-03-07 17:11:01</td>\n",
       "      <td>2020-10-06 15:21:26</td>\n",
       "      <td>9223</td>\n",
       "      <td>RT @RBW_MAMAMOO: [#마마무]\\n\\nMAMAMOO 10th\\nMini ...</td>\n",
       "    </tr>\n",
       "  </tbody>\n",
       "</table>\n",
       "</div>"
      ],
      "text/plain": [
       "       user_name                                          user_desc  \\\n",
       "0       kthjkuwu  ˗ˏˋ I love you MORE than yesterday and LESS th...   \n",
       "1  nayeon1727228                                            Twice💖💖   \n",
       "2   seoulbyjoon_  𝑺𝒕𝒓𝒆𝒂𝒎 𝑫𝒀𝑵𝒂𝒎𝒊𝑻𝑬💿📼  𝑺𝒕𝒓𝒆𝒂𝒎 𝑾𝒂𝒏𝒏𝒂 𝑩𝒆 𝑴𝒚𝒔𝒆𝒍𝒇 💗💚💙💜...   \n",
       "3     wheemoonve          moomoo-tomoon-weve fan account | she/her.   \n",
       "4      namchildz  ⠀ ⠀⠀       𝐃-𝟐⠀‎—⠀𝘁𝗿𝗮𝗰𝗸 𝟯⠀:⠀𝗴𝗼 𝗳𝘂𝗰𝗸 𝘆𝗼𝘂𝗿𝘀𝗲𝗹𝗳  ...   \n",
       "\n",
       "               location  following  followers  totaltweets  \\\n",
       "0                   NaN       1160        302        21909   \n",
       "1                   NaN        130          5         1709   \n",
       "2         s/h•15•🇲🇽•CA         474        276         9005   \n",
       "3  01l | broken eng/ina        477        429        16205   \n",
       "4             only army       1933       2855       176342   \n",
       "\n",
       "        user_createdts      tweet_createdts  retweet_count  \\\n",
       "0  2015-05-23 17:04:00  2020-10-06 15:21:27           9223   \n",
       "1  2020-06-21 16:28:11  2020-10-06 15:21:27           9223   \n",
       "2  2018-12-04 01:11:37  2020-10-06 15:21:27           9223   \n",
       "3  2020-07-31 11:58:21  2020-10-06 15:21:26              0   \n",
       "4  2014-03-07 17:11:01  2020-10-06 15:21:26           9223   \n",
       "\n",
       "                                                text  \n",
       "0  RT @RBW_MAMAMOO: [#마마무]\\n\\nMAMAMOO 10th\\nMini ...  \n",
       "1  RT @RBW_MAMAMOO: [#마마무]\\n\\nMAMAMOO 10th\\nMini ...  \n",
       "2  RT @RBW_MAMAMOO: [#마마무]\\n\\nMAMAMOO 10th\\nMini ...  \n",
       "3  chop chop mumu time to diligently collect star...  \n",
       "4  RT @RBW_MAMAMOO: [#마마무]\\n\\nMAMAMOO 10th\\nMini ...  "
      ]
     },
     "execution_count": 139,
     "metadata": {},
     "output_type": "execute_result"
    }
   ],
   "source": [
    "# Load fitness tweets into a pandas DataFrame\n",
    "travel_df = pd.read_csv('travel_tweets.csv')\n",
    "travel_df.head()"
   ]
  },
  {
   "cell_type": "code",
   "execution_count": 140,
   "metadata": {},
   "outputs": [
    {
     "data": {
      "text/plain": [
       "(95980, 10)"
      ]
     },
     "execution_count": 140,
     "metadata": {},
     "output_type": "execute_result"
    }
   ],
   "source": [
    "# Find out total no of rows and columns\n",
    "travel_df.shape"
   ]
  },
  {
   "cell_type": "code",
   "execution_count": 141,
   "metadata": {},
   "outputs": [
    {
     "name": "stdout",
     "output_type": "stream",
     "text": [
      "<class 'pandas.core.frame.DataFrame'>\n",
      "RangeIndex: 95980 entries, 0 to 95979\n",
      "Data columns (total 10 columns):\n",
      "user_name          95980 non-null object\n",
      "user_desc          86417 non-null object\n",
      "location           64883 non-null object\n",
      "following          95980 non-null int64\n",
      "followers          95980 non-null int64\n",
      "totaltweets        95980 non-null int64\n",
      "user_createdts     95980 non-null object\n",
      "tweet_createdts    95980 non-null object\n",
      "retweet_count      95980 non-null int64\n",
      "text               95980 non-null object\n",
      "dtypes: int64(4), object(6)\n",
      "memory usage: 7.3+ MB\n"
     ]
    }
   ],
   "source": [
    "# Count missing values\n",
    "travel_df.info()"
   ]
  },
  {
   "cell_type": "code",
   "execution_count": 142,
   "metadata": {},
   "outputs": [
    {
     "data": {
      "text/plain": [
       "4182"
      ]
     },
     "execution_count": 142,
     "metadata": {},
     "output_type": "execute_result"
    }
   ],
   "source": [
    "# Check for duplicate tweets \n",
    "duplicate_tweets_travel = travel_df.duplicated(keep='first').sum()\n",
    "duplicate_tweets_travel"
   ]
  },
  {
   "cell_type": "code",
   "execution_count": 143,
   "metadata": {},
   "outputs": [
    {
     "data": {
      "text/plain": [
       "91798"
      ]
     },
     "execution_count": 143,
     "metadata": {},
     "output_type": "execute_result"
    }
   ],
   "source": [
    "# drop duplicates\n",
    "travel_df = travel_df.drop_duplicates()\n",
    "len(travel_df)"
   ]
  },
  {
   "cell_type": "code",
   "execution_count": 144,
   "metadata": {},
   "outputs": [
    {
     "data": {
      "text/plain": [
       "0.6845791847316935"
      ]
     },
     "execution_count": 144,
     "metadata": {},
     "output_type": "execute_result"
    }
   ],
   "source": [
    "# Check for % of retweets\n",
    "travel_df['text'].apply(lambda x: 'RT' in x[:3]).mean()"
   ]
  },
  {
   "cell_type": "code",
   "execution_count": 145,
   "metadata": {},
   "outputs": [
    {
     "data": {
      "text/plain": [
       "28970"
      ]
     },
     "execution_count": 145,
     "metadata": {},
     "output_type": "execute_result"
    }
   ],
   "source": [
    "# Drop the retweets\n",
    "travel_df = travel_df[~travel_df.text.str.startswith('RT')]\n",
    "len(travel_df)"
   ]
  },
  {
   "cell_type": "code",
   "execution_count": 146,
   "metadata": {},
   "outputs": [
    {
     "data": {
      "text/html": [
       "<div>\n",
       "<style scoped>\n",
       "    .dataframe tbody tr th:only-of-type {\n",
       "        vertical-align: middle;\n",
       "    }\n",
       "\n",
       "    .dataframe tbody tr th {\n",
       "        vertical-align: top;\n",
       "    }\n",
       "\n",
       "    .dataframe thead th {\n",
       "        text-align: right;\n",
       "    }\n",
       "</style>\n",
       "<table border=\"1\" class=\"dataframe\">\n",
       "  <thead>\n",
       "    <tr style=\"text-align: right;\">\n",
       "      <th></th>\n",
       "      <th>user_name</th>\n",
       "      <th>user_desc</th>\n",
       "      <th>location</th>\n",
       "      <th>following</th>\n",
       "      <th>followers</th>\n",
       "      <th>totaltweets</th>\n",
       "      <th>user_createdts</th>\n",
       "      <th>tweet_createdts</th>\n",
       "      <th>retweet_count</th>\n",
       "      <th>text</th>\n",
       "      <th>hashtags</th>\n",
       "    </tr>\n",
       "  </thead>\n",
       "  <tbody>\n",
       "    <tr>\n",
       "      <th>3</th>\n",
       "      <td>wheemoonve</td>\n",
       "      <td>moomoo-tomoon-weve fan account | she/her.</td>\n",
       "      <td>01l | broken eng/ina</td>\n",
       "      <td>477</td>\n",
       "      <td>429</td>\n",
       "      <td>16205</td>\n",
       "      <td>2020-07-31 11:58:21</td>\n",
       "      <td>2020-10-06 15:21:26</td>\n",
       "      <td>0</td>\n",
       "      <td>chop chop mumu time to diligently collect star...</td>\n",
       "      <td>{#mamamoo, #mamamooisback, #travel}</td>\n",
       "    </tr>\n",
       "    <tr>\n",
       "      <th>5</th>\n",
       "      <td>ddakwhee</td>\n",
       "      <td>fan account for MAMAMOO~\\nmoo since UOAY era, ...</td>\n",
       "      <td>NaN</td>\n",
       "      <td>154</td>\n",
       "      <td>83</td>\n",
       "      <td>1995</td>\n",
       "      <td>2020-07-17 14:39:30</td>\n",
       "      <td>2020-10-06 15:21:26</td>\n",
       "      <td>0</td>\n",
       "      <td>I THOUGHT MOOS WERE CLOWNING BUT THEORIES WERE...</td>\n",
       "      <td>{#mamamoo, #mamamooiscoming, #travel}</td>\n",
       "    </tr>\n",
       "    <tr>\n",
       "      <th>23</th>\n",
       "      <td>UAEVOICE_Eng</td>\n",
       "      <td>UAE Voice is your gate to the UAE News in part...</td>\n",
       "      <td>UAE</td>\n",
       "      <td>3757</td>\n",
       "      <td>919</td>\n",
       "      <td>3183</td>\n",
       "      <td>2019-12-06 16:24:33</td>\n",
       "      <td>2020-10-06 15:21:20</td>\n",
       "      <td>0</td>\n",
       "      <td>Amending #Travel procedures through the ports ...</td>\n",
       "      <td>{#dubai-, #uae, #travel}</td>\n",
       "    </tr>\n",
       "  </tbody>\n",
       "</table>\n",
       "</div>"
      ],
      "text/plain": [
       "       user_name                                          user_desc  \\\n",
       "3     wheemoonve          moomoo-tomoon-weve fan account | she/her.   \n",
       "5       ddakwhee  fan account for MAMAMOO~\\nmoo since UOAY era, ...   \n",
       "23  UAEVOICE_Eng  UAE Voice is your gate to the UAE News in part...   \n",
       "\n",
       "                location  following  followers  totaltweets  \\\n",
       "3   01l | broken eng/ina        477        429        16205   \n",
       "5                    NaN        154         83         1995   \n",
       "23                  UAE        3757        919         3183   \n",
       "\n",
       "         user_createdts      tweet_createdts  retweet_count  \\\n",
       "3   2020-07-31 11:58:21  2020-10-06 15:21:26              0   \n",
       "5   2020-07-17 14:39:30  2020-10-06 15:21:26              0   \n",
       "23  2019-12-06 16:24:33  2020-10-06 15:21:20              0   \n",
       "\n",
       "                                                 text  \\\n",
       "3   chop chop mumu time to diligently collect star...   \n",
       "5   I THOUGHT MOOS WERE CLOWNING BUT THEORIES WERE...   \n",
       "23  Amending #Travel procedures through the ports ...   \n",
       "\n",
       "                                 hashtags  \n",
       "3     {#mamamoo, #mamamooisback, #travel}  \n",
       "5   {#mamamoo, #mamamooiscoming, #travel}  \n",
       "23               {#dubai-, #uae, #travel}  "
      ]
     },
     "execution_count": 146,
     "metadata": {},
     "output_type": "execute_result"
    }
   ],
   "source": [
    "# defind a function to find all the hashtags in a tweet\n",
    "\n",
    "def hashtag(text):\n",
    "    return (set([str(i.lower()) for i in text.split() if i.startswith(\"#\")]))\n",
    "\n",
    "travel_df['hashtags'] = travel_df['text'].apply(hashtag)\n",
    "travel_df.head(3)"
   ]
  },
  {
   "cell_type": "code",
   "execution_count": 147,
   "metadata": {},
   "outputs": [
    {
     "data": {
      "text/html": [
       "<div>\n",
       "<style scoped>\n",
       "    .dataframe tbody tr th:only-of-type {\n",
       "        vertical-align: middle;\n",
       "    }\n",
       "\n",
       "    .dataframe tbody tr th {\n",
       "        vertical-align: top;\n",
       "    }\n",
       "\n",
       "    .dataframe thead th {\n",
       "        text-align: right;\n",
       "    }\n",
       "</style>\n",
       "<table border=\"1\" class=\"dataframe\">\n",
       "  <thead>\n",
       "    <tr style=\"text-align: right;\">\n",
       "      <th></th>\n",
       "      <th>user_name</th>\n",
       "      <th>user_desc</th>\n",
       "      <th>location</th>\n",
       "      <th>following</th>\n",
       "      <th>followers</th>\n",
       "      <th>totaltweets</th>\n",
       "      <th>user_createdts</th>\n",
       "      <th>tweet_createdts</th>\n",
       "      <th>retweet_count</th>\n",
       "      <th>text</th>\n",
       "      <th>hashtags</th>\n",
       "      <th>num_hashtags</th>\n",
       "    </tr>\n",
       "  </thead>\n",
       "  <tbody>\n",
       "    <tr>\n",
       "      <th>3</th>\n",
       "      <td>wheemoonve</td>\n",
       "      <td>moomoo-tomoon-weve fan account | she/her.</td>\n",
       "      <td>01l | broken eng/ina</td>\n",
       "      <td>477</td>\n",
       "      <td>429</td>\n",
       "      <td>16205</td>\n",
       "      <td>2020-07-31 11:58:21</td>\n",
       "      <td>2020-10-06 15:21:26</td>\n",
       "      <td>0</td>\n",
       "      <td>chop chop mumu time to diligently collect star...</td>\n",
       "      <td>{#mamamoo, #mamamooisback, #travel}</td>\n",
       "      <td>3</td>\n",
       "    </tr>\n",
       "    <tr>\n",
       "      <th>5</th>\n",
       "      <td>ddakwhee</td>\n",
       "      <td>fan account for MAMAMOO~\\nmoo since UOAY era, ...</td>\n",
       "      <td>NaN</td>\n",
       "      <td>154</td>\n",
       "      <td>83</td>\n",
       "      <td>1995</td>\n",
       "      <td>2020-07-17 14:39:30</td>\n",
       "      <td>2020-10-06 15:21:26</td>\n",
       "      <td>0</td>\n",
       "      <td>I THOUGHT MOOS WERE CLOWNING BUT THEORIES WERE...</td>\n",
       "      <td>{#mamamoo, #mamamooiscoming, #travel}</td>\n",
       "      <td>3</td>\n",
       "    </tr>\n",
       "    <tr>\n",
       "      <th>23</th>\n",
       "      <td>UAEVOICE_Eng</td>\n",
       "      <td>UAE Voice is your gate to the UAE News in part...</td>\n",
       "      <td>UAE</td>\n",
       "      <td>3757</td>\n",
       "      <td>919</td>\n",
       "      <td>3183</td>\n",
       "      <td>2019-12-06 16:24:33</td>\n",
       "      <td>2020-10-06 15:21:20</td>\n",
       "      <td>0</td>\n",
       "      <td>Amending #Travel procedures through the ports ...</td>\n",
       "      <td>{#dubai-, #uae, #travel}</td>\n",
       "      <td>3</td>\n",
       "    </tr>\n",
       "  </tbody>\n",
       "</table>\n",
       "</div>"
      ],
      "text/plain": [
       "       user_name                                          user_desc  \\\n",
       "3     wheemoonve          moomoo-tomoon-weve fan account | she/her.   \n",
       "5       ddakwhee  fan account for MAMAMOO~\\nmoo since UOAY era, ...   \n",
       "23  UAEVOICE_Eng  UAE Voice is your gate to the UAE News in part...   \n",
       "\n",
       "                location  following  followers  totaltweets  \\\n",
       "3   01l | broken eng/ina        477        429        16205   \n",
       "5                    NaN        154         83         1995   \n",
       "23                  UAE        3757        919         3183   \n",
       "\n",
       "         user_createdts      tweet_createdts  retweet_count  \\\n",
       "3   2020-07-31 11:58:21  2020-10-06 15:21:26              0   \n",
       "5   2020-07-17 14:39:30  2020-10-06 15:21:26              0   \n",
       "23  2019-12-06 16:24:33  2020-10-06 15:21:20              0   \n",
       "\n",
       "                                                 text  \\\n",
       "3   chop chop mumu time to diligently collect star...   \n",
       "5   I THOUGHT MOOS WERE CLOWNING BUT THEORIES WERE...   \n",
       "23  Amending #Travel procedures through the ports ...   \n",
       "\n",
       "                                 hashtags  num_hashtags  \n",
       "3     {#mamamoo, #mamamooisback, #travel}             3  \n",
       "5   {#mamamoo, #mamamooiscoming, #travel}             3  \n",
       "23               {#dubai-, #uae, #travel}             3  "
      ]
     },
     "execution_count": 147,
     "metadata": {},
     "output_type": "execute_result"
    }
   ],
   "source": [
    "# Count the hashtags per each tweets\n",
    "travel_df['num_hashtags'] = travel_df['hashtags'].apply(len)\n",
    "travel_df.head(3)"
   ]
  },
  {
   "cell_type": "code",
   "execution_count": 148,
   "metadata": {},
   "outputs": [
    {
     "data": {
      "text/html": [
       "<div>\n",
       "<style scoped>\n",
       "    .dataframe tbody tr th:only-of-type {\n",
       "        vertical-align: middle;\n",
       "    }\n",
       "\n",
       "    .dataframe tbody tr th {\n",
       "        vertical-align: top;\n",
       "    }\n",
       "\n",
       "    .dataframe thead th {\n",
       "        text-align: right;\n",
       "    }\n",
       "</style>\n",
       "<table border=\"1\" class=\"dataframe\">\n",
       "  <thead>\n",
       "    <tr style=\"text-align: right;\">\n",
       "      <th></th>\n",
       "      <th>user_name</th>\n",
       "      <th>user_desc</th>\n",
       "      <th>location</th>\n",
       "      <th>following</th>\n",
       "      <th>followers</th>\n",
       "      <th>totaltweets</th>\n",
       "      <th>user_createdts</th>\n",
       "      <th>tweet_createdts</th>\n",
       "      <th>retweet_count</th>\n",
       "      <th>text</th>\n",
       "      <th>hashtags</th>\n",
       "      <th>num_hashtags</th>\n",
       "      <th>num_search_tags</th>\n",
       "    </tr>\n",
       "  </thead>\n",
       "  <tbody>\n",
       "    <tr>\n",
       "      <th>3</th>\n",
       "      <td>wheemoonve</td>\n",
       "      <td>moomoo-tomoon-weve fan account | she/her.</td>\n",
       "      <td>01l | broken eng/ina</td>\n",
       "      <td>477</td>\n",
       "      <td>429</td>\n",
       "      <td>16205</td>\n",
       "      <td>2020-07-31 11:58:21</td>\n",
       "      <td>2020-10-06 15:21:26</td>\n",
       "      <td>0</td>\n",
       "      <td>chop chop mumu time to diligently collect star...</td>\n",
       "      <td>{#mamamoo, #mamamooisback, #travel}</td>\n",
       "      <td>3</td>\n",
       "      <td>1</td>\n",
       "    </tr>\n",
       "    <tr>\n",
       "      <th>5</th>\n",
       "      <td>ddakwhee</td>\n",
       "      <td>fan account for MAMAMOO~\\nmoo since UOAY era, ...</td>\n",
       "      <td>NaN</td>\n",
       "      <td>154</td>\n",
       "      <td>83</td>\n",
       "      <td>1995</td>\n",
       "      <td>2020-07-17 14:39:30</td>\n",
       "      <td>2020-10-06 15:21:26</td>\n",
       "      <td>0</td>\n",
       "      <td>I THOUGHT MOOS WERE CLOWNING BUT THEORIES WERE...</td>\n",
       "      <td>{#mamamoo, #mamamooiscoming, #travel}</td>\n",
       "      <td>3</td>\n",
       "      <td>1</td>\n",
       "    </tr>\n",
       "    <tr>\n",
       "      <th>23</th>\n",
       "      <td>UAEVOICE_Eng</td>\n",
       "      <td>UAE Voice is your gate to the UAE News in part...</td>\n",
       "      <td>UAE</td>\n",
       "      <td>3757</td>\n",
       "      <td>919</td>\n",
       "      <td>3183</td>\n",
       "      <td>2019-12-06 16:24:33</td>\n",
       "      <td>2020-10-06 15:21:20</td>\n",
       "      <td>0</td>\n",
       "      <td>Amending #Travel procedures through the ports ...</td>\n",
       "      <td>{#dubai-, #uae, #travel}</td>\n",
       "      <td>3</td>\n",
       "      <td>1</td>\n",
       "    </tr>\n",
       "    <tr>\n",
       "      <th>49</th>\n",
       "      <td>Inselheld</td>\n",
       "      <td>Jeden Tag 1 Bild von den schönsten Inseln: Amr...</td>\n",
       "      <td>Balearen, Spanien</td>\n",
       "      <td>115</td>\n",
       "      <td>108</td>\n",
       "      <td>625</td>\n",
       "      <td>2016-10-19 14:11:51</td>\n",
       "      <td>2020-10-06 15:21:12</td>\n",
       "      <td>0</td>\n",
       "      <td>#Trekking near #SpiaggiaStrangolato on #LaMadd...</td>\n",
       "      <td>{#travel, #sun, #sardegnagram, #beach, #sardin...</td>\n",
       "      <td>24</td>\n",
       "      <td>1</td>\n",
       "    </tr>\n",
       "    <tr>\n",
       "      <th>75</th>\n",
       "      <td>short_moomoo</td>\n",
       "      <td>ot4 or nothing\\n\\nfan account\\n\\n(she/her)</td>\n",
       "      <td>NaN</td>\n",
       "      <td>222</td>\n",
       "      <td>190</td>\n",
       "      <td>7955</td>\n",
       "      <td>2013-12-07 20:02:20</td>\n",
       "      <td>2020-10-06 15:21:03</td>\n",
       "      <td>0</td>\n",
       "      <td>i was about to go back asleep but then suddenl...</td>\n",
       "      <td>{#mamamoo, #mamamooiscoming, #travel, #마마무}</td>\n",
       "      <td>4</td>\n",
       "      <td>1</td>\n",
       "    </tr>\n",
       "  </tbody>\n",
       "</table>\n",
       "</div>"
      ],
      "text/plain": [
       "       user_name                                          user_desc  \\\n",
       "3     wheemoonve          moomoo-tomoon-weve fan account | she/her.   \n",
       "5       ddakwhee  fan account for MAMAMOO~\\nmoo since UOAY era, ...   \n",
       "23  UAEVOICE_Eng  UAE Voice is your gate to the UAE News in part...   \n",
       "49     Inselheld  Jeden Tag 1 Bild von den schönsten Inseln: Amr...   \n",
       "75  short_moomoo         ot4 or nothing\\n\\nfan account\\n\\n(she/her)   \n",
       "\n",
       "                location  following  followers  totaltweets  \\\n",
       "3   01l | broken eng/ina        477        429        16205   \n",
       "5                    NaN        154         83         1995   \n",
       "23                  UAE        3757        919         3183   \n",
       "49     Balearen, Spanien        115        108          625   \n",
       "75                   NaN        222        190         7955   \n",
       "\n",
       "         user_createdts      tweet_createdts  retweet_count  \\\n",
       "3   2020-07-31 11:58:21  2020-10-06 15:21:26              0   \n",
       "5   2020-07-17 14:39:30  2020-10-06 15:21:26              0   \n",
       "23  2019-12-06 16:24:33  2020-10-06 15:21:20              0   \n",
       "49  2016-10-19 14:11:51  2020-10-06 15:21:12              0   \n",
       "75  2013-12-07 20:02:20  2020-10-06 15:21:03              0   \n",
       "\n",
       "                                                 text  \\\n",
       "3   chop chop mumu time to diligently collect star...   \n",
       "5   I THOUGHT MOOS WERE CLOWNING BUT THEORIES WERE...   \n",
       "23  Amending #Travel procedures through the ports ...   \n",
       "49  #Trekking near #SpiaggiaStrangolato on #LaMadd...   \n",
       "75  i was about to go back asleep but then suddenl...   \n",
       "\n",
       "                                             hashtags  num_hashtags  \\\n",
       "3                 {#mamamoo, #mamamooisback, #travel}             3   \n",
       "5               {#mamamoo, #mamamooiscoming, #travel}             3   \n",
       "23                           {#dubai-, #uae, #travel}             3   \n",
       "49  {#travel, #sun, #sardegnagram, #beach, #sardin...            24   \n",
       "75        {#mamamoo, #mamamooiscoming, #travel, #마마무}             4   \n",
       "\n",
       "    num_search_tags  \n",
       "3                 1  \n",
       "5                 1  \n",
       "23                1  \n",
       "49                1  \n",
       "75                1  "
      ]
     },
     "execution_count": 148,
     "metadata": {},
     "output_type": "execute_result"
    }
   ],
   "source": [
    "# find the number of search hashtags (we used thsese tags to pull the tweet) in a tweet\n",
    "search_tags_travel = ['#travel', '#traveltips', '#trip', '#travelskills', '#travelblog', '#travelling', '#travellingtheworld', '#vacation', '#travelphotography', '#holidays', '#tour', '#traveler', '#travelgram', '#travelbloggers', '#travelblogging', '#tourism', '#budgettravel']\n",
    "\n",
    "def search_hashtags(tags):\n",
    "    t = 0\n",
    "    for i in search_tags_travel:\n",
    "        for j in tags:\n",
    "            if i in j:\n",
    "                t += 1\n",
    "    return t\n",
    "\n",
    "                \n",
    "travel_df['num_search_tags'] = travel_df['hashtags'].apply(search_hashtags)\n",
    "travel_df.head()        "
   ]
  },
  {
   "cell_type": "code",
   "execution_count": 149,
   "metadata": {},
   "outputs": [
    {
     "data": {
      "text/plain": [
       "103"
      ]
     },
     "execution_count": 149,
     "metadata": {},
     "output_type": "execute_result"
    }
   ],
   "source": [
    "# find the the number of tweets with no search hashtags\n",
    "len(travel_df[travel_df.num_search_tags == 0])"
   ]
  },
  {
   "cell_type": "code",
   "execution_count": 150,
   "metadata": {},
   "outputs": [
    {
     "data": {
      "text/plain": [
       "28867"
      ]
     },
     "execution_count": 150,
     "metadata": {},
     "output_type": "execute_result"
    }
   ],
   "source": [
    "# drop the tweets with no search hashtags\n",
    "travel_df = travel_df[travel_df.num_search_tags != 0]\n",
    "len(travel_df)"
   ]
  },
  {
   "cell_type": "code",
   "execution_count": 151,
   "metadata": {},
   "outputs": [
    {
     "data": {
      "text/plain": [
       "23983"
      ]
     },
     "execution_count": 151,
     "metadata": {},
     "output_type": "execute_result"
    }
   ],
   "source": [
    "# Remove tweets between 5000 and 30,000 followers\n",
    "travel_df = travel_df[(travel_df.followers <= 5000) | (travel_df.followers > 30000)]\n",
    "len(travel_df)"
   ]
  },
  {
   "cell_type": "code",
   "execution_count": 152,
   "metadata": {},
   "outputs": [
    {
     "data": {
      "text/html": [
       "<div>\n",
       "<style scoped>\n",
       "    .dataframe tbody tr th:only-of-type {\n",
       "        vertical-align: middle;\n",
       "    }\n",
       "\n",
       "    .dataframe tbody tr th {\n",
       "        vertical-align: top;\n",
       "    }\n",
       "\n",
       "    .dataframe thead th {\n",
       "        text-align: right;\n",
       "    }\n",
       "</style>\n",
       "<table border=\"1\" class=\"dataframe\">\n",
       "  <thead>\n",
       "    <tr style=\"text-align: right;\">\n",
       "      <th></th>\n",
       "      <th>user_name</th>\n",
       "      <th>user_desc</th>\n",
       "      <th>location</th>\n",
       "      <th>following</th>\n",
       "      <th>followers</th>\n",
       "      <th>totaltweets</th>\n",
       "      <th>user_createdts</th>\n",
       "      <th>tweet_createdts</th>\n",
       "      <th>retweet_count</th>\n",
       "      <th>text</th>\n",
       "      <th>hashtags</th>\n",
       "      <th>num_hashtags</th>\n",
       "      <th>num_search_tags</th>\n",
       "      <th>label</th>\n",
       "    </tr>\n",
       "  </thead>\n",
       "  <tbody>\n",
       "    <tr>\n",
       "      <th>3</th>\n",
       "      <td>wheemoonve</td>\n",
       "      <td>moomoo-tomoon-weve fan account | she/her.</td>\n",
       "      <td>01l | broken eng/ina</td>\n",
       "      <td>477</td>\n",
       "      <td>429</td>\n",
       "      <td>16205</td>\n",
       "      <td>2020-07-31 11:58:21</td>\n",
       "      <td>2020-10-06 15:21:26</td>\n",
       "      <td>0</td>\n",
       "      <td>chop chop mumu time to diligently collect star...</td>\n",
       "      <td>{#mamamoo, #mamamooisback, #travel}</td>\n",
       "      <td>3</td>\n",
       "      <td>1</td>\n",
       "      <td>0</td>\n",
       "    </tr>\n",
       "    <tr>\n",
       "      <th>5</th>\n",
       "      <td>ddakwhee</td>\n",
       "      <td>fan account for MAMAMOO~\\nmoo since UOAY era, ...</td>\n",
       "      <td>NaN</td>\n",
       "      <td>154</td>\n",
       "      <td>83</td>\n",
       "      <td>1995</td>\n",
       "      <td>2020-07-17 14:39:30</td>\n",
       "      <td>2020-10-06 15:21:26</td>\n",
       "      <td>0</td>\n",
       "      <td>I THOUGHT MOOS WERE CLOWNING BUT THEORIES WERE...</td>\n",
       "      <td>{#mamamoo, #mamamooiscoming, #travel}</td>\n",
       "      <td>3</td>\n",
       "      <td>1</td>\n",
       "      <td>0</td>\n",
       "    </tr>\n",
       "    <tr>\n",
       "      <th>23</th>\n",
       "      <td>UAEVOICE_Eng</td>\n",
       "      <td>UAE Voice is your gate to the UAE News in part...</td>\n",
       "      <td>UAE</td>\n",
       "      <td>3757</td>\n",
       "      <td>919</td>\n",
       "      <td>3183</td>\n",
       "      <td>2019-12-06 16:24:33</td>\n",
       "      <td>2020-10-06 15:21:20</td>\n",
       "      <td>0</td>\n",
       "      <td>Amending #Travel procedures through the ports ...</td>\n",
       "      <td>{#dubai-, #uae, #travel}</td>\n",
       "      <td>3</td>\n",
       "      <td>1</td>\n",
       "      <td>0</td>\n",
       "    </tr>\n",
       "    <tr>\n",
       "      <th>49</th>\n",
       "      <td>Inselheld</td>\n",
       "      <td>Jeden Tag 1 Bild von den schönsten Inseln: Amr...</td>\n",
       "      <td>Balearen, Spanien</td>\n",
       "      <td>115</td>\n",
       "      <td>108</td>\n",
       "      <td>625</td>\n",
       "      <td>2016-10-19 14:11:51</td>\n",
       "      <td>2020-10-06 15:21:12</td>\n",
       "      <td>0</td>\n",
       "      <td>#Trekking near #SpiaggiaStrangolato on #LaMadd...</td>\n",
       "      <td>{#travel, #sun, #sardegnagram, #beach, #sardin...</td>\n",
       "      <td>24</td>\n",
       "      <td>1</td>\n",
       "      <td>0</td>\n",
       "    </tr>\n",
       "    <tr>\n",
       "      <th>75</th>\n",
       "      <td>short_moomoo</td>\n",
       "      <td>ot4 or nothing\\n\\nfan account\\n\\n(she/her)</td>\n",
       "      <td>NaN</td>\n",
       "      <td>222</td>\n",
       "      <td>190</td>\n",
       "      <td>7955</td>\n",
       "      <td>2013-12-07 20:02:20</td>\n",
       "      <td>2020-10-06 15:21:03</td>\n",
       "      <td>0</td>\n",
       "      <td>i was about to go back asleep but then suddenl...</td>\n",
       "      <td>{#mamamoo, #mamamooiscoming, #travel, #마마무}</td>\n",
       "      <td>4</td>\n",
       "      <td>1</td>\n",
       "      <td>0</td>\n",
       "    </tr>\n",
       "  </tbody>\n",
       "</table>\n",
       "</div>"
      ],
      "text/plain": [
       "       user_name                                          user_desc  \\\n",
       "3     wheemoonve          moomoo-tomoon-weve fan account | she/her.   \n",
       "5       ddakwhee  fan account for MAMAMOO~\\nmoo since UOAY era, ...   \n",
       "23  UAEVOICE_Eng  UAE Voice is your gate to the UAE News in part...   \n",
       "49     Inselheld  Jeden Tag 1 Bild von den schönsten Inseln: Amr...   \n",
       "75  short_moomoo         ot4 or nothing\\n\\nfan account\\n\\n(she/her)   \n",
       "\n",
       "                location  following  followers  totaltweets  \\\n",
       "3   01l | broken eng/ina        477        429        16205   \n",
       "5                    NaN        154         83         1995   \n",
       "23                  UAE        3757        919         3183   \n",
       "49     Balearen, Spanien        115        108          625   \n",
       "75                   NaN        222        190         7955   \n",
       "\n",
       "         user_createdts      tweet_createdts  retweet_count  \\\n",
       "3   2020-07-31 11:58:21  2020-10-06 15:21:26              0   \n",
       "5   2020-07-17 14:39:30  2020-10-06 15:21:26              0   \n",
       "23  2019-12-06 16:24:33  2020-10-06 15:21:20              0   \n",
       "49  2016-10-19 14:11:51  2020-10-06 15:21:12              0   \n",
       "75  2013-12-07 20:02:20  2020-10-06 15:21:03              0   \n",
       "\n",
       "                                                 text  \\\n",
       "3   chop chop mumu time to diligently collect star...   \n",
       "5   I THOUGHT MOOS WERE CLOWNING BUT THEORIES WERE...   \n",
       "23  Amending #Travel procedures through the ports ...   \n",
       "49  #Trekking near #SpiaggiaStrangolato on #LaMadd...   \n",
       "75  i was about to go back asleep but then suddenl...   \n",
       "\n",
       "                                             hashtags  num_hashtags  \\\n",
       "3                 {#mamamoo, #mamamooisback, #travel}             3   \n",
       "5               {#mamamoo, #mamamooiscoming, #travel}             3   \n",
       "23                           {#dubai-, #uae, #travel}             3   \n",
       "49  {#travel, #sun, #sardegnagram, #beach, #sardin...            24   \n",
       "75        {#mamamoo, #mamamooiscoming, #travel, #마마무}             4   \n",
       "\n",
       "    num_search_tags  label  \n",
       "3                 1      0  \n",
       "5                 1      0  \n",
       "23                1      0  \n",
       "49                1      0  \n",
       "75                1      0  "
      ]
     },
     "execution_count": 152,
     "metadata": {},
     "output_type": "execute_result"
    }
   ],
   "source": [
    "# define a function to label the tweets based on the number of followers the user have\n",
    "def label_func(followers):\n",
    "    if followers > 30000:\n",
    "        return 1\n",
    "    else:\n",
    "        return 0\n",
    "\n",
    "travel_df['label'] = travel_df['followers'].apply(label_func)\n",
    "travel_df.head()"
   ]
  },
  {
   "cell_type": "code",
   "execution_count": 154,
   "metadata": {},
   "outputs": [
    {
     "data": {
      "text/plain": [
       "0    21776\n",
       "1     2207\n",
       "Name: label, dtype: int64"
      ]
     },
     "execution_count": 154,
     "metadata": {},
     "output_type": "execute_result"
    }
   ],
   "source": [
    "# counts the number of tweets in each label\n",
    "followers_count_travel = travel_df['label'].value_counts().sort_index()\n",
    "followers_count_travel"
   ]
  },
  {
   "cell_type": "code",
   "execution_count": 155,
   "metadata": {},
   "outputs": [
    {
     "data": {
      "image/png": "[encoded data removed]",
      "text/plain": [
       "<Figure size 576x432 with 1 Axes>"
      ]
     },
     "metadata": {},
     "output_type": "display_data"
    }
   ],
   "source": [
    "# Pie plot to show the percentage of tweets in each label\n",
    "fig, ax = plt.subplots(figsize=(8, 6), subplot_kw=dict(aspect=\"equal\"))\n",
    "plt.pie(followers_count_travel, labels=[0,1],startangle=90, autopct='%.0f%%')\n",
    "\n",
    "ax.legend([\"0: Followers count <= 5000\", \"1: Followers count > 30000\"], loc=\"center left\",bbox_to_anchor=(1, 0, 0.5, 1))\n",
    "\n",
    "ax.set_title(\"Followers Count Travel Tweets\")\n",
    "\n",
    "plt.show()"
   ]
  },
  {
   "cell_type": "markdown",
   "metadata": {},
   "source": [
    "### Distribution of Word Count, % of caps, number of hashtags in different labels (followers count category)\n"
   ]
  },
  {
   "cell_type": "code",
   "execution_count": 156,
   "metadata": {},
   "outputs": [
    {
     "data": {
      "text/html": [
       "<div>\n",
       "<style scoped>\n",
       "    .dataframe tbody tr th:only-of-type {\n",
       "        vertical-align: middle;\n",
       "    }\n",
       "\n",
       "    .dataframe tbody tr th {\n",
       "        vertical-align: top;\n",
       "    }\n",
       "\n",
       "    .dataframe thead th {\n",
       "        text-align: right;\n",
       "    }\n",
       "</style>\n",
       "<table border=\"1\" class=\"dataframe\">\n",
       "  <thead>\n",
       "    <tr style=\"text-align: right;\">\n",
       "      <th></th>\n",
       "      <th>user_name</th>\n",
       "      <th>user_desc</th>\n",
       "      <th>location</th>\n",
       "      <th>following</th>\n",
       "      <th>followers</th>\n",
       "      <th>totaltweets</th>\n",
       "      <th>user_createdts</th>\n",
       "      <th>tweet_createdts</th>\n",
       "      <th>retweet_count</th>\n",
       "      <th>text</th>\n",
       "      <th>hashtags</th>\n",
       "      <th>num_hashtags</th>\n",
       "      <th>num_search_tags</th>\n",
       "      <th>label</th>\n",
       "      <th>tweet_length</th>\n",
       "    </tr>\n",
       "  </thead>\n",
       "  <tbody>\n",
       "    <tr>\n",
       "      <th>3</th>\n",
       "      <td>wheemoonve</td>\n",
       "      <td>moomoo-tomoon-weve fan account | she/her.</td>\n",
       "      <td>01l | broken eng/ina</td>\n",
       "      <td>477</td>\n",
       "      <td>429</td>\n",
       "      <td>16205</td>\n",
       "      <td>2020-07-31 11:58:21</td>\n",
       "      <td>2020-10-06 15:21:26</td>\n",
       "      <td>0</td>\n",
       "      <td>chop chop mumu time to diligently collect star...</td>\n",
       "      <td>{#mamamoo, #mamamooisback, #travel}</td>\n",
       "      <td>3</td>\n",
       "      <td>1</td>\n",
       "      <td>0</td>\n",
       "      <td>29</td>\n",
       "    </tr>\n",
       "    <tr>\n",
       "      <th>5</th>\n",
       "      <td>ddakwhee</td>\n",
       "      <td>fan account for MAMAMOO~\\nmoo since UOAY era, ...</td>\n",
       "      <td>NaN</td>\n",
       "      <td>154</td>\n",
       "      <td>83</td>\n",
       "      <td>1995</td>\n",
       "      <td>2020-07-17 14:39:30</td>\n",
       "      <td>2020-10-06 15:21:26</td>\n",
       "      <td>0</td>\n",
       "      <td>I THOUGHT MOOS WERE CLOWNING BUT THEORIES WERE...</td>\n",
       "      <td>{#mamamoo, #mamamooiscoming, #travel}</td>\n",
       "      <td>3</td>\n",
       "      <td>1</td>\n",
       "      <td>0</td>\n",
       "      <td>15</td>\n",
       "    </tr>\n",
       "  </tbody>\n",
       "</table>\n",
       "</div>"
      ],
      "text/plain": [
       "    user_name                                          user_desc  \\\n",
       "3  wheemoonve          moomoo-tomoon-weve fan account | she/her.   \n",
       "5    ddakwhee  fan account for MAMAMOO~\\nmoo since UOAY era, ...   \n",
       "\n",
       "               location  following  followers  totaltweets  \\\n",
       "3  01l | broken eng/ina        477        429        16205   \n",
       "5                   NaN        154         83         1995   \n",
       "\n",
       "        user_createdts      tweet_createdts  retweet_count  \\\n",
       "3  2020-07-31 11:58:21  2020-10-06 15:21:26              0   \n",
       "5  2020-07-17 14:39:30  2020-10-06 15:21:26              0   \n",
       "\n",
       "                                                text  \\\n",
       "3  chop chop mumu time to diligently collect star...   \n",
       "5  I THOUGHT MOOS WERE CLOWNING BUT THEORIES WERE...   \n",
       "\n",
       "                                hashtags  num_hashtags  num_search_tags  \\\n",
       "3    {#mamamoo, #mamamooisback, #travel}             3                1   \n",
       "5  {#mamamoo, #mamamooiscoming, #travel}             3                1   \n",
       "\n",
       "   label  tweet_length  \n",
       "3      0            29  \n",
       "5      0            15  "
      ]
     },
     "execution_count": 156,
     "metadata": {},
     "output_type": "execute_result"
    }
   ],
   "source": [
    "# Distribution of tweet length in different labels (followers category)\n",
    "\n",
    "travel_df['tweet_length'] = travel_df['text'].apply(lambda x: len(x.split())) # tweet length\n",
    "travel_df.head(2)"
   ]
  },
  {
   "cell_type": "code",
   "execution_count": 157,
   "metadata": {},
   "outputs": [
    {
     "data": {
      "text/plain": [
       "FBMyNEXTCar        847\n",
       "ToiletGuru         307\n",
       "promovisionpv      290\n",
       "CNN_newstrend      202\n",
       "JustinLaurenXO     192\n",
       "bcgoodsintl        159\n",
       "SecretFlying       151\n",
       "chinmoylad         136\n",
       "bmurphypointman    129\n",
       "boracayisland1     117\n",
       "Name: user_name, dtype: int64"
      ]
     },
     "execution_count": 157,
     "metadata": {},
     "output_type": "execute_result"
    }
   ],
   "source": [
    "# user with higest number of tweets on travel\n",
    "user = travel_df['user_name'].value_counts()\n",
    "user.head(10)"
   ]
  },
  {
   "cell_type": "code",
   "execution_count": 199,
   "metadata": {},
   "outputs": [
    {
     "data": {
      "image/png": "[encoded data removed]",
      "text/plain": [
       "<Figure size 720x576 with 1 Axes>"
      ]
     },
     "metadata": {
      "needs_background": "light"
     },
     "output_type": "display_data"
    }
   ],
   "source": [
    "# tweet length distribution at different labels\n",
    "plt.figure(figsize=(10, 8))\n",
    "sns.boxplot(x = 'label', y = 'tweet_length', data = travel_df, showfliers=False,color='green').set(xlabel= 'Label', ylabel='Tweet Length', title='Distribution of Tweet Length (Travel Tweets)')\n",
    "plt.show()"
   ]
  },
  {
   "cell_type": "code",
   "execution_count": 159,
   "metadata": {},
   "outputs": [
    {
     "data": {
      "text/html": [
       "<div>\n",
       "<style scoped>\n",
       "    .dataframe tbody tr th:only-of-type {\n",
       "        vertical-align: middle;\n",
       "    }\n",
       "\n",
       "    .dataframe tbody tr th {\n",
       "        vertical-align: top;\n",
       "    }\n",
       "\n",
       "    .dataframe thead th {\n",
       "        text-align: right;\n",
       "    }\n",
       "</style>\n",
       "<table border=\"1\" class=\"dataframe\">\n",
       "  <thead>\n",
       "    <tr style=\"text-align: right;\">\n",
       "      <th></th>\n",
       "      <th>user_name</th>\n",
       "      <th>user_desc</th>\n",
       "      <th>location</th>\n",
       "      <th>following</th>\n",
       "      <th>followers</th>\n",
       "      <th>totaltweets</th>\n",
       "      <th>user_createdts</th>\n",
       "      <th>tweet_createdts</th>\n",
       "      <th>retweet_count</th>\n",
       "      <th>text</th>\n",
       "      <th>hashtags</th>\n",
       "      <th>num_hashtags</th>\n",
       "      <th>num_search_tags</th>\n",
       "      <th>label</th>\n",
       "      <th>tweet_length</th>\n",
       "      <th>% caps</th>\n",
       "    </tr>\n",
       "  </thead>\n",
       "  <tbody>\n",
       "    <tr>\n",
       "      <th>3</th>\n",
       "      <td>wheemoonve</td>\n",
       "      <td>moomoo-tomoon-weve fan account | she/her.</td>\n",
       "      <td>01l | broken eng/ina</td>\n",
       "      <td>477</td>\n",
       "      <td>429</td>\n",
       "      <td>16205</td>\n",
       "      <td>2020-07-31 11:58:21</td>\n",
       "      <td>2020-10-06 15:21:26</td>\n",
       "      <td>0</td>\n",
       "      <td>chop chop mumu time to diligently collect star...</td>\n",
       "      <td>{#mamamoo, #mamamooisback, #travel}</td>\n",
       "      <td>3</td>\n",
       "      <td>1</td>\n",
       "      <td>0</td>\n",
       "      <td>29</td>\n",
       "      <td>12.500000</td>\n",
       "    </tr>\n",
       "    <tr>\n",
       "      <th>5</th>\n",
       "      <td>ddakwhee</td>\n",
       "      <td>fan account for MAMAMOO~\\nmoo since UOAY era, ...</td>\n",
       "      <td>NaN</td>\n",
       "      <td>154</td>\n",
       "      <td>83</td>\n",
       "      <td>1995</td>\n",
       "      <td>2020-07-17 14:39:30</td>\n",
       "      <td>2020-10-06 15:21:26</td>\n",
       "      <td>0</td>\n",
       "      <td>I THOUGHT MOOS WERE CLOWNING BUT THEORIES WERE...</td>\n",
       "      <td>{#mamamoo, #mamamooiscoming, #travel}</td>\n",
       "      <td>3</td>\n",
       "      <td>1</td>\n",
       "      <td>0</td>\n",
       "      <td>15</td>\n",
       "      <td>63.779528</td>\n",
       "    </tr>\n",
       "  </tbody>\n",
       "</table>\n",
       "</div>"
      ],
      "text/plain": [
       "    user_name                                          user_desc  \\\n",
       "3  wheemoonve          moomoo-tomoon-weve fan account | she/her.   \n",
       "5    ddakwhee  fan account for MAMAMOO~\\nmoo since UOAY era, ...   \n",
       "\n",
       "               location  following  followers  totaltweets  \\\n",
       "3  01l | broken eng/ina        477        429        16205   \n",
       "5                   NaN        154         83         1995   \n",
       "\n",
       "        user_createdts      tweet_createdts  retweet_count  \\\n",
       "3  2020-07-31 11:58:21  2020-10-06 15:21:26              0   \n",
       "5  2020-07-17 14:39:30  2020-10-06 15:21:26              0   \n",
       "\n",
       "                                                text  \\\n",
       "3  chop chop mumu time to diligently collect star...   \n",
       "5  I THOUGHT MOOS WERE CLOWNING BUT THEORIES WERE...   \n",
       "\n",
       "                                hashtags  num_hashtags  num_search_tags  \\\n",
       "3    {#mamamoo, #mamamooisback, #travel}             3                1   \n",
       "5  {#mamamoo, #mamamooiscoming, #travel}             3                1   \n",
       "\n",
       "   label  tweet_length     % caps  \n",
       "3      0            29  12.500000  \n",
       "5      0            15  63.779528  "
      ]
     },
     "execution_count": 159,
     "metadata": {},
     "output_type": "execute_result"
    }
   ],
   "source": [
    "# define a function to get % of caps in a tweet\n",
    "def caps(text):\n",
    "    return np.mean([1 if i.isupper() else 0 for i in text]) * 100\n",
    "\n",
    "travel_df['% caps'] = travel_df['text'].apply(caps)\n",
    "travel_df.head(2)"
   ]
  },
  {
   "cell_type": "code",
   "execution_count": 190,
   "metadata": {},
   "outputs": [
    {
     "data": {
      "image/png": "[encoded data removed]",
      "text/plain": [
       "<Figure size 720x576 with 1 Axes>"
      ]
     },
     "metadata": {
      "needs_background": "light"
     },
     "output_type": "display_data"
    }
   ],
   "source": [
    "# Distribution of % of Caps in different followers count (labels)\n",
    "plt.figure(figsize=(10, 8))\n",
    "sns.boxplot(x = 'label', y = travel_df['% caps'], data = travel_df, showfliers=False, color='green').set(xlabel= 'Label',ylabel='% of Capitals', title='Distribution of % caps (Travel Tweets)')\n",
    "plt.show()"
   ]
  },
  {
   "cell_type": "code",
   "execution_count": 161,
   "metadata": {},
   "outputs": [
    {
     "data": {
      "text/html": [
       "<div>\n",
       "<style scoped>\n",
       "    .dataframe tbody tr th:only-of-type {\n",
       "        vertical-align: middle;\n",
       "    }\n",
       "\n",
       "    .dataframe tbody tr th {\n",
       "        vertical-align: top;\n",
       "    }\n",
       "\n",
       "    .dataframe thead th {\n",
       "        text-align: right;\n",
       "    }\n",
       "</style>\n",
       "<table border=\"1\" class=\"dataframe\">\n",
       "  <thead>\n",
       "    <tr style=\"text-align: right;\">\n",
       "      <th></th>\n",
       "      <th>% caps</th>\n",
       "    </tr>\n",
       "    <tr>\n",
       "      <th>label</th>\n",
       "      <th></th>\n",
       "    </tr>\n",
       "  </thead>\n",
       "  <tbody>\n",
       "    <tr>\n",
       "      <th>0</th>\n",
       "      <td>9.254603</td>\n",
       "    </tr>\n",
       "    <tr>\n",
       "      <th>1</th>\n",
       "      <td>9.539909</td>\n",
       "    </tr>\n",
       "  </tbody>\n",
       "</table>\n",
       "</div>"
      ],
      "text/plain": [
       "         % caps\n",
       "label          \n",
       "0      9.254603\n",
       "1      9.539909"
      ]
     },
     "execution_count": 161,
     "metadata": {},
     "output_type": "execute_result"
    }
   ],
   "source": [
    "travel_df[['label', '% caps']].groupby('label').mean()"
   ]
  },
  {
   "cell_type": "code",
   "execution_count": 198,
   "metadata": {},
   "outputs": [
    {
     "data": {
      "text/plain": [
       "Text(0, 0.5, 'Count')"
      ]
     },
     "execution_count": 198,
     "metadata": {},
     "output_type": "execute_result"
    },
    {
     "data": {
      "image/png": "[encoded data removed]",
      "text/plain": [
       "<Figure size 720x576 with 1 Axes>"
      ]
     },
     "metadata": {
      "needs_background": "light"
     },
     "output_type": "display_data"
    }
   ],
   "source": [
    "# Distribution of % caps\n",
    "plt.figure(figsize=(10,8))\n",
    "\n",
    "travel_df['% caps'].hist(color='green', alpha=0.8)\n",
    "plt.yscale('log', nonposy='clip')\n",
    "plt.title('Travel Tweets')\n",
    "plt.xlabel('% Caps')\n",
    "plt.ylabel('Count')"
   ]
  },
  {
   "cell_type": "code",
   "execution_count": 163,
   "metadata": {},
   "outputs": [
    {
     "data": {
      "text/html": [
       "<div>\n",
       "<style scoped>\n",
       "    .dataframe tbody tr th:only-of-type {\n",
       "        vertical-align: middle;\n",
       "    }\n",
       "\n",
       "    .dataframe tbody tr th {\n",
       "        vertical-align: top;\n",
       "    }\n",
       "\n",
       "    .dataframe thead th {\n",
       "        text-align: right;\n",
       "    }\n",
       "</style>\n",
       "<table border=\"1\" class=\"dataframe\">\n",
       "  <thead>\n",
       "    <tr style=\"text-align: right;\">\n",
       "      <th></th>\n",
       "      <th>user_name</th>\n",
       "      <th>user_desc</th>\n",
       "      <th>location</th>\n",
       "      <th>following</th>\n",
       "      <th>followers</th>\n",
       "      <th>totaltweets</th>\n",
       "      <th>user_createdts</th>\n",
       "      <th>tweet_createdts</th>\n",
       "      <th>retweet_count</th>\n",
       "      <th>text</th>\n",
       "      <th>hashtags</th>\n",
       "      <th>num_hashtags</th>\n",
       "      <th>num_search_tags</th>\n",
       "      <th>label</th>\n",
       "      <th>tweet_length</th>\n",
       "      <th>% caps</th>\n",
       "      <th>manycaps</th>\n",
       "    </tr>\n",
       "  </thead>\n",
       "  <tbody>\n",
       "    <tr>\n",
       "      <th>3</th>\n",
       "      <td>wheemoonve</td>\n",
       "      <td>moomoo-tomoon-weve fan account | she/her.</td>\n",
       "      <td>01l | broken eng/ina</td>\n",
       "      <td>477</td>\n",
       "      <td>429</td>\n",
       "      <td>16205</td>\n",
       "      <td>2020-07-31 11:58:21</td>\n",
       "      <td>2020-10-06 15:21:26</td>\n",
       "      <td>0</td>\n",
       "      <td>chop chop mumu time to diligently collect star...</td>\n",
       "      <td>{#mamamoo, #mamamooisback, #travel}</td>\n",
       "      <td>3</td>\n",
       "      <td>1</td>\n",
       "      <td>0</td>\n",
       "      <td>29</td>\n",
       "      <td>12.500000</td>\n",
       "      <td>False</td>\n",
       "    </tr>\n",
       "    <tr>\n",
       "      <th>5</th>\n",
       "      <td>ddakwhee</td>\n",
       "      <td>fan account for MAMAMOO~\\nmoo since UOAY era, ...</td>\n",
       "      <td>NaN</td>\n",
       "      <td>154</td>\n",
       "      <td>83</td>\n",
       "      <td>1995</td>\n",
       "      <td>2020-07-17 14:39:30</td>\n",
       "      <td>2020-10-06 15:21:26</td>\n",
       "      <td>0</td>\n",
       "      <td>I THOUGHT MOOS WERE CLOWNING BUT THEORIES WERE...</td>\n",
       "      <td>{#mamamoo, #mamamooiscoming, #travel}</td>\n",
       "      <td>3</td>\n",
       "      <td>1</td>\n",
       "      <td>0</td>\n",
       "      <td>15</td>\n",
       "      <td>63.779528</td>\n",
       "      <td>True</td>\n",
       "    </tr>\n",
       "  </tbody>\n",
       "</table>\n",
       "</div>"
      ],
      "text/plain": [
       "    user_name                                          user_desc  \\\n",
       "3  wheemoonve          moomoo-tomoon-weve fan account | she/her.   \n",
       "5    ddakwhee  fan account for MAMAMOO~\\nmoo since UOAY era, ...   \n",
       "\n",
       "               location  following  followers  totaltweets  \\\n",
       "3  01l | broken eng/ina        477        429        16205   \n",
       "5                   NaN        154         83         1995   \n",
       "\n",
       "        user_createdts      tweet_createdts  retweet_count  \\\n",
       "3  2020-07-31 11:58:21  2020-10-06 15:21:26              0   \n",
       "5  2020-07-17 14:39:30  2020-10-06 15:21:26              0   \n",
       "\n",
       "                                                text  \\\n",
       "3  chop chop mumu time to diligently collect star...   \n",
       "5  I THOUGHT MOOS WERE CLOWNING BUT THEORIES WERE...   \n",
       "\n",
       "                                hashtags  num_hashtags  num_search_tags  \\\n",
       "3    {#mamamoo, #mamamooisback, #travel}             3                1   \n",
       "5  {#mamamoo, #mamamooiscoming, #travel}             3                1   \n",
       "\n",
       "   label  tweet_length     % caps  manycaps  \n",
       "3      0            29  12.500000     False  \n",
       "5      0            15  63.779528      True  "
      ]
     },
     "execution_count": 163,
     "metadata": {},
     "output_type": "execute_result"
    }
   ],
   "source": [
    "# Distributions of % caps (> 20%) in different labels\n",
    "\n",
    "travel_df['manycaps'] = travel_df['% caps'].apply(lambda x: x > 20)\n",
    "travel_df.head(2)"
   ]
  },
  {
   "cell_type": "code",
   "execution_count": 165,
   "metadata": {},
   "outputs": [
    {
     "data": {
      "text/html": [
       "<div>\n",
       "<style scoped>\n",
       "    .dataframe tbody tr th:only-of-type {\n",
       "        vertical-align: middle;\n",
       "    }\n",
       "\n",
       "    .dataframe tbody tr th {\n",
       "        vertical-align: top;\n",
       "    }\n",
       "\n",
       "    .dataframe thead th {\n",
       "        text-align: right;\n",
       "    }\n",
       "</style>\n",
       "<table border=\"1\" class=\"dataframe\">\n",
       "  <thead>\n",
       "    <tr style=\"text-align: right;\">\n",
       "      <th></th>\n",
       "      <th>manycaps</th>\n",
       "    </tr>\n",
       "    <tr>\n",
       "      <th>label</th>\n",
       "      <th></th>\n",
       "    </tr>\n",
       "  </thead>\n",
       "  <tbody>\n",
       "    <tr>\n",
       "      <th>0</th>\n",
       "      <td>0.047300</td>\n",
       "    </tr>\n",
       "    <tr>\n",
       "      <th>1</th>\n",
       "      <td>0.008609</td>\n",
       "    </tr>\n",
       "  </tbody>\n",
       "</table>\n",
       "</div>"
      ],
      "text/plain": [
       "       manycaps\n",
       "label          \n",
       "0      0.047300\n",
       "1      0.008609"
      ]
     },
     "execution_count": 165,
     "metadata": {},
     "output_type": "execute_result"
    }
   ],
   "source": [
    "manycaps_travel = travel_df[['label', 'manycaps']].groupby('label').mean()\n",
    "manycaps_travel"
   ]
  },
  {
   "cell_type": "code",
   "execution_count": 195,
   "metadata": {},
   "outputs": [
    {
     "data": {
      "image/png": "[encoded data removed]",
      "text/plain": [
       "<Figure size 720x576 with 1 Axes>"
      ]
     },
     "metadata": {
      "needs_background": "light"
     },
     "output_type": "display_data"
    }
   ],
   "source": [
    "manycaps_travel.plot(kind='bar', color='green',rot = 0, figsize=(10, 8)).set(xlabel='Label', ylabel='% of tweets with >20% Capitals', title='Travel Tweets');"
   ]
  },
  {
   "cell_type": "code",
   "execution_count": 196,
   "metadata": {},
   "outputs": [
    {
     "data": {
      "image/png": "[encoded data removed]",
      "text/plain": [
       "<Figure size 720x576 with 1 Axes>"
      ]
     },
     "metadata": {
      "needs_background": "light"
     },
     "output_type": "display_data"
    }
   ],
   "source": [
    "# Distribution of number of hashtags in different labels\n",
    "plt.figure(figsize=(10, 8))\n",
    "sns.boxplot(x = 'label', y = 'num_hashtags', data = travel_df, showfliers=False, color='green').set(xlabel= 'Label',ylabel='Hashtags Per Tweet', title='Distribution of hashtags per tweet (Travel Tweets)')\n",
    "plt.show()"
   ]
  },
  {
   "cell_type": "code",
   "execution_count": 197,
   "metadata": {},
   "outputs": [
    {
     "data": {
      "image/png": "[encoded data removed]",
      "text/plain": [
       "<Figure size 720x576 with 1 Axes>"
      ]
     },
     "metadata": {
      "needs_background": "light"
     },
     "output_type": "display_data"
    }
   ],
   "source": [
    "# Distribution of reading level in different labels (Automated Readability Index)\n",
    "plt.figure(figsize=(10, 8))\n",
    "sns.boxplot(x = 'label', y = travel_df['text'].apply(lambda x: textstat.automated_readability_index(x)), data = travel_df, showfliers=False, color='green').set(xlabel= 'Label',ylabel='Reading Level', title='Distribution of Tweet Reading Level (Travel Tweets)')\n",
    "plt.show()"
   ]
  },
  {
   "cell_type": "code",
   "execution_count": 200,
   "metadata": {},
   "outputs": [
    {
     "data": {
      "image/png": "[encoded data removed]",
      "text/plain": [
       "<Figure size 720x576 with 1 Axes>"
      ]
     },
     "metadata": {
      "needs_background": "light"
     },
     "output_type": "display_data"
    }
   ],
   "source": [
    "# Distribution of reading level in different labels (Fog Scale)\n",
    "plt.figure(figsize=(10, 8))\n",
    "sns.boxplot(x = 'label', y = travel_df['text'].apply(lambda x: textstat.gunning_fog(x)), data = travel_df, showfliers=False, color='green').set(xlabel= 'Label',ylabel='Reading Level', title='Distribution of Tweet Reading Level (Travel Tweets)')\n",
    "plt.show()"
   ]
  },
  {
   "cell_type": "code",
   "execution_count": 201,
   "metadata": {},
   "outputs": [
    {
     "data": {
      "image/png": "[encoded data removed]",
      "text/plain": [
       "<Figure size 720x576 with 1 Axes>"
      ]
     },
     "metadata": {
      "needs_background": "light"
     },
     "output_type": "display_data"
    }
   ],
   "source": [
    "# Distribution of reading level in different labels (Coleman-Liau Index)\n",
    "plt.figure(figsize=(10, 8))\n",
    "sns.boxplot(x = 'label', y = travel_df['text'].apply(lambda x: textstat.coleman_liau_index(x)), data = travel_df, showfliers=False, color='green').set(xlabel= 'Label',ylabel='Reading Level', title='Distribution of Tweet Reading Level (Travel Tweets)')\n",
    "plt.show()"
   ]
  },
  {
   "cell_type": "code",
   "execution_count": 202,
   "metadata": {},
   "outputs": [
    {
     "data": {
      "image/png": "[encoded data removed]",
      "text/plain": [
       "<Figure size 720x576 with 1 Axes>"
      ]
     },
     "metadata": {
      "needs_background": "light"
     },
     "output_type": "display_data"
    }
   ],
   "source": [
    "# Distribution of reading level in different labels (Linsear Write Formula)\n",
    "plt.figure(figsize=(10, 8))\n",
    "sns.boxplot(x = 'label', y = travel_df['text'].apply(lambda x: textstat.linsear_write_formula(x)), data = travel_df, showfliers=False, color='green').set(xlabel= 'Label',ylabel='Reading Level', title='Distribution of Tweet Reading Level (Travel Tweets)')\n",
    "plt.show()"
   ]
  },
  {
   "cell_type": "markdown",
   "metadata": {},
   "source": [
    "### Tweet Pre-Processing"
   ]
  },
  {
   "cell_type": "code",
   "execution_count": 176,
   "metadata": {},
   "outputs": [
    {
     "data": {
      "text/html": [
       "<div>\n",
       "<style scoped>\n",
       "    .dataframe tbody tr th:only-of-type {\n",
       "        vertical-align: middle;\n",
       "    }\n",
       "\n",
       "    .dataframe tbody tr th {\n",
       "        vertical-align: top;\n",
       "    }\n",
       "\n",
       "    .dataframe thead th {\n",
       "        text-align: right;\n",
       "    }\n",
       "</style>\n",
       "<table border=\"1\" class=\"dataframe\">\n",
       "  <thead>\n",
       "    <tr style=\"text-align: right;\">\n",
       "      <th></th>\n",
       "      <th>user_name</th>\n",
       "      <th>user_desc</th>\n",
       "      <th>location</th>\n",
       "      <th>following</th>\n",
       "      <th>followers</th>\n",
       "      <th>totaltweets</th>\n",
       "      <th>user_createdts</th>\n",
       "      <th>tweet_createdts</th>\n",
       "      <th>retweet_count</th>\n",
       "      <th>text</th>\n",
       "      <th>hashtags</th>\n",
       "      <th>num_hashtags</th>\n",
       "      <th>num_search_tags</th>\n",
       "      <th>label</th>\n",
       "      <th>tweet_length</th>\n",
       "      <th>% caps</th>\n",
       "      <th>manycaps</th>\n",
       "      <th>clean_tweet</th>\n",
       "    </tr>\n",
       "  </thead>\n",
       "  <tbody>\n",
       "    <tr>\n",
       "      <th>3</th>\n",
       "      <td>wheemoonve</td>\n",
       "      <td>moomoo-tomoon-weve fan account | she/her.</td>\n",
       "      <td>01l | broken eng/ina</td>\n",
       "      <td>477</td>\n",
       "      <td>429</td>\n",
       "      <td>16205</td>\n",
       "      <td>2020-07-31 11:58:21</td>\n",
       "      <td>2020-10-06 15:21:26</td>\n",
       "      <td>0</td>\n",
       "      <td>chop chop mumu time to diligently collect star...</td>\n",
       "      <td>{#mamamoo, #mamamooisback, #travel}</td>\n",
       "      <td>3</td>\n",
       "      <td>1</td>\n",
       "      <td>0</td>\n",
       "      <td>29</td>\n",
       "      <td>12.500000</td>\n",
       "      <td>False</td>\n",
       "      <td>chop chop mumu time diligently collect stars h...</td>\n",
       "    </tr>\n",
       "    <tr>\n",
       "      <th>5</th>\n",
       "      <td>ddakwhee</td>\n",
       "      <td>fan account for MAMAMOO~\\nmoo since UOAY era, ...</td>\n",
       "      <td>NaN</td>\n",
       "      <td>154</td>\n",
       "      <td>83</td>\n",
       "      <td>1995</td>\n",
       "      <td>2020-07-17 14:39:30</td>\n",
       "      <td>2020-10-06 15:21:26</td>\n",
       "      <td>0</td>\n",
       "      <td>I THOUGHT MOOS WERE CLOWNING BUT THEORIES WERE...</td>\n",
       "      <td>{#mamamoo, #mamamooiscoming, #travel}</td>\n",
       "      <td>3</td>\n",
       "      <td>1</td>\n",
       "      <td>0</td>\n",
       "      <td>15</td>\n",
       "      <td>63.779528</td>\n",
       "      <td>True</td>\n",
       "      <td>thought moos clowning theories right #travel #...</td>\n",
       "    </tr>\n",
       "  </tbody>\n",
       "</table>\n",
       "</div>"
      ],
      "text/plain": [
       "    user_name                                          user_desc  \\\n",
       "3  wheemoonve          moomoo-tomoon-weve fan account | she/her.   \n",
       "5    ddakwhee  fan account for MAMAMOO~\\nmoo since UOAY era, ...   \n",
       "\n",
       "               location  following  followers  totaltweets  \\\n",
       "3  01l | broken eng/ina        477        429        16205   \n",
       "5                   NaN        154         83         1995   \n",
       "\n",
       "        user_createdts      tweet_createdts  retweet_count  \\\n",
       "3  2020-07-31 11:58:21  2020-10-06 15:21:26              0   \n",
       "5  2020-07-17 14:39:30  2020-10-06 15:21:26              0   \n",
       "\n",
       "                                                text  \\\n",
       "3  chop chop mumu time to diligently collect star...   \n",
       "5  I THOUGHT MOOS WERE CLOWNING BUT THEORIES WERE...   \n",
       "\n",
       "                                hashtags  num_hashtags  num_search_tags  \\\n",
       "3    {#mamamoo, #mamamooisback, #travel}             3                1   \n",
       "5  {#mamamoo, #mamamooiscoming, #travel}             3                1   \n",
       "\n",
       "   label  tweet_length     % caps  manycaps  \\\n",
       "3      0            29  12.500000     False   \n",
       "5      0            15  63.779528      True   \n",
       "\n",
       "                                         clean_tweet  \n",
       "3  chop chop mumu time diligently collect stars h...  \n",
       "5  thought moos clowning theories right #travel #...  "
      ]
     },
     "execution_count": 176,
     "metadata": {},
     "output_type": "execute_result"
    }
   ],
   "source": [
    "# import NLP packages\n",
    "import re\n",
    "import nltk\n",
    "from nltk.corpus import stopwords\n",
    "stop_words = set(stopwords.words('english'))\n",
    "\n",
    "# Preprocessed text (without lemmatization) before the findinding the most predictive words\n",
    "def text_preprocessing(text):\n",
    "    text = re.sub(r'http\\S+', '', text)   # removing URL\n",
    "    text = re.sub(r'@(\\w+)','',text, flags = re.MULTILINE) # remove mentions\n",
    "    text = re.sub('[^a-zA-Z#]', ' ', text) # keep only alpha (removing numbers, punctions and special characters)\n",
    "    text = str(text).lower()              # Lowercase all text\n",
    "    text = [w for w in text.split() if w not in stop_words] # Removing Stopwords\n",
    "    text = ' '.join(text)\n",
    "    return text\n",
    "\n",
    "travel_df[\"clean_tweet\"] = travel_df['text'].apply(text_preprocessing)\n",
    "travel_df.head(2)"
   ]
  },
  {
   "cell_type": "code",
   "execution_count": 178,
   "metadata": {},
   "outputs": [],
   "source": [
    "# make a pickled file to store the preprocessed tweets (without lemmatization)\n",
    "pd.to_pickle(travel_df, 'travel_preprocessed.pkl')"
   ]
  },
  {
   "cell_type": "code",
   "execution_count": null,
   "metadata": {},
   "outputs": [],
   "source": []
  },
  {
   "cell_type": "code",
   "execution_count": null,
   "metadata": {},
   "outputs": [],
   "source": []
  },
  {
   "cell_type": "code",
   "execution_count": null,
   "metadata": {},
   "outputs": [],
   "source": []
  },
  {
   "cell_type": "code",
   "execution_count": null,
   "metadata": {},
   "outputs": [],
   "source": []
  },
  {
   "cell_type": "code",
   "execution_count": null,
   "metadata": {},
   "outputs": [],
   "source": []
  },
  {
   "cell_type": "code",
   "execution_count": null,
   "metadata": {},
   "outputs": [],
   "source": [
    "#Preprocessing\n",
    "\n",
    "# import NLP packages\n",
    "import re\n",
    "import nltk\n",
    "from wordcloud import WordCloud\n",
    "\n",
    "from nltk.tokenize import word_tokenize \n",
    "from nltk.corpus import stopwords\n",
    "from nltk.stem import WordNetLemmatizer\n",
    "\n",
    "# Preprocessing\n",
    "stop_words = set(stopwords.words('english'))\n",
    "lemma = WordNetLemmatizer()\n",
    "\n",
    "def text_preprocessing(text):\n",
    "    text = re.sub(r'http\\S+', '', text)   # removing URL\n",
    "    text = re.sub(r'@(\\w+)','',text, flags = re.MULTILINE) # remove mentions\n",
    "    text = re.sub(r'#(\\w+)','',text, flags = re.MULTILINE) # remove hashtags\n",
    "    text = re.sub('[^a-zA-Z]', ' ', text) # keep only alpha (removing numbers, punctions and special characters)\n",
    "    text = str(text).lower()              # Lowercase all text\n",
    "    text = word_tokenize(text)            # Tokenization\n",
    "    text = [w for w in text if w not in stop_words] # Removing Stopwords\n",
    "    text = [lemma.lemmatize(word=w, pos='v') for w in text] # Lemmatization\n",
    "    text = ' '.join(text)\n",
    "    return text\n",
    "fashion_df['clean_text'] = fashion_df['text'].apply(text_preprocessing) # baby_products preprocessiing\n",
    "fashion_df.head(2)"
   ]
  }
 ],
 "metadata": {
  "kernelspec": {
   "display_name": "Python 3",
   "language": "python",
   "name": "python3"
  },
  "language_info": {
   "codemirror_mode": {
    "name": "ipython",
    "version": 3
   },
   "file_extension": ".py",
   "mimetype": "text/x-python",
   "name": "python",
   "nbconvert_exporter": "python",
   "pygments_lexer": "ipython3",
   "version": "3.7.6"
  }
 },
 "nbformat": 4,
 "nbformat_minor": 4
}
