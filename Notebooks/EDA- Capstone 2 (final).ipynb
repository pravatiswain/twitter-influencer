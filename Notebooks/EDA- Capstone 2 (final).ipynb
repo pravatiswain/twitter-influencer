{
 "cells": [
  {
   "cell_type": "code",
   "execution_count": 2,
   "metadata": {},
   "outputs": [],
   "source": [
    "# impor libraries\n",
    "\n",
    "import pandas as pd\n",
    "import numpy as np\n",
    "\n",
    "import matplotlib.pyplot as plt\n",
    "import seaborn as sns\n",
    "\n",
    "import nltk \n",
    "from nltk.corpus import stopwords\n",
    "from nltk.tokenize import word_tokenize\n",
    "\n",
    "from wordcloud import WordCloud"
   ]
  },
  {
   "cell_type": "code",
   "execution_count": 3,
   "metadata": {},
   "outputs": [
    {
     "data": {
      "text/html": [
       "\n",
       "<style>\n",
       ".output_png {\n",
       "    display: table-cell;\n",
       "    text-align: center;\n",
       "    vertical-align: middle;\n",
       "}\n",
       "</style>\n"
      ],
      "text/plain": [
       "<IPython.core.display.HTML object>"
      ]
     },
     "execution_count": 3,
     "metadata": {},
     "output_type": "execute_result"
    }
   ],
   "source": [
    "# codes to center the images\n",
    "\n",
    "from IPython.core.display import HTML\n",
    "HTML(\"\"\"\n",
    "<style>\n",
    ".output_png {\n",
    "    display: table-cell;\n",
    "    text-align: center;\n",
    "    vertical-align: middle;\n",
    "}\n",
    "</style>\n",
    "\"\"\")"
   ]
  },
  {
   "cell_type": "code",
   "execution_count": 4,
   "metadata": {},
   "outputs": [
    {
     "data": {
      "text/html": [
       "<div>\n",
       "<style scoped>\n",
       "    .dataframe tbody tr th:only-of-type {\n",
       "        vertical-align: middle;\n",
       "    }\n",
       "\n",
       "    .dataframe tbody tr th {\n",
       "        vertical-align: top;\n",
       "    }\n",
       "\n",
       "    .dataframe thead th {\n",
       "        text-align: right;\n",
       "    }\n",
       "</style>\n",
       "<table border=\"1\" class=\"dataframe\">\n",
       "  <thead>\n",
       "    <tr style=\"text-align: right;\">\n",
       "      <th></th>\n",
       "      <th>user_name</th>\n",
       "      <th>user_desc</th>\n",
       "      <th>location</th>\n",
       "      <th>following</th>\n",
       "      <th>followers</th>\n",
       "      <th>totaltweets</th>\n",
       "      <th>user_createdts</th>\n",
       "      <th>tweet_createdts</th>\n",
       "      <th>retweet_count</th>\n",
       "      <th>text</th>\n",
       "    </tr>\n",
       "  </thead>\n",
       "  <tbody>\n",
       "    <tr>\n",
       "      <th>0</th>\n",
       "      <td>Michelleferg79</td>\n",
       "      <td>NaN</td>\n",
       "      <td>NaN</td>\n",
       "      <td>4981</td>\n",
       "      <td>669</td>\n",
       "      <td>98487</td>\n",
       "      <td>2013-10-25 18:38:52</td>\n",
       "      <td>2020-10-04 17:40:05</td>\n",
       "      <td>174</td>\n",
       "      <td>RT @AnythingGoesL: #Win the 3-Step Anthology f...</td>\n",
       "    </tr>\n",
       "    <tr>\n",
       "      <th>1</th>\n",
       "      <td>GillybeansH</td>\n",
       "      <td>NaN</td>\n",
       "      <td>England</td>\n",
       "      <td>4637</td>\n",
       "      <td>238</td>\n",
       "      <td>15409</td>\n",
       "      <td>2009-05-10 13:18:12</td>\n",
       "      <td>2020-10-04 17:40:05</td>\n",
       "      <td>476</td>\n",
       "      <td>RT @So_Lippy: Enter our #October #Competition ...</td>\n",
       "    </tr>\n",
       "    <tr>\n",
       "      <th>2</th>\n",
       "      <td>luccaromeo</td>\n",
       "      <td>Everything has beauty, but not everyone sees i...</td>\n",
       "      <td>Los Angeles, CA</td>\n",
       "      <td>275</td>\n",
       "      <td>179</td>\n",
       "      <td>21939</td>\n",
       "      <td>2015-09-08 17:43:34</td>\n",
       "      <td>2020-10-04 17:40:03</td>\n",
       "      <td>0</td>\n",
       "      <td>Visage de Layla also offers waxing treatment h...</td>\n",
       "    </tr>\n",
       "    <tr>\n",
       "      <th>3</th>\n",
       "      <td>FashListings</td>\n",
       "      <td>Sell fashion? List your business for FREE in o...</td>\n",
       "      <td>Northampton, UK</td>\n",
       "      <td>30747</td>\n",
       "      <td>35104</td>\n",
       "      <td>224859</td>\n",
       "      <td>2014-12-27 15:53:24</td>\n",
       "      <td>2020-10-04 17:40:03</td>\n",
       "      <td>0</td>\n",
       "      <td>Sell #fashion? Submit your website to our #dir...</td>\n",
       "    </tr>\n",
       "    <tr>\n",
       "      <th>4</th>\n",
       "      <td>_Fanii10</td>\n",
       "      <td>NaN</td>\n",
       "      <td>NaN</td>\n",
       "      <td>25</td>\n",
       "      <td>36</td>\n",
       "      <td>32</td>\n",
       "      <td>2015-06-21 21:26:09</td>\n",
       "      <td>2020-10-04 17:39:57</td>\n",
       "      <td>1</td>\n",
       "      <td>RT @theregoesjared: Candy Battle 🍬🍭🍫\\nStarburs...</td>\n",
       "    </tr>\n",
       "  </tbody>\n",
       "</table>\n",
       "</div>"
      ],
      "text/plain": [
       "        user_name                                          user_desc  \\\n",
       "0  Michelleferg79                                                NaN   \n",
       "1     GillybeansH                                                NaN   \n",
       "2      luccaromeo  Everything has beauty, but not everyone sees i...   \n",
       "3    FashListings  Sell fashion? List your business for FREE in o...   \n",
       "4        _Fanii10                                                NaN   \n",
       "\n",
       "          location  following  followers  totaltweets       user_createdts  \\\n",
       "0              NaN       4981        669        98487  2013-10-25 18:38:52   \n",
       "1          England       4637        238        15409  2009-05-10 13:18:12   \n",
       "2  Los Angeles, CA        275        179        21939  2015-09-08 17:43:34   \n",
       "3  Northampton, UK      30747      35104       224859  2014-12-27 15:53:24   \n",
       "4              NaN         25         36           32  2015-06-21 21:26:09   \n",
       "\n",
       "       tweet_createdts  retweet_count  \\\n",
       "0  2020-10-04 17:40:05            174   \n",
       "1  2020-10-04 17:40:05            476   \n",
       "2  2020-10-04 17:40:03              0   \n",
       "3  2020-10-04 17:40:03              0   \n",
       "4  2020-10-04 17:39:57              1   \n",
       "\n",
       "                                                text  \n",
       "0  RT @AnythingGoesL: #Win the 3-Step Anthology f...  \n",
       "1  RT @So_Lippy: Enter our #October #Competition ...  \n",
       "2  Visage de Layla also offers waxing treatment h...  \n",
       "3  Sell #fashion? Submit your website to our #dir...  \n",
       "4  RT @theregoesjared: Candy Battle 🍬🍭🍫\\nStarburs...  "
      ]
     },
     "execution_count": 4,
     "metadata": {},
     "output_type": "execute_result"
    }
   ],
   "source": [
    "# Load data into a pandas DataFrame\n",
    "fashion_df = pd.read_csv('fashion_tweets_allf.csv')\n",
    "fashion_df.head()"
   ]
  },
  {
   "cell_type": "code",
   "execution_count": 5,
   "metadata": {},
   "outputs": [
    {
     "data": {
      "text/plain": [
       "(130000, 10)"
      ]
     },
     "execution_count": 5,
     "metadata": {},
     "output_type": "execute_result"
    }
   ],
   "source": [
    "# Find out total no of rows and columns\n",
    "fashion_df.shape"
   ]
  },
  {
   "cell_type": "code",
   "execution_count": 6,
   "metadata": {},
   "outputs": [
    {
     "name": "stdout",
     "output_type": "stream",
     "text": [
      "<class 'pandas.core.frame.DataFrame'>\n",
      "RangeIndex: 130000 entries, 0 to 129999\n",
      "Data columns (total 10 columns):\n",
      "user_name          130000 non-null object\n",
      "user_desc          112866 non-null object\n",
      "location           86636 non-null object\n",
      "following          130000 non-null int64\n",
      "followers          130000 non-null int64\n",
      "totaltweets        130000 non-null int64\n",
      "user_createdts     130000 non-null object\n",
      "tweet_createdts    130000 non-null object\n",
      "retweet_count      130000 non-null int64\n",
      "text               130000 non-null object\n",
      "dtypes: int64(4), object(6)\n",
      "memory usage: 9.9+ MB\n"
     ]
    }
   ],
   "source": [
    "# Count missing values\n",
    "fashion_df.info()"
   ]
  },
  {
   "cell_type": "code",
   "execution_count": 7,
   "metadata": {},
   "outputs": [
    {
     "data": {
      "text/plain": [
       "6596"
      ]
     },
     "execution_count": 7,
     "metadata": {},
     "output_type": "execute_result"
    }
   ],
   "source": [
    "# Check for duplicate tweets \n",
    "\n",
    "duplicate_tweets_fashion = fashion_df.duplicated(keep='first').sum()\n",
    "duplicate_tweets_fashion"
   ]
  },
  {
   "cell_type": "code",
   "execution_count": 8,
   "metadata": {},
   "outputs": [
    {
     "data": {
      "text/plain": [
       "123404"
      ]
     },
     "execution_count": 8,
     "metadata": {},
     "output_type": "execute_result"
    }
   ],
   "source": [
    "# drop duplicates\n",
    "fashion_df = fashion_df.drop_duplicates()\n",
    "len(fashion_df)"
   ]
  },
  {
   "cell_type": "code",
   "execution_count": 9,
   "metadata": {},
   "outputs": [
    {
     "data": {
      "text/plain": [
       "0.4175796570613594"
      ]
     },
     "execution_count": 9,
     "metadata": {},
     "output_type": "execute_result"
    }
   ],
   "source": [
    "# Check for % of retweets\n",
    "fashion_df['text'].apply(lambda x: 'RT' in x[:3]).mean()"
   ]
  },
  {
   "cell_type": "code",
   "execution_count": 10,
   "metadata": {},
   "outputs": [
    {
     "data": {
      "text/plain": [
       "71882"
      ]
     },
     "execution_count": 10,
     "metadata": {},
     "output_type": "execute_result"
    }
   ],
   "source": [
    "# Drop the retweets\n",
    "fashion_df = fashion_df[~fashion_df.text.str.startswith('RT')]\n",
    "len(fashion_df)"
   ]
  },
  {
   "cell_type": "code",
   "execution_count": 11,
   "metadata": {},
   "outputs": [
    {
     "data": {
      "text/html": [
       "<div>\n",
       "<style scoped>\n",
       "    .dataframe tbody tr th:only-of-type {\n",
       "        vertical-align: middle;\n",
       "    }\n",
       "\n",
       "    .dataframe tbody tr th {\n",
       "        vertical-align: top;\n",
       "    }\n",
       "\n",
       "    .dataframe thead th {\n",
       "        text-align: right;\n",
       "    }\n",
       "</style>\n",
       "<table border=\"1\" class=\"dataframe\">\n",
       "  <thead>\n",
       "    <tr style=\"text-align: right;\">\n",
       "      <th></th>\n",
       "      <th>user_name</th>\n",
       "      <th>user_desc</th>\n",
       "      <th>location</th>\n",
       "      <th>following</th>\n",
       "      <th>followers</th>\n",
       "      <th>totaltweets</th>\n",
       "      <th>user_createdts</th>\n",
       "      <th>tweet_createdts</th>\n",
       "      <th>retweet_count</th>\n",
       "      <th>text</th>\n",
       "    </tr>\n",
       "  </thead>\n",
       "  <tbody>\n",
       "    <tr>\n",
       "      <th>2</th>\n",
       "      <td>luccaromeo</td>\n",
       "      <td>Everything has beauty, but not everyone sees i...</td>\n",
       "      <td>Los Angeles, CA</td>\n",
       "      <td>275</td>\n",
       "      <td>179</td>\n",
       "      <td>21939</td>\n",
       "      <td>2015-09-08 17:43:34</td>\n",
       "      <td>2020-10-04 17:40:03</td>\n",
       "      <td>0</td>\n",
       "      <td>Visage de Layla also offers waxing treatment h...</td>\n",
       "    </tr>\n",
       "    <tr>\n",
       "      <th>3</th>\n",
       "      <td>FashListings</td>\n",
       "      <td>Sell fashion? List your business for FREE in o...</td>\n",
       "      <td>Northampton, UK</td>\n",
       "      <td>30747</td>\n",
       "      <td>35104</td>\n",
       "      <td>224859</td>\n",
       "      <td>2014-12-27 15:53:24</td>\n",
       "      <td>2020-10-04 17:40:03</td>\n",
       "      <td>0</td>\n",
       "      <td>Sell #fashion? Submit your website to our #dir...</td>\n",
       "    </tr>\n",
       "    <tr>\n",
       "      <th>7</th>\n",
       "      <td>dukebarrett</td>\n",
       "      <td>Baltimore based photographer. Ready to make yo...</td>\n",
       "      <td>Parkville, MD</td>\n",
       "      <td>136</td>\n",
       "      <td>257</td>\n",
       "      <td>8859</td>\n",
       "      <td>2009-07-14 03:15:32</td>\n",
       "      <td>2020-10-04 17:39:36</td>\n",
       "      <td>0</td>\n",
       "      <td>#model #fashion #texture #baltimorephotographe...</td>\n",
       "    </tr>\n",
       "    <tr>\n",
       "      <th>9</th>\n",
       "      <td>Panty_Buns</td>\n",
       "      <td>Love to male-model/review full brief panties+f...</td>\n",
       "      <td>Long Island, NY</td>\n",
       "      <td>1295</td>\n",
       "      <td>1276</td>\n",
       "      <td>63481</td>\n",
       "      <td>2011-09-09 01:22:26</td>\n",
       "      <td>2020-10-04 17:39:32</td>\n",
       "      <td>0</td>\n",
       "      <td>'Fall 2020 Fashion Trend' - #Fbloggers 5 #OOTD...</td>\n",
       "    </tr>\n",
       "    <tr>\n",
       "      <th>11</th>\n",
       "      <td>MartaFerrazAtom</td>\n",
       "      <td>Futurist Scientist, Polymath\\nAugmented Humans...</td>\n",
       "      <td>Netherlands</td>\n",
       "      <td>483</td>\n",
       "      <td>37</td>\n",
       "      <td>11</td>\n",
       "      <td>2010-03-30 20:21:44</td>\n",
       "      <td>2020-10-04 17:39:29</td>\n",
       "      <td>0</td>\n",
       "      <td>Design for the Future When the Future Is Bleak...</td>\n",
       "    </tr>\n",
       "  </tbody>\n",
       "</table>\n",
       "</div>"
      ],
      "text/plain": [
       "          user_name                                          user_desc  \\\n",
       "2        luccaromeo  Everything has beauty, but not everyone sees i...   \n",
       "3      FashListings  Sell fashion? List your business for FREE in o...   \n",
       "7       dukebarrett  Baltimore based photographer. Ready to make yo...   \n",
       "9        Panty_Buns  Love to male-model/review full brief panties+f...   \n",
       "11  MartaFerrazAtom  Futurist Scientist, Polymath\\nAugmented Humans...   \n",
       "\n",
       "           location  following  followers  totaltweets       user_createdts  \\\n",
       "2   Los Angeles, CA        275        179        21939  2015-09-08 17:43:34   \n",
       "3   Northampton, UK      30747      35104       224859  2014-12-27 15:53:24   \n",
       "7     Parkville, MD        136        257         8859  2009-07-14 03:15:32   \n",
       "9   Long Island, NY       1295       1276        63481  2011-09-09 01:22:26   \n",
       "11     Netherlands         483         37           11  2010-03-30 20:21:44   \n",
       "\n",
       "        tweet_createdts  retweet_count  \\\n",
       "2   2020-10-04 17:40:03              0   \n",
       "3   2020-10-04 17:40:03              0   \n",
       "7   2020-10-04 17:39:36              0   \n",
       "9   2020-10-04 17:39:32              0   \n",
       "11  2020-10-04 17:39:29              0   \n",
       "\n",
       "                                                 text  \n",
       "2   Visage de Layla also offers waxing treatment h...  \n",
       "3   Sell #fashion? Submit your website to our #dir...  \n",
       "7   #model #fashion #texture #baltimorephotographe...  \n",
       "9   'Fall 2020 Fashion Trend' - #Fbloggers 5 #OOTD...  \n",
       "11  Design for the Future When the Future Is Bleak...  "
      ]
     },
     "execution_count": 11,
     "metadata": {},
     "output_type": "execute_result"
    }
   ],
   "source": [
    "fashion_df.head(5)"
   ]
  },
  {
   "cell_type": "code",
   "execution_count": 12,
   "metadata": {
    "scrolled": true
   },
   "outputs": [
    {
     "data": {
      "text/html": [
       "<div>\n",
       "<style scoped>\n",
       "    .dataframe tbody tr th:only-of-type {\n",
       "        vertical-align: middle;\n",
       "    }\n",
       "\n",
       "    .dataframe tbody tr th {\n",
       "        vertical-align: top;\n",
       "    }\n",
       "\n",
       "    .dataframe thead th {\n",
       "        text-align: right;\n",
       "    }\n",
       "</style>\n",
       "<table border=\"1\" class=\"dataframe\">\n",
       "  <thead>\n",
       "    <tr style=\"text-align: right;\">\n",
       "      <th></th>\n",
       "      <th>user_name</th>\n",
       "      <th>user_desc</th>\n",
       "      <th>location</th>\n",
       "      <th>following</th>\n",
       "      <th>followers</th>\n",
       "      <th>totaltweets</th>\n",
       "      <th>user_createdts</th>\n",
       "      <th>tweet_createdts</th>\n",
       "      <th>retweet_count</th>\n",
       "      <th>text</th>\n",
       "      <th>hashtags</th>\n",
       "    </tr>\n",
       "  </thead>\n",
       "  <tbody>\n",
       "    <tr>\n",
       "      <th>2</th>\n",
       "      <td>luccaromeo</td>\n",
       "      <td>Everything has beauty, but not everyone sees i...</td>\n",
       "      <td>Los Angeles, CA</td>\n",
       "      <td>275</td>\n",
       "      <td>179</td>\n",
       "      <td>21939</td>\n",
       "      <td>2015-09-08 17:43:34</td>\n",
       "      <td>2020-10-04 17:40:03</td>\n",
       "      <td>0</td>\n",
       "      <td>Visage de Layla also offers waxing treatment h...</td>\n",
       "      <td>{#beauty}</td>\n",
       "    </tr>\n",
       "    <tr>\n",
       "      <th>3</th>\n",
       "      <td>FashListings</td>\n",
       "      <td>Sell fashion? List your business for FREE in o...</td>\n",
       "      <td>Northampton, UK</td>\n",
       "      <td>30747</td>\n",
       "      <td>35104</td>\n",
       "      <td>224859</td>\n",
       "      <td>2014-12-27 15:53:24</td>\n",
       "      <td>2020-10-04 17:40:03</td>\n",
       "      <td>0</td>\n",
       "      <td>Sell #fashion? Submit your website to our #dir...</td>\n",
       "      <td>{#seo, #directory, #fnzb, #fashion?, #bizitalk}</td>\n",
       "    </tr>\n",
       "    <tr>\n",
       "      <th>7</th>\n",
       "      <td>dukebarrett</td>\n",
       "      <td>Baltimore based photographer. Ready to make yo...</td>\n",
       "      <td>Parkville, MD</td>\n",
       "      <td>136</td>\n",
       "      <td>257</td>\n",
       "      <td>8859</td>\n",
       "      <td>2009-07-14 03:15:32</td>\n",
       "      <td>2020-10-04 17:39:36</td>\n",
       "      <td>0</td>\n",
       "      <td>#model #fashion #texture #baltimorephotographe...</td>\n",
       "      <td>{#newmodel, #flannel, #maryland, #newcommer, #...</td>\n",
       "    </tr>\n",
       "  </tbody>\n",
       "</table>\n",
       "</div>"
      ],
      "text/plain": [
       "      user_name                                          user_desc  \\\n",
       "2    luccaromeo  Everything has beauty, but not everyone sees i...   \n",
       "3  FashListings  Sell fashion? List your business for FREE in o...   \n",
       "7   dukebarrett  Baltimore based photographer. Ready to make yo...   \n",
       "\n",
       "          location  following  followers  totaltweets       user_createdts  \\\n",
       "2  Los Angeles, CA        275        179        21939  2015-09-08 17:43:34   \n",
       "3  Northampton, UK      30747      35104       224859  2014-12-27 15:53:24   \n",
       "7    Parkville, MD        136        257         8859  2009-07-14 03:15:32   \n",
       "\n",
       "       tweet_createdts  retweet_count  \\\n",
       "2  2020-10-04 17:40:03              0   \n",
       "3  2020-10-04 17:40:03              0   \n",
       "7  2020-10-04 17:39:36              0   \n",
       "\n",
       "                                                text  \\\n",
       "2  Visage de Layla also offers waxing treatment h...   \n",
       "3  Sell #fashion? Submit your website to our #dir...   \n",
       "7  #model #fashion #texture #baltimorephotographe...   \n",
       "\n",
       "                                            hashtags  \n",
       "2                                          {#beauty}  \n",
       "3    {#seo, #directory, #fnzb, #fashion?, #bizitalk}  \n",
       "7  {#newmodel, #flannel, #maryland, #newcommer, #...  "
      ]
     },
     "execution_count": 12,
     "metadata": {},
     "output_type": "execute_result"
    }
   ],
   "source": [
    "# defind a function to find all the hashtags in a tweet\n",
    "\n",
    "def hashtag(text):\n",
    "    return (set([str(i.lower()) for i in text.split() if i.startswith(\"#\")]))\n",
    "\n",
    "fashion_df['hashtags'] = fashion_df['text'].apply(hashtag)\n",
    "fashion_df.head(3)"
   ]
  },
  {
   "cell_type": "code",
   "execution_count": 13,
   "metadata": {},
   "outputs": [
    {
     "data": {
      "text/html": [
       "<div>\n",
       "<style scoped>\n",
       "    .dataframe tbody tr th:only-of-type {\n",
       "        vertical-align: middle;\n",
       "    }\n",
       "\n",
       "    .dataframe tbody tr th {\n",
       "        vertical-align: top;\n",
       "    }\n",
       "\n",
       "    .dataframe thead th {\n",
       "        text-align: right;\n",
       "    }\n",
       "</style>\n",
       "<table border=\"1\" class=\"dataframe\">\n",
       "  <thead>\n",
       "    <tr style=\"text-align: right;\">\n",
       "      <th></th>\n",
       "      <th>user_name</th>\n",
       "      <th>user_desc</th>\n",
       "      <th>location</th>\n",
       "      <th>following</th>\n",
       "      <th>followers</th>\n",
       "      <th>totaltweets</th>\n",
       "      <th>user_createdts</th>\n",
       "      <th>tweet_createdts</th>\n",
       "      <th>retweet_count</th>\n",
       "      <th>text</th>\n",
       "      <th>hashtags</th>\n",
       "      <th>num_hashtags</th>\n",
       "    </tr>\n",
       "  </thead>\n",
       "  <tbody>\n",
       "    <tr>\n",
       "      <th>2</th>\n",
       "      <td>luccaromeo</td>\n",
       "      <td>Everything has beauty, but not everyone sees i...</td>\n",
       "      <td>Los Angeles, CA</td>\n",
       "      <td>275</td>\n",
       "      <td>179</td>\n",
       "      <td>21939</td>\n",
       "      <td>2015-09-08 17:43:34</td>\n",
       "      <td>2020-10-04 17:40:03</td>\n",
       "      <td>0</td>\n",
       "      <td>Visage de Layla also offers waxing treatment h...</td>\n",
       "      <td>{#beauty}</td>\n",
       "      <td>1</td>\n",
       "    </tr>\n",
       "    <tr>\n",
       "      <th>3</th>\n",
       "      <td>FashListings</td>\n",
       "      <td>Sell fashion? List your business for FREE in o...</td>\n",
       "      <td>Northampton, UK</td>\n",
       "      <td>30747</td>\n",
       "      <td>35104</td>\n",
       "      <td>224859</td>\n",
       "      <td>2014-12-27 15:53:24</td>\n",
       "      <td>2020-10-04 17:40:03</td>\n",
       "      <td>0</td>\n",
       "      <td>Sell #fashion? Submit your website to our #dir...</td>\n",
       "      <td>{#seo, #directory, #fnzb, #fashion?, #bizitalk}</td>\n",
       "      <td>5</td>\n",
       "    </tr>\n",
       "    <tr>\n",
       "      <th>7</th>\n",
       "      <td>dukebarrett</td>\n",
       "      <td>Baltimore based photographer. Ready to make yo...</td>\n",
       "      <td>Parkville, MD</td>\n",
       "      <td>136</td>\n",
       "      <td>257</td>\n",
       "      <td>8859</td>\n",
       "      <td>2009-07-14 03:15:32</td>\n",
       "      <td>2020-10-04 17:39:36</td>\n",
       "      <td>0</td>\n",
       "      <td>#model #fashion #texture #baltimorephotographe...</td>\n",
       "      <td>{#newmodel, #flannel, #maryland, #newcommer, #...</td>\n",
       "      <td>15</td>\n",
       "    </tr>\n",
       "  </tbody>\n",
       "</table>\n",
       "</div>"
      ],
      "text/plain": [
       "      user_name                                          user_desc  \\\n",
       "2    luccaromeo  Everything has beauty, but not everyone sees i...   \n",
       "3  FashListings  Sell fashion? List your business for FREE in o...   \n",
       "7   dukebarrett  Baltimore based photographer. Ready to make yo...   \n",
       "\n",
       "          location  following  followers  totaltweets       user_createdts  \\\n",
       "2  Los Angeles, CA        275        179        21939  2015-09-08 17:43:34   \n",
       "3  Northampton, UK      30747      35104       224859  2014-12-27 15:53:24   \n",
       "7    Parkville, MD        136        257         8859  2009-07-14 03:15:32   \n",
       "\n",
       "       tweet_createdts  retweet_count  \\\n",
       "2  2020-10-04 17:40:03              0   \n",
       "3  2020-10-04 17:40:03              0   \n",
       "7  2020-10-04 17:39:36              0   \n",
       "\n",
       "                                                text  \\\n",
       "2  Visage de Layla also offers waxing treatment h...   \n",
       "3  Sell #fashion? Submit your website to our #dir...   \n",
       "7  #model #fashion #texture #baltimorephotographe...   \n",
       "\n",
       "                                            hashtags  num_hashtags  \n",
       "2                                          {#beauty}             1  \n",
       "3    {#seo, #directory, #fnzb, #fashion?, #bizitalk}             5  \n",
       "7  {#newmodel, #flannel, #maryland, #newcommer, #...            15  "
      ]
     },
     "execution_count": 13,
     "metadata": {},
     "output_type": "execute_result"
    }
   ],
   "source": [
    "# Count the hashtags per each tweets\n",
    "fashion_df['num_hashtags'] = fashion_df['hashtags'].apply(len)\n",
    "fashion_df.head(3)"
   ]
  },
  {
   "cell_type": "code",
   "execution_count": 14,
   "metadata": {},
   "outputs": [
    {
     "data": {
      "text/html": [
       "<div>\n",
       "<style scoped>\n",
       "    .dataframe tbody tr th:only-of-type {\n",
       "        vertical-align: middle;\n",
       "    }\n",
       "\n",
       "    .dataframe tbody tr th {\n",
       "        vertical-align: top;\n",
       "    }\n",
       "\n",
       "    .dataframe thead th {\n",
       "        text-align: right;\n",
       "    }\n",
       "</style>\n",
       "<table border=\"1\" class=\"dataframe\">\n",
       "  <thead>\n",
       "    <tr style=\"text-align: right;\">\n",
       "      <th></th>\n",
       "      <th>user_name</th>\n",
       "      <th>user_desc</th>\n",
       "      <th>location</th>\n",
       "      <th>following</th>\n",
       "      <th>followers</th>\n",
       "      <th>totaltweets</th>\n",
       "      <th>user_createdts</th>\n",
       "      <th>tweet_createdts</th>\n",
       "      <th>retweet_count</th>\n",
       "      <th>text</th>\n",
       "      <th>hashtags</th>\n",
       "      <th>num_hashtags</th>\n",
       "      <th>num_search_tags</th>\n",
       "    </tr>\n",
       "  </thead>\n",
       "  <tbody>\n",
       "    <tr>\n",
       "      <th>2</th>\n",
       "      <td>luccaromeo</td>\n",
       "      <td>Everything has beauty, but not everyone sees i...</td>\n",
       "      <td>Los Angeles, CA</td>\n",
       "      <td>275</td>\n",
       "      <td>179</td>\n",
       "      <td>21939</td>\n",
       "      <td>2015-09-08 17:43:34</td>\n",
       "      <td>2020-10-04 17:40:03</td>\n",
       "      <td>0</td>\n",
       "      <td>Visage de Layla also offers waxing treatment h...</td>\n",
       "      <td>{#beauty}</td>\n",
       "      <td>1</td>\n",
       "      <td>1</td>\n",
       "    </tr>\n",
       "    <tr>\n",
       "      <th>3</th>\n",
       "      <td>FashListings</td>\n",
       "      <td>Sell fashion? List your business for FREE in o...</td>\n",
       "      <td>Northampton, UK</td>\n",
       "      <td>30747</td>\n",
       "      <td>35104</td>\n",
       "      <td>224859</td>\n",
       "      <td>2014-12-27 15:53:24</td>\n",
       "      <td>2020-10-04 17:40:03</td>\n",
       "      <td>0</td>\n",
       "      <td>Sell #fashion? Submit your website to our #dir...</td>\n",
       "      <td>{#seo, #directory, #fnzb, #fashion?, #bizitalk}</td>\n",
       "      <td>5</td>\n",
       "      <td>1</td>\n",
       "    </tr>\n",
       "    <tr>\n",
       "      <th>7</th>\n",
       "      <td>dukebarrett</td>\n",
       "      <td>Baltimore based photographer. Ready to make yo...</td>\n",
       "      <td>Parkville, MD</td>\n",
       "      <td>136</td>\n",
       "      <td>257</td>\n",
       "      <td>8859</td>\n",
       "      <td>2009-07-14 03:15:32</td>\n",
       "      <td>2020-10-04 17:39:36</td>\n",
       "      <td>0</td>\n",
       "      <td>#model #fashion #texture #baltimorephotographe...</td>\n",
       "      <td>{#newmodel, #flannel, #maryland, #newcommer, #...</td>\n",
       "      <td>15</td>\n",
       "      <td>3</td>\n",
       "    </tr>\n",
       "    <tr>\n",
       "      <th>9</th>\n",
       "      <td>Panty_Buns</td>\n",
       "      <td>Love to male-model/review full brief panties+f...</td>\n",
       "      <td>Long Island, NY</td>\n",
       "      <td>1295</td>\n",
       "      <td>1276</td>\n",
       "      <td>63481</td>\n",
       "      <td>2011-09-09 01:22:26</td>\n",
       "      <td>2020-10-04 17:39:32</td>\n",
       "      <td>0</td>\n",
       "      <td>'Fall 2020 Fashion Trend' - #Fbloggers 5 #OOTD...</td>\n",
       "      <td>{#lookbook, #fbloggers, #ootd, #fashion, #outf...</td>\n",
       "      <td>6</td>\n",
       "      <td>2</td>\n",
       "    </tr>\n",
       "    <tr>\n",
       "      <th>11</th>\n",
       "      <td>MartaFerrazAtom</td>\n",
       "      <td>Futurist Scientist, Polymath\\nAugmented Humans...</td>\n",
       "      <td>Netherlands</td>\n",
       "      <td>483</td>\n",
       "      <td>37</td>\n",
       "      <td>11</td>\n",
       "      <td>2010-03-30 20:21:44</td>\n",
       "      <td>2020-10-04 17:39:29</td>\n",
       "      <td>0</td>\n",
       "      <td>Design for the Future When the Future Is Bleak...</td>\n",
       "      <td>{#environment, #fiction, #design}</td>\n",
       "      <td>3</td>\n",
       "      <td>1</td>\n",
       "    </tr>\n",
       "  </tbody>\n",
       "</table>\n",
       "</div>"
      ],
      "text/plain": [
       "          user_name                                          user_desc  \\\n",
       "2        luccaromeo  Everything has beauty, but not everyone sees i...   \n",
       "3      FashListings  Sell fashion? List your business for FREE in o...   \n",
       "7       dukebarrett  Baltimore based photographer. Ready to make yo...   \n",
       "9        Panty_Buns  Love to male-model/review full brief panties+f...   \n",
       "11  MartaFerrazAtom  Futurist Scientist, Polymath\\nAugmented Humans...   \n",
       "\n",
       "           location  following  followers  totaltweets       user_createdts  \\\n",
       "2   Los Angeles, CA        275        179        21939  2015-09-08 17:43:34   \n",
       "3   Northampton, UK      30747      35104       224859  2014-12-27 15:53:24   \n",
       "7     Parkville, MD        136        257         8859  2009-07-14 03:15:32   \n",
       "9   Long Island, NY       1295       1276        63481  2011-09-09 01:22:26   \n",
       "11     Netherlands         483         37           11  2010-03-30 20:21:44   \n",
       "\n",
       "        tweet_createdts  retweet_count  \\\n",
       "2   2020-10-04 17:40:03              0   \n",
       "3   2020-10-04 17:40:03              0   \n",
       "7   2020-10-04 17:39:36              0   \n",
       "9   2020-10-04 17:39:32              0   \n",
       "11  2020-10-04 17:39:29              0   \n",
       "\n",
       "                                                 text  \\\n",
       "2   Visage de Layla also offers waxing treatment h...   \n",
       "3   Sell #fashion? Submit your website to our #dir...   \n",
       "7   #model #fashion #texture #baltimorephotographe...   \n",
       "9   'Fall 2020 Fashion Trend' - #Fbloggers 5 #OOTD...   \n",
       "11  Design for the Future When the Future Is Bleak...   \n",
       "\n",
       "                                             hashtags  num_hashtags  \\\n",
       "2                                           {#beauty}             1   \n",
       "3     {#seo, #directory, #fnzb, #fashion?, #bizitalk}             5   \n",
       "7   {#newmodel, #flannel, #maryland, #newcommer, #...            15   \n",
       "9   {#lookbook, #fbloggers, #ootd, #fashion, #outf...             6   \n",
       "11                  {#environment, #fiction, #design}             3   \n",
       "\n",
       "    num_search_tags  \n",
       "2                 1  \n",
       "3                 1  \n",
       "7                 3  \n",
       "9                 2  \n",
       "11                1  "
      ]
     },
     "execution_count": 14,
     "metadata": {},
     "output_type": "execute_result"
    }
   ],
   "source": [
    "# find the number of search hashtags (we used thsese tags to pull the tweet) in a tweet\n",
    "search_tags = ['#fashion', '#style',  '#design',  '#beauty',  '#fashiontrends',  '#fashionblogger', '#fashionstyle',  '#fashionweek',  '#fashionstylist',  '#fashionmodel' , '#fasionista' , '#model',  '#fashionlover',  '#womenfashion', '#menfashion']\n",
    "\n",
    "def search_hashtags(tags):\n",
    "    t = 0\n",
    "    for i in search_tags:\n",
    "        for j in tags:\n",
    "            if i in j:\n",
    "                t += 1\n",
    "    return t\n",
    "\n",
    "                \n",
    "fashion_df['num_search_tags'] = fashion_df['hashtags'].apply(search_hashtags)\n",
    "fashion_df.head()            "
   ]
  },
  {
   "cell_type": "code",
   "execution_count": 15,
   "metadata": {},
   "outputs": [
    {
     "data": {
      "text/plain": [
       "105"
      ]
     },
     "execution_count": 15,
     "metadata": {},
     "output_type": "execute_result"
    }
   ],
   "source": [
    "# find the the number of tweets with no search hashtags\n",
    "len(fashion_df[fashion_df.num_search_tags == 0])"
   ]
  },
  {
   "cell_type": "code",
   "execution_count": 16,
   "metadata": {},
   "outputs": [
    {
     "data": {
      "text/plain": [
       "71777"
      ]
     },
     "execution_count": 16,
     "metadata": {},
     "output_type": "execute_result"
    }
   ],
   "source": [
    "# drop the tweets with no search hashtags\n",
    "\n",
    "fashion_df = fashion_df[fashion_df.num_search_tags != 0]\n",
    "len(fashion_df)\n"
   ]
  },
  {
   "cell_type": "code",
   "execution_count": 17,
   "metadata": {},
   "outputs": [
    {
     "data": {
      "text/plain": [
       "66445"
      ]
     },
     "execution_count": 17,
     "metadata": {},
     "output_type": "execute_result"
    }
   ],
   "source": [
    "# Remove tweets between 5000 and 30,000 followers\n",
    "fashion_df = fashion_df[(fashion_df.followers <= 5000) | (fashion_df.followers > 30000)]\n",
    "len(fashion_df)"
   ]
  },
  {
   "cell_type": "code",
   "execution_count": 18,
   "metadata": {},
   "outputs": [
    {
     "data": {
      "text/html": [
       "<div>\n",
       "<style scoped>\n",
       "    .dataframe tbody tr th:only-of-type {\n",
       "        vertical-align: middle;\n",
       "    }\n",
       "\n",
       "    .dataframe tbody tr th {\n",
       "        vertical-align: top;\n",
       "    }\n",
       "\n",
       "    .dataframe thead th {\n",
       "        text-align: right;\n",
       "    }\n",
       "</style>\n",
       "<table border=\"1\" class=\"dataframe\">\n",
       "  <thead>\n",
       "    <tr style=\"text-align: right;\">\n",
       "      <th></th>\n",
       "      <th>user_name</th>\n",
       "      <th>user_desc</th>\n",
       "      <th>location</th>\n",
       "      <th>following</th>\n",
       "      <th>followers</th>\n",
       "      <th>totaltweets</th>\n",
       "      <th>user_createdts</th>\n",
       "      <th>tweet_createdts</th>\n",
       "      <th>retweet_count</th>\n",
       "      <th>text</th>\n",
       "      <th>hashtags</th>\n",
       "      <th>num_hashtags</th>\n",
       "      <th>num_search_tags</th>\n",
       "      <th>label</th>\n",
       "    </tr>\n",
       "  </thead>\n",
       "  <tbody>\n",
       "    <tr>\n",
       "      <th>2</th>\n",
       "      <td>luccaromeo</td>\n",
       "      <td>Everything has beauty, but not everyone sees i...</td>\n",
       "      <td>Los Angeles, CA</td>\n",
       "      <td>275</td>\n",
       "      <td>179</td>\n",
       "      <td>21939</td>\n",
       "      <td>2015-09-08 17:43:34</td>\n",
       "      <td>2020-10-04 17:40:03</td>\n",
       "      <td>0</td>\n",
       "      <td>Visage de Layla also offers waxing treatment h...</td>\n",
       "      <td>{#beauty}</td>\n",
       "      <td>1</td>\n",
       "      <td>1</td>\n",
       "      <td>0</td>\n",
       "    </tr>\n",
       "    <tr>\n",
       "      <th>3</th>\n",
       "      <td>FashListings</td>\n",
       "      <td>Sell fashion? List your business for FREE in o...</td>\n",
       "      <td>Northampton, UK</td>\n",
       "      <td>30747</td>\n",
       "      <td>35104</td>\n",
       "      <td>224859</td>\n",
       "      <td>2014-12-27 15:53:24</td>\n",
       "      <td>2020-10-04 17:40:03</td>\n",
       "      <td>0</td>\n",
       "      <td>Sell #fashion? Submit your website to our #dir...</td>\n",
       "      <td>{#seo, #directory, #fnzb, #fashion?, #bizitalk}</td>\n",
       "      <td>5</td>\n",
       "      <td>1</td>\n",
       "      <td>1</td>\n",
       "    </tr>\n",
       "    <tr>\n",
       "      <th>7</th>\n",
       "      <td>dukebarrett</td>\n",
       "      <td>Baltimore based photographer. Ready to make yo...</td>\n",
       "      <td>Parkville, MD</td>\n",
       "      <td>136</td>\n",
       "      <td>257</td>\n",
       "      <td>8859</td>\n",
       "      <td>2009-07-14 03:15:32</td>\n",
       "      <td>2020-10-04 17:39:36</td>\n",
       "      <td>0</td>\n",
       "      <td>#model #fashion #texture #baltimorephotographe...</td>\n",
       "      <td>{#newmodel, #flannel, #maryland, #newcommer, #...</td>\n",
       "      <td>15</td>\n",
       "      <td>3</td>\n",
       "      <td>0</td>\n",
       "    </tr>\n",
       "    <tr>\n",
       "      <th>9</th>\n",
       "      <td>Panty_Buns</td>\n",
       "      <td>Love to male-model/review full brief panties+f...</td>\n",
       "      <td>Long Island, NY</td>\n",
       "      <td>1295</td>\n",
       "      <td>1276</td>\n",
       "      <td>63481</td>\n",
       "      <td>2011-09-09 01:22:26</td>\n",
       "      <td>2020-10-04 17:39:32</td>\n",
       "      <td>0</td>\n",
       "      <td>'Fall 2020 Fashion Trend' - #Fbloggers 5 #OOTD...</td>\n",
       "      <td>{#lookbook, #fbloggers, #ootd, #fashion, #outf...</td>\n",
       "      <td>6</td>\n",
       "      <td>2</td>\n",
       "      <td>0</td>\n",
       "    </tr>\n",
       "    <tr>\n",
       "      <th>11</th>\n",
       "      <td>MartaFerrazAtom</td>\n",
       "      <td>Futurist Scientist, Polymath\\nAugmented Humans...</td>\n",
       "      <td>Netherlands</td>\n",
       "      <td>483</td>\n",
       "      <td>37</td>\n",
       "      <td>11</td>\n",
       "      <td>2010-03-30 20:21:44</td>\n",
       "      <td>2020-10-04 17:39:29</td>\n",
       "      <td>0</td>\n",
       "      <td>Design for the Future When the Future Is Bleak...</td>\n",
       "      <td>{#environment, #fiction, #design}</td>\n",
       "      <td>3</td>\n",
       "      <td>1</td>\n",
       "      <td>0</td>\n",
       "    </tr>\n",
       "  </tbody>\n",
       "</table>\n",
       "</div>"
      ],
      "text/plain": [
       "          user_name                                          user_desc  \\\n",
       "2        luccaromeo  Everything has beauty, but not everyone sees i...   \n",
       "3      FashListings  Sell fashion? List your business for FREE in o...   \n",
       "7       dukebarrett  Baltimore based photographer. Ready to make yo...   \n",
       "9        Panty_Buns  Love to male-model/review full brief panties+f...   \n",
       "11  MartaFerrazAtom  Futurist Scientist, Polymath\\nAugmented Humans...   \n",
       "\n",
       "           location  following  followers  totaltweets       user_createdts  \\\n",
       "2   Los Angeles, CA        275        179        21939  2015-09-08 17:43:34   \n",
       "3   Northampton, UK      30747      35104       224859  2014-12-27 15:53:24   \n",
       "7     Parkville, MD        136        257         8859  2009-07-14 03:15:32   \n",
       "9   Long Island, NY       1295       1276        63481  2011-09-09 01:22:26   \n",
       "11     Netherlands         483         37           11  2010-03-30 20:21:44   \n",
       "\n",
       "        tweet_createdts  retweet_count  \\\n",
       "2   2020-10-04 17:40:03              0   \n",
       "3   2020-10-04 17:40:03              0   \n",
       "7   2020-10-04 17:39:36              0   \n",
       "9   2020-10-04 17:39:32              0   \n",
       "11  2020-10-04 17:39:29              0   \n",
       "\n",
       "                                                 text  \\\n",
       "2   Visage de Layla also offers waxing treatment h...   \n",
       "3   Sell #fashion? Submit your website to our #dir...   \n",
       "7   #model #fashion #texture #baltimorephotographe...   \n",
       "9   'Fall 2020 Fashion Trend' - #Fbloggers 5 #OOTD...   \n",
       "11  Design for the Future When the Future Is Bleak...   \n",
       "\n",
       "                                             hashtags  num_hashtags  \\\n",
       "2                                           {#beauty}             1   \n",
       "3     {#seo, #directory, #fnzb, #fashion?, #bizitalk}             5   \n",
       "7   {#newmodel, #flannel, #maryland, #newcommer, #...            15   \n",
       "9   {#lookbook, #fbloggers, #ootd, #fashion, #outf...             6   \n",
       "11                  {#environment, #fiction, #design}             3   \n",
       "\n",
       "    num_search_tags  label  \n",
       "2                 1      0  \n",
       "3                 1      1  \n",
       "7                 3      0  \n",
       "9                 2      0  \n",
       "11                1      0  "
      ]
     },
     "execution_count": 18,
     "metadata": {},
     "output_type": "execute_result"
    }
   ],
   "source": [
    "def label_func(followers):\n",
    "    if followers > 30000:\n",
    "        return 1\n",
    "    else:\n",
    "        return 0\n",
    "fashion_df['label'] = fashion_df['followers'].apply(label_func)\n",
    "fashion_df.head()"
   ]
  },
  {
   "cell_type": "code",
   "execution_count": 19,
   "metadata": {},
   "outputs": [
    {
     "data": {
      "text/plain": [
       "0    65192\n",
       "1     1253\n",
       "Name: label, dtype: int64"
      ]
     },
     "execution_count": 19,
     "metadata": {},
     "output_type": "execute_result"
    }
   ],
   "source": [
    "followers_count = fashion_df['label'].value_counts().sort_index()\n",
    "followers_count"
   ]
  },
  {
   "cell_type": "code",
   "execution_count": 20,
   "metadata": {},
   "outputs": [
    {
     "data": {
      "image/png": "[encoded data removed]",
      "text/plain": [
       "<Figure size 576x432 with 1 Axes>"
      ]
     },
     "metadata": {},
     "output_type": "display_data"
    }
   ],
   "source": [
    "fig, ax = plt.subplots(figsize=(8, 6), subplot_kw=dict(aspect=\"equal\"))\n",
    "plt.pie(followers_count, labels=[0,1],startangle=90, autopct='%.0f%%')\n",
    "\n",
    "ax.legend([\"0: Followers count < 30,000\", \"1: Followers count > 30,000\"], loc=\"center left\",bbox_to_anchor=(1, 0, 0.5, 1))\n",
    "\n",
    "ax.set_title(\"Followers count\", fontsize=20)\n",
    "\n",
    "plt.show()"
   ]
  },
  {
   "cell_type": "markdown",
   "metadata": {},
   "source": [
    "### Distribution of Word Count, % of caps, number of hashtags in different labels (followers count category)"
   ]
  },
  {
   "cell_type": "code",
   "execution_count": 21,
   "metadata": {},
   "outputs": [
    {
     "data": {
      "text/html": [
       "<div>\n",
       "<style scoped>\n",
       "    .dataframe tbody tr th:only-of-type {\n",
       "        vertical-align: middle;\n",
       "    }\n",
       "\n",
       "    .dataframe tbody tr th {\n",
       "        vertical-align: top;\n",
       "    }\n",
       "\n",
       "    .dataframe thead th {\n",
       "        text-align: right;\n",
       "    }\n",
       "</style>\n",
       "<table border=\"1\" class=\"dataframe\">\n",
       "  <thead>\n",
       "    <tr style=\"text-align: right;\">\n",
       "      <th></th>\n",
       "      <th>user_name</th>\n",
       "      <th>user_desc</th>\n",
       "      <th>location</th>\n",
       "      <th>following</th>\n",
       "      <th>followers</th>\n",
       "      <th>totaltweets</th>\n",
       "      <th>user_createdts</th>\n",
       "      <th>tweet_createdts</th>\n",
       "      <th>retweet_count</th>\n",
       "      <th>text</th>\n",
       "      <th>hashtags</th>\n",
       "      <th>num_hashtags</th>\n",
       "      <th>num_search_tags</th>\n",
       "      <th>label</th>\n",
       "      <th>tweet_length</th>\n",
       "    </tr>\n",
       "  </thead>\n",
       "  <tbody>\n",
       "    <tr>\n",
       "      <th>2</th>\n",
       "      <td>luccaromeo</td>\n",
       "      <td>Everything has beauty, but not everyone sees i...</td>\n",
       "      <td>Los Angeles, CA</td>\n",
       "      <td>275</td>\n",
       "      <td>179</td>\n",
       "      <td>21939</td>\n",
       "      <td>2015-09-08 17:43:34</td>\n",
       "      <td>2020-10-04 17:40:03</td>\n",
       "      <td>0</td>\n",
       "      <td>Visage de Layla also offers waxing treatment h...</td>\n",
       "      <td>{#beauty}</td>\n",
       "      <td>1</td>\n",
       "      <td>1</td>\n",
       "      <td>0</td>\n",
       "      <td>9</td>\n",
       "    </tr>\n",
       "    <tr>\n",
       "      <th>3</th>\n",
       "      <td>FashListings</td>\n",
       "      <td>Sell fashion? List your business for FREE in o...</td>\n",
       "      <td>Northampton, UK</td>\n",
       "      <td>30747</td>\n",
       "      <td>35104</td>\n",
       "      <td>224859</td>\n",
       "      <td>2014-12-27 15:53:24</td>\n",
       "      <td>2020-10-04 17:40:03</td>\n",
       "      <td>0</td>\n",
       "      <td>Sell #fashion? Submit your website to our #dir...</td>\n",
       "      <td>{#seo, #directory, #fnzb, #fashion?, #bizitalk}</td>\n",
       "      <td>5</td>\n",
       "      <td>1</td>\n",
       "      <td>1</td>\n",
       "      <td>13</td>\n",
       "    </tr>\n",
       "  </tbody>\n",
       "</table>\n",
       "</div>"
      ],
      "text/plain": [
       "      user_name                                          user_desc  \\\n",
       "2    luccaromeo  Everything has beauty, but not everyone sees i...   \n",
       "3  FashListings  Sell fashion? List your business for FREE in o...   \n",
       "\n",
       "          location  following  followers  totaltweets       user_createdts  \\\n",
       "2  Los Angeles, CA        275        179        21939  2015-09-08 17:43:34   \n",
       "3  Northampton, UK      30747      35104       224859  2014-12-27 15:53:24   \n",
       "\n",
       "       tweet_createdts  retweet_count  \\\n",
       "2  2020-10-04 17:40:03              0   \n",
       "3  2020-10-04 17:40:03              0   \n",
       "\n",
       "                                                text  \\\n",
       "2  Visage de Layla also offers waxing treatment h...   \n",
       "3  Sell #fashion? Submit your website to our #dir...   \n",
       "\n",
       "                                          hashtags  num_hashtags  \\\n",
       "2                                        {#beauty}             1   \n",
       "3  {#seo, #directory, #fnzb, #fashion?, #bizitalk}             5   \n",
       "\n",
       "   num_search_tags  label  tweet_length  \n",
       "2                1      0             9  \n",
       "3                1      1            13  "
      ]
     },
     "execution_count": 21,
     "metadata": {},
     "output_type": "execute_result"
    }
   ],
   "source": [
    "# Distribution of tweet length in different labels (followers category)\n",
    "\n",
    "fashion_df['tweet_length'] = fashion_df['text'].apply(lambda x: len(x.split())) # tweet length\n",
    "fashion_df.head(2)"
   ]
  },
  {
   "cell_type": "code",
   "execution_count": 22,
   "metadata": {},
   "outputs": [
    {
     "data": {
      "text/plain": [
       "Kada_soulayman     328\n",
       "FitCasuallyMODA    259\n",
       "DLentilse          240\n",
       "FitCasuallySKIN    221\n",
       "PrettyGemsLoved    157\n",
       "insoc_on_ebay      136\n",
       "HannahB74560504    127\n",
       "GraphicsTania      117\n",
       "AusFashionEx       114\n",
       "SkincareNetAu      108\n",
       "Name: user_name, dtype: int64"
      ]
     },
     "execution_count": 22,
     "metadata": {},
     "output_type": "execute_result"
    }
   ],
   "source": [
    "# user with higest number of tweets on fashion\n",
    "user = fashion_df['user_name'].value_counts()\n",
    "user.head(10)"
   ]
  },
  {
   "cell_type": "code",
   "execution_count": 23,
   "metadata": {},
   "outputs": [
    {
     "data": {
      "image/png": "[encoded data removed]",
      "text/plain": [
       "<Figure size 720x576 with 1 Axes>"
      ]
     },
     "metadata": {
      "needs_background": "light"
     },
     "output_type": "display_data"
    }
   ],
   "source": [
    "# tweet length distribution at different labels\n",
    "plt.figure(figsize=(10, 8))\n",
    "sns.boxplot(x = 'label', y = 'tweet_length', data = fashion_df, showfliers=False,color='#348ABD') \n",
    "plt.xlabel('Label', fontsize=20)\n",
    "plt.ylabel('Tweet Length', fontsize=20)\n",
    "plt.title('Distribution of Tweet Length (Fashion Tweets)', fontsize=20)\n",
    "plt.xticks(fontsize=20)\n",
    "plt.yticks(fontsize=20)\n",
    "plt.show()"
   ]
  },
  {
   "cell_type": "code",
   "execution_count": 24,
   "metadata": {},
   "outputs": [
    {
     "data": {
      "text/html": [
       "<div>\n",
       "<style scoped>\n",
       "    .dataframe tbody tr th:only-of-type {\n",
       "        vertical-align: middle;\n",
       "    }\n",
       "\n",
       "    .dataframe tbody tr th {\n",
       "        vertical-align: top;\n",
       "    }\n",
       "\n",
       "    .dataframe thead th {\n",
       "        text-align: right;\n",
       "    }\n",
       "</style>\n",
       "<table border=\"1\" class=\"dataframe\">\n",
       "  <thead>\n",
       "    <tr style=\"text-align: right;\">\n",
       "      <th></th>\n",
       "      <th>user_name</th>\n",
       "      <th>user_desc</th>\n",
       "      <th>location</th>\n",
       "      <th>following</th>\n",
       "      <th>followers</th>\n",
       "      <th>totaltweets</th>\n",
       "      <th>user_createdts</th>\n",
       "      <th>tweet_createdts</th>\n",
       "      <th>retweet_count</th>\n",
       "      <th>text</th>\n",
       "      <th>hashtags</th>\n",
       "      <th>num_hashtags</th>\n",
       "      <th>num_search_tags</th>\n",
       "      <th>label</th>\n",
       "      <th>tweet_length</th>\n",
       "      <th>% caps</th>\n",
       "    </tr>\n",
       "  </thead>\n",
       "  <tbody>\n",
       "    <tr>\n",
       "      <th>2</th>\n",
       "      <td>luccaromeo</td>\n",
       "      <td>Everything has beauty, but not everyone sees i...</td>\n",
       "      <td>Los Angeles, CA</td>\n",
       "      <td>275</td>\n",
       "      <td>179</td>\n",
       "      <td>21939</td>\n",
       "      <td>2015-09-08 17:43:34</td>\n",
       "      <td>2020-10-04 17:40:03</td>\n",
       "      <td>0</td>\n",
       "      <td>Visage de Layla also offers waxing treatment h...</td>\n",
       "      <td>{#beauty}</td>\n",
       "      <td>1</td>\n",
       "      <td>1</td>\n",
       "      <td>0</td>\n",
       "      <td>9</td>\n",
       "      <td>7.894737</td>\n",
       "    </tr>\n",
       "    <tr>\n",
       "      <th>3</th>\n",
       "      <td>FashListings</td>\n",
       "      <td>Sell fashion? List your business for FREE in o...</td>\n",
       "      <td>Northampton, UK</td>\n",
       "      <td>30747</td>\n",
       "      <td>35104</td>\n",
       "      <td>224859</td>\n",
       "      <td>2014-12-27 15:53:24</td>\n",
       "      <td>2020-10-04 17:40:03</td>\n",
       "      <td>0</td>\n",
       "      <td>Sell #fashion? Submit your website to our #dir...</td>\n",
       "      <td>{#seo, #directory, #fnzb, #fashion?, #bizitalk}</td>\n",
       "      <td>5</td>\n",
       "      <td>1</td>\n",
       "      <td>1</td>\n",
       "      <td>13</td>\n",
       "      <td>12.264151</td>\n",
       "    </tr>\n",
       "  </tbody>\n",
       "</table>\n",
       "</div>"
      ],
      "text/plain": [
       "      user_name                                          user_desc  \\\n",
       "2    luccaromeo  Everything has beauty, but not everyone sees i...   \n",
       "3  FashListings  Sell fashion? List your business for FREE in o...   \n",
       "\n",
       "          location  following  followers  totaltweets       user_createdts  \\\n",
       "2  Los Angeles, CA        275        179        21939  2015-09-08 17:43:34   \n",
       "3  Northampton, UK      30747      35104       224859  2014-12-27 15:53:24   \n",
       "\n",
       "       tweet_createdts  retweet_count  \\\n",
       "2  2020-10-04 17:40:03              0   \n",
       "3  2020-10-04 17:40:03              0   \n",
       "\n",
       "                                                text  \\\n",
       "2  Visage de Layla also offers waxing treatment h...   \n",
       "3  Sell #fashion? Submit your website to our #dir...   \n",
       "\n",
       "                                          hashtags  num_hashtags  \\\n",
       "2                                        {#beauty}             1   \n",
       "3  {#seo, #directory, #fnzb, #fashion?, #bizitalk}             5   \n",
       "\n",
       "   num_search_tags  label  tweet_length     % caps  \n",
       "2                1      0             9   7.894737  \n",
       "3                1      1            13  12.264151  "
      ]
     },
     "execution_count": 24,
     "metadata": {},
     "output_type": "execute_result"
    }
   ],
   "source": [
    "# define a function to get % of caps in a tweet\n",
    "def caps(text):\n",
    "    return np.mean([1 if i.isupper() else 0 for i in text]) * 100 # % caps per tweet\n",
    "\n",
    "fashion_df['% caps'] = fashion_df['text'].apply(caps)\n",
    "fashion_df.head(2)"
   ]
  },
  {
   "cell_type": "code",
   "execution_count": 25,
   "metadata": {},
   "outputs": [
    {
     "data": {
      "image/png": "[encoded data removed]",
      "text/plain": [
       "<Figure size 720x576 with 1 Axes>"
      ]
     },
     "metadata": {
      "needs_background": "light"
     },
     "output_type": "display_data"
    }
   ],
   "source": [
    "# Distribution of % of Caps in different followers count (labels)\n",
    "plt.figure(figsize=(10, 8))\n",
    "sns.boxplot(x = 'label', y = fashion_df['% caps'], data = fashion_df, showfliers=False, color='#348ABD') \n",
    "plt.xlabel('Label', fontsize=20)\n",
    "plt.ylabel('% of Capitals', fontsize=20)\n",
    "plt.title('Distribution of % caps (Fashion Tweets)', fontsize=20)\n",
    "plt.xticks(fontsize=20)\n",
    "plt.yticks(fontsize=20)\n",
    "plt.show()"
   ]
  },
  {
   "cell_type": "code",
   "execution_count": 26,
   "metadata": {},
   "outputs": [
    {
     "data": {
      "image/png": "[encoded data removed]",
      "text/plain": [
       "<Figure size 720x576 with 1 Axes>"
      ]
     },
     "metadata": {
      "needs_background": "light"
     },
     "output_type": "display_data"
    }
   ],
   "source": [
    "# Distribution of % caps\n",
    "plt.figure(figsize=(10, 8))\n",
    "\n",
    "fashion_df['% caps'].hist(color='#348ABD', alpha=0.8)\n",
    "plt.yscale('log', nonposy='clip')\n",
    "plt.title('Fashion Tweets', fontsize=20)\n",
    "plt.xlabel('% Caps', fontsize=20)\n",
    "plt.ylabel('Count', fontsize=20)\n",
    "plt.xticks(fontsize=20)\n",
    "plt.yticks(fontsize=20)\n",
    "plt.show()"
   ]
  },
  {
   "cell_type": "code",
   "execution_count": 27,
   "metadata": {},
   "outputs": [
    {
     "data": {
      "text/plain": [
       "1741     OH HI THERE! VERY FIRST SHINY SMOOCHUM!!! ✨✨✨ ...\n",
       "63590    IM A MODEL!!! U KNW WHAT I MEAN! EITHER U GOT ...\n",
       "67714    Check out DIESEL JEANS ZANITY 822R BOOTCUT BUT...\n",
       "89869    【別注】GRAMICCI×URBAN RESEARCH　WASHABLE WOOLLY PA...\n",
       "Name: text, dtype: object"
      ]
     },
     "execution_count": 27,
     "metadata": {},
     "output_type": "execute_result"
    }
   ],
   "source": [
    "fashion_df[(fashion_df['text'].apply(caps) > 30) & (fashion_df['followers'].apply(lambda x: x >30000))].text"
   ]
  },
  {
   "cell_type": "code",
   "execution_count": 28,
   "metadata": {},
   "outputs": [
    {
     "data": {
      "text/html": [
       "<div>\n",
       "<style scoped>\n",
       "    .dataframe tbody tr th:only-of-type {\n",
       "        vertical-align: middle;\n",
       "    }\n",
       "\n",
       "    .dataframe tbody tr th {\n",
       "        vertical-align: top;\n",
       "    }\n",
       "\n",
       "    .dataframe thead th {\n",
       "        text-align: right;\n",
       "    }\n",
       "</style>\n",
       "<table border=\"1\" class=\"dataframe\">\n",
       "  <thead>\n",
       "    <tr style=\"text-align: right;\">\n",
       "      <th></th>\n",
       "      <th>% caps</th>\n",
       "    </tr>\n",
       "    <tr>\n",
       "      <th>label</th>\n",
       "      <th></th>\n",
       "    </tr>\n",
       "  </thead>\n",
       "  <tbody>\n",
       "    <tr>\n",
       "      <th>0</th>\n",
       "      <td>7.995563</td>\n",
       "    </tr>\n",
       "    <tr>\n",
       "      <th>1</th>\n",
       "      <td>9.022750</td>\n",
       "    </tr>\n",
       "  </tbody>\n",
       "</table>\n",
       "</div>"
      ],
      "text/plain": [
       "         % caps\n",
       "label          \n",
       "0      7.995563\n",
       "1      9.022750"
      ]
     },
     "execution_count": 28,
     "metadata": {},
     "output_type": "execute_result"
    }
   ],
   "source": [
    "fashion_df[['label', '% caps']].groupby('label').mean()"
   ]
  },
  {
   "cell_type": "code",
   "execution_count": 29,
   "metadata": {},
   "outputs": [
    {
     "data": {
      "text/html": [
       "<div>\n",
       "<style scoped>\n",
       "    .dataframe tbody tr th:only-of-type {\n",
       "        vertical-align: middle;\n",
       "    }\n",
       "\n",
       "    .dataframe tbody tr th {\n",
       "        vertical-align: top;\n",
       "    }\n",
       "\n",
       "    .dataframe thead th {\n",
       "        text-align: right;\n",
       "    }\n",
       "</style>\n",
       "<table border=\"1\" class=\"dataframe\">\n",
       "  <thead>\n",
       "    <tr style=\"text-align: right;\">\n",
       "      <th></th>\n",
       "      <th>user_name</th>\n",
       "      <th>user_desc</th>\n",
       "      <th>location</th>\n",
       "      <th>following</th>\n",
       "      <th>followers</th>\n",
       "      <th>totaltweets</th>\n",
       "      <th>user_createdts</th>\n",
       "      <th>tweet_createdts</th>\n",
       "      <th>retweet_count</th>\n",
       "      <th>text</th>\n",
       "      <th>hashtags</th>\n",
       "      <th>num_hashtags</th>\n",
       "      <th>num_search_tags</th>\n",
       "      <th>label</th>\n",
       "      <th>tweet_length</th>\n",
       "      <th>% caps</th>\n",
       "      <th>manycaps</th>\n",
       "    </tr>\n",
       "  </thead>\n",
       "  <tbody>\n",
       "    <tr>\n",
       "      <th>2</th>\n",
       "      <td>luccaromeo</td>\n",
       "      <td>Everything has beauty, but not everyone sees i...</td>\n",
       "      <td>Los Angeles, CA</td>\n",
       "      <td>275</td>\n",
       "      <td>179</td>\n",
       "      <td>21939</td>\n",
       "      <td>2015-09-08 17:43:34</td>\n",
       "      <td>2020-10-04 17:40:03</td>\n",
       "      <td>0</td>\n",
       "      <td>Visage de Layla also offers waxing treatment h...</td>\n",
       "      <td>{#beauty}</td>\n",
       "      <td>1</td>\n",
       "      <td>1</td>\n",
       "      <td>0</td>\n",
       "      <td>9</td>\n",
       "      <td>7.894737</td>\n",
       "      <td>False</td>\n",
       "    </tr>\n",
       "    <tr>\n",
       "      <th>3</th>\n",
       "      <td>FashListings</td>\n",
       "      <td>Sell fashion? List your business for FREE in o...</td>\n",
       "      <td>Northampton, UK</td>\n",
       "      <td>30747</td>\n",
       "      <td>35104</td>\n",
       "      <td>224859</td>\n",
       "      <td>2014-12-27 15:53:24</td>\n",
       "      <td>2020-10-04 17:40:03</td>\n",
       "      <td>0</td>\n",
       "      <td>Sell #fashion? Submit your website to our #dir...</td>\n",
       "      <td>{#seo, #directory, #fnzb, #fashion?, #bizitalk}</td>\n",
       "      <td>5</td>\n",
       "      <td>1</td>\n",
       "      <td>1</td>\n",
       "      <td>13</td>\n",
       "      <td>12.264151</td>\n",
       "      <td>False</td>\n",
       "    </tr>\n",
       "  </tbody>\n",
       "</table>\n",
       "</div>"
      ],
      "text/plain": [
       "      user_name                                          user_desc  \\\n",
       "2    luccaromeo  Everything has beauty, but not everyone sees i...   \n",
       "3  FashListings  Sell fashion? List your business for FREE in o...   \n",
       "\n",
       "          location  following  followers  totaltweets       user_createdts  \\\n",
       "2  Los Angeles, CA        275        179        21939  2015-09-08 17:43:34   \n",
       "3  Northampton, UK      30747      35104       224859  2014-12-27 15:53:24   \n",
       "\n",
       "       tweet_createdts  retweet_count  \\\n",
       "2  2020-10-04 17:40:03              0   \n",
       "3  2020-10-04 17:40:03              0   \n",
       "\n",
       "                                                text  \\\n",
       "2  Visage de Layla also offers waxing treatment h...   \n",
       "3  Sell #fashion? Submit your website to our #dir...   \n",
       "\n",
       "                                          hashtags  num_hashtags  \\\n",
       "2                                        {#beauty}             1   \n",
       "3  {#seo, #directory, #fnzb, #fashion?, #bizitalk}             5   \n",
       "\n",
       "   num_search_tags  label  tweet_length     % caps  manycaps  \n",
       "2                1      0             9   7.894737     False  \n",
       "3                1      1            13  12.264151     False  "
      ]
     },
     "execution_count": 29,
     "metadata": {},
     "output_type": "execute_result"
    }
   ],
   "source": [
    "# Distributions of % caps (> 20%) in different labels\n",
    "\n",
    "fashion_df['manycaps'] = fashion_df['% caps'].apply(lambda x: x > 20)\n",
    "fashion_df.head(2)"
   ]
  },
  {
   "cell_type": "code",
   "execution_count": 30,
   "metadata": {},
   "outputs": [
    {
     "data": {
      "text/html": [
       "<div>\n",
       "<style scoped>\n",
       "    .dataframe tbody tr th:only-of-type {\n",
       "        vertical-align: middle;\n",
       "    }\n",
       "\n",
       "    .dataframe tbody tr th {\n",
       "        vertical-align: top;\n",
       "    }\n",
       "\n",
       "    .dataframe thead th {\n",
       "        text-align: right;\n",
       "    }\n",
       "</style>\n",
       "<table border=\"1\" class=\"dataframe\">\n",
       "  <thead>\n",
       "    <tr style=\"text-align: right;\">\n",
       "      <th></th>\n",
       "      <th>manycaps</th>\n",
       "    </tr>\n",
       "    <tr>\n",
       "      <th>label</th>\n",
       "      <th></th>\n",
       "    </tr>\n",
       "  </thead>\n",
       "  <tbody>\n",
       "    <tr>\n",
       "      <th>0</th>\n",
       "      <td>0.019389</td>\n",
       "    </tr>\n",
       "    <tr>\n",
       "      <th>1</th>\n",
       "      <td>0.014366</td>\n",
       "    </tr>\n",
       "  </tbody>\n",
       "</table>\n",
       "</div>"
      ],
      "text/plain": [
       "       manycaps\n",
       "label          \n",
       "0      0.019389\n",
       "1      0.014366"
      ]
     },
     "execution_count": 30,
     "metadata": {},
     "output_type": "execute_result"
    }
   ],
   "source": [
    "manycaps_fashion = fashion_df[['label', 'manycaps']].groupby('label').mean()\n",
    "manycaps_fashion"
   ]
  },
  {
   "cell_type": "code",
   "execution_count": 31,
   "metadata": {},
   "outputs": [
    {
     "data": {
      "image/png": "[encoded data removed]",
      "text/plain": [
       "<Figure size 720x576 with 1 Axes>"
      ]
     },
     "metadata": {
      "needs_background": "light"
     },
     "output_type": "display_data"
    }
   ],
   "source": [
    "manycaps_fashion.plot(kind='bar', color='#348ABD',rot = 0, alpha=0.8, figsize=(10,8))\n",
    "plt.xlabel('Label', fontsize=20)\n",
    "plt.ylabel('% of tweets with >20% Capitals', fontsize=20)\n",
    "plt.title('Fashion Tweets', fontsize=20)\n",
    "plt.xticks(fontsize=20)\n",
    "#plt.yticks(fontsize=20)\n",
    "plt.show()"
   ]
  },
  {
   "cell_type": "code",
   "execution_count": 32,
   "metadata": {},
   "outputs": [
    {
     "data": {
      "image/png": "[encoded data removed]",
      "text/plain": [
       "<Figure size 720x576 with 1 Axes>"
      ]
     },
     "metadata": {
      "needs_background": "light"
     },
     "output_type": "display_data"
    }
   ],
   "source": [
    "# Distribution of number of hashtags in different labels\n",
    "plt.figure(figsize=(10, 8))\n",
    "sns.boxplot(x = 'label', y = 'num_hashtags', data = fashion_df, showfliers=False,color='#348ABD' )\n",
    "plt.xlabel('Label', fontsize=20)\n",
    "plt.ylabel('Hashtags Per Tweet', fontsize=20)\n",
    "plt.title('Distribution of hashtags per tweet (Fashion Tweets)', fontsize=20)\n",
    "plt.xticks(fontsize=20)\n",
    "plt.yticks(fontsize=20)\n",
    "plt.show()"
   ]
  },
  {
   "cell_type": "code",
   "execution_count": 33,
   "metadata": {},
   "outputs": [],
   "source": [
    "# import textstat library and set it for English language to study the reading level of the tweets\n",
    "import textstat\n",
    "textstat.set_lang('en')\n"
   ]
  },
  {
   "cell_type": "code",
   "execution_count": 33,
   "metadata": {},
   "outputs": [
    {
     "data": {
      "image/png": "[encoded data removed]",
      "text/plain": [
       "<Figure size 720x576 with 1 Axes>"
      ]
     },
     "metadata": {
      "needs_background": "light"
     },
     "output_type": "display_data"
    }
   ],
   "source": [
    "# Distribution of reading level in different labels (Automated Readability Index)\n",
    "plt.figure(figsize=(10, 8))\n",
    "sns.boxplot(x = 'label', y = fashion_df['text'].apply(lambda x: textstat.automated_readability_index(x)), data = fashion_df, showfliers=False, color='#348ABD')\n",
    "plt.xlabel('Label', fontsize=20)\n",
    "plt.ylabel('Reading Level', fontsize=20)\n",
    "plt.title('Distribution of Tweet Reading Level (Fashion Tweets)', fontsize=20)\n",
    "plt.xticks(fontsize=20)\n",
    "plt.yticks(fontsize=20)\n",
    "plt.show()"
   ]
  },
  {
   "cell_type": "code",
   "execution_count": 34,
   "metadata": {},
   "outputs": [
    {
     "data": {
      "image/png": "[encoded data removed]",
      "text/plain": [
       "<Figure size 720x576 with 1 Axes>"
      ]
     },
     "metadata": {
      "needs_background": "light"
     },
     "output_type": "display_data"
    }
   ],
   "source": [
    "# Distribution of reading level in different labels (Fog Scale)\n",
    "plt.figure(figsize=(10, 8))\n",
    "sns.boxplot(x = 'label', y = fashion_df['text'].apply(lambda x: textstat.gunning_fog(x)), data = fashion_df, showfliers=False, color='#348ABD')\n",
    "plt.xlabel('Label', fontsize=20)\n",
    "plt.ylabel('Reading Level', fontsize=20)\n",
    "plt.title('Distribution of Tweet Reading Level (Fashion Tweets)', fontsize=20)\n",
    "plt.xticks(fontsize=20)\n",
    "plt.yticks(fontsize=20)\n",
    "plt.show()"
   ]
  },
  {
   "cell_type": "code",
   "execution_count": 35,
   "metadata": {},
   "outputs": [
    {
     "data": {
      "image/png": "[encoded data removed]",
      "text/plain": [
       "<Figure size 720x576 with 1 Axes>"
      ]
     },
     "metadata": {
      "needs_background": "light"
     },
     "output_type": "display_data"
    }
   ],
   "source": [
    "# Distribution of reading level in different labels (Linsear Write Formula)\n",
    "plt.figure(figsize=(10, 8))\n",
    "sns.boxplot(x = 'label', y = fashion_df['text'].apply(lambda x: textstat.linsear_write_formula(x)), data = fashion_df, showfliers=False, color='#348ABD').set(xlabel= 'Label',ylabel='Reading Level', title='Distribution of Tweet Reading Level (Fashion Tweets)')\n",
    "plt.show()"
   ]
  },
  {
   "cell_type": "markdown",
   "metadata": {},
   "source": [
    "### Filter examples of text containing most predictive words ( Machine Learning : Most Predictive word)"
   ]
  },
  {
   "cell_type": "code",
   "execution_count": 34,
   "metadata": {},
   "outputs": [
    {
     "name": "stdout",
     "output_type": "stream",
     "text": [
      "257       Hi, Rate my Design! Do you want like this? ple...\n",
      "378       How fun is this poster by Studio Proba Thank y...\n",
      "420       Design Available\\nhttps://t.co/v2BHYKs4em\\n\\n#...\n",
      "449       Day 4: Radio\\nHey, it's Sunday, just have a da...\n",
      "797       You too had a love story \\n\\n #likeforlikes #f...\n",
      "865       Check out my Gig on Fiverr: do unique youtube ...\n",
      "1128      Best and easy way to create iPhone mockups\\n\\n...\n",
      "1265      Mother Death\\n#painting #paint #painter #paint...\n",
      "1325      New design: 🐈 the washing cat 🐱 \\nPlease retwe...\n",
      "1685      Time is your only consistency, and patience is...\n",
      "1832      Foe-tober Day 4- Token\\n\"Worst part of these d...\n",
      "1890      Sparkling water ☆💦 #art #artist #love #drawing...\n",
      "1902      Elf child 🍂 #art #artist #love #drawing #photo...\n",
      "2170      REACHING #digitalart #art #ArtistOnTwitter #ar...\n",
      "2539      Purple swirl “Epitome” abstract design now ava...\n",
      "2962      🌻Cute Totes available at https://t.co/sxV93aUP...\n",
      "3128      @CafeOrsoDeepCov Glad to hang at Cafe Orso, ka...\n",
      "3208      Recent work... #art #artwork #drawing #illustr...\n",
      "3608      My little demon... #oc #drawing #originalchara...\n",
      "3719      unhinged jaw\\n\\n#digitalart #art #drawing #art...\n",
      "3782      My version of @tylerthecreator's WOLF album co...\n",
      "3822      vector artwork. dm for inquires!\\n\\n#art #ph #...\n",
      "3828      Taking the lift\\n#digitalart #art #drawing #il...\n",
      "3835      Purple swirl “Epitome” abstract design now ava...\n",
      "4020      my character Orion after a workout. \\n#digital...\n",
      "4157      Taking the lift\\n#digitalart #art #drawing #il...\n",
      "4164      Purple swirl “Epitome” abstract design now ava...\n",
      "4459      demon\\n\\n#digitalart #art #drawing #artist #ar...\n",
      "4653      New pattern now available - https://t.co/dG7sA...\n",
      "5017      40% Off Gift Tags, Confetti, Wall Tapestries, ...\n",
      "                                ...                        \n",
      "123885    Up to 30% Off Sitewide at https://t.co/wBEFkme...\n",
      "123937    Do you think you could beat this hideous Snake...\n",
      "124241    Untitled (2019)\\nAnalog collage on paper\\nH:10...\n",
      "124308    Finally drewed myself as a #Zoophobia Characte...\n",
      "124384    We want to thank @trizzy.trunk_he.art\\nfor cre...\n",
      "124478    Just Another random sketch \\n#sketch #art #art...\n",
      "125081    My dad's works available in different sizes &a...\n",
      "125474    Character Design Studies [Series]\\n▿◊▿\\n.\\n.\\n...\n",
      "125880    My dtiys entry for one of insta oc artist  🙊💜 ...\n",
      "126046    High noon at candy corral #illustration #art #...\n",
      "126380    High noon at candy corral #illustration #art #...\n",
      "126468    #Colorful #Tropical #Leaves #Monstera #Banana ...\n",
      "126834    Here's the NEW Blue Lightning design on women'...\n",
      "126875    Open Commission artwork \\nI will create your p...\n",
      "127043    Oct.23,2020\\nacrylic on paper\\n14.8㎝×10.0\\n\\n#...\n",
      "127248    “American Woman.” @tomilahren \\nLoved the way ...\n",
      "127612    Watercolor &amp; ink on paper by CRASH for his...\n",
      "127850    Hey yall here some art i did hope yall enjoy i...\n",
      "127897    Original artwork by #artist  #AdyorVanderlei  ...\n",
      "127963    Watercolor &amp; ink on paper by CRASH for his...\n",
      "128022    play back\\n#picture\\n#illustration\\n#Procreate...\n",
      "128220    You are the sunshine of my life. - Ukrainian M...\n",
      "128440    Spider-Man Year One Concept 02 #marvel #avenge...\n",
      "128635    Get 30% Off many items #decor #unique #design ...\n",
      "128649    For business needs please contact me through D...\n",
      "128824    Vector Tracing\\nCreative solutions\\nCheck My P...\n",
      "129023    New pattern now available - https://t.co/BzfAb...\n",
      "129288    Creativity is not a competition 💫\\nIt has to b...\n",
      "129421    You can’t win in life if you losing in your mi...\n",
      "129837    Open doors to unfathomable possibilities and r...\n",
      "Name: text, Length: 898, dtype: object\n"
     ]
    }
   ],
   "source": [
    "word1_fashion = fashion_df[fashion_df['text'].str.contains('artwork')].text\n",
    "print(word1_fashion)"
   ]
  },
  {
   "cell_type": "code",
   "execution_count": 48,
   "metadata": {},
   "outputs": [
    {
     "data": {
      "text/plain": [
       "'Creativity is not a competition 💫\\nIt has to be felt 🎉\\n\\n#creativity #art #creative #artist #love #design #photography #handmade #artwork #inspiration #drawing #painting #instagram #artistsoninstagram #instagood #illustration #fashion #create #graphicdesign #nature #photooftheday https://t.co/Y28PTX7XNo'"
      ]
     },
     "execution_count": 48,
     "metadata": {},
     "output_type": "execute_result"
    }
   ],
   "source": [
    "word1_fashion[129288]"
   ]
  },
  {
   "cell_type": "code",
   "execution_count": 49,
   "metadata": {},
   "outputs": [
    {
     "data": {
      "text/plain": [
       "'Original artwork by #artist  #AdyorVanderlei  for #AETCHBASE #ClothingBrand #clothing #fashion #designerclothes #designer #art https://t.co/DoOixdn9v2'"
      ]
     },
     "execution_count": 49,
     "metadata": {},
     "output_type": "execute_result"
    }
   ],
   "source": [
    "word1_fashion[127897]"
   ]
  },
  {
   "cell_type": "code",
   "execution_count": 50,
   "metadata": {},
   "outputs": [
    {
     "data": {
      "text/plain": [
       "'Design Available\\nhttps://t.co/v2BHYKs4em\\n\\n#love #artwork #design #illustration #creativemarket #tshirtdesign https://t.co/t0G7n3eQyL'"
      ]
     },
     "execution_count": 50,
     "metadata": {},
     "output_type": "execute_result"
    }
   ],
   "source": [
    "word1_fashion[420]"
   ]
  },
  {
   "cell_type": "code",
   "execution_count": 51,
   "metadata": {},
   "outputs": [
    {
     "name": "stdout",
     "output_type": "stream",
     "text": [
      "305       HOW TO GROW UP YOUR BUSINESS(EVEN IN LOCKDOWN)...\n",
      "453       https://t.co/46AjVDkPQo\\n\\nDesigned by Clique ...\n",
      "477       https://t.co/G9iTXV6wGH\\n\\nDesigned by Clique ...\n",
      "491       https://t.co/KKnwCpipVy\\n\\nDesigned by Clique ...\n",
      "523       https://t.co/khQqaEZlRP\\n\\nDesigned by Clique ...\n",
      "558       https://t.co/dmS5cRZUJo\\n\\nDesigned by Clique ...\n",
      "7828      I will design a professional logo for your bus...\n",
      "8559      Being the first Monday of this month, May we b...\n",
      "11866     #webdesignservices\\n🌐Web Design and Developmen...\n",
      "14890     $750 WEBSITE DESIGN &amp; DEVELOPMENT #seo #sm...\n",
      "18527     $750 WEBSITE DESIGN &amp; DEVELOPMENT #seo #sm...\n",
      "20204     Are You Looking for #WordPresss #website #desi...\n",
      "39504     Nidavellir offers wide range of web and mobile...\n",
      "43421     Get a Responsive and Mobile-Friendly Website \\...\n",
      "44436     Monday Motivation.\\n-\\n-\\n-\\n#business #motiva...\n",
      "45610     @NonnySavage @alamin_ghost But my can my broth...\n",
      "45635     @Beinomugisha_Iv Coz they are beautiful\\n#word...\n",
      "45683     @AyamDamiee just contact me i will teach you @...\n",
      "45981     @NonnySavage @alamin_ghost But my can my broth...\n",
      "47101     $750 WEBSITE DESIGN &amp; DEVELOPMENT #seo #sm...\n",
      "47750     We enjoyed working with Relocate Stress Free o...\n",
      "51562     Beauty Salon Website Concept\\nBetter View: htt...\n",
      "53080     $750 WEBSITE DESIGN &amp; DEVELOPMENT #seo #sm...\n",
      "53895     Web Development For Your Business\\nContact: in...\n",
      "59860     No More Incomplete Website Partners.\\n\\nComple...\n",
      "60816     It’s unusual to have visitors in these current...\n",
      "61927     I #design a #website for my client. How is it?...\n",
      "62486     We build websites that make YOU look great! 💻\\...\n",
      "63638     Get more traffic for free.  Call to find out h...\n",
      "64473     7 web design rules you should never break.  ht...\n",
      "                                ...                        \n",
      "83708     last day I completed this website for my clien...\n",
      "83889     #Responsive #webdesign is the approach that su...\n",
      "90182     Professional #ecommerce #Website #Cars  Only $...\n",
      "93464     $750 WEBSITE DESIGN &amp; DEVELOPMENT #seo #sm...\n",
      "96872     Hello :) \\n\\n#Html #seo #king #theme #template...\n",
      "97494     Sunfarm - Flower Farm HTML Template - #flower ...\n",
      "97530     Currently working on this🥱 \\n👉Will be availabl...\n",
      "98010     $750 WEBSITE DESIGN &amp; DEVELOPMENT #seo #sm...\n",
      "98406     Does your website allow your users to book app...\n",
      "100349    How To Make A Readable Website\\nIf you want to...\n",
      "102685    If you want to make your custom web template d...\n",
      "105371    We have a very special announcement...\\n\\nAfte...\n",
      "108441    Share your Digital Assignments with experts wh...\n",
      "111360    Are You Looking for#wixx #website #design\"\\nGo...\n",
      "113804    We added bookmark feature with King Theme V6.....\n",
      "114329    $750 WEBSITE DESIGN &amp; DEVELOPMENT #seo #sm...\n",
      "115409    orking on launching a polo club ... still in t...\n",
      "115781    orking on launching a polo club ... still in t...\n",
      "118825    $750 WEBSITE DESIGN &amp; DEVELOPMENT #seo #sm...\n",
      "118860    Corresponding areas of website design\\n\\n#webd...\n",
      "120224    Interior design UX.\\n\\nWhat are your thoughts?...\n",
      "121341    😃Hi, It's a Portfolio Website Landing page.\\nN...\n",
      "122157    Good #website #design makes for a pleasing use...\n",
      "122691    Webline Services provides more than just hosti...\n",
      "122732    Which logo is your favorite?\\nComment below!👇\\...\n",
      "122743    👊WHY YOU NEED A TRANSACTION COORDINATOR👊\\n\\n#h...\n",
      "124373    $750 WEBSITE DESIGN &amp; DEVELOPMENT #seo #sm...\n",
      "127664    $750 WEBSITE DESIGN &amp; DEVELOPMENT #seo #sm...\n",
      "129452    Four Different Kinds of Web Designing Tools Wh...\n",
      "129871    Choosing a Web Designer That’s SEO-Friendly\\nP...\n",
      "Name: text, Length: 78, dtype: object\n"
     ]
    }
   ],
   "source": [
    "word2_fashion = fashion_df[fashion_df['text'].str.contains('websitedesign')].text\n",
    "print(word2_fashion)"
   ]
  },
  {
   "cell_type": "code",
   "execution_count": 53,
   "metadata": {},
   "outputs": [
    {
     "data": {
      "text/plain": [
       "'Share your Digital Assignments with experts who work with 100+ brands\\n\\nCall +91 98404 13319 \\nhttps://t.co/9RSW0aqnoN \\n\\n#websiterevamp #websiteredesign #websitedesignservice #godigitell #microsites #cmswebsites #wordpress #digitalagency #digitalmarketing #design #creativedesign https://t.co/06d7NXGgbF'"
      ]
     },
     "execution_count": 53,
     "metadata": {},
     "output_type": "execute_result"
    }
   ],
   "source": [
    "word2_fashion[108441]"
   ]
  },
  {
   "cell_type": "code",
   "execution_count": 54,
   "metadata": {},
   "outputs": [
    {
     "data": {
      "text/plain": [
       "'HOW TO GROW UP YOUR BUSINESS(EVEN IN LOCKDOWN) https://t.co/gPCllBxk8D\\n\\n#website #webdesign #marketing #design #digitalmarketing #seo #websitedesign #web #business #branding #webdevelopment #graphicdesign #socialmedia #webdesigner #wordpress #ecommerce #webdeveloper #earnmoney'"
      ]
     },
     "execution_count": 54,
     "metadata": {},
     "output_type": "execute_result"
    }
   ],
   "source": [
    "word2_fashion[305]"
   ]
  },
  {
   "cell_type": "code",
   "execution_count": 57,
   "metadata": {
    "scrolled": true
   },
   "outputs": [
    {
     "data": {
      "text/plain": [
       "'How To Make A Readable Website\\nIf you want to be noticed online, you need to have a website that people can enjoy and read easily. We can help step by step: https://t.co/YqAiePd26Y\\n\\n#website #webdesign #marketing #design #digitalmarketing #seo #websitedesign #bhfyp #RT https://t.co/GJ4oxdzqDt'"
      ]
     },
     "execution_count": 57,
     "metadata": {},
     "output_type": "execute_result"
    }
   ],
   "source": [
    "word2_fashion[100349]"
   ]
  },
  {
   "cell_type": "code",
   "execution_count": 58,
   "metadata": {},
   "outputs": [
    {
     "data": {
      "text/plain": [
       "'Web Development For Your Business\\nContact: info@universalstreamsolution.com\\n#webdevelopment #webdesign #webdeveloper #html #coding #website #css #javascript #digitalmarketing #websitedesign #python #marketing #design #php #wordpress #branding #USSLLC #ecommerce #php #magento https://t.co/ADptVKH7dT'"
      ]
     },
     "execution_count": 58,
     "metadata": {},
     "output_type": "execute_result"
    }
   ],
   "source": [
    "word2_fashion[53895]"
   ]
  },
  {
   "cell_type": "code",
   "execution_count": 122,
   "metadata": {},
   "outputs": [
    {
     "name": "stdout",
     "output_type": "stream",
     "text": [
      "20979    Your shopping is satisfactory when you get uni...\n",
      "42470    Get amazing deals at amazing prices;\\nOffered ...\n",
      "44606    #AmazonPrimeDay  Women's Ruffle Halter Neck Ju...\n",
      "44624    #AmazonPrimeDay  bebe Women’s Off Shoulder Bel...\n",
      "51213    #amazonprimeday2020  bebe Women's Choker Neck ...\n",
      "51461    Grab your wishlist!\\nThe two-day parade has ar...\n",
      "53360    Shop MD Organics and Save for Amazon Prime Day...\n",
      "56801    #amazonprimeday #deals Marina Women's 3/4 Bell...\n",
      "57196    #amazonprimeday2020 #deals  Marina Women's Lac...\n",
      "58578    #amazonprimeday2020  T I A N A B. Women's Plus...\n",
      "60698    And it's the last day!\\nGrab your favorite dea...\n",
      "62415    @autumnreeser &amp; Lori Loughlin's Exact Coat...\n",
      "62504    Amazon Prime Day is Here! My Top Picks! See He...\n",
      "Name: text, dtype: object\n"
     ]
    }
   ],
   "source": [
    "word3_fashion = fashion_df[fashion_df['text'].str.contains('amazonprimeday')].text\n",
    "print(word3_fashion)"
   ]
  },
  {
   "cell_type": "code",
   "execution_count": 35,
   "metadata": {},
   "outputs": [
    {
     "name": "stdout",
     "output_type": "stream",
     "text": [
      "603       So good I had to share! Check out all the item...\n",
      "647       So good I had to share! Check out all the item...\n",
      "663       So good I had to share! Check out all the item...\n",
      "1466      So good I had to share! Check out all the item...\n",
      "1482      So good I had to share! Check out all the item...\n",
      "1546      So good I had to share! Check out all the item...\n",
      "2215      So good I had to share! Check out all the item...\n",
      "2350      So good I had to share! Check out all the item...\n",
      "3156      So good I had to share! Check out all the item...\n",
      "3199      So good I had to share! Check out all the item...\n",
      "3848      So good I had to share! Check out all the item...\n",
      "3943      So good I had to share! Check out all the item...\n",
      "4639      So good I had to share! Check out all the item...\n",
      "4709      So good I had to share! Check out all the item...\n",
      "4906      NWT Old Navy Skirt, Yellow &amp; Pink, XS: htt...\n",
      "5471      So good I had to share! Check out all the item...\n",
      "5553      So good I had to share! Check out all the item...\n",
      "5795      So good I had to share! Check out all the item...\n",
      "6304      So good I had to share! Check out all the item...\n",
      "6310      So good I had to share! Check out all the item...\n",
      "6386      So good I had to share! Check out all the item...\n",
      "7130      So good I had to share! Check out all the item...\n",
      "7159      So good I had to share! Check out all the item...\n",
      "7995      So good I had to share! Check out all the item...\n",
      "8407      So good I had to share! Check out all the item...\n",
      "8410      So good I had to share! Check out all the item...\n",
      "8441      So good I had to share! Check out all the item...\n",
      "8497      So good I had to share! Check out all the item...\n",
      "9293      So good I had to share! Check out all the item...\n",
      "9354      So good I had to share! Check out all the item...\n",
      "                                ...                        \n",
      "119376    So good I had to share! Check out all the item...\n",
      "119391    So good I had to share! Check out all the item...\n",
      "123278    So good I had to share! Check out all the item...\n",
      "124097    So good I had to share! Check out all the item...\n",
      "124148    So good I had to share! Check out all the item...\n",
      "124839    So good I had to share! Check out all the item...\n",
      "124858    So good I had to share! Check out all the item...\n",
      "124866    So good I had to share! Check out all the item...\n",
      "124903    So good I had to share! Check out all the item...\n",
      "124957    So good I had to share! Check out all the item...\n",
      "124961    So good I had to share! Check out all the item...\n",
      "124966    So good I had to share! Check out all the item...\n",
      "125645    So good I had to share! Check out all the item...\n",
      "125660    So good I had to share! Check out all the item...\n",
      "125679    So good I had to share! Check out all the item...\n",
      "125743    So good I had to share! Check out all the item...\n",
      "126526    So good I had to share! Check out all the item...\n",
      "127263    So good I had to share! Check out all the item...\n",
      "127281    So good I had to share! Check out all the item...\n",
      "127285    So good I had to share! Check out all the item...\n",
      "127291    So good I had to share! Check out all the item...\n",
      "128098    So good I had to share! Check out all the item...\n",
      "128115    So good I had to share! Check out all the item...\n",
      "128119    So good I had to share! Check out all the item...\n",
      "128177    So good I had to share! Check out all the item...\n",
      "128182    So good I had to share! Check out all the item...\n",
      "128877    So good I had to share! Check out all the item...\n",
      "128906    So good I had to share! Check out all the item...\n",
      "128994    So good I had to share! Check out all the item...\n",
      "129747    So good I had to share! Check out all the item...\n",
      "Name: text, Length: 415, dtype: object\n"
     ]
    }
   ],
   "source": [
    "word4_fashion = fashion_df[fashion_df['text'].str.contains('oldnavy')].text\n",
    "print(word4_fashion)"
   ]
  },
  {
   "cell_type": "code",
   "execution_count": 36,
   "metadata": {},
   "outputs": [
    {
     "data": {
      "text/plain": [
       "\"So good I had to share! Check out all the items I'm loving on @Poshmarkapp #poshmark #fashion #style #shopmycloset #blueasphalt #oldnavy: https://t.co/2XugK1t8RO https://t.co/8b2Rs4qjLc\""
      ]
     },
     "execution_count": 36,
     "metadata": {},
     "output_type": "execute_result"
    }
   ],
   "source": [
    "word4_fashion[603]"
   ]
  },
  {
   "cell_type": "code",
   "execution_count": 39,
   "metadata": {},
   "outputs": [
    {
     "name": "stdout",
     "output_type": "stream",
     "text": [
      "2123      Got The W! 💜💛 #winning #nfl #football #design ...\n",
      "3115      So good I had to share! Check out all the item...\n",
      "3173      So good I had to share! Check out all the item...\n",
      "3904      So good I had to share! Check out all the item...\n",
      "4708      So good I had to share! Check out all the item...\n",
      "4735      So good I had to share! Check out all the item...\n",
      "4793      So good I had to share! Check out all the item...\n",
      "5590      So good I had to share! Check out all the item...\n",
      "6025      #4 Syndrome (#theincredibles)\\nTheme: Villans....\n",
      "6336      So good I had to share! Check out all the item...\n",
      "7156      So good I had to share! Check out all the item...\n",
      "7164      So good I had to share! Check out all the item...\n",
      "7270      Yes sir the check is in the mail vintage t-shi...\n",
      "7316      Vintage I'm a grillmaster if bbq were easy it'...\n",
      "8403      So good I had to share! Check out all the item...\n",
      "8424      So good I had to share! Check out all the item...\n",
      "8430      So good I had to share! Check out all the item...\n",
      "8527      So good I had to share! Check out all the item...\n",
      "9341      So good I had to share! Check out all the item...\n",
      "9371      So good I had to share! Check out all the item...\n",
      "10036     So good I had to share! Check out all the item...\n",
      "10178     So good I had to share! Check out all the item...\n",
      "10190     So good I had to share! Check out all the item...\n",
      "10812     So good I had to share! Check out all the item...\n",
      "10927     So good I had to share! Check out all the item...\n",
      "11702     So good I had to share! Check out all the item...\n",
      "11712     So good I had to share! Check out all the item...\n",
      "11774     So good I had to share! Check out all the item...\n",
      "11789     So good I had to share! Check out all the item...\n",
      "11836     There I Go\\n#apexlegends #apex #roblox #fashio...\n",
      "                                ...                        \n",
      "116337    So good I had to share! Check out all the item...\n",
      "116350    So good I had to share! Check out all the item...\n",
      "117111    So good I had to share! Check out all the item...\n",
      "117121    So good I had to share! Check out all the item...\n",
      "117624    So good I had to share! Check out all the item...\n",
      "117790    So good I had to share! Check out all the item...\n",
      "118414    So good I had to share! Check out all the item...\n",
      "118449    So good I had to share! Check out all the item...\n",
      "118542    So good I had to share! Check out all the item...\n",
      "118566    So good I had to share! Check out all the item...\n",
      "119347    So good I had to share! Check out all the item...\n",
      "119367    So good I had to share! Check out all the item...\n",
      "120193    Protect Ya Neck \\n#apexlegends #apex #roblox #...\n",
      "121195    So good I had to share! Check out all the item...\n",
      "121610    Adventure is out there🎈how cute are these badg...\n",
      "123566    So good I had to share! Check out all the item...\n",
      "124056    So good I had to share! Check out all the item...\n",
      "124096    So good I had to share! Check out all the item...\n",
      "124161    So good I had to share! Check out all the item...\n",
      "125626    So good I had to share! Check out all the item...\n",
      "125749    So good I had to share! Check out all the item...\n",
      "125756    So good I had to share! Check out all the item...\n",
      "125794    So good I had to share! Check out all the item...\n",
      "126534    So good I had to share! Check out all the item...\n",
      "127252    So good I had to share! Check out all the item...\n",
      "127424    I’m forever grateful for my opportunities to s...\n",
      "128161    So good I had to share! Check out all the item...\n",
      "128915    So good I had to share! Check out all the item...\n",
      "129753    So good I had to share! Check out all the item...\n",
      "129776    So good I had to share! Check out all the item...\n",
      "Name: text, Length: 299, dtype: object\n"
     ]
    }
   ],
   "source": [
    "word5_fashion = fashion_df[fashion_df['text'].str.contains('disney')].text\n",
    "print(word5_fashion)"
   ]
  },
  {
   "cell_type": "code",
   "execution_count": 41,
   "metadata": {},
   "outputs": [
    {
     "data": {
      "text/plain": [
       "'I’m forever grateful for my opportunities to share some time and photograph the amazing Cameron Boyce. #cameronboyce #thecameronboycefoundatio #xmob_bboytruth #disney #actor #model #photoshoot #patrickshipstad #photographer #descendants #paulcbuff #thede… https://t.co/k68UyV7HMN https://t.co/g49mMUyMNO'"
      ]
     },
     "execution_count": 41,
     "metadata": {},
     "output_type": "execute_result"
    }
   ],
   "source": [
    "word5_fashion[127424]"
   ]
  },
  {
   "cell_type": "markdown",
   "metadata": {},
   "source": [
    "## Preprocessing of tweet\n",
    "\n",
    "- Remove URLs\n",
    "- Remove Mentions\n",
    "- Remove Punctuations, numbers and special characters\n",
    "- Tokenization\n",
    "- Remove Stopwords\n"
   ]
  },
  {
   "cell_type": "code",
   "execution_count": 69,
   "metadata": {},
   "outputs": [
    {
     "data": {
      "text/html": [
       "<div>\n",
       "<style scoped>\n",
       "    .dataframe tbody tr th:only-of-type {\n",
       "        vertical-align: middle;\n",
       "    }\n",
       "\n",
       "    .dataframe tbody tr th {\n",
       "        vertical-align: top;\n",
       "    }\n",
       "\n",
       "    .dataframe thead th {\n",
       "        text-align: right;\n",
       "    }\n",
       "</style>\n",
       "<table border=\"1\" class=\"dataframe\">\n",
       "  <thead>\n",
       "    <tr style=\"text-align: right;\">\n",
       "      <th></th>\n",
       "      <th>user_name</th>\n",
       "      <th>user_desc</th>\n",
       "      <th>location</th>\n",
       "      <th>following</th>\n",
       "      <th>followers</th>\n",
       "      <th>totaltweets</th>\n",
       "      <th>user_createdts</th>\n",
       "      <th>tweet_createdts</th>\n",
       "      <th>retweet_count</th>\n",
       "      <th>text</th>\n",
       "      <th>hashtags</th>\n",
       "      <th>num_hashtags</th>\n",
       "      <th>num_search_tags</th>\n",
       "      <th>label</th>\n",
       "      <th>tweet_length</th>\n",
       "      <th>% caps</th>\n",
       "      <th>manycaps</th>\n",
       "      <th>clean_tweet</th>\n",
       "    </tr>\n",
       "  </thead>\n",
       "  <tbody>\n",
       "    <tr>\n",
       "      <th>2</th>\n",
       "      <td>luccaromeo</td>\n",
       "      <td>Everything has beauty, but not everyone sees i...</td>\n",
       "      <td>Los Angeles, CA</td>\n",
       "      <td>275</td>\n",
       "      <td>179</td>\n",
       "      <td>21939</td>\n",
       "      <td>2015-09-08 17:43:34</td>\n",
       "      <td>2020-10-04 17:40:03</td>\n",
       "      <td>0</td>\n",
       "      <td>Visage de Layla also offers waxing treatment h...</td>\n",
       "      <td>{#beauty}</td>\n",
       "      <td>1</td>\n",
       "      <td>1</td>\n",
       "      <td>0</td>\n",
       "      <td>9</td>\n",
       "      <td>7.894737</td>\n",
       "      <td>False</td>\n",
       "      <td>visage de layla also offers waxing treatment #...</td>\n",
       "    </tr>\n",
       "    <tr>\n",
       "      <th>3</th>\n",
       "      <td>FashListings</td>\n",
       "      <td>Sell fashion? List your business for FREE in o...</td>\n",
       "      <td>Northampton, UK</td>\n",
       "      <td>30747</td>\n",
       "      <td>35104</td>\n",
       "      <td>224859</td>\n",
       "      <td>2014-12-27 15:53:24</td>\n",
       "      <td>2020-10-04 17:40:03</td>\n",
       "      <td>0</td>\n",
       "      <td>Sell #fashion? Submit your website to our #dir...</td>\n",
       "      <td>{#fashion?, #bizitalk, #seo, #fnzb, #directory}</td>\n",
       "      <td>5</td>\n",
       "      <td>1</td>\n",
       "      <td>1</td>\n",
       "      <td>13</td>\n",
       "      <td>12.264151</td>\n",
       "      <td>False</td>\n",
       "      <td>sell #fashion submit website #directory gt gt ...</td>\n",
       "    </tr>\n",
       "  </tbody>\n",
       "</table>\n",
       "</div>"
      ],
      "text/plain": [
       "      user_name                                          user_desc  \\\n",
       "2    luccaromeo  Everything has beauty, but not everyone sees i...   \n",
       "3  FashListings  Sell fashion? List your business for FREE in o...   \n",
       "\n",
       "          location  following  followers  totaltweets       user_createdts  \\\n",
       "2  Los Angeles, CA        275        179        21939  2015-09-08 17:43:34   \n",
       "3  Northampton, UK      30747      35104       224859  2014-12-27 15:53:24   \n",
       "\n",
       "       tweet_createdts  retweet_count  \\\n",
       "2  2020-10-04 17:40:03              0   \n",
       "3  2020-10-04 17:40:03              0   \n",
       "\n",
       "                                                text  \\\n",
       "2  Visage de Layla also offers waxing treatment h...   \n",
       "3  Sell #fashion? Submit your website to our #dir...   \n",
       "\n",
       "                                          hashtags  num_hashtags  \\\n",
       "2                                        {#beauty}             1   \n",
       "3  {#fashion?, #bizitalk, #seo, #fnzb, #directory}             5   \n",
       "\n",
       "   num_search_tags  label  tweet_length     % caps  manycaps  \\\n",
       "2                1      0             9   7.894737     False   \n",
       "3                1      1            13  12.264151     False   \n",
       "\n",
       "                                         clean_tweet  \n",
       "2  visage de layla also offers waxing treatment #...  \n",
       "3  sell #fashion submit website #directory gt gt ...  "
      ]
     },
     "execution_count": 69,
     "metadata": {},
     "output_type": "execute_result"
    }
   ],
   "source": [
    "# import NLP packages\n",
    "import re\n",
    "import nltk\n",
    "from nltk.corpus import stopwords\n",
    "stop_words = set(stopwords.words('english'))\n",
    "\n",
    "# Preprocessed text (without lemmatization) before the findinding the most predictive words\n",
    "def text_preprocessing(text):\n",
    "    text = re.sub(r'http\\S+', '', text)   # removing URL\n",
    "    text = re.sub(r'@(\\w+)','',text, flags = re.MULTILINE) # remove mentions\n",
    "    text = re.sub('[^a-zA-Z#]', ' ', text) # keep only alpha (removing numbers, punctions and special characters)\n",
    "    text = str(text).lower()              # Lowercase all text\n",
    "    text = [w for w in text.split() if w not in stop_words] # Removing Stopwords\n",
    "    text = ' '.join(text)\n",
    "    return text\n",
    "\n",
    "fashion_df[\"clean_tweet\"] = fashion_df['text'].apply(text_preprocessing)\n",
    "fashion_df.head(2)"
   ]
  },
  {
   "cell_type": "code",
   "execution_count": 135,
   "metadata": {},
   "outputs": [],
   "source": [
    "# make a pickled file to store the preprocessed tweets\n",
    "pd.to_pickle(fashion_df, 'fashion_preprocessed.pkl')"
   ]
  },
  {
   "cell_type": "code",
   "execution_count": null,
   "metadata": {},
   "outputs": [],
   "source": []
  },
  {
   "cell_type": "code",
   "execution_count": null,
   "metadata": {},
   "outputs": [],
   "source": []
  },
  {
   "cell_type": "markdown",
   "metadata": {},
   "source": [
    "## Fitness Tweets"
   ]
  },
  {
   "cell_type": "code",
   "execution_count": 42,
   "metadata": {},
   "outputs": [
    {
     "data": {
      "text/html": [
       "<div>\n",
       "<style scoped>\n",
       "    .dataframe tbody tr th:only-of-type {\n",
       "        vertical-align: middle;\n",
       "    }\n",
       "\n",
       "    .dataframe tbody tr th {\n",
       "        vertical-align: top;\n",
       "    }\n",
       "\n",
       "    .dataframe thead th {\n",
       "        text-align: right;\n",
       "    }\n",
       "</style>\n",
       "<table border=\"1\" class=\"dataframe\">\n",
       "  <thead>\n",
       "    <tr style=\"text-align: right;\">\n",
       "      <th></th>\n",
       "      <th>user_name</th>\n",
       "      <th>user_desc</th>\n",
       "      <th>location</th>\n",
       "      <th>following</th>\n",
       "      <th>followers</th>\n",
       "      <th>totaltweets</th>\n",
       "      <th>user_createdts</th>\n",
       "      <th>tweet_createdts</th>\n",
       "      <th>retweet_count</th>\n",
       "      <th>text</th>\n",
       "    </tr>\n",
       "  </thead>\n",
       "  <tbody>\n",
       "    <tr>\n",
       "      <th>0</th>\n",
       "      <td>anusualauthor</td>\n",
       "      <td>official tweet of Enigma Anu Aggarwal</td>\n",
       "      <td>Mumbai, India</td>\n",
       "      <td>544</td>\n",
       "      <td>3743</td>\n",
       "      <td>2661</td>\n",
       "      <td>2010-04-30 12:38:54</td>\n",
       "      <td>2020-10-05 15:34:17</td>\n",
       "      <td>0</td>\n",
       "      <td>You get to know your #true #nature in that mom...</td>\n",
       "    </tr>\n",
       "    <tr>\n",
       "      <th>1</th>\n",
       "      <td>WhtIStheSCIENCE</td>\n",
       "      <td>Clinical Director #BCBA for @SpecialNeedsLA #A...</td>\n",
       "      <td>Los Angeles, CA</td>\n",
       "      <td>1008</td>\n",
       "      <td>696</td>\n",
       "      <td>7214</td>\n",
       "      <td>2012-10-15 06:38:35</td>\n",
       "      <td>2020-10-05 15:34:07</td>\n",
       "      <td>1</td>\n",
       "      <td>RT @SpectrumSports8: Cone Flip Melee!! \\n\\n#do...</td>\n",
       "    </tr>\n",
       "    <tr>\n",
       "      <th>2</th>\n",
       "      <td>HeathAJordan</td>\n",
       "      <td>Entrepreneur/ Filmmaker/ CEO/ Producer/ Direct...</td>\n",
       "      <td>Sarasota Florida</td>\n",
       "      <td>6775</td>\n",
       "      <td>8567</td>\n",
       "      <td>50578</td>\n",
       "      <td>2011-06-21 22:56:28</td>\n",
       "      <td>2020-10-05 15:34:03</td>\n",
       "      <td>0</td>\n",
       "      <td>#RT @lucaslagoons: RT @LagoonsDesign: Want to ...</td>\n",
       "    </tr>\n",
       "    <tr>\n",
       "      <th>3</th>\n",
       "      <td>CeciliaMaundu</td>\n",
       "      <td>Broadcast journalist, Specialist in Gender Dig...</td>\n",
       "      <td>Nairobi</td>\n",
       "      <td>888</td>\n",
       "      <td>754</td>\n",
       "      <td>7282</td>\n",
       "      <td>2012-01-11 04:09:14</td>\n",
       "      <td>2020-10-05 15:34:00</td>\n",
       "      <td>4</td>\n",
       "      <td>RT @PollicyOrg: Register for our next hands-on...</td>\n",
       "    </tr>\n",
       "    <tr>\n",
       "      <th>4</th>\n",
       "      <td>LidiaSegundoCar</td>\n",
       "      <td>NaN</td>\n",
       "      <td>NaN</td>\n",
       "      <td>722</td>\n",
       "      <td>772</td>\n",
       "      <td>591</td>\n",
       "      <td>2019-04-09 00:48:01</td>\n",
       "      <td>2020-10-05 15:33:54</td>\n",
       "      <td>1</td>\n",
       "      <td>RT @petertamayo: Nada #cambia si tu no cambias...</td>\n",
       "    </tr>\n",
       "  </tbody>\n",
       "</table>\n",
       "</div>"
      ],
      "text/plain": [
       "         user_name                                          user_desc  \\\n",
       "0    anusualauthor              official tweet of Enigma Anu Aggarwal   \n",
       "1  WhtIStheSCIENCE  Clinical Director #BCBA for @SpecialNeedsLA #A...   \n",
       "2     HeathAJordan  Entrepreneur/ Filmmaker/ CEO/ Producer/ Direct...   \n",
       "3    CeciliaMaundu  Broadcast journalist, Specialist in Gender Dig...   \n",
       "4  LidiaSegundoCar                                                NaN   \n",
       "\n",
       "           location  following  followers  totaltweets       user_createdts  \\\n",
       "0     Mumbai, India        544       3743         2661  2010-04-30 12:38:54   \n",
       "1   Los Angeles, CA       1008        696         7214  2012-10-15 06:38:35   \n",
       "2  Sarasota Florida       6775       8567        50578  2011-06-21 22:56:28   \n",
       "3           Nairobi        888        754         7282  2012-01-11 04:09:14   \n",
       "4               NaN        722        772          591  2019-04-09 00:48:01   \n",
       "\n",
       "       tweet_createdts  retweet_count  \\\n",
       "0  2020-10-05 15:34:17              0   \n",
       "1  2020-10-05 15:34:07              1   \n",
       "2  2020-10-05 15:34:03              0   \n",
       "3  2020-10-05 15:34:00              4   \n",
       "4  2020-10-05 15:33:54              1   \n",
       "\n",
       "                                                text  \n",
       "0  You get to know your #true #nature in that mom...  \n",
       "1  RT @SpectrumSports8: Cone Flip Melee!! \\n\\n#do...  \n",
       "2  #RT @lucaslagoons: RT @LagoonsDesign: Want to ...  \n",
       "3  RT @PollicyOrg: Register for our next hands-on...  \n",
       "4  RT @petertamayo: Nada #cambia si tu no cambias...  "
      ]
     },
     "execution_count": 42,
     "metadata": {},
     "output_type": "execute_result"
    }
   ],
   "source": [
    "# Load fitness tweets into a pandas DataFrame\n",
    "fitness_df = pd.read_csv('fitness_tweets.csv')\n",
    "fitness_df.head()"
   ]
  },
  {
   "cell_type": "code",
   "execution_count": 43,
   "metadata": {},
   "outputs": [
    {
     "data": {
      "text/plain": [
       "(95776, 10)"
      ]
     },
     "execution_count": 43,
     "metadata": {},
     "output_type": "execute_result"
    }
   ],
   "source": [
    "# Find out total no of rows and columns\n",
    "fitness_df.shape"
   ]
  },
  {
   "cell_type": "code",
   "execution_count": 44,
   "metadata": {},
   "outputs": [
    {
     "name": "stdout",
     "output_type": "stream",
     "text": [
      "<class 'pandas.core.frame.DataFrame'>\n",
      "RangeIndex: 95776 entries, 0 to 95775\n",
      "Data columns (total 10 columns):\n",
      "user_name          95776 non-null object\n",
      "user_desc          86638 non-null object\n",
      "location           68689 non-null object\n",
      "following          95776 non-null int64\n",
      "followers          95776 non-null int64\n",
      "totaltweets        95776 non-null int64\n",
      "user_createdts     95776 non-null object\n",
      "tweet_createdts    95776 non-null object\n",
      "retweet_count      95776 non-null int64\n",
      "text               95776 non-null object\n",
      "dtypes: int64(4), object(6)\n",
      "memory usage: 7.3+ MB\n"
     ]
    }
   ],
   "source": [
    "# Count missing values\n",
    "fitness_df.info()"
   ]
  },
  {
   "cell_type": "code",
   "execution_count": 45,
   "metadata": {},
   "outputs": [
    {
     "data": {
      "text/plain": [
       "18596"
      ]
     },
     "execution_count": 45,
     "metadata": {},
     "output_type": "execute_result"
    }
   ],
   "source": [
    "# Check for duplicate tweets \n",
    "duplicate_tweets_fitness = fitness_df.duplicated(keep='first').sum()\n",
    "duplicate_tweets_fitness"
   ]
  },
  {
   "cell_type": "code",
   "execution_count": 46,
   "metadata": {},
   "outputs": [
    {
     "data": {
      "text/plain": [
       "77180"
      ]
     },
     "execution_count": 46,
     "metadata": {},
     "output_type": "execute_result"
    }
   ],
   "source": [
    "# drop duplicates\n",
    "fitness_df = fitness_df.drop_duplicates()\n",
    "len(fitness_df)"
   ]
  },
  {
   "cell_type": "code",
   "execution_count": 47,
   "metadata": {},
   "outputs": [
    {
     "data": {
      "text/plain": [
       "0.40186576833376525"
      ]
     },
     "execution_count": 47,
     "metadata": {},
     "output_type": "execute_result"
    }
   ],
   "source": [
    "# Check for % of retweets\n",
    "fitness_df['text'].apply(lambda x: 'RT' in x[:3]).mean()"
   ]
  },
  {
   "cell_type": "code",
   "execution_count": 48,
   "metadata": {},
   "outputs": [
    {
     "data": {
      "text/plain": [
       "46186"
      ]
     },
     "execution_count": 48,
     "metadata": {},
     "output_type": "execute_result"
    }
   ],
   "source": [
    "# Drop the retweets\n",
    "fitness_df = fitness_df[~fitness_df.text.str.startswith('RT')]\n",
    "len(fitness_df)"
   ]
  },
  {
   "cell_type": "code",
   "execution_count": 49,
   "metadata": {},
   "outputs": [
    {
     "data": {
      "text/html": [
       "<div>\n",
       "<style scoped>\n",
       "    .dataframe tbody tr th:only-of-type {\n",
       "        vertical-align: middle;\n",
       "    }\n",
       "\n",
       "    .dataframe tbody tr th {\n",
       "        vertical-align: top;\n",
       "    }\n",
       "\n",
       "    .dataframe thead th {\n",
       "        text-align: right;\n",
       "    }\n",
       "</style>\n",
       "<table border=\"1\" class=\"dataframe\">\n",
       "  <thead>\n",
       "    <tr style=\"text-align: right;\">\n",
       "      <th></th>\n",
       "      <th>user_name</th>\n",
       "      <th>user_desc</th>\n",
       "      <th>location</th>\n",
       "      <th>following</th>\n",
       "      <th>followers</th>\n",
       "      <th>totaltweets</th>\n",
       "      <th>user_createdts</th>\n",
       "      <th>tweet_createdts</th>\n",
       "      <th>retweet_count</th>\n",
       "      <th>text</th>\n",
       "      <th>hashtags</th>\n",
       "    </tr>\n",
       "  </thead>\n",
       "  <tbody>\n",
       "    <tr>\n",
       "      <th>0</th>\n",
       "      <td>anusualauthor</td>\n",
       "      <td>official tweet of Enigma Anu Aggarwal</td>\n",
       "      <td>Mumbai, India</td>\n",
       "      <td>544</td>\n",
       "      <td>3743</td>\n",
       "      <td>2661</td>\n",
       "      <td>2010-04-30 12:38:54</td>\n",
       "      <td>2020-10-05 15:34:17</td>\n",
       "      <td>0</td>\n",
       "      <td>You get to know your #true #nature in that mom...</td>\n",
       "      <td>{#staysafe, #wellness, #bloom, #quotes, #anua,...</td>\n",
       "    </tr>\n",
       "    <tr>\n",
       "      <th>2</th>\n",
       "      <td>HeathAJordan</td>\n",
       "      <td>Entrepreneur/ Filmmaker/ CEO/ Producer/ Direct...</td>\n",
       "      <td>Sarasota Florida</td>\n",
       "      <td>6775</td>\n",
       "      <td>8567</td>\n",
       "      <td>50578</td>\n",
       "      <td>2011-06-21 22:56:28</td>\n",
       "      <td>2020-10-05 15:34:03</td>\n",
       "      <td>0</td>\n",
       "      <td>#RT @lucaslagoons: RT @LagoonsDesign: Want to ...</td>\n",
       "      <td>{#workout, #insanepools, #lucaslagoons, #rt}</td>\n",
       "    </tr>\n",
       "    <tr>\n",
       "      <th>7</th>\n",
       "      <td>IHealthtou</td>\n",
       "      <td>Welcome to I Health 2 U store!</td>\n",
       "      <td>United States</td>\n",
       "      <td>1</td>\n",
       "      <td>45</td>\n",
       "      <td>3205</td>\n",
       "      <td>2019-12-15 18:16:24</td>\n",
       "      <td>2020-10-05 15:33:33</td>\n",
       "      <td>0</td>\n",
       "      <td>13.58I Health 2 U#inspiration #wellness 310 ml...</td>\n",
       "      <td>{#wellness}</td>\n",
       "    </tr>\n",
       "  </tbody>\n",
       "</table>\n",
       "</div>"
      ],
      "text/plain": [
       "       user_name                                          user_desc  \\\n",
       "0  anusualauthor              official tweet of Enigma Anu Aggarwal   \n",
       "2   HeathAJordan  Entrepreneur/ Filmmaker/ CEO/ Producer/ Direct...   \n",
       "7     IHealthtou                     Welcome to I Health 2 U store!   \n",
       "\n",
       "           location  following  followers  totaltweets       user_createdts  \\\n",
       "0     Mumbai, India        544       3743         2661  2010-04-30 12:38:54   \n",
       "2  Sarasota Florida       6775       8567        50578  2011-06-21 22:56:28   \n",
       "7     United States          1         45         3205  2019-12-15 18:16:24   \n",
       "\n",
       "       tweet_createdts  retweet_count  \\\n",
       "0  2020-10-05 15:34:17              0   \n",
       "2  2020-10-05 15:34:03              0   \n",
       "7  2020-10-05 15:33:33              0   \n",
       "\n",
       "                                                text  \\\n",
       "0  You get to know your #true #nature in that mom...   \n",
       "2  #RT @lucaslagoons: RT @LagoonsDesign: Want to ...   \n",
       "7  13.58I Health 2 U#inspiration #wellness 310 ml...   \n",
       "\n",
       "                                            hashtags  \n",
       "0  {#staysafe, #wellness, #bloom, #quotes, #anua,...  \n",
       "2       {#workout, #insanepools, #lucaslagoons, #rt}  \n",
       "7                                        {#wellness}  "
      ]
     },
     "execution_count": 49,
     "metadata": {},
     "output_type": "execute_result"
    }
   ],
   "source": [
    "# defind a function to find all the hashtags in a tweet\n",
    "\n",
    "def hashtag(text):\n",
    "    return (set([str(i.lower()) for i in text.split() if i.startswith(\"#\")]))\n",
    "\n",
    "fitness_df['hashtags'] = fitness_df['text'].apply(hashtag)\n",
    "fitness_df.head(3)"
   ]
  },
  {
   "cell_type": "code",
   "execution_count": 50,
   "metadata": {},
   "outputs": [
    {
     "data": {
      "text/html": [
       "<div>\n",
       "<style scoped>\n",
       "    .dataframe tbody tr th:only-of-type {\n",
       "        vertical-align: middle;\n",
       "    }\n",
       "\n",
       "    .dataframe tbody tr th {\n",
       "        vertical-align: top;\n",
       "    }\n",
       "\n",
       "    .dataframe thead th {\n",
       "        text-align: right;\n",
       "    }\n",
       "</style>\n",
       "<table border=\"1\" class=\"dataframe\">\n",
       "  <thead>\n",
       "    <tr style=\"text-align: right;\">\n",
       "      <th></th>\n",
       "      <th>user_name</th>\n",
       "      <th>user_desc</th>\n",
       "      <th>location</th>\n",
       "      <th>following</th>\n",
       "      <th>followers</th>\n",
       "      <th>totaltweets</th>\n",
       "      <th>user_createdts</th>\n",
       "      <th>tweet_createdts</th>\n",
       "      <th>retweet_count</th>\n",
       "      <th>text</th>\n",
       "      <th>hashtags</th>\n",
       "      <th>num_hashtags</th>\n",
       "    </tr>\n",
       "  </thead>\n",
       "  <tbody>\n",
       "    <tr>\n",
       "      <th>0</th>\n",
       "      <td>anusualauthor</td>\n",
       "      <td>official tweet of Enigma Anu Aggarwal</td>\n",
       "      <td>Mumbai, India</td>\n",
       "      <td>544</td>\n",
       "      <td>3743</td>\n",
       "      <td>2661</td>\n",
       "      <td>2010-04-30 12:38:54</td>\n",
       "      <td>2020-10-05 15:34:17</td>\n",
       "      <td>0</td>\n",
       "      <td>You get to know your #true #nature in that mom...</td>\n",
       "      <td>{#staysafe, #wellness, #bloom, #quotes, #anua,...</td>\n",
       "      <td>15</td>\n",
       "    </tr>\n",
       "    <tr>\n",
       "      <th>2</th>\n",
       "      <td>HeathAJordan</td>\n",
       "      <td>Entrepreneur/ Filmmaker/ CEO/ Producer/ Direct...</td>\n",
       "      <td>Sarasota Florida</td>\n",
       "      <td>6775</td>\n",
       "      <td>8567</td>\n",
       "      <td>50578</td>\n",
       "      <td>2011-06-21 22:56:28</td>\n",
       "      <td>2020-10-05 15:34:03</td>\n",
       "      <td>0</td>\n",
       "      <td>#RT @lucaslagoons: RT @LagoonsDesign: Want to ...</td>\n",
       "      <td>{#workout, #insanepools, #lucaslagoons, #rt}</td>\n",
       "      <td>4</td>\n",
       "    </tr>\n",
       "    <tr>\n",
       "      <th>7</th>\n",
       "      <td>IHealthtou</td>\n",
       "      <td>Welcome to I Health 2 U store!</td>\n",
       "      <td>United States</td>\n",
       "      <td>1</td>\n",
       "      <td>45</td>\n",
       "      <td>3205</td>\n",
       "      <td>2019-12-15 18:16:24</td>\n",
       "      <td>2020-10-05 15:33:33</td>\n",
       "      <td>0</td>\n",
       "      <td>13.58I Health 2 U#inspiration #wellness 310 ml...</td>\n",
       "      <td>{#wellness}</td>\n",
       "      <td>1</td>\n",
       "    </tr>\n",
       "  </tbody>\n",
       "</table>\n",
       "</div>"
      ],
      "text/plain": [
       "       user_name                                          user_desc  \\\n",
       "0  anusualauthor              official tweet of Enigma Anu Aggarwal   \n",
       "2   HeathAJordan  Entrepreneur/ Filmmaker/ CEO/ Producer/ Direct...   \n",
       "7     IHealthtou                     Welcome to I Health 2 U store!   \n",
       "\n",
       "           location  following  followers  totaltweets       user_createdts  \\\n",
       "0     Mumbai, India        544       3743         2661  2010-04-30 12:38:54   \n",
       "2  Sarasota Florida       6775       8567        50578  2011-06-21 22:56:28   \n",
       "7     United States          1         45         3205  2019-12-15 18:16:24   \n",
       "\n",
       "       tweet_createdts  retweet_count  \\\n",
       "0  2020-10-05 15:34:17              0   \n",
       "2  2020-10-05 15:34:03              0   \n",
       "7  2020-10-05 15:33:33              0   \n",
       "\n",
       "                                                text  \\\n",
       "0  You get to know your #true #nature in that mom...   \n",
       "2  #RT @lucaslagoons: RT @LagoonsDesign: Want to ...   \n",
       "7  13.58I Health 2 U#inspiration #wellness 310 ml...   \n",
       "\n",
       "                                            hashtags  num_hashtags  \n",
       "0  {#staysafe, #wellness, #bloom, #quotes, #anua,...            15  \n",
       "2       {#workout, #insanepools, #lucaslagoons, #rt}             4  \n",
       "7                                        {#wellness}             1  "
      ]
     },
     "execution_count": 50,
     "metadata": {},
     "output_type": "execute_result"
    }
   ],
   "source": [
    "# Count the hashtags per each tweets\n",
    "fitness_df['num_hashtags'] = fitness_df['hashtags'].apply(len)\n",
    "fitness_df.head(3)"
   ]
  },
  {
   "cell_type": "code",
   "execution_count": 51,
   "metadata": {},
   "outputs": [
    {
     "data": {
      "text/html": [
       "<div>\n",
       "<style scoped>\n",
       "    .dataframe tbody tr th:only-of-type {\n",
       "        vertical-align: middle;\n",
       "    }\n",
       "\n",
       "    .dataframe tbody tr th {\n",
       "        vertical-align: top;\n",
       "    }\n",
       "\n",
       "    .dataframe thead th {\n",
       "        text-align: right;\n",
       "    }\n",
       "</style>\n",
       "<table border=\"1\" class=\"dataframe\">\n",
       "  <thead>\n",
       "    <tr style=\"text-align: right;\">\n",
       "      <th></th>\n",
       "      <th>user_name</th>\n",
       "      <th>user_desc</th>\n",
       "      <th>location</th>\n",
       "      <th>following</th>\n",
       "      <th>followers</th>\n",
       "      <th>totaltweets</th>\n",
       "      <th>user_createdts</th>\n",
       "      <th>tweet_createdts</th>\n",
       "      <th>retweet_count</th>\n",
       "      <th>text</th>\n",
       "      <th>hashtags</th>\n",
       "      <th>num_hashtags</th>\n",
       "      <th>num_search_tags</th>\n",
       "    </tr>\n",
       "  </thead>\n",
       "  <tbody>\n",
       "    <tr>\n",
       "      <th>0</th>\n",
       "      <td>anusualauthor</td>\n",
       "      <td>official tweet of Enigma Anu Aggarwal</td>\n",
       "      <td>Mumbai, India</td>\n",
       "      <td>544</td>\n",
       "      <td>3743</td>\n",
       "      <td>2661</td>\n",
       "      <td>2010-04-30 12:38:54</td>\n",
       "      <td>2020-10-05 15:34:17</td>\n",
       "      <td>0</td>\n",
       "      <td>You get to know your #true #nature in that mom...</td>\n",
       "      <td>{#staysafe, #wellness, #bloom, #quotes, #anua,...</td>\n",
       "      <td>15</td>\n",
       "      <td>1</td>\n",
       "    </tr>\n",
       "    <tr>\n",
       "      <th>2</th>\n",
       "      <td>HeathAJordan</td>\n",
       "      <td>Entrepreneur/ Filmmaker/ CEO/ Producer/ Direct...</td>\n",
       "      <td>Sarasota Florida</td>\n",
       "      <td>6775</td>\n",
       "      <td>8567</td>\n",
       "      <td>50578</td>\n",
       "      <td>2011-06-21 22:56:28</td>\n",
       "      <td>2020-10-05 15:34:03</td>\n",
       "      <td>0</td>\n",
       "      <td>#RT @lucaslagoons: RT @LagoonsDesign: Want to ...</td>\n",
       "      <td>{#workout, #insanepools, #lucaslagoons, #rt}</td>\n",
       "      <td>4</td>\n",
       "      <td>1</td>\n",
       "    </tr>\n",
       "    <tr>\n",
       "      <th>7</th>\n",
       "      <td>IHealthtou</td>\n",
       "      <td>Welcome to I Health 2 U store!</td>\n",
       "      <td>United States</td>\n",
       "      <td>1</td>\n",
       "      <td>45</td>\n",
       "      <td>3205</td>\n",
       "      <td>2019-12-15 18:16:24</td>\n",
       "      <td>2020-10-05 15:33:33</td>\n",
       "      <td>0</td>\n",
       "      <td>13.58I Health 2 U#inspiration #wellness 310 ml...</td>\n",
       "      <td>{#wellness}</td>\n",
       "      <td>1</td>\n",
       "      <td>1</td>\n",
       "    </tr>\n",
       "    <tr>\n",
       "      <th>9</th>\n",
       "      <td>KavitaRaoMD</td>\n",
       "      <td>Dr. Kavita Rao M.D. is a Gulf Coast internist ...</td>\n",
       "      <td>St. Petersburg, FL</td>\n",
       "      <td>40</td>\n",
       "      <td>5</td>\n",
       "      <td>673</td>\n",
       "      <td>2014-12-19 18:06:56</td>\n",
       "      <td>2020-10-05 15:33:30</td>\n",
       "      <td>0</td>\n",
       "      <td>Love yourself enough to live a healthy lifesty...</td>\n",
       "      <td>{#health, #healthyliving, #wellness}</td>\n",
       "      <td>3</td>\n",
       "      <td>2</td>\n",
       "    </tr>\n",
       "    <tr>\n",
       "      <th>11</th>\n",
       "      <td>Crystal_Price13</td>\n",
       "      <td>Just me - all day - everyday</td>\n",
       "      <td>Panama City, FL</td>\n",
       "      <td>60</td>\n",
       "      <td>445</td>\n",
       "      <td>12936</td>\n",
       "      <td>2013-05-21 23:46:02</td>\n",
       "      <td>2020-10-05 15:33:25</td>\n",
       "      <td>0</td>\n",
       "      <td>I thought you might enjoy a 5 minute break wit...</td>\n",
       "      <td>{#mylifemindfully, #healthy, #meditateanywhere...</td>\n",
       "      <td>6</td>\n",
       "      <td>4</td>\n",
       "    </tr>\n",
       "  </tbody>\n",
       "</table>\n",
       "</div>"
      ],
      "text/plain": [
       "          user_name                                          user_desc  \\\n",
       "0     anusualauthor              official tweet of Enigma Anu Aggarwal   \n",
       "2      HeathAJordan  Entrepreneur/ Filmmaker/ CEO/ Producer/ Direct...   \n",
       "7        IHealthtou                     Welcome to I Health 2 U store!   \n",
       "9       KavitaRaoMD  Dr. Kavita Rao M.D. is a Gulf Coast internist ...   \n",
       "11  Crystal_Price13                       Just me - all day - everyday   \n",
       "\n",
       "              location  following  followers  totaltweets  \\\n",
       "0        Mumbai, India        544       3743         2661   \n",
       "2     Sarasota Florida       6775       8567        50578   \n",
       "7        United States          1         45         3205   \n",
       "9   St. Petersburg, FL         40          5          673   \n",
       "11     Panama City, FL         60        445        12936   \n",
       "\n",
       "         user_createdts      tweet_createdts  retweet_count  \\\n",
       "0   2010-04-30 12:38:54  2020-10-05 15:34:17              0   \n",
       "2   2011-06-21 22:56:28  2020-10-05 15:34:03              0   \n",
       "7   2019-12-15 18:16:24  2020-10-05 15:33:33              0   \n",
       "9   2014-12-19 18:06:56  2020-10-05 15:33:30              0   \n",
       "11  2013-05-21 23:46:02  2020-10-05 15:33:25              0   \n",
       "\n",
       "                                                 text  \\\n",
       "0   You get to know your #true #nature in that mom...   \n",
       "2   #RT @lucaslagoons: RT @LagoonsDesign: Want to ...   \n",
       "7   13.58I Health 2 U#inspiration #wellness 310 ml...   \n",
       "9   Love yourself enough to live a healthy lifesty...   \n",
       "11  I thought you might enjoy a 5 minute break wit...   \n",
       "\n",
       "                                             hashtags  num_hashtags  \\\n",
       "0   {#staysafe, #wellness, #bloom, #quotes, #anua,...            15   \n",
       "2        {#workout, #insanepools, #lucaslagoons, #rt}             4   \n",
       "7                                         {#wellness}             1   \n",
       "9                {#health, #healthyliving, #wellness}             3   \n",
       "11  {#mylifemindfully, #healthy, #meditateanywhere...             6   \n",
       "\n",
       "    num_search_tags  \n",
       "0                 1  \n",
       "2                 1  \n",
       "7                 1  \n",
       "9                 2  \n",
       "11                4  "
      ]
     },
     "execution_count": 51,
     "metadata": {},
     "output_type": "execute_result"
    }
   ],
   "source": [
    "# find the number of search hashtags (we used thsese tags to pull the tweet) in a tweet\n",
    "fit_search_tags = ['#fitness', '#workout', '#gym', '#healthy', '#fitnessmotivation', '#fitnessmodel', '#healthylifestyle', '#fit', '#mtivation', '#wellness', '#lifestyle', '#mindbody', '#training', '#exercise', '#exercise', '#firnesslife', '#healthandfitness', '#exercisemotivation']\n",
    "\n",
    "\n",
    "def search_hashtags(tags):\n",
    "    t = 0\n",
    "    for i in fit_search_tags:\n",
    "        for j in tags:\n",
    "            if i in j:\n",
    "                t += 1\n",
    "    return t\n",
    "\n",
    "                \n",
    "fitness_df['num_search_tags'] = fitness_df['hashtags'].apply(search_hashtags)\n",
    "fitness_df.head()            "
   ]
  },
  {
   "cell_type": "code",
   "execution_count": 52,
   "metadata": {},
   "outputs": [
    {
     "data": {
      "text/plain": [
       "111"
      ]
     },
     "execution_count": 52,
     "metadata": {},
     "output_type": "execute_result"
    }
   ],
   "source": [
    "# find the the number of tweets with no search hashtags\n",
    "len(fitness_df[fitness_df.num_search_tags == 0])"
   ]
  },
  {
   "cell_type": "code",
   "execution_count": 53,
   "metadata": {},
   "outputs": [
    {
     "data": {
      "text/plain": [
       "46075"
      ]
     },
     "execution_count": 53,
     "metadata": {},
     "output_type": "execute_result"
    }
   ],
   "source": [
    "# drop the tweets with no search hashtags\n",
    "fitness_df = fitness_df[fitness_df.num_search_tags != 0]\n",
    "len(fitness_df)"
   ]
  },
  {
   "cell_type": "code",
   "execution_count": 54,
   "metadata": {},
   "outputs": [
    {
     "data": {
      "text/plain": [
       "41504"
      ]
     },
     "execution_count": 54,
     "metadata": {},
     "output_type": "execute_result"
    }
   ],
   "source": [
    "# Remove tweets between 5000 and 30,000 followers\n",
    "fitness_df = fitness_df[(fitness_df.followers <= 5000) | (fitness_df.followers > 30000)]\n",
    "len(fitness_df)"
   ]
  },
  {
   "cell_type": "code",
   "execution_count": 55,
   "metadata": {},
   "outputs": [
    {
     "data": {
      "text/html": [
       "<div>\n",
       "<style scoped>\n",
       "    .dataframe tbody tr th:only-of-type {\n",
       "        vertical-align: middle;\n",
       "    }\n",
       "\n",
       "    .dataframe tbody tr th {\n",
       "        vertical-align: top;\n",
       "    }\n",
       "\n",
       "    .dataframe thead th {\n",
       "        text-align: right;\n",
       "    }\n",
       "</style>\n",
       "<table border=\"1\" class=\"dataframe\">\n",
       "  <thead>\n",
       "    <tr style=\"text-align: right;\">\n",
       "      <th></th>\n",
       "      <th>user_name</th>\n",
       "      <th>user_desc</th>\n",
       "      <th>location</th>\n",
       "      <th>following</th>\n",
       "      <th>followers</th>\n",
       "      <th>totaltweets</th>\n",
       "      <th>user_createdts</th>\n",
       "      <th>tweet_createdts</th>\n",
       "      <th>retweet_count</th>\n",
       "      <th>text</th>\n",
       "      <th>hashtags</th>\n",
       "      <th>num_hashtags</th>\n",
       "      <th>num_search_tags</th>\n",
       "      <th>label</th>\n",
       "    </tr>\n",
       "  </thead>\n",
       "  <tbody>\n",
       "    <tr>\n",
       "      <th>0</th>\n",
       "      <td>anusualauthor</td>\n",
       "      <td>official tweet of Enigma Anu Aggarwal</td>\n",
       "      <td>Mumbai, India</td>\n",
       "      <td>544</td>\n",
       "      <td>3743</td>\n",
       "      <td>2661</td>\n",
       "      <td>2010-04-30 12:38:54</td>\n",
       "      <td>2020-10-05 15:34:17</td>\n",
       "      <td>0</td>\n",
       "      <td>You get to know your #true #nature in that mom...</td>\n",
       "      <td>{#staysafe, #wellness, #bloom, #quotes, #anua,...</td>\n",
       "      <td>15</td>\n",
       "      <td>1</td>\n",
       "      <td>0</td>\n",
       "    </tr>\n",
       "    <tr>\n",
       "      <th>7</th>\n",
       "      <td>IHealthtou</td>\n",
       "      <td>Welcome to I Health 2 U store!</td>\n",
       "      <td>United States</td>\n",
       "      <td>1</td>\n",
       "      <td>45</td>\n",
       "      <td>3205</td>\n",
       "      <td>2019-12-15 18:16:24</td>\n",
       "      <td>2020-10-05 15:33:33</td>\n",
       "      <td>0</td>\n",
       "      <td>13.58I Health 2 U#inspiration #wellness 310 ml...</td>\n",
       "      <td>{#wellness}</td>\n",
       "      <td>1</td>\n",
       "      <td>1</td>\n",
       "      <td>0</td>\n",
       "    </tr>\n",
       "  </tbody>\n",
       "</table>\n",
       "</div>"
      ],
      "text/plain": [
       "       user_name                              user_desc       location  \\\n",
       "0  anusualauthor  official tweet of Enigma Anu Aggarwal  Mumbai, India   \n",
       "7     IHealthtou         Welcome to I Health 2 U store!  United States   \n",
       "\n",
       "   following  followers  totaltweets       user_createdts  \\\n",
       "0        544       3743         2661  2010-04-30 12:38:54   \n",
       "7          1         45         3205  2019-12-15 18:16:24   \n",
       "\n",
       "       tweet_createdts  retweet_count  \\\n",
       "0  2020-10-05 15:34:17              0   \n",
       "7  2020-10-05 15:33:33              0   \n",
       "\n",
       "                                                text  \\\n",
       "0  You get to know your #true #nature in that mom...   \n",
       "7  13.58I Health 2 U#inspiration #wellness 310 ml...   \n",
       "\n",
       "                                            hashtags  num_hashtags  \\\n",
       "0  {#staysafe, #wellness, #bloom, #quotes, #anua,...            15   \n",
       "7                                        {#wellness}             1   \n",
       "\n",
       "   num_search_tags  label  \n",
       "0                1      0  \n",
       "7                1      0  "
      ]
     },
     "execution_count": 55,
     "metadata": {},
     "output_type": "execute_result"
    }
   ],
   "source": [
    "# define a function to label the tweets based on the number of followers the user have\n",
    "def label_func(followers):\n",
    "    if followers > 30000:\n",
    "        return 1\n",
    "    else:\n",
    "        return 0\n",
    "fitness_df['label'] = fitness_df['followers'].apply(label_func)\n",
    "fitness_df.head(2)"
   ]
  },
  {
   "cell_type": "code",
   "execution_count": 56,
   "metadata": {},
   "outputs": [
    {
     "data": {
      "text/plain": [
       "0    39958\n",
       "1     1546\n",
       "Name: label, dtype: int64"
      ]
     },
     "execution_count": 56,
     "metadata": {},
     "output_type": "execute_result"
    }
   ],
   "source": [
    "# counts the number of tweets in each label\n",
    "followers_count_fit = fitness_df['label'].value_counts().sort_index()\n",
    "followers_count_fit"
   ]
  },
  {
   "cell_type": "code",
   "execution_count": 57,
   "metadata": {},
   "outputs": [
    {
     "data": {
      "image/png": "[encoded data removed]",
      "text/plain": [
       "<Figure size 576x432 with 1 Axes>"
      ]
     },
     "metadata": {},
     "output_type": "display_data"
    }
   ],
   "source": [
    "# Pie plot to show the percentage of tweets in each label\n",
    "fig, ax = plt.subplots(figsize=(8, 6), subplot_kw=dict(aspect=\"equal\"))\n",
    "plt.pie(followers_count_fit, labels=[0,1],startangle=90, autopct='%.0f%%')\n",
    "\n",
    "ax.legend([\"0: Followers count <= 5000\", \"1: Followers count > 30000\"], loc=\"center left\",bbox_to_anchor=(1, 0, 0.5, 1))\n",
    "\n",
    "ax.set_title(\"Followers Count (Fitness Tweets)\", fontsize=20)\n",
    "\n",
    "plt.show()"
   ]
  },
  {
   "cell_type": "markdown",
   "metadata": {},
   "source": [
    "### Distribution of Word Count, % of caps, number of hashtags in different labels (followers count category)"
   ]
  },
  {
   "cell_type": "code",
   "execution_count": 58,
   "metadata": {},
   "outputs": [
    {
     "data": {
      "text/html": [
       "<div>\n",
       "<style scoped>\n",
       "    .dataframe tbody tr th:only-of-type {\n",
       "        vertical-align: middle;\n",
       "    }\n",
       "\n",
       "    .dataframe tbody tr th {\n",
       "        vertical-align: top;\n",
       "    }\n",
       "\n",
       "    .dataframe thead th {\n",
       "        text-align: right;\n",
       "    }\n",
       "</style>\n",
       "<table border=\"1\" class=\"dataframe\">\n",
       "  <thead>\n",
       "    <tr style=\"text-align: right;\">\n",
       "      <th></th>\n",
       "      <th>user_name</th>\n",
       "      <th>user_desc</th>\n",
       "      <th>location</th>\n",
       "      <th>following</th>\n",
       "      <th>followers</th>\n",
       "      <th>totaltweets</th>\n",
       "      <th>user_createdts</th>\n",
       "      <th>tweet_createdts</th>\n",
       "      <th>retweet_count</th>\n",
       "      <th>text</th>\n",
       "      <th>hashtags</th>\n",
       "      <th>num_hashtags</th>\n",
       "      <th>num_search_tags</th>\n",
       "      <th>label</th>\n",
       "      <th>tweet_length</th>\n",
       "    </tr>\n",
       "  </thead>\n",
       "  <tbody>\n",
       "    <tr>\n",
       "      <th>0</th>\n",
       "      <td>anusualauthor</td>\n",
       "      <td>official tweet of Enigma Anu Aggarwal</td>\n",
       "      <td>Mumbai, India</td>\n",
       "      <td>544</td>\n",
       "      <td>3743</td>\n",
       "      <td>2661</td>\n",
       "      <td>2010-04-30 12:38:54</td>\n",
       "      <td>2020-10-05 15:34:17</td>\n",
       "      <td>0</td>\n",
       "      <td>You get to know your #true #nature in that mom...</td>\n",
       "      <td>{#staysafe, #wellness, #bloom, #quotes, #anua,...</td>\n",
       "      <td>15</td>\n",
       "      <td>1</td>\n",
       "      <td>0</td>\n",
       "      <td>36</td>\n",
       "    </tr>\n",
       "    <tr>\n",
       "      <th>7</th>\n",
       "      <td>IHealthtou</td>\n",
       "      <td>Welcome to I Health 2 U store!</td>\n",
       "      <td>United States</td>\n",
       "      <td>1</td>\n",
       "      <td>45</td>\n",
       "      <td>3205</td>\n",
       "      <td>2019-12-15 18:16:24</td>\n",
       "      <td>2020-10-05 15:33:33</td>\n",
       "      <td>0</td>\n",
       "      <td>13.58I Health 2 U#inspiration #wellness 310 ml...</td>\n",
       "      <td>{#wellness}</td>\n",
       "      <td>1</td>\n",
       "      <td>1</td>\n",
       "      <td>0</td>\n",
       "      <td>15</td>\n",
       "    </tr>\n",
       "  </tbody>\n",
       "</table>\n",
       "</div>"
      ],
      "text/plain": [
       "       user_name                              user_desc       location  \\\n",
       "0  anusualauthor  official tweet of Enigma Anu Aggarwal  Mumbai, India   \n",
       "7     IHealthtou         Welcome to I Health 2 U store!  United States   \n",
       "\n",
       "   following  followers  totaltweets       user_createdts  \\\n",
       "0        544       3743         2661  2010-04-30 12:38:54   \n",
       "7          1         45         3205  2019-12-15 18:16:24   \n",
       "\n",
       "       tweet_createdts  retweet_count  \\\n",
       "0  2020-10-05 15:34:17              0   \n",
       "7  2020-10-05 15:33:33              0   \n",
       "\n",
       "                                                text  \\\n",
       "0  You get to know your #true #nature in that mom...   \n",
       "7  13.58I Health 2 U#inspiration #wellness 310 ml...   \n",
       "\n",
       "                                            hashtags  num_hashtags  \\\n",
       "0  {#staysafe, #wellness, #bloom, #quotes, #anua,...            15   \n",
       "7                                        {#wellness}             1   \n",
       "\n",
       "   num_search_tags  label  tweet_length  \n",
       "0                1      0            36  \n",
       "7                1      0            15  "
      ]
     },
     "execution_count": 58,
     "metadata": {},
     "output_type": "execute_result"
    }
   ],
   "source": [
    "# Distribution of tweet length in different labels (followers category)\n",
    "\n",
    "fitness_df['tweet_length'] = fitness_df['text'].apply(lambda x: len(x.split())) # tweet length\n",
    "fitness_df.head(2)"
   ]
  },
  {
   "cell_type": "code",
   "execution_count": 59,
   "metadata": {},
   "outputs": [
    {
     "data": {
      "text/plain": [
       "TheMysticMist      292\n",
       "StanleyEpstein     149\n",
       "EarthWizardInfo    126\n",
       "buzbuzhd           112\n",
       "DatinginAus         95\n",
       "DatingAceUSA        91\n",
       "VanessaCarters      88\n",
       "XFitnessWelland     84\n",
       "discoveryvip        78\n",
       "BcabaNetwork        73\n",
       "Name: user_name, dtype: int64"
      ]
     },
     "execution_count": 59,
     "metadata": {},
     "output_type": "execute_result"
    }
   ],
   "source": [
    "# user with higest number of tweets on fashion\n",
    "user_fit = fitness_df['user_name'].value_counts()\n",
    "user_fit.head(10)"
   ]
  },
  {
   "cell_type": "code",
   "execution_count": 60,
   "metadata": {},
   "outputs": [
    {
     "data": {
      "image/png": "[encoded data removed]",
      "text/plain": [
       "<Figure size 720x576 with 1 Axes>"
      ]
     },
     "metadata": {
      "needs_background": "light"
     },
     "output_type": "display_data"
    }
   ],
   "source": [
    "# tweet length distribution at different labels\n",
    "plt.figure(figsize=(10, 8))\n",
    "sns.boxplot(x = 'label', y = 'tweet_length', data = fitness_df, showfliers=False, color='#A60628')\n",
    "plt.xlabel('Label', fontsize=20)\n",
    "plt.ylabel('Tweet Length', fontsize=20)\n",
    "plt.title('Distribution of Tweet Length (Fitness Tweets)', fontsize=20)\n",
    "plt.xticks(fontsize=20)\n",
    "plt.yticks(fontsize=20)\n",
    "plt.show()"
   ]
  },
  {
   "cell_type": "code",
   "execution_count": 61,
   "metadata": {},
   "outputs": [
    {
     "data": {
      "text/html": [
       "<div>\n",
       "<style scoped>\n",
       "    .dataframe tbody tr th:only-of-type {\n",
       "        vertical-align: middle;\n",
       "    }\n",
       "\n",
       "    .dataframe tbody tr th {\n",
       "        vertical-align: top;\n",
       "    }\n",
       "\n",
       "    .dataframe thead th {\n",
       "        text-align: right;\n",
       "    }\n",
       "</style>\n",
       "<table border=\"1\" class=\"dataframe\">\n",
       "  <thead>\n",
       "    <tr style=\"text-align: right;\">\n",
       "      <th></th>\n",
       "      <th>user_name</th>\n",
       "      <th>user_desc</th>\n",
       "      <th>location</th>\n",
       "      <th>following</th>\n",
       "      <th>followers</th>\n",
       "      <th>totaltweets</th>\n",
       "      <th>user_createdts</th>\n",
       "      <th>tweet_createdts</th>\n",
       "      <th>retweet_count</th>\n",
       "      <th>text</th>\n",
       "      <th>hashtags</th>\n",
       "      <th>num_hashtags</th>\n",
       "      <th>num_search_tags</th>\n",
       "      <th>label</th>\n",
       "      <th>tweet_length</th>\n",
       "      <th>% caps</th>\n",
       "    </tr>\n",
       "  </thead>\n",
       "  <tbody>\n",
       "    <tr>\n",
       "      <th>0</th>\n",
       "      <td>anusualauthor</td>\n",
       "      <td>official tweet of Enigma Anu Aggarwal</td>\n",
       "      <td>Mumbai, India</td>\n",
       "      <td>544</td>\n",
       "      <td>3743</td>\n",
       "      <td>2661</td>\n",
       "      <td>2010-04-30 12:38:54</td>\n",
       "      <td>2020-10-05 15:34:17</td>\n",
       "      <td>0</td>\n",
       "      <td>You get to know your #true #nature in that mom...</td>\n",
       "      <td>{#staysafe, #wellness, #bloom, #quotes, #anua,...</td>\n",
       "      <td>15</td>\n",
       "      <td>1</td>\n",
       "      <td>0</td>\n",
       "      <td>36</td>\n",
       "      <td>2.105263</td>\n",
       "    </tr>\n",
       "    <tr>\n",
       "      <th>7</th>\n",
       "      <td>IHealthtou</td>\n",
       "      <td>Welcome to I Health 2 U store!</td>\n",
       "      <td>United States</td>\n",
       "      <td>1</td>\n",
       "      <td>45</td>\n",
       "      <td>3205</td>\n",
       "      <td>2019-12-15 18:16:24</td>\n",
       "      <td>2020-10-05 15:33:33</td>\n",
       "      <td>0</td>\n",
       "      <td>13.58I Health 2 U#inspiration #wellness 310 ml...</td>\n",
       "      <td>{#wellness}</td>\n",
       "      <td>1</td>\n",
       "      <td>1</td>\n",
       "      <td>0</td>\n",
       "      <td>15</td>\n",
       "      <td>11.111111</td>\n",
       "    </tr>\n",
       "  </tbody>\n",
       "</table>\n",
       "</div>"
      ],
      "text/plain": [
       "       user_name                              user_desc       location  \\\n",
       "0  anusualauthor  official tweet of Enigma Anu Aggarwal  Mumbai, India   \n",
       "7     IHealthtou         Welcome to I Health 2 U store!  United States   \n",
       "\n",
       "   following  followers  totaltweets       user_createdts  \\\n",
       "0        544       3743         2661  2010-04-30 12:38:54   \n",
       "7          1         45         3205  2019-12-15 18:16:24   \n",
       "\n",
       "       tweet_createdts  retweet_count  \\\n",
       "0  2020-10-05 15:34:17              0   \n",
       "7  2020-10-05 15:33:33              0   \n",
       "\n",
       "                                                text  \\\n",
       "0  You get to know your #true #nature in that mom...   \n",
       "7  13.58I Health 2 U#inspiration #wellness 310 ml...   \n",
       "\n",
       "                                            hashtags  num_hashtags  \\\n",
       "0  {#staysafe, #wellness, #bloom, #quotes, #anua,...            15   \n",
       "7                                        {#wellness}             1   \n",
       "\n",
       "   num_search_tags  label  tweet_length     % caps  \n",
       "0                1      0            36   2.105263  \n",
       "7                1      0            15  11.111111  "
      ]
     },
     "execution_count": 61,
     "metadata": {},
     "output_type": "execute_result"
    }
   ],
   "source": [
    "# define a function to get % of caps in a tweet\n",
    "def caps(text):\n",
    "    return np.mean([1 if i.isupper() else 0 for i in text]) * 100\n",
    "\n",
    "fitness_df['% caps'] = fitness_df['text'].apply(caps)\n",
    "fitness_df.head(2)"
   ]
  },
  {
   "cell_type": "code",
   "execution_count": 62,
   "metadata": {},
   "outputs": [
    {
     "data": {
      "image/png": "[encoded data removed]",
      "text/plain": [
       "<Figure size 720x576 with 1 Axes>"
      ]
     },
     "metadata": {
      "needs_background": "light"
     },
     "output_type": "display_data"
    }
   ],
   "source": [
    "# Distribution of % of Caps in different followers count (labels)\n",
    "plt.figure(figsize=(10, 8))\n",
    "sns.boxplot(x = 'label', y = fitness_df['% caps'], data = fitness_df, showfliers=False, color='#A60628').set(xlabel= 'Label',ylabel='% of Capitals', title='Distribution of % caps (Fitness Tweets)')\n",
    "plt.xlabel('Label', fontsize=20)\n",
    "plt.ylabel('% of Capitals', fontsize=20)\n",
    "plt.title('Distribution of % caps (Fitness Tweets)', fontsize=20)\n",
    "plt.xticks(fontsize=20)\n",
    "plt.yticks(fontsize=20)\n",
    "plt.show()"
   ]
  },
  {
   "cell_type": "code",
   "execution_count": 63,
   "metadata": {},
   "outputs": [
    {
     "data": {
      "text/html": [
       "<div>\n",
       "<style scoped>\n",
       "    .dataframe tbody tr th:only-of-type {\n",
       "        vertical-align: middle;\n",
       "    }\n",
       "\n",
       "    .dataframe tbody tr th {\n",
       "        vertical-align: top;\n",
       "    }\n",
       "\n",
       "    .dataframe thead th {\n",
       "        text-align: right;\n",
       "    }\n",
       "</style>\n",
       "<table border=\"1\" class=\"dataframe\">\n",
       "  <thead>\n",
       "    <tr style=\"text-align: right;\">\n",
       "      <th></th>\n",
       "      <th>% caps</th>\n",
       "    </tr>\n",
       "    <tr>\n",
       "      <th>label</th>\n",
       "      <th></th>\n",
       "    </tr>\n",
       "  </thead>\n",
       "  <tbody>\n",
       "    <tr>\n",
       "      <th>0</th>\n",
       "      <td>7.961947</td>\n",
       "    </tr>\n",
       "    <tr>\n",
       "      <th>1</th>\n",
       "      <td>7.904393</td>\n",
       "    </tr>\n",
       "  </tbody>\n",
       "</table>\n",
       "</div>"
      ],
      "text/plain": [
       "         % caps\n",
       "label          \n",
       "0      7.961947\n",
       "1      7.904393"
      ]
     },
     "execution_count": 63,
     "metadata": {},
     "output_type": "execute_result"
    }
   ],
   "source": [
    "fitness_df[['label', '% caps']].groupby('label').mean()"
   ]
  },
  {
   "cell_type": "code",
   "execution_count": 64,
   "metadata": {},
   "outputs": [
    {
     "data": {
      "image/png": "[encoded data removed]",
      "text/plain": [
       "<Figure size 720x576 with 1 Axes>"
      ]
     },
     "metadata": {
      "needs_background": "light"
     },
     "output_type": "display_data"
    }
   ],
   "source": [
    "# Distribution of % caps\n",
    "plt.figure(figsize=(18, 6))\n",
    "\n",
    "fitness_df['% caps'].hist(color='#A60628', alpha=0.8, figsize=(10,8))\n",
    "plt.yscale('log', nonposy='clip')\n",
    "plt.title('Fitness Tweets', fontsize=20)\n",
    "plt.xlabel('% Caps', fontsize=20)\n",
    "plt.ylabel('Count', fontsize=20)\n",
    "plt.xticks(fontsize=20)\n",
    "plt.yticks(fontsize=20)\n",
    "plt.show()"
   ]
  },
  {
   "cell_type": "code",
   "execution_count": 65,
   "metadata": {
    "scrolled": true
   },
   "outputs": [
    {
     "data": {
      "text/html": [
       "<div>\n",
       "<style scoped>\n",
       "    .dataframe tbody tr th:only-of-type {\n",
       "        vertical-align: middle;\n",
       "    }\n",
       "\n",
       "    .dataframe tbody tr th {\n",
       "        vertical-align: top;\n",
       "    }\n",
       "\n",
       "    .dataframe thead th {\n",
       "        text-align: right;\n",
       "    }\n",
       "</style>\n",
       "<table border=\"1\" class=\"dataframe\">\n",
       "  <thead>\n",
       "    <tr style=\"text-align: right;\">\n",
       "      <th></th>\n",
       "      <th>user_name</th>\n",
       "      <th>user_desc</th>\n",
       "      <th>location</th>\n",
       "      <th>following</th>\n",
       "      <th>followers</th>\n",
       "      <th>totaltweets</th>\n",
       "      <th>user_createdts</th>\n",
       "      <th>tweet_createdts</th>\n",
       "      <th>retweet_count</th>\n",
       "      <th>text</th>\n",
       "      <th>hashtags</th>\n",
       "      <th>num_hashtags</th>\n",
       "      <th>num_search_tags</th>\n",
       "      <th>label</th>\n",
       "      <th>tweet_length</th>\n",
       "      <th>% caps</th>\n",
       "      <th>manycaps</th>\n",
       "    </tr>\n",
       "  </thead>\n",
       "  <tbody>\n",
       "    <tr>\n",
       "      <th>0</th>\n",
       "      <td>anusualauthor</td>\n",
       "      <td>official tweet of Enigma Anu Aggarwal</td>\n",
       "      <td>Mumbai, India</td>\n",
       "      <td>544</td>\n",
       "      <td>3743</td>\n",
       "      <td>2661</td>\n",
       "      <td>2010-04-30 12:38:54</td>\n",
       "      <td>2020-10-05 15:34:17</td>\n",
       "      <td>0</td>\n",
       "      <td>You get to know your #true #nature in that mom...</td>\n",
       "      <td>{#staysafe, #wellness, #bloom, #quotes, #anua,...</td>\n",
       "      <td>15</td>\n",
       "      <td>1</td>\n",
       "      <td>0</td>\n",
       "      <td>36</td>\n",
       "      <td>2.105263</td>\n",
       "      <td>False</td>\n",
       "    </tr>\n",
       "    <tr>\n",
       "      <th>7</th>\n",
       "      <td>IHealthtou</td>\n",
       "      <td>Welcome to I Health 2 U store!</td>\n",
       "      <td>United States</td>\n",
       "      <td>1</td>\n",
       "      <td>45</td>\n",
       "      <td>3205</td>\n",
       "      <td>2019-12-15 18:16:24</td>\n",
       "      <td>2020-10-05 15:33:33</td>\n",
       "      <td>0</td>\n",
       "      <td>13.58I Health 2 U#inspiration #wellness 310 ml...</td>\n",
       "      <td>{#wellness}</td>\n",
       "      <td>1</td>\n",
       "      <td>1</td>\n",
       "      <td>0</td>\n",
       "      <td>15</td>\n",
       "      <td>11.111111</td>\n",
       "      <td>False</td>\n",
       "    </tr>\n",
       "  </tbody>\n",
       "</table>\n",
       "</div>"
      ],
      "text/plain": [
       "       user_name                              user_desc       location  \\\n",
       "0  anusualauthor  official tweet of Enigma Anu Aggarwal  Mumbai, India   \n",
       "7     IHealthtou         Welcome to I Health 2 U store!  United States   \n",
       "\n",
       "   following  followers  totaltweets       user_createdts  \\\n",
       "0        544       3743         2661  2010-04-30 12:38:54   \n",
       "7          1         45         3205  2019-12-15 18:16:24   \n",
       "\n",
       "       tweet_createdts  retweet_count  \\\n",
       "0  2020-10-05 15:34:17              0   \n",
       "7  2020-10-05 15:33:33              0   \n",
       "\n",
       "                                                text  \\\n",
       "0  You get to know your #true #nature in that mom...   \n",
       "7  13.58I Health 2 U#inspiration #wellness 310 ml...   \n",
       "\n",
       "                                            hashtags  num_hashtags  \\\n",
       "0  {#staysafe, #wellness, #bloom, #quotes, #anua,...            15   \n",
       "7                                        {#wellness}             1   \n",
       "\n",
       "   num_search_tags  label  tweet_length     % caps  manycaps  \n",
       "0                1      0            36   2.105263     False  \n",
       "7                1      0            15  11.111111     False  "
      ]
     },
     "execution_count": 65,
     "metadata": {},
     "output_type": "execute_result"
    }
   ],
   "source": [
    "# Distributions of % caps (> 20%) in different labels\n",
    "\n",
    "fitness_df['manycaps'] = fitness_df['% caps'].apply(lambda x: x > 20)\n",
    "fitness_df.head(2)"
   ]
  },
  {
   "cell_type": "code",
   "execution_count": 66,
   "metadata": {},
   "outputs": [
    {
     "data": {
      "text/html": [
       "<div>\n",
       "<style scoped>\n",
       "    .dataframe tbody tr th:only-of-type {\n",
       "        vertical-align: middle;\n",
       "    }\n",
       "\n",
       "    .dataframe tbody tr th {\n",
       "        vertical-align: top;\n",
       "    }\n",
       "\n",
       "    .dataframe thead th {\n",
       "        text-align: right;\n",
       "    }\n",
       "</style>\n",
       "<table border=\"1\" class=\"dataframe\">\n",
       "  <thead>\n",
       "    <tr style=\"text-align: right;\">\n",
       "      <th></th>\n",
       "      <th>manycaps</th>\n",
       "    </tr>\n",
       "    <tr>\n",
       "      <th>label</th>\n",
       "      <th></th>\n",
       "    </tr>\n",
       "  </thead>\n",
       "  <tbody>\n",
       "    <tr>\n",
       "      <th>0</th>\n",
       "      <td>0.022223</td>\n",
       "    </tr>\n",
       "    <tr>\n",
       "      <th>1</th>\n",
       "      <td>0.007762</td>\n",
       "    </tr>\n",
       "  </tbody>\n",
       "</table>\n",
       "</div>"
      ],
      "text/plain": [
       "       manycaps\n",
       "label          \n",
       "0      0.022223\n",
       "1      0.007762"
      ]
     },
     "execution_count": 66,
     "metadata": {},
     "output_type": "execute_result"
    }
   ],
   "source": [
    "manycaps_fitness = fitness_df[['label', 'manycaps']].groupby('label').mean()\n",
    "manycaps_fitness"
   ]
  },
  {
   "cell_type": "code",
   "execution_count": 67,
   "metadata": {},
   "outputs": [
    {
     "data": {
      "image/png": "[encoded data removed]",
      "text/plain": [
       "<Figure size 720x576 with 1 Axes>"
      ]
     },
     "metadata": {
      "needs_background": "light"
     },
     "output_type": "display_data"
    }
   ],
   "source": [
    "manycaps_fitness = fitness_df[['label', 'manycaps']].groupby('label').mean()\n",
    "manycaps_fitness.plot(kind='bar', color='#A60628',rot = 0, alpha=0.8, figsize=(10,8))\n",
    "plt.xlabel('Label', fontsize=20)\n",
    "plt.ylabel('% of tweets with >20% Capitals', fontsize=20)\n",
    "plt.title('Fitness Tweets', fontsize=20)\n",
    "plt.xticks(fontsize=20)\n",
    "plt.yticks(fontsize=15)\n",
    "plt.show()"
   ]
  },
  {
   "cell_type": "code",
   "execution_count": 68,
   "metadata": {},
   "outputs": [
    {
     "data": {
      "image/png": "[encoded data removed]",
      "text/plain": [
       "<Figure size 720x576 with 1 Axes>"
      ]
     },
     "metadata": {
      "needs_background": "light"
     },
     "output_type": "display_data"
    }
   ],
   "source": [
    "# Distribution of number of hashtags in different labels\n",
    "plt.figure(figsize=(10, 8))\n",
    "sns.boxplot(x = 'label', y = 'num_hashtags', data = fitness_df, showfliers=False, color='#A60628')\n",
    "plt.xlabel('Label', fontsize=20)\n",
    "plt.ylabel('Hashtags Per Tweet', fontsize=20)\n",
    "plt.title('Distribution of hashtags per tweet (Fitness Tweets)', fontsize=20)\n",
    "plt.xticks(fontsize=20)\n",
    "plt.yticks(fontsize=20)\n",
    "plt.show()"
   ]
  },
  {
   "cell_type": "code",
   "execution_count": 86,
   "metadata": {},
   "outputs": [
    {
     "data": {
      "image/png": "[encoded data removed]",
      "text/plain": [
       "<Figure size 720x576 with 1 Axes>"
      ]
     },
     "metadata": {
      "needs_background": "light"
     },
     "output_type": "display_data"
    }
   ],
   "source": [
    "# Distribution of reading level in different labels (Automated Readability Index)\n",
    "plt.figure(figsize=(10, 8))\n",
    "sns.boxplot(x = 'label', y = fitness_df['text'].apply(lambda x: textstat.automated_readability_index(x)), data = fitness_df, showfliers=False,color='#A60628')\n",
    "plt.xlabel('Label', fontsize=20)\n",
    "plt.ylabel('Reading Level', fontsize=20)\n",
    "plt.title('Distribution of Tweet Reading Level (Fitness Tweets)', fontsize=20)\n",
    "plt.xticks(fontsize=20)\n",
    "plt.yticks(fontsize=20)\n",
    "plt.show()"
   ]
  },
  {
   "cell_type": "code",
   "execution_count": 226,
   "metadata": {},
   "outputs": [
    {
     "data": {
      "image/png": "[encoded data removed]",
      "text/plain": [
       "<Figure size 720x576 with 1 Axes>"
      ]
     },
     "metadata": {
      "needs_background": "light"
     },
     "output_type": "display_data"
    }
   ],
   "source": [
    "# Distribution of reading level in different labels (Fog Scale)\n",
    "plt.figure(figsize=(10, 8))\n",
    "sns.boxplot(x = 'label', y = fitness_df['text'].apply(lambda x: textstat.gunning_fog(x)), data = fitness_df, showfliers=False, color='#A60628').set(xlabel= 'Label',ylabel='Reading Level', title='Distribution of Tweet Reading Level (Fitness Tweets)')\n",
    "plt.show()"
   ]
  },
  {
   "cell_type": "code",
   "execution_count": 227,
   "metadata": {},
   "outputs": [
    {
     "data": {
      "image/png": "[encoded data removed]",
      "text/plain": [
       "<Figure size 720x576 with 1 Axes>"
      ]
     },
     "metadata": {
      "needs_background": "light"
     },
     "output_type": "display_data"
    }
   ],
   "source": [
    "# Distribution of reading level in different labels (Coleman-Liau Index)\n",
    "plt.figure(figsize=(10, 8))\n",
    "sns.boxplot(x = 'label', y = fitness_df['text'].apply(lambda x: textstat.coleman_liau_index(x)), data = fitness_df, showfliers=False, color='#A60628').set(xlabel= 'Label',ylabel='Reading Level', title='Distribution of Tweet Reading Level (Fitness Tweets)')\n",
    "plt.show()"
   ]
  },
  {
   "cell_type": "markdown",
   "metadata": {},
   "source": [
    "### Filter examples of text containing most predictive words ( Machine Learning : Most Predictive word)"
   ]
  },
  {
   "cell_type": "code",
   "execution_count": 69,
   "metadata": {},
   "outputs": [
    {
     "name": "stdout",
     "output_type": "stream",
     "text": [
      "2106     Portland | Oregon | SW Washington\\nCaptivating...\n",
      "2911     Greater Sacramento\\nWarm and charming Serrano ...\n",
      "4489     San Antonio &amp; the Hill Country\\nImpressive...\n",
      "5312     Seattle, Puget Sound Region\\nExquisite Anacort...\n",
      "6617     Silicon Valley | SF Peninsula | Coastal\\nGated...\n",
      "6916     Silicon Valley | SF Peninsula | Coastal\\nGated...\n",
      "12795    Hawaii\\nBeautiful Kohala Waterfront offering\\n...\n",
      "22661    San Antonio &amp; the Hill Country\\nLuxurious ...\n",
      "23456    Seattle, Puget Sound Region\\nPeaceful waterfro...\n",
      "23790    Seattle, Puget Sound Region\\nPeaceful waterfro...\n",
      "25866    Tampa Bay | Greater Sarasota\\nBeautiful one-st...\n",
      "27480    Arizona\\nSpectacular home at White Horse\\nhttp...\n",
      "31417    Austin &amp; the Hill Country\\nStunning home w...\n",
      "31777    Austin &amp; the Hill Country\\nStunning home w...\n",
      "33864    Dallas | Fort Worth\\nBeautiful equestrian para...\n",
      "37241    Greater Nashville\\nBeautifully maintained home...\n",
      "38054    The Palm Beaches\\nModern masterpiece on the wa...\n",
      "40484    Greater Sacramento\\nFabulous contemporary cust...\n",
      "42075    San Antonio &amp; the Hill Country\\nCustom-bui...\n",
      "42383    San Antonio &amp; the Hill Country\\nCustom-bui...\n",
      "48608    Silicon Valley | SF Peninsula | Coastal\\nExtra...\n",
      "50245    Tampa Bay | Greater Sarasota\\nBeautiful Bayou ...\n",
      "51068    The Palm Beaches\\nOld World Tuscan estate on 5...\n",
      "52670    Portland | Oregon | SW Washington\\nBreathtakin...\n",
      "52991    Portland | Oregon | SW Washington\\nBreathtakin...\n",
      "57489    San Francisco's East Bay Area\\nExquisite custo...\n",
      "60258    Greater Sacramento\\nSprawling Granite Bay home...\n",
      "61047    San Antonio &amp; the Hill Country\\nSpectacula...\n",
      "62694    Seattle, Puget Sound Region\\nBuilder's persona...\n",
      "70710    Arizona\\nImmaculate home on over 3 acres of pr...\n",
      "71547    Austin &amp; the Hill Country\\nBeautiful and s...\n",
      "72819    Charlotte | North Carolina\\nFabulous estate ho...\n",
      "73116    Charlotte | North Carolina\\nFabulous estate ho...\n",
      "73618    Dallas | Fort Worth\\nNorth Dallas contemporary...\n",
      "73893    Dallas | Fort Worth\\nNorth Dallas contemporary...\n",
      "74183    Dallas | Fort Worth\\nNorth Dallas contemporary...\n",
      "79865    Hawaii\\nQuintessential Maui oceanfront residen...\n",
      "80666    Greater Nashville\\nOpulent home in Brentwood\\n...\n",
      "83070    Portland | Oregon | SW Washington\\nWonderful F...\n",
      "83378    Portland | Oregon | SW Washington\\nWonderful F...\n",
      "84682    Greater Sacramento\\nSpectacular estate in the ...\n",
      "91916    Seattle, Puget Sound Region\\nExceptional home ...\n",
      "94008    Tampa Bay | Greater Sarasota\\nExclusive and ex...\n",
      "94340    Tampa Bay | Greater Sarasota\\nExclusive and ex...\n",
      "95627    The Palm Beaches\\nThoughtfully designed coasta...\n",
      "Name: text, dtype: object\n"
     ]
    }
   ],
   "source": [
    "### Filter examples of text containing most predictive words ( Check out Machine Learning : Most Predictive word)\n",
    "word1_fitness = fitness_df[fitness_df['text'].str.contains('luxuryhomemagazine')].text\n",
    "print(word1_fitness)"
   ]
  },
  {
   "cell_type": "code",
   "execution_count": 70,
   "metadata": {},
   "outputs": [
    {
     "data": {
      "text/plain": [
       "\"Hawaii\\nQuintessential Maui oceanfront residence\\nhttps://t.co/EGcVaLB9r8\\nListed by: Robert H. 'Robbie' Dein &amp; Kenneth M. 'Ken' Hayo | Maui Real Estate Advisors\\n\\n#luxuryhomemagazine #luxury #home #architecture #design #inspiration #lifestyle #realestate #luxurylife #realtor #hawaii https://t.co/V9IeDyVnje\""
      ]
     },
     "execution_count": 70,
     "metadata": {},
     "output_type": "execute_result"
    }
   ],
   "source": [
    "word1_fitness[79865]"
   ]
  },
  {
   "cell_type": "code",
   "execution_count": 71,
   "metadata": {},
   "outputs": [
    {
     "data": {
      "text/plain": [
       "'Greater Sacramento\\nSpectacular estate in the desirable Catta Verdera\\nhttps://t.co/QcvoIY4NGb\\nListed by: Sean Work | EXP Realty\\n\\n#luxuryhomemagazine #luxury #home #architecture #design #inspiration #lifestyle #decor #magazine #realestate #luxurylife #realtor #california https://t.co/FEM2tpENrU'"
      ]
     },
     "execution_count": 71,
     "metadata": {},
     "output_type": "execute_result"
    }
   ],
   "source": [
    "word1_fitness[84682]"
   ]
  },
  {
   "cell_type": "code",
   "execution_count": 72,
   "metadata": {},
   "outputs": [
    {
     "data": {
      "text/plain": [
       "'Greater Nashville\\nBeautifully maintained home in ultra-convenient neighborhood\\nhttps://t.co/zoATBvpgQB\\nListed by: Richard Bryan | Fridrich and Clark Realty\\n\\n#luxuryhomemagazine #luxury #home #architecture #design #inspiration #lifestyle #realestate #luxurylife #realtor #tennessee https://t.co/FqcEJvMBuN'"
      ]
     },
     "execution_count": 72,
     "metadata": {},
     "output_type": "execute_result"
    }
   ],
   "source": [
    "word1_fitness[37241]"
   ]
  },
  {
   "cell_type": "code",
   "execution_count": 73,
   "metadata": {},
   "outputs": [
    {
     "name": "stdout",
     "output_type": "stream",
     "text": [
      "1283     Peace... #Peace #gedeprama #bali #beauty #happ...\n",
      "3725     In the moment... #Peace #gedeprama #bali #beau...\n",
      "5803     The thrilling prayers come... #Peace #gedepram...\n",
      "6133     The thrilling prayers come... #Peace #gedepram...\n",
      "8258     Beautiful heart is... #Peace #gedeprama #bali ...\n",
      "11960    The more... #Peace #gedeprama #bali #beauty #h...\n",
      "14033    Heart see... #Peace #gedeprama #bali #beauty #...\n",
      "18869    May this light... #Peace #gedeprama #bali #bea...\n",
      "21850    Love has no duty... #Peace #gedeprama #bali #b...\n",
      "24264    To meditate is... #Peace #gedeprama #bali #bea...\n",
      "24589    To meditate is... #Peace #gedeprama #bali #bea...\n",
      "26669    The more... #Peace #gedeprama #bali #beauty #h...\n",
      "28815    Kindness is... #Peace #gedeprama #bali #beauty...\n",
      "29128    Kindness is... #Peace #gedeprama #bali #beauty...\n",
      "30603    To forgive is... #Peace #gedeprama #bali #beau...\n",
      "33061    In the depth... #Peace #gedeprama #bali #beaut...\n",
      "35475    Life is a blessing... #Peace #gedeprama #bali ...\n",
      "35790    Life is a blessing... #Peace #gedeprama #bali ...\n",
      "36445    Remember... #Peace #gedeprama #bali #beauty #h...\n",
      "38890    To forgive is to... #Peace #gedeprama #bali #b...\n",
      "41286    Friends are the one... #Peace #gedeprama #bali...\n",
      "43410    Being spiritual is... #Peace #gedeprama #bali ...\n",
      "45858    Deep friendship... #Peace #gedeprama #bali #be...\n",
      "49466    Warrior of peace is the one... #Peace #gedepra...\n",
      "51863    Earth is not land... #Peace #gedeprama #bali #...\n",
      "52163    Earth is not land... #Peace #gedeprama #bali #...\n",
      "54328    Both failure and success... #Peace #gedeprama ...\n",
      "56686    Weapon... #Peace #gedeprama #bali #beauty #hap...\n",
      "59472    Life is... #Peace #gedeprama #bali #beauty #ha...\n",
      "61855    One loving deed sends... #Peace #gedeprama #ba...\n",
      "64278    Sorrow is not... #Peace #gedeprama #bali #beau...\n",
      "64555    Sorrow is not... #Peace #gedeprama #bali #beau...\n",
      "66406    To be thankful is... #Peace #gedeprama #bali #...\n",
      "66661    To be thankful is... #Peace #gedeprama #bali #...\n",
      "66941    To be thankful is... #Peace #gedeprama #bali #...\n",
      "69907    Anger hate... #Peace #gedeprama #bali #beauty ...\n",
      "72014    Sky beings fish... #Peace #gedeprama #bali #be...\n",
      "74437    Peace is... #Peace #gedeprama #bali #beauty #h...\n",
      "76852    What you love is... #Peace #gedeprama #bali #b...\n",
      "79049    Life is... #Peace #gedeprama #bali #beauty #ha...\n",
      "81480    Serve others... #Peace #gedeprama #bali #beaut...\n",
      "83880    The honey of peace... #Peace #gedeprama #bali ...\n",
      "86012    Meditation... #Peace #gedeprama #bali #beauty ...\n",
      "88435    When you... #Peace #gedeprama #bali #beauty #h...\n",
      "90297    There is always... #Peace #gedeprama #bali #be...\n",
      "92749    Love never grow... #Peace #gedeprama #bali #be...\n",
      "94826    Your love is... #Peace #gedeprama #bali #beaut...\n",
      "Name: text, dtype: object\n"
     ]
    }
   ],
   "source": [
    "word2_fitness = fitness_df[fitness_df['text'].str.contains('gedeprama')].text\n",
    "print(word2_fitness)"
   ]
  },
  {
   "cell_type": "code",
   "execution_count": 74,
   "metadata": {},
   "outputs": [
    {
     "name": "stdout",
     "output_type": "stream",
     "text": [
      "48       Tomorrow is just another hurdle on the road to...\n",
      "1016     The founder of Embrace Your Fitness, Lisa Char...\n",
      "1267     If you're in need of some serious inspiration ...\n",
      "1317     Our first blog post, the reasons behind wantin...\n",
      "1705     Book your Spot Now: +971 54 230 2031 or https:...\n",
      "1809     This Acne-Fighting Essential Oil Is Equally Go...\n",
      "2258     ORGANIC pitaya bowl with fresh fruits #healthy...\n",
      "3262     Yes, yes you will 💪 #gym #ironwolfathleticwear...\n",
      "3473     After 2 rest days, made myself workout today w...\n",
      "5052     The 5 Best Laundry Hampers To Get For The Hous...\n",
      "5662     1st day on site, priority, find gym. 8k run be...\n",
      "6857     This guy is a hero- never sticking to fitness ...\n",
      "7082     Health tips ⭐️⭐️⭐️ #healthylifestyle #ironwolf...\n",
      "7370     Health tips ⭐️⭐️⭐️ #healthylifestyle #ironwolf...\n",
      "7873     Remember people, Rome was not built in a day! ...\n",
      "8305     Try This RD's 5-Ingredient Collagen Chocolate ...\n",
      "9478     Media Source: https://t.co/CKHpPgNZog\\n\\nTRUE ...\n",
      "10285    Test your strength 💪\\nYour gym, where you get ...\n",
      "10496    Steph Curry Gives Bill Gates a Mock Job Interv...\n",
      "10561    So grateful that over the last few months, my ...\n",
      "10936    Happy Friyay to those who workout and slay lik...\n",
      "11855    Pressin’ on like we never stopped! \\n\\n#GetRap...\n",
      "12518    Running, biking, jump roping, and rowing all w...\n",
      "13361    Goals Have Magical Powers\\nhttps://t.co/9kclcW...\n",
      "13415    #FitnessFriday: Strengthen Your Abs in 10 Minu...\n",
      "13581    #StayTuned - Join us on 19th Oct 2020 #livestr...\n",
      "13747    The Blame Game - Natalie Jill Fitness\\nhttps:/...\n",
      "14082    Mindful Movement &amp; Yoga Tip #1 - Explore! ...\n",
      "14228    I THOUGHT my legs were strong BUT this move..a...\n",
      "16757    When To Use Each One\\nhttps://t.co/J7o0kiDvGA\\...\n",
      "                               ...                        \n",
      "69208    Everyone Has A Grief Archetype — Here's How To...\n",
      "70188    SCSM Race 9, 13 Km\\nChallenge completed\\n#trai...\n",
      "70723    Our first blog post, the reasons behind wantin...\n",
      "70913    📷 You can’t stop the future You can’t rewind t...\n",
      "72504    We Want Everything From the New Line\\nhttps://...\n",
      "74795    Resting who? No days off! No excuses!! #excerc...\n",
      "75636    5 Non-Negotiables For Healthy Aging, From A Fu...\n",
      "77448    51 today. Let's keep it going!! 100 by the end...\n",
      "78648    What Happen When Pre-Teens Get Their Hands on ...\n",
      "79622    Take Your Workout Anywhere With FlexFitHub Lon...\n",
      "81200    Chilly Bootcamp tonight #fitness #fitnessgoals...\n",
      "81858    How To Connect To The True Meaning Of Hallowee...\n",
      "82425    Motivation Monday 💪🏾🏋🏽💪🏻🏋🏻‍♂️💪🏽\\n\\n#Fitness #f...\n",
      "82861    It's a desk! It's a bike! It's...my latest rev...\n",
      "83051    Cardio. Aerobic exercises with amazing benefit...\n",
      "84784    Drone’s Eye View of a Blistering Mountain Bike...\n",
      "85242    They said just pretend like catching fish ! 🤣🤣...\n",
      "86658    ...and stretch! Something many of us forget to...\n",
      "87410    Got some sun this morning while doing inclines...\n",
      "87450    We upfront our values, NOW it's Your Turn. Don...\n",
      "88007    How Clearing Your Chakras Can Help Boost Your ...\n",
      "89392    Do you want to lose weight fast? It contains 6...\n",
      "89704    SCSM Race VR9, 8 Km\\nChallenge completed\\n#tra...\n",
      "89820    Why So Many People Are Interested In Ethical N...\n",
      "91162    Our first blog post, the reasons behind wantin...\n",
      "91423    PB at the gym today, 110kg deadlift 🦵🏻 so prou...\n",
      "92290    Great ideas for #workingout at home. #fitness ...\n",
      "92677    Burn fat. Get fit. Feel great.\\n\\n#fitli #fitn...\n",
      "92855    Happy Tuesday!\\n#ﬁtnesstips #dailyfitness #tue...\n",
      "93063    What Your Feelings Are Telling You &amp; Why Y...\n",
      "Name: text, Length: 142, dtype: object\n"
     ]
    }
   ],
   "source": [
    "# Non_influencer words\n",
    "word3_fitness = fitness_df[fitness_df['text'].str.contains('fitnessgoals')].text\n",
    "print(word3_fitness)"
   ]
  },
  {
   "cell_type": "code",
   "execution_count": 75,
   "metadata": {},
   "outputs": [
    {
     "data": {
      "text/plain": [
       "'Our first blog post, the reasons behind wanting to start this blog and improve our health https://t.co/sxrZnqKj9z #healthylifestyle #fitnessgoals #cleaneating https://t.co/Gsfdl4UJkW'"
      ]
     },
     "execution_count": 75,
     "metadata": {},
     "output_type": "execute_result"
    }
   ],
   "source": [
    "word3_fitness[1317]"
   ]
  },
  {
   "cell_type": "code",
   "execution_count": 76,
   "metadata": {},
   "outputs": [
    {
     "data": {
      "text/plain": [
       "'PB at the gym today, 110kg deadlift 🦵🏻 so proud of myself #fitness #fitnessgoals #personaltraining #gym #bodytransformation #motivated #workout #thisgirlcan #gettingfit #gettinghealthy #weightloss #girlswholift #toning #strongnotskinny #deadlifts #weighttraining #110kgdeadlift'"
      ]
     },
     "execution_count": 76,
     "metadata": {},
     "output_type": "execute_result"
    }
   ],
   "source": [
    "word3_fitness[91423]"
   ]
  },
  {
   "cell_type": "code",
   "execution_count": 103,
   "metadata": {},
   "outputs": [
    {
     "data": {
      "text/html": [
       "<div>\n",
       "<style scoped>\n",
       "    .dataframe tbody tr th:only-of-type {\n",
       "        vertical-align: middle;\n",
       "    }\n",
       "\n",
       "    .dataframe tbody tr th {\n",
       "        vertical-align: top;\n",
       "    }\n",
       "\n",
       "    .dataframe thead th {\n",
       "        text-align: right;\n",
       "    }\n",
       "</style>\n",
       "<table border=\"1\" class=\"dataframe\">\n",
       "  <thead>\n",
       "    <tr style=\"text-align: right;\">\n",
       "      <th></th>\n",
       "      <th>user_name</th>\n",
       "      <th>user_desc</th>\n",
       "      <th>location</th>\n",
       "      <th>following</th>\n",
       "      <th>followers</th>\n",
       "      <th>totaltweets</th>\n",
       "      <th>user_createdts</th>\n",
       "      <th>tweet_createdts</th>\n",
       "      <th>retweet_count</th>\n",
       "      <th>text</th>\n",
       "      <th>hashtags</th>\n",
       "      <th>num_hashtags</th>\n",
       "      <th>num_search_tags</th>\n",
       "      <th>label</th>\n",
       "      <th>tweet_length</th>\n",
       "      <th>% caps</th>\n",
       "      <th>manycaps</th>\n",
       "      <th>clean_tweet</th>\n",
       "    </tr>\n",
       "  </thead>\n",
       "  <tbody>\n",
       "    <tr>\n",
       "      <th>0</th>\n",
       "      <td>anusualauthor</td>\n",
       "      <td>official tweet of Enigma Anu Aggarwal</td>\n",
       "      <td>Mumbai, India</td>\n",
       "      <td>544</td>\n",
       "      <td>3743</td>\n",
       "      <td>2661</td>\n",
       "      <td>2010-04-30 12:38:54</td>\n",
       "      <td>2020-10-05 15:34:17</td>\n",
       "      <td>0</td>\n",
       "      <td>You get to know your #true #nature in that mom...</td>\n",
       "      <td>{#bloom, #staysafe, #wellness, #quotes, #youar...</td>\n",
       "      <td>15</td>\n",
       "      <td>1</td>\n",
       "      <td>0</td>\n",
       "      <td>36</td>\n",
       "      <td>2.105263</td>\n",
       "      <td>False</td>\n",
       "      <td>get know #true #nature moment #bloom like flow...</td>\n",
       "    </tr>\n",
       "    <tr>\n",
       "      <th>7</th>\n",
       "      <td>IHealthtou</td>\n",
       "      <td>Welcome to I Health 2 U store!</td>\n",
       "      <td>United States</td>\n",
       "      <td>1</td>\n",
       "      <td>45</td>\n",
       "      <td>3205</td>\n",
       "      <td>2019-12-15 18:16:24</td>\n",
       "      <td>2020-10-05 15:33:33</td>\n",
       "      <td>0</td>\n",
       "      <td>13.58I Health 2 U#inspiration #wellness 310 ml...</td>\n",
       "      <td>{#wellness}</td>\n",
       "      <td>1</td>\n",
       "      <td>1</td>\n",
       "      <td>0</td>\n",
       "      <td>15</td>\n",
       "      <td>11.111111</td>\n",
       "      <td>False</td>\n",
       "      <td>health u#inspiration #wellness ml large rectal...</td>\n",
       "    </tr>\n",
       "  </tbody>\n",
       "</table>\n",
       "</div>"
      ],
      "text/plain": [
       "       user_name                              user_desc       location  \\\n",
       "0  anusualauthor  official tweet of Enigma Anu Aggarwal  Mumbai, India   \n",
       "7     IHealthtou         Welcome to I Health 2 U store!  United States   \n",
       "\n",
       "   following  followers  totaltweets       user_createdts  \\\n",
       "0        544       3743         2661  2010-04-30 12:38:54   \n",
       "7          1         45         3205  2019-12-15 18:16:24   \n",
       "\n",
       "       tweet_createdts  retweet_count  \\\n",
       "0  2020-10-05 15:34:17              0   \n",
       "7  2020-10-05 15:33:33              0   \n",
       "\n",
       "                                                text  \\\n",
       "0  You get to know your #true #nature in that mom...   \n",
       "7  13.58I Health 2 U#inspiration #wellness 310 ml...   \n",
       "\n",
       "                                            hashtags  num_hashtags  \\\n",
       "0  {#bloom, #staysafe, #wellness, #quotes, #youar...            15   \n",
       "7                                        {#wellness}             1   \n",
       "\n",
       "   num_search_tags  label  tweet_length     % caps  manycaps  \\\n",
       "0                1      0            36   2.105263     False   \n",
       "7                1      0            15  11.111111     False   \n",
       "\n",
       "                                         clean_tweet  \n",
       "0  get know #true #nature moment #bloom like flow...  \n",
       "7  health u#inspiration #wellness ml large rectal...  "
      ]
     },
     "execution_count": 103,
     "metadata": {},
     "output_type": "execute_result"
    }
   ],
   "source": [
    "# import NLP packages\n",
    "import re\n",
    "import nltk\n",
    "from nltk.corpus import stopwords\n",
    "stop_words = set(stopwords.words('english'))\n",
    "\n",
    "# Preprocessed text (without lemmatization) before the findinding the most predictive words\n",
    "def text_preprocessing(text):\n",
    "    text = re.sub(r'http\\S+', '', text)   # removing URL\n",
    "    text = re.sub(r'@(\\w+)','',text, flags = re.MULTILINE) # remove mentions\n",
    "    text = re.sub('[^a-zA-Z#]', ' ', text) # keep only alpha (removing numbers, punctions and special characters)\n",
    "    text = str(text).lower()              # Lowercase all text\n",
    "    text = [w for w in text.split() if w not in stop_words] # Removing Stopwords\n",
    "    text = ' '.join(text)\n",
    "    return text\n",
    "\n",
    "fitness_df[\"clean_tweet\"] = fitness_df['text'].apply(text_preprocessing)\n",
    "fitness_df.head(2)"
   ]
  },
  {
   "cell_type": "code",
   "execution_count": 177,
   "metadata": {},
   "outputs": [],
   "source": [
    "# make a pickled file to store the preprocessed tweets (without lemmatization)\n",
    "pd.to_pickle(fitness_df, 'fitness_preprocessed.pkl')"
   ]
  },
  {
   "cell_type": "code",
   "execution_count": null,
   "metadata": {},
   "outputs": [],
   "source": []
  },
  {
   "cell_type": "code",
   "execution_count": null,
   "metadata": {},
   "outputs": [],
   "source": []
  },
  {
   "cell_type": "markdown",
   "metadata": {},
   "source": [
    "## Travel Tweets"
   ]
  },
  {
   "cell_type": "code",
   "execution_count": 77,
   "metadata": {},
   "outputs": [
    {
     "data": {
      "text/html": [
       "<div>\n",
       "<style scoped>\n",
       "    .dataframe tbody tr th:only-of-type {\n",
       "        vertical-align: middle;\n",
       "    }\n",
       "\n",
       "    .dataframe tbody tr th {\n",
       "        vertical-align: top;\n",
       "    }\n",
       "\n",
       "    .dataframe thead th {\n",
       "        text-align: right;\n",
       "    }\n",
       "</style>\n",
       "<table border=\"1\" class=\"dataframe\">\n",
       "  <thead>\n",
       "    <tr style=\"text-align: right;\">\n",
       "      <th></th>\n",
       "      <th>user_name</th>\n",
       "      <th>user_desc</th>\n",
       "      <th>location</th>\n",
       "      <th>following</th>\n",
       "      <th>followers</th>\n",
       "      <th>totaltweets</th>\n",
       "      <th>user_createdts</th>\n",
       "      <th>tweet_createdts</th>\n",
       "      <th>retweet_count</th>\n",
       "      <th>text</th>\n",
       "    </tr>\n",
       "  </thead>\n",
       "  <tbody>\n",
       "    <tr>\n",
       "      <th>0</th>\n",
       "      <td>kthjkuwu</td>\n",
       "      <td>˗ˏˋ I love you MORE than yesterday and LESS th...</td>\n",
       "      <td>NaN</td>\n",
       "      <td>1160</td>\n",
       "      <td>302</td>\n",
       "      <td>21909</td>\n",
       "      <td>2015-05-23 17:04:00</td>\n",
       "      <td>2020-10-06 15:21:27</td>\n",
       "      <td>9223</td>\n",
       "      <td>RT @RBW_MAMAMOO: [#마마무]\\n\\nMAMAMOO 10th\\nMini ...</td>\n",
       "    </tr>\n",
       "    <tr>\n",
       "      <th>1</th>\n",
       "      <td>nayeon1727228</td>\n",
       "      <td>Twice💖💖</td>\n",
       "      <td>NaN</td>\n",
       "      <td>130</td>\n",
       "      <td>5</td>\n",
       "      <td>1709</td>\n",
       "      <td>2020-06-21 16:28:11</td>\n",
       "      <td>2020-10-06 15:21:27</td>\n",
       "      <td>9223</td>\n",
       "      <td>RT @RBW_MAMAMOO: [#마마무]\\n\\nMAMAMOO 10th\\nMini ...</td>\n",
       "    </tr>\n",
       "    <tr>\n",
       "      <th>2</th>\n",
       "      <td>seoulbyjoon_</td>\n",
       "      <td>𝑺𝒕𝒓𝒆𝒂𝒎 𝑫𝒀𝑵𝒂𝒎𝒊𝑻𝑬💿📼  𝑺𝒕𝒓𝒆𝒂𝒎 𝑾𝒂𝒏𝒏𝒂 𝑩𝒆 𝑴𝒚𝒔𝒆𝒍𝒇 💗💚💙💜...</td>\n",
       "      <td>s/h•15•🇲🇽•CA</td>\n",
       "      <td>474</td>\n",
       "      <td>276</td>\n",
       "      <td>9005</td>\n",
       "      <td>2018-12-04 01:11:37</td>\n",
       "      <td>2020-10-06 15:21:27</td>\n",
       "      <td>9223</td>\n",
       "      <td>RT @RBW_MAMAMOO: [#마마무]\\n\\nMAMAMOO 10th\\nMini ...</td>\n",
       "    </tr>\n",
       "    <tr>\n",
       "      <th>3</th>\n",
       "      <td>wheemoonve</td>\n",
       "      <td>moomoo-tomoon-weve fan account | she/her.</td>\n",
       "      <td>01l | broken eng/ina</td>\n",
       "      <td>477</td>\n",
       "      <td>429</td>\n",
       "      <td>16205</td>\n",
       "      <td>2020-07-31 11:58:21</td>\n",
       "      <td>2020-10-06 15:21:26</td>\n",
       "      <td>0</td>\n",
       "      <td>chop chop mumu time to diligently collect star...</td>\n",
       "    </tr>\n",
       "    <tr>\n",
       "      <th>4</th>\n",
       "      <td>namchildz</td>\n",
       "      <td>⠀ ⠀⠀       𝐃-𝟐⠀‎—⠀𝘁𝗿𝗮𝗰𝗸 𝟯⠀:⠀𝗴𝗼 𝗳𝘂𝗰𝗸 𝘆𝗼𝘂𝗿𝘀𝗲𝗹𝗳  ...</td>\n",
       "      <td>only army</td>\n",
       "      <td>1933</td>\n",
       "      <td>2855</td>\n",
       "      <td>176342</td>\n",
       "      <td>2014-03-07 17:11:01</td>\n",
       "      <td>2020-10-06 15:21:26</td>\n",
       "      <td>9223</td>\n",
       "      <td>RT @RBW_MAMAMOO: [#마마무]\\n\\nMAMAMOO 10th\\nMini ...</td>\n",
       "    </tr>\n",
       "  </tbody>\n",
       "</table>\n",
       "</div>"
      ],
      "text/plain": [
       "       user_name                                          user_desc  \\\n",
       "0       kthjkuwu  ˗ˏˋ I love you MORE than yesterday and LESS th...   \n",
       "1  nayeon1727228                                            Twice💖💖   \n",
       "2   seoulbyjoon_  𝑺𝒕𝒓𝒆𝒂𝒎 𝑫𝒀𝑵𝒂𝒎𝒊𝑻𝑬💿📼  𝑺𝒕𝒓𝒆𝒂𝒎 𝑾𝒂𝒏𝒏𝒂 𝑩𝒆 𝑴𝒚𝒔𝒆𝒍𝒇 💗💚💙💜...   \n",
       "3     wheemoonve          moomoo-tomoon-weve fan account | she/her.   \n",
       "4      namchildz  ⠀ ⠀⠀       𝐃-𝟐⠀‎—⠀𝘁𝗿𝗮𝗰𝗸 𝟯⠀:⠀𝗴𝗼 𝗳𝘂𝗰𝗸 𝘆𝗼𝘂𝗿𝘀𝗲𝗹𝗳  ...   \n",
       "\n",
       "               location  following  followers  totaltweets  \\\n",
       "0                   NaN       1160        302        21909   \n",
       "1                   NaN        130          5         1709   \n",
       "2         s/h•15•🇲🇽•CA         474        276         9005   \n",
       "3  01l | broken eng/ina        477        429        16205   \n",
       "4             only army       1933       2855       176342   \n",
       "\n",
       "        user_createdts      tweet_createdts  retweet_count  \\\n",
       "0  2015-05-23 17:04:00  2020-10-06 15:21:27           9223   \n",
       "1  2020-06-21 16:28:11  2020-10-06 15:21:27           9223   \n",
       "2  2018-12-04 01:11:37  2020-10-06 15:21:27           9223   \n",
       "3  2020-07-31 11:58:21  2020-10-06 15:21:26              0   \n",
       "4  2014-03-07 17:11:01  2020-10-06 15:21:26           9223   \n",
       "\n",
       "                                                text  \n",
       "0  RT @RBW_MAMAMOO: [#마마무]\\n\\nMAMAMOO 10th\\nMini ...  \n",
       "1  RT @RBW_MAMAMOO: [#마마무]\\n\\nMAMAMOO 10th\\nMini ...  \n",
       "2  RT @RBW_MAMAMOO: [#마마무]\\n\\nMAMAMOO 10th\\nMini ...  \n",
       "3  chop chop mumu time to diligently collect star...  \n",
       "4  RT @RBW_MAMAMOO: [#마마무]\\n\\nMAMAMOO 10th\\nMini ...  "
      ]
     },
     "execution_count": 77,
     "metadata": {},
     "output_type": "execute_result"
    }
   ],
   "source": [
    "# Load fitness tweets into a pandas DataFrame\n",
    "travel_df = pd.read_csv('travel_tweets.csv')\n",
    "travel_df.head()"
   ]
  },
  {
   "cell_type": "code",
   "execution_count": 78,
   "metadata": {},
   "outputs": [
    {
     "data": {
      "text/plain": [
       "(95980, 10)"
      ]
     },
     "execution_count": 78,
     "metadata": {},
     "output_type": "execute_result"
    }
   ],
   "source": [
    "# Find out total no of rows and columns\n",
    "travel_df.shape"
   ]
  },
  {
   "cell_type": "code",
   "execution_count": 79,
   "metadata": {},
   "outputs": [
    {
     "name": "stdout",
     "output_type": "stream",
     "text": [
      "<class 'pandas.core.frame.DataFrame'>\n",
      "RangeIndex: 95980 entries, 0 to 95979\n",
      "Data columns (total 10 columns):\n",
      "user_name          95980 non-null object\n",
      "user_desc          86417 non-null object\n",
      "location           64883 non-null object\n",
      "following          95980 non-null int64\n",
      "followers          95980 non-null int64\n",
      "totaltweets        95980 non-null int64\n",
      "user_createdts     95980 non-null object\n",
      "tweet_createdts    95980 non-null object\n",
      "retweet_count      95980 non-null int64\n",
      "text               95980 non-null object\n",
      "dtypes: int64(4), object(6)\n",
      "memory usage: 7.3+ MB\n"
     ]
    }
   ],
   "source": [
    "# Count missing values\n",
    "travel_df.info()"
   ]
  },
  {
   "cell_type": "code",
   "execution_count": 80,
   "metadata": {},
   "outputs": [
    {
     "data": {
      "text/plain": [
       "4182"
      ]
     },
     "execution_count": 80,
     "metadata": {},
     "output_type": "execute_result"
    }
   ],
   "source": [
    "# Check for duplicate tweets \n",
    "duplicate_tweets_travel = travel_df.duplicated(keep='first').sum()\n",
    "duplicate_tweets_travel"
   ]
  },
  {
   "cell_type": "code",
   "execution_count": 81,
   "metadata": {},
   "outputs": [
    {
     "data": {
      "text/plain": [
       "91798"
      ]
     },
     "execution_count": 81,
     "metadata": {},
     "output_type": "execute_result"
    }
   ],
   "source": [
    "# drop duplicates\n",
    "travel_df = travel_df.drop_duplicates()\n",
    "len(travel_df)"
   ]
  },
  {
   "cell_type": "code",
   "execution_count": 82,
   "metadata": {},
   "outputs": [
    {
     "data": {
      "text/plain": [
       "0.6845791847316935"
      ]
     },
     "execution_count": 82,
     "metadata": {},
     "output_type": "execute_result"
    }
   ],
   "source": [
    "# Check for % of retweets\n",
    "travel_df['text'].apply(lambda x: 'RT' in x[:3]).mean()"
   ]
  },
  {
   "cell_type": "code",
   "execution_count": 83,
   "metadata": {},
   "outputs": [
    {
     "data": {
      "text/plain": [
       "28970"
      ]
     },
     "execution_count": 83,
     "metadata": {},
     "output_type": "execute_result"
    }
   ],
   "source": [
    "# Drop the retweets\n",
    "travel_df = travel_df[~travel_df.text.str.startswith('RT')]\n",
    "len(travel_df)"
   ]
  },
  {
   "cell_type": "code",
   "execution_count": 84,
   "metadata": {},
   "outputs": [
    {
     "data": {
      "text/html": [
       "<div>\n",
       "<style scoped>\n",
       "    .dataframe tbody tr th:only-of-type {\n",
       "        vertical-align: middle;\n",
       "    }\n",
       "\n",
       "    .dataframe tbody tr th {\n",
       "        vertical-align: top;\n",
       "    }\n",
       "\n",
       "    .dataframe thead th {\n",
       "        text-align: right;\n",
       "    }\n",
       "</style>\n",
       "<table border=\"1\" class=\"dataframe\">\n",
       "  <thead>\n",
       "    <tr style=\"text-align: right;\">\n",
       "      <th></th>\n",
       "      <th>user_name</th>\n",
       "      <th>user_desc</th>\n",
       "      <th>location</th>\n",
       "      <th>following</th>\n",
       "      <th>followers</th>\n",
       "      <th>totaltweets</th>\n",
       "      <th>user_createdts</th>\n",
       "      <th>tweet_createdts</th>\n",
       "      <th>retweet_count</th>\n",
       "      <th>text</th>\n",
       "      <th>hashtags</th>\n",
       "    </tr>\n",
       "  </thead>\n",
       "  <tbody>\n",
       "    <tr>\n",
       "      <th>3</th>\n",
       "      <td>wheemoonve</td>\n",
       "      <td>moomoo-tomoon-weve fan account | she/her.</td>\n",
       "      <td>01l | broken eng/ina</td>\n",
       "      <td>477</td>\n",
       "      <td>429</td>\n",
       "      <td>16205</td>\n",
       "      <td>2020-07-31 11:58:21</td>\n",
       "      <td>2020-10-06 15:21:26</td>\n",
       "      <td>0</td>\n",
       "      <td>chop chop mumu time to diligently collect star...</td>\n",
       "      <td>{#mamamoo, #mamamooisback, #travel}</td>\n",
       "    </tr>\n",
       "    <tr>\n",
       "      <th>5</th>\n",
       "      <td>ddakwhee</td>\n",
       "      <td>fan account for MAMAMOO~\\nmoo since UOAY era, ...</td>\n",
       "      <td>NaN</td>\n",
       "      <td>154</td>\n",
       "      <td>83</td>\n",
       "      <td>1995</td>\n",
       "      <td>2020-07-17 14:39:30</td>\n",
       "      <td>2020-10-06 15:21:26</td>\n",
       "      <td>0</td>\n",
       "      <td>I THOUGHT MOOS WERE CLOWNING BUT THEORIES WERE...</td>\n",
       "      <td>{#mamamoo, #mamamooiscoming, #travel}</td>\n",
       "    </tr>\n",
       "    <tr>\n",
       "      <th>23</th>\n",
       "      <td>UAEVOICE_Eng</td>\n",
       "      <td>UAE Voice is your gate to the UAE News in part...</td>\n",
       "      <td>UAE</td>\n",
       "      <td>3757</td>\n",
       "      <td>919</td>\n",
       "      <td>3183</td>\n",
       "      <td>2019-12-06 16:24:33</td>\n",
       "      <td>2020-10-06 15:21:20</td>\n",
       "      <td>0</td>\n",
       "      <td>Amending #Travel procedures through the ports ...</td>\n",
       "      <td>{#uae, #dubai-, #travel}</td>\n",
       "    </tr>\n",
       "  </tbody>\n",
       "</table>\n",
       "</div>"
      ],
      "text/plain": [
       "       user_name                                          user_desc  \\\n",
       "3     wheemoonve          moomoo-tomoon-weve fan account | she/her.   \n",
       "5       ddakwhee  fan account for MAMAMOO~\\nmoo since UOAY era, ...   \n",
       "23  UAEVOICE_Eng  UAE Voice is your gate to the UAE News in part...   \n",
       "\n",
       "                location  following  followers  totaltweets  \\\n",
       "3   01l | broken eng/ina        477        429        16205   \n",
       "5                    NaN        154         83         1995   \n",
       "23                  UAE        3757        919         3183   \n",
       "\n",
       "         user_createdts      tweet_createdts  retweet_count  \\\n",
       "3   2020-07-31 11:58:21  2020-10-06 15:21:26              0   \n",
       "5   2020-07-17 14:39:30  2020-10-06 15:21:26              0   \n",
       "23  2019-12-06 16:24:33  2020-10-06 15:21:20              0   \n",
       "\n",
       "                                                 text  \\\n",
       "3   chop chop mumu time to diligently collect star...   \n",
       "5   I THOUGHT MOOS WERE CLOWNING BUT THEORIES WERE...   \n",
       "23  Amending #Travel procedures through the ports ...   \n",
       "\n",
       "                                 hashtags  \n",
       "3     {#mamamoo, #mamamooisback, #travel}  \n",
       "5   {#mamamoo, #mamamooiscoming, #travel}  \n",
       "23               {#uae, #dubai-, #travel}  "
      ]
     },
     "execution_count": 84,
     "metadata": {},
     "output_type": "execute_result"
    }
   ],
   "source": [
    "# defind a function to find all the hashtags in a tweet\n",
    "\n",
    "def hashtag(text):\n",
    "    return (set([str(i.lower()) for i in text.split() if i.startswith(\"#\")]))\n",
    "\n",
    "travel_df['hashtags'] = travel_df['text'].apply(hashtag)\n",
    "travel_df.head(3)"
   ]
  },
  {
   "cell_type": "code",
   "execution_count": 85,
   "metadata": {},
   "outputs": [
    {
     "data": {
      "text/html": [
       "<div>\n",
       "<style scoped>\n",
       "    .dataframe tbody tr th:only-of-type {\n",
       "        vertical-align: middle;\n",
       "    }\n",
       "\n",
       "    .dataframe tbody tr th {\n",
       "        vertical-align: top;\n",
       "    }\n",
       "\n",
       "    .dataframe thead th {\n",
       "        text-align: right;\n",
       "    }\n",
       "</style>\n",
       "<table border=\"1\" class=\"dataframe\">\n",
       "  <thead>\n",
       "    <tr style=\"text-align: right;\">\n",
       "      <th></th>\n",
       "      <th>user_name</th>\n",
       "      <th>user_desc</th>\n",
       "      <th>location</th>\n",
       "      <th>following</th>\n",
       "      <th>followers</th>\n",
       "      <th>totaltweets</th>\n",
       "      <th>user_createdts</th>\n",
       "      <th>tweet_createdts</th>\n",
       "      <th>retweet_count</th>\n",
       "      <th>text</th>\n",
       "      <th>hashtags</th>\n",
       "      <th>num_hashtags</th>\n",
       "    </tr>\n",
       "  </thead>\n",
       "  <tbody>\n",
       "    <tr>\n",
       "      <th>3</th>\n",
       "      <td>wheemoonve</td>\n",
       "      <td>moomoo-tomoon-weve fan account | she/her.</td>\n",
       "      <td>01l | broken eng/ina</td>\n",
       "      <td>477</td>\n",
       "      <td>429</td>\n",
       "      <td>16205</td>\n",
       "      <td>2020-07-31 11:58:21</td>\n",
       "      <td>2020-10-06 15:21:26</td>\n",
       "      <td>0</td>\n",
       "      <td>chop chop mumu time to diligently collect star...</td>\n",
       "      <td>{#mamamoo, #mamamooisback, #travel}</td>\n",
       "      <td>3</td>\n",
       "    </tr>\n",
       "    <tr>\n",
       "      <th>5</th>\n",
       "      <td>ddakwhee</td>\n",
       "      <td>fan account for MAMAMOO~\\nmoo since UOAY era, ...</td>\n",
       "      <td>NaN</td>\n",
       "      <td>154</td>\n",
       "      <td>83</td>\n",
       "      <td>1995</td>\n",
       "      <td>2020-07-17 14:39:30</td>\n",
       "      <td>2020-10-06 15:21:26</td>\n",
       "      <td>0</td>\n",
       "      <td>I THOUGHT MOOS WERE CLOWNING BUT THEORIES WERE...</td>\n",
       "      <td>{#mamamoo, #mamamooiscoming, #travel}</td>\n",
       "      <td>3</td>\n",
       "    </tr>\n",
       "    <tr>\n",
       "      <th>23</th>\n",
       "      <td>UAEVOICE_Eng</td>\n",
       "      <td>UAE Voice is your gate to the UAE News in part...</td>\n",
       "      <td>UAE</td>\n",
       "      <td>3757</td>\n",
       "      <td>919</td>\n",
       "      <td>3183</td>\n",
       "      <td>2019-12-06 16:24:33</td>\n",
       "      <td>2020-10-06 15:21:20</td>\n",
       "      <td>0</td>\n",
       "      <td>Amending #Travel procedures through the ports ...</td>\n",
       "      <td>{#uae, #dubai-, #travel}</td>\n",
       "      <td>3</td>\n",
       "    </tr>\n",
       "  </tbody>\n",
       "</table>\n",
       "</div>"
      ],
      "text/plain": [
       "       user_name                                          user_desc  \\\n",
       "3     wheemoonve          moomoo-tomoon-weve fan account | she/her.   \n",
       "5       ddakwhee  fan account for MAMAMOO~\\nmoo since UOAY era, ...   \n",
       "23  UAEVOICE_Eng  UAE Voice is your gate to the UAE News in part...   \n",
       "\n",
       "                location  following  followers  totaltweets  \\\n",
       "3   01l | broken eng/ina        477        429        16205   \n",
       "5                    NaN        154         83         1995   \n",
       "23                  UAE        3757        919         3183   \n",
       "\n",
       "         user_createdts      tweet_createdts  retweet_count  \\\n",
       "3   2020-07-31 11:58:21  2020-10-06 15:21:26              0   \n",
       "5   2020-07-17 14:39:30  2020-10-06 15:21:26              0   \n",
       "23  2019-12-06 16:24:33  2020-10-06 15:21:20              0   \n",
       "\n",
       "                                                 text  \\\n",
       "3   chop chop mumu time to diligently collect star...   \n",
       "5   I THOUGHT MOOS WERE CLOWNING BUT THEORIES WERE...   \n",
       "23  Amending #Travel procedures through the ports ...   \n",
       "\n",
       "                                 hashtags  num_hashtags  \n",
       "3     {#mamamoo, #mamamooisback, #travel}             3  \n",
       "5   {#mamamoo, #mamamooiscoming, #travel}             3  \n",
       "23               {#uae, #dubai-, #travel}             3  "
      ]
     },
     "execution_count": 85,
     "metadata": {},
     "output_type": "execute_result"
    }
   ],
   "source": [
    "# Count the hashtags per each tweets\n",
    "travel_df['num_hashtags'] = travel_df['hashtags'].apply(len)\n",
    "travel_df.head(3)"
   ]
  },
  {
   "cell_type": "code",
   "execution_count": 86,
   "metadata": {},
   "outputs": [
    {
     "data": {
      "text/html": [
       "<div>\n",
       "<style scoped>\n",
       "    .dataframe tbody tr th:only-of-type {\n",
       "        vertical-align: middle;\n",
       "    }\n",
       "\n",
       "    .dataframe tbody tr th {\n",
       "        vertical-align: top;\n",
       "    }\n",
       "\n",
       "    .dataframe thead th {\n",
       "        text-align: right;\n",
       "    }\n",
       "</style>\n",
       "<table border=\"1\" class=\"dataframe\">\n",
       "  <thead>\n",
       "    <tr style=\"text-align: right;\">\n",
       "      <th></th>\n",
       "      <th>user_name</th>\n",
       "      <th>user_desc</th>\n",
       "      <th>location</th>\n",
       "      <th>following</th>\n",
       "      <th>followers</th>\n",
       "      <th>totaltweets</th>\n",
       "      <th>user_createdts</th>\n",
       "      <th>tweet_createdts</th>\n",
       "      <th>retweet_count</th>\n",
       "      <th>text</th>\n",
       "      <th>hashtags</th>\n",
       "      <th>num_hashtags</th>\n",
       "      <th>num_search_tags</th>\n",
       "    </tr>\n",
       "  </thead>\n",
       "  <tbody>\n",
       "    <tr>\n",
       "      <th>3</th>\n",
       "      <td>wheemoonve</td>\n",
       "      <td>moomoo-tomoon-weve fan account | she/her.</td>\n",
       "      <td>01l | broken eng/ina</td>\n",
       "      <td>477</td>\n",
       "      <td>429</td>\n",
       "      <td>16205</td>\n",
       "      <td>2020-07-31 11:58:21</td>\n",
       "      <td>2020-10-06 15:21:26</td>\n",
       "      <td>0</td>\n",
       "      <td>chop chop mumu time to diligently collect star...</td>\n",
       "      <td>{#mamamoo, #mamamooisback, #travel}</td>\n",
       "      <td>3</td>\n",
       "      <td>1</td>\n",
       "    </tr>\n",
       "    <tr>\n",
       "      <th>5</th>\n",
       "      <td>ddakwhee</td>\n",
       "      <td>fan account for MAMAMOO~\\nmoo since UOAY era, ...</td>\n",
       "      <td>NaN</td>\n",
       "      <td>154</td>\n",
       "      <td>83</td>\n",
       "      <td>1995</td>\n",
       "      <td>2020-07-17 14:39:30</td>\n",
       "      <td>2020-10-06 15:21:26</td>\n",
       "      <td>0</td>\n",
       "      <td>I THOUGHT MOOS WERE CLOWNING BUT THEORIES WERE...</td>\n",
       "      <td>{#mamamoo, #mamamooiscoming, #travel}</td>\n",
       "      <td>3</td>\n",
       "      <td>1</td>\n",
       "    </tr>\n",
       "    <tr>\n",
       "      <th>23</th>\n",
       "      <td>UAEVOICE_Eng</td>\n",
       "      <td>UAE Voice is your gate to the UAE News in part...</td>\n",
       "      <td>UAE</td>\n",
       "      <td>3757</td>\n",
       "      <td>919</td>\n",
       "      <td>3183</td>\n",
       "      <td>2019-12-06 16:24:33</td>\n",
       "      <td>2020-10-06 15:21:20</td>\n",
       "      <td>0</td>\n",
       "      <td>Amending #Travel procedures through the ports ...</td>\n",
       "      <td>{#uae, #dubai-, #travel}</td>\n",
       "      <td>3</td>\n",
       "      <td>1</td>\n",
       "    </tr>\n",
       "    <tr>\n",
       "      <th>49</th>\n",
       "      <td>Inselheld</td>\n",
       "      <td>Jeden Tag 1 Bild von den schönsten Inseln: Amr...</td>\n",
       "      <td>Balearen, Spanien</td>\n",
       "      <td>115</td>\n",
       "      <td>108</td>\n",
       "      <td>625</td>\n",
       "      <td>2016-10-19 14:11:51</td>\n",
       "      <td>2020-10-06 15:21:12</td>\n",
       "      <td>0</td>\n",
       "      <td>#Trekking near #SpiaggiaStrangolato on #LaMadd...</td>\n",
       "      <td>{#picoftheday, #hdr, #lanuovasardegna, #instas...</td>\n",
       "      <td>24</td>\n",
       "      <td>1</td>\n",
       "    </tr>\n",
       "    <tr>\n",
       "      <th>75</th>\n",
       "      <td>short_moomoo</td>\n",
       "      <td>ot4 or nothing\\n\\nfan account\\n\\n(she/her)</td>\n",
       "      <td>NaN</td>\n",
       "      <td>222</td>\n",
       "      <td>190</td>\n",
       "      <td>7955</td>\n",
       "      <td>2013-12-07 20:02:20</td>\n",
       "      <td>2020-10-06 15:21:03</td>\n",
       "      <td>0</td>\n",
       "      <td>i was about to go back asleep but then suddenl...</td>\n",
       "      <td>{#mamamoo, #mamamooiscoming, #마마무, #travel}</td>\n",
       "      <td>4</td>\n",
       "      <td>1</td>\n",
       "    </tr>\n",
       "  </tbody>\n",
       "</table>\n",
       "</div>"
      ],
      "text/plain": [
       "       user_name                                          user_desc  \\\n",
       "3     wheemoonve          moomoo-tomoon-weve fan account | she/her.   \n",
       "5       ddakwhee  fan account for MAMAMOO~\\nmoo since UOAY era, ...   \n",
       "23  UAEVOICE_Eng  UAE Voice is your gate to the UAE News in part...   \n",
       "49     Inselheld  Jeden Tag 1 Bild von den schönsten Inseln: Amr...   \n",
       "75  short_moomoo         ot4 or nothing\\n\\nfan account\\n\\n(she/her)   \n",
       "\n",
       "                location  following  followers  totaltweets  \\\n",
       "3   01l | broken eng/ina        477        429        16205   \n",
       "5                    NaN        154         83         1995   \n",
       "23                  UAE        3757        919         3183   \n",
       "49     Balearen, Spanien        115        108          625   \n",
       "75                   NaN        222        190         7955   \n",
       "\n",
       "         user_createdts      tweet_createdts  retweet_count  \\\n",
       "3   2020-07-31 11:58:21  2020-10-06 15:21:26              0   \n",
       "5   2020-07-17 14:39:30  2020-10-06 15:21:26              0   \n",
       "23  2019-12-06 16:24:33  2020-10-06 15:21:20              0   \n",
       "49  2016-10-19 14:11:51  2020-10-06 15:21:12              0   \n",
       "75  2013-12-07 20:02:20  2020-10-06 15:21:03              0   \n",
       "\n",
       "                                                 text  \\\n",
       "3   chop chop mumu time to diligently collect star...   \n",
       "5   I THOUGHT MOOS WERE CLOWNING BUT THEORIES WERE...   \n",
       "23  Amending #Travel procedures through the ports ...   \n",
       "49  #Trekking near #SpiaggiaStrangolato on #LaMadd...   \n",
       "75  i was about to go back asleep but then suddenl...   \n",
       "\n",
       "                                             hashtags  num_hashtags  \\\n",
       "3                 {#mamamoo, #mamamooisback, #travel}             3   \n",
       "5               {#mamamoo, #mamamooiscoming, #travel}             3   \n",
       "23                           {#uae, #dubai-, #travel}             3   \n",
       "49  {#picoftheday, #hdr, #lanuovasardegna, #instas...            24   \n",
       "75        {#mamamoo, #mamamooiscoming, #마마무, #travel}             4   \n",
       "\n",
       "    num_search_tags  \n",
       "3                 1  \n",
       "5                 1  \n",
       "23                1  \n",
       "49                1  \n",
       "75                1  "
      ]
     },
     "execution_count": 86,
     "metadata": {},
     "output_type": "execute_result"
    }
   ],
   "source": [
    "# find the number of search hashtags (we used thsese tags to pull the tweet) in a tweet\n",
    "search_tags_travel = ['#travel', '#traveltips', '#trip', '#travelskills', '#travelblog', '#travelling', '#travellingtheworld', '#vacation', '#travelphotography', '#holidays', '#tour', '#traveler', '#travelgram', '#travelbloggers', '#travelblogging', '#tourism', '#budgettravel']\n",
    "\n",
    "def search_hashtags(tags):\n",
    "    t = 0\n",
    "    for i in search_tags_travel:\n",
    "        for j in tags:\n",
    "            if i in j:\n",
    "                t += 1\n",
    "    return t\n",
    "\n",
    "                \n",
    "travel_df['num_search_tags'] = travel_df['hashtags'].apply(search_hashtags)\n",
    "travel_df.head()        "
   ]
  },
  {
   "cell_type": "code",
   "execution_count": 87,
   "metadata": {},
   "outputs": [
    {
     "data": {
      "text/plain": [
       "103"
      ]
     },
     "execution_count": 87,
     "metadata": {},
     "output_type": "execute_result"
    }
   ],
   "source": [
    "# find the the number of tweets with no search hashtags\n",
    "len(travel_df[travel_df.num_search_tags == 0])"
   ]
  },
  {
   "cell_type": "code",
   "execution_count": 88,
   "metadata": {},
   "outputs": [
    {
     "data": {
      "text/plain": [
       "28867"
      ]
     },
     "execution_count": 88,
     "metadata": {},
     "output_type": "execute_result"
    }
   ],
   "source": [
    "# drop the tweets with no search hashtags\n",
    "travel_df = travel_df[travel_df.num_search_tags != 0]\n",
    "len(travel_df)"
   ]
  },
  {
   "cell_type": "code",
   "execution_count": 89,
   "metadata": {},
   "outputs": [
    {
     "data": {
      "text/plain": [
       "23983"
      ]
     },
     "execution_count": 89,
     "metadata": {},
     "output_type": "execute_result"
    }
   ],
   "source": [
    "# Remove tweets between 5000 and 30,000 followers\n",
    "travel_df = travel_df[(travel_df.followers <= 5000) | (travel_df.followers > 30000)]\n",
    "len(travel_df)"
   ]
  },
  {
   "cell_type": "code",
   "execution_count": 90,
   "metadata": {},
   "outputs": [
    {
     "data": {
      "text/html": [
       "<div>\n",
       "<style scoped>\n",
       "    .dataframe tbody tr th:only-of-type {\n",
       "        vertical-align: middle;\n",
       "    }\n",
       "\n",
       "    .dataframe tbody tr th {\n",
       "        vertical-align: top;\n",
       "    }\n",
       "\n",
       "    .dataframe thead th {\n",
       "        text-align: right;\n",
       "    }\n",
       "</style>\n",
       "<table border=\"1\" class=\"dataframe\">\n",
       "  <thead>\n",
       "    <tr style=\"text-align: right;\">\n",
       "      <th></th>\n",
       "      <th>user_name</th>\n",
       "      <th>user_desc</th>\n",
       "      <th>location</th>\n",
       "      <th>following</th>\n",
       "      <th>followers</th>\n",
       "      <th>totaltweets</th>\n",
       "      <th>user_createdts</th>\n",
       "      <th>tweet_createdts</th>\n",
       "      <th>retweet_count</th>\n",
       "      <th>text</th>\n",
       "      <th>hashtags</th>\n",
       "      <th>num_hashtags</th>\n",
       "      <th>num_search_tags</th>\n",
       "      <th>label</th>\n",
       "    </tr>\n",
       "  </thead>\n",
       "  <tbody>\n",
       "    <tr>\n",
       "      <th>3</th>\n",
       "      <td>wheemoonve</td>\n",
       "      <td>moomoo-tomoon-weve fan account | she/her.</td>\n",
       "      <td>01l | broken eng/ina</td>\n",
       "      <td>477</td>\n",
       "      <td>429</td>\n",
       "      <td>16205</td>\n",
       "      <td>2020-07-31 11:58:21</td>\n",
       "      <td>2020-10-06 15:21:26</td>\n",
       "      <td>0</td>\n",
       "      <td>chop chop mumu time to diligently collect star...</td>\n",
       "      <td>{#mamamoo, #mamamooisback, #travel}</td>\n",
       "      <td>3</td>\n",
       "      <td>1</td>\n",
       "      <td>0</td>\n",
       "    </tr>\n",
       "    <tr>\n",
       "      <th>5</th>\n",
       "      <td>ddakwhee</td>\n",
       "      <td>fan account for MAMAMOO~\\nmoo since UOAY era, ...</td>\n",
       "      <td>NaN</td>\n",
       "      <td>154</td>\n",
       "      <td>83</td>\n",
       "      <td>1995</td>\n",
       "      <td>2020-07-17 14:39:30</td>\n",
       "      <td>2020-10-06 15:21:26</td>\n",
       "      <td>0</td>\n",
       "      <td>I THOUGHT MOOS WERE CLOWNING BUT THEORIES WERE...</td>\n",
       "      <td>{#mamamoo, #mamamooiscoming, #travel}</td>\n",
       "      <td>3</td>\n",
       "      <td>1</td>\n",
       "      <td>0</td>\n",
       "    </tr>\n",
       "    <tr>\n",
       "      <th>23</th>\n",
       "      <td>UAEVOICE_Eng</td>\n",
       "      <td>UAE Voice is your gate to the UAE News in part...</td>\n",
       "      <td>UAE</td>\n",
       "      <td>3757</td>\n",
       "      <td>919</td>\n",
       "      <td>3183</td>\n",
       "      <td>2019-12-06 16:24:33</td>\n",
       "      <td>2020-10-06 15:21:20</td>\n",
       "      <td>0</td>\n",
       "      <td>Amending #Travel procedures through the ports ...</td>\n",
       "      <td>{#uae, #dubai-, #travel}</td>\n",
       "      <td>3</td>\n",
       "      <td>1</td>\n",
       "      <td>0</td>\n",
       "    </tr>\n",
       "    <tr>\n",
       "      <th>49</th>\n",
       "      <td>Inselheld</td>\n",
       "      <td>Jeden Tag 1 Bild von den schönsten Inseln: Amr...</td>\n",
       "      <td>Balearen, Spanien</td>\n",
       "      <td>115</td>\n",
       "      <td>108</td>\n",
       "      <td>625</td>\n",
       "      <td>2016-10-19 14:11:51</td>\n",
       "      <td>2020-10-06 15:21:12</td>\n",
       "      <td>0</td>\n",
       "      <td>#Trekking near #SpiaggiaStrangolato on #LaMadd...</td>\n",
       "      <td>{#picoftheday, #hdr, #lanuovasardegna, #instas...</td>\n",
       "      <td>24</td>\n",
       "      <td>1</td>\n",
       "      <td>0</td>\n",
       "    </tr>\n",
       "    <tr>\n",
       "      <th>75</th>\n",
       "      <td>short_moomoo</td>\n",
       "      <td>ot4 or nothing\\n\\nfan account\\n\\n(she/her)</td>\n",
       "      <td>NaN</td>\n",
       "      <td>222</td>\n",
       "      <td>190</td>\n",
       "      <td>7955</td>\n",
       "      <td>2013-12-07 20:02:20</td>\n",
       "      <td>2020-10-06 15:21:03</td>\n",
       "      <td>0</td>\n",
       "      <td>i was about to go back asleep but then suddenl...</td>\n",
       "      <td>{#mamamoo, #mamamooiscoming, #마마무, #travel}</td>\n",
       "      <td>4</td>\n",
       "      <td>1</td>\n",
       "      <td>0</td>\n",
       "    </tr>\n",
       "  </tbody>\n",
       "</table>\n",
       "</div>"
      ],
      "text/plain": [
       "       user_name                                          user_desc  \\\n",
       "3     wheemoonve          moomoo-tomoon-weve fan account | she/her.   \n",
       "5       ddakwhee  fan account for MAMAMOO~\\nmoo since UOAY era, ...   \n",
       "23  UAEVOICE_Eng  UAE Voice is your gate to the UAE News in part...   \n",
       "49     Inselheld  Jeden Tag 1 Bild von den schönsten Inseln: Amr...   \n",
       "75  short_moomoo         ot4 or nothing\\n\\nfan account\\n\\n(she/her)   \n",
       "\n",
       "                location  following  followers  totaltweets  \\\n",
       "3   01l | broken eng/ina        477        429        16205   \n",
       "5                    NaN        154         83         1995   \n",
       "23                  UAE        3757        919         3183   \n",
       "49     Balearen, Spanien        115        108          625   \n",
       "75                   NaN        222        190         7955   \n",
       "\n",
       "         user_createdts      tweet_createdts  retweet_count  \\\n",
       "3   2020-07-31 11:58:21  2020-10-06 15:21:26              0   \n",
       "5   2020-07-17 14:39:30  2020-10-06 15:21:26              0   \n",
       "23  2019-12-06 16:24:33  2020-10-06 15:21:20              0   \n",
       "49  2016-10-19 14:11:51  2020-10-06 15:21:12              0   \n",
       "75  2013-12-07 20:02:20  2020-10-06 15:21:03              0   \n",
       "\n",
       "                                                 text  \\\n",
       "3   chop chop mumu time to diligently collect star...   \n",
       "5   I THOUGHT MOOS WERE CLOWNING BUT THEORIES WERE...   \n",
       "23  Amending #Travel procedures through the ports ...   \n",
       "49  #Trekking near #SpiaggiaStrangolato on #LaMadd...   \n",
       "75  i was about to go back asleep but then suddenl...   \n",
       "\n",
       "                                             hashtags  num_hashtags  \\\n",
       "3                 {#mamamoo, #mamamooisback, #travel}             3   \n",
       "5               {#mamamoo, #mamamooiscoming, #travel}             3   \n",
       "23                           {#uae, #dubai-, #travel}             3   \n",
       "49  {#picoftheday, #hdr, #lanuovasardegna, #instas...            24   \n",
       "75        {#mamamoo, #mamamooiscoming, #마마무, #travel}             4   \n",
       "\n",
       "    num_search_tags  label  \n",
       "3                 1      0  \n",
       "5                 1      0  \n",
       "23                1      0  \n",
       "49                1      0  \n",
       "75                1      0  "
      ]
     },
     "execution_count": 90,
     "metadata": {},
     "output_type": "execute_result"
    }
   ],
   "source": [
    "# define a function to label the tweets based on the number of followers the user have\n",
    "def label_func(followers):\n",
    "    if followers > 30000:\n",
    "        return 1\n",
    "    else:\n",
    "        return 0\n",
    "\n",
    "travel_df['label'] = travel_df['followers'].apply(label_func)\n",
    "travel_df.head()"
   ]
  },
  {
   "cell_type": "code",
   "execution_count": 91,
   "metadata": {},
   "outputs": [
    {
     "data": {
      "text/plain": [
       "0    21776\n",
       "1     2207\n",
       "Name: label, dtype: int64"
      ]
     },
     "execution_count": 91,
     "metadata": {},
     "output_type": "execute_result"
    }
   ],
   "source": [
    "# counts the number of tweets in each label\n",
    "followers_count_travel = travel_df['label'].value_counts().sort_index()\n",
    "followers_count_travel"
   ]
  },
  {
   "cell_type": "code",
   "execution_count": 92,
   "metadata": {},
   "outputs": [
    {
     "data": {
      "image/png": "[encoded data removed]",
      "text/plain": [
       "<Figure size 576x432 with 1 Axes>"
      ]
     },
     "metadata": {},
     "output_type": "display_data"
    }
   ],
   "source": [
    "# Pie plot to show the percentage of tweets in each label\n",
    "fig, ax = plt.subplots(figsize=(8, 6), subplot_kw=dict(aspect=\"equal\"))\n",
    "plt.pie(followers_count_travel, labels=[0,1],startangle=90, autopct='%.0f%%')\n",
    "\n",
    "ax.legend([\"0: Followers count <= 5000\", \"1: Followers count > 30000\"], loc=\"center left\",bbox_to_anchor=(1, 0, 0.5, 1))\n",
    "\n",
    "ax.set_title(\"Followers Count Travel Tweets\", fontsize=20)\n",
    "\n",
    "plt.show()"
   ]
  },
  {
   "cell_type": "markdown",
   "metadata": {},
   "source": [
    "### Distribution of Word Count, % of caps, number of hashtags in different labels (followers count category)\n"
   ]
  },
  {
   "cell_type": "code",
   "execution_count": 93,
   "metadata": {},
   "outputs": [
    {
     "data": {
      "text/html": [
       "<div>\n",
       "<style scoped>\n",
       "    .dataframe tbody tr th:only-of-type {\n",
       "        vertical-align: middle;\n",
       "    }\n",
       "\n",
       "    .dataframe tbody tr th {\n",
       "        vertical-align: top;\n",
       "    }\n",
       "\n",
       "    .dataframe thead th {\n",
       "        text-align: right;\n",
       "    }\n",
       "</style>\n",
       "<table border=\"1\" class=\"dataframe\">\n",
       "  <thead>\n",
       "    <tr style=\"text-align: right;\">\n",
       "      <th></th>\n",
       "      <th>user_name</th>\n",
       "      <th>user_desc</th>\n",
       "      <th>location</th>\n",
       "      <th>following</th>\n",
       "      <th>followers</th>\n",
       "      <th>totaltweets</th>\n",
       "      <th>user_createdts</th>\n",
       "      <th>tweet_createdts</th>\n",
       "      <th>retweet_count</th>\n",
       "      <th>text</th>\n",
       "      <th>hashtags</th>\n",
       "      <th>num_hashtags</th>\n",
       "      <th>num_search_tags</th>\n",
       "      <th>label</th>\n",
       "      <th>tweet_length</th>\n",
       "    </tr>\n",
       "  </thead>\n",
       "  <tbody>\n",
       "    <tr>\n",
       "      <th>3</th>\n",
       "      <td>wheemoonve</td>\n",
       "      <td>moomoo-tomoon-weve fan account | she/her.</td>\n",
       "      <td>01l | broken eng/ina</td>\n",
       "      <td>477</td>\n",
       "      <td>429</td>\n",
       "      <td>16205</td>\n",
       "      <td>2020-07-31 11:58:21</td>\n",
       "      <td>2020-10-06 15:21:26</td>\n",
       "      <td>0</td>\n",
       "      <td>chop chop mumu time to diligently collect star...</td>\n",
       "      <td>{#mamamoo, #mamamooisback, #travel}</td>\n",
       "      <td>3</td>\n",
       "      <td>1</td>\n",
       "      <td>0</td>\n",
       "      <td>29</td>\n",
       "    </tr>\n",
       "    <tr>\n",
       "      <th>5</th>\n",
       "      <td>ddakwhee</td>\n",
       "      <td>fan account for MAMAMOO~\\nmoo since UOAY era, ...</td>\n",
       "      <td>NaN</td>\n",
       "      <td>154</td>\n",
       "      <td>83</td>\n",
       "      <td>1995</td>\n",
       "      <td>2020-07-17 14:39:30</td>\n",
       "      <td>2020-10-06 15:21:26</td>\n",
       "      <td>0</td>\n",
       "      <td>I THOUGHT MOOS WERE CLOWNING BUT THEORIES WERE...</td>\n",
       "      <td>{#mamamoo, #mamamooiscoming, #travel}</td>\n",
       "      <td>3</td>\n",
       "      <td>1</td>\n",
       "      <td>0</td>\n",
       "      <td>15</td>\n",
       "    </tr>\n",
       "  </tbody>\n",
       "</table>\n",
       "</div>"
      ],
      "text/plain": [
       "    user_name                                          user_desc  \\\n",
       "3  wheemoonve          moomoo-tomoon-weve fan account | she/her.   \n",
       "5    ddakwhee  fan account for MAMAMOO~\\nmoo since UOAY era, ...   \n",
       "\n",
       "               location  following  followers  totaltweets  \\\n",
       "3  01l | broken eng/ina        477        429        16205   \n",
       "5                   NaN        154         83         1995   \n",
       "\n",
       "        user_createdts      tweet_createdts  retweet_count  \\\n",
       "3  2020-07-31 11:58:21  2020-10-06 15:21:26              0   \n",
       "5  2020-07-17 14:39:30  2020-10-06 15:21:26              0   \n",
       "\n",
       "                                                text  \\\n",
       "3  chop chop mumu time to diligently collect star...   \n",
       "5  I THOUGHT MOOS WERE CLOWNING BUT THEORIES WERE...   \n",
       "\n",
       "                                hashtags  num_hashtags  num_search_tags  \\\n",
       "3    {#mamamoo, #mamamooisback, #travel}             3                1   \n",
       "5  {#mamamoo, #mamamooiscoming, #travel}             3                1   \n",
       "\n",
       "   label  tweet_length  \n",
       "3      0            29  \n",
       "5      0            15  "
      ]
     },
     "execution_count": 93,
     "metadata": {},
     "output_type": "execute_result"
    }
   ],
   "source": [
    "# Distribution of tweet length in different labels (followers category)\n",
    "\n",
    "travel_df['tweet_length'] = travel_df['text'].apply(lambda x: len(x.split())) # tweet length\n",
    "travel_df.head(2)"
   ]
  },
  {
   "cell_type": "code",
   "execution_count": 94,
   "metadata": {},
   "outputs": [
    {
     "data": {
      "text/plain": [
       "FBMyNEXTCar        847\n",
       "ToiletGuru         307\n",
       "promovisionpv      290\n",
       "CNN_newstrend      202\n",
       "JustinLaurenXO     192\n",
       "bcgoodsintl        159\n",
       "SecretFlying       151\n",
       "chinmoylad         136\n",
       "bmurphypointman    129\n",
       "boracayisland1     117\n",
       "Name: user_name, dtype: int64"
      ]
     },
     "execution_count": 94,
     "metadata": {},
     "output_type": "execute_result"
    }
   ],
   "source": [
    "# user with higest number of tweets on travel\n",
    "user = travel_df['user_name'].value_counts()\n",
    "user.head(10)"
   ]
  },
  {
   "cell_type": "code",
   "execution_count": 95,
   "metadata": {},
   "outputs": [
    {
     "data": {
      "image/png": "[encoded data removed]",
      "text/plain": [
       "<Figure size 720x576 with 1 Axes>"
      ]
     },
     "metadata": {
      "needs_background": "light"
     },
     "output_type": "display_data"
    }
   ],
   "source": [
    "# tweet length distribution at different labels\n",
    "plt.figure(figsize=(10, 8))\n",
    "sns.boxplot(x = 'label', y = 'tweet_length', data = travel_df, showfliers=False,color='green')\n",
    "plt.xlabel('Label', fontsize=20)\n",
    "plt.ylabel('Tweet Length', fontsize=20)\n",
    "plt.title('Distribution of Tweet Length (Travel Tweets)', fontsize=20)\n",
    "plt.xticks(fontsize=20)\n",
    "plt.yticks(fontsize=20)\n",
    "plt.show()"
   ]
  },
  {
   "cell_type": "code",
   "execution_count": 96,
   "metadata": {},
   "outputs": [
    {
     "data": {
      "text/html": [
       "<div>\n",
       "<style scoped>\n",
       "    .dataframe tbody tr th:only-of-type {\n",
       "        vertical-align: middle;\n",
       "    }\n",
       "\n",
       "    .dataframe tbody tr th {\n",
       "        vertical-align: top;\n",
       "    }\n",
       "\n",
       "    .dataframe thead th {\n",
       "        text-align: right;\n",
       "    }\n",
       "</style>\n",
       "<table border=\"1\" class=\"dataframe\">\n",
       "  <thead>\n",
       "    <tr style=\"text-align: right;\">\n",
       "      <th></th>\n",
       "      <th>user_name</th>\n",
       "      <th>user_desc</th>\n",
       "      <th>location</th>\n",
       "      <th>following</th>\n",
       "      <th>followers</th>\n",
       "      <th>totaltweets</th>\n",
       "      <th>user_createdts</th>\n",
       "      <th>tweet_createdts</th>\n",
       "      <th>retweet_count</th>\n",
       "      <th>text</th>\n",
       "      <th>hashtags</th>\n",
       "      <th>num_hashtags</th>\n",
       "      <th>num_search_tags</th>\n",
       "      <th>label</th>\n",
       "      <th>tweet_length</th>\n",
       "      <th>% caps</th>\n",
       "    </tr>\n",
       "  </thead>\n",
       "  <tbody>\n",
       "    <tr>\n",
       "      <th>3</th>\n",
       "      <td>wheemoonve</td>\n",
       "      <td>moomoo-tomoon-weve fan account | she/her.</td>\n",
       "      <td>01l | broken eng/ina</td>\n",
       "      <td>477</td>\n",
       "      <td>429</td>\n",
       "      <td>16205</td>\n",
       "      <td>2020-07-31 11:58:21</td>\n",
       "      <td>2020-10-06 15:21:26</td>\n",
       "      <td>0</td>\n",
       "      <td>chop chop mumu time to diligently collect star...</td>\n",
       "      <td>{#mamamoo, #mamamooisback, #travel}</td>\n",
       "      <td>3</td>\n",
       "      <td>1</td>\n",
       "      <td>0</td>\n",
       "      <td>29</td>\n",
       "      <td>12.500000</td>\n",
       "    </tr>\n",
       "    <tr>\n",
       "      <th>5</th>\n",
       "      <td>ddakwhee</td>\n",
       "      <td>fan account for MAMAMOO~\\nmoo since UOAY era, ...</td>\n",
       "      <td>NaN</td>\n",
       "      <td>154</td>\n",
       "      <td>83</td>\n",
       "      <td>1995</td>\n",
       "      <td>2020-07-17 14:39:30</td>\n",
       "      <td>2020-10-06 15:21:26</td>\n",
       "      <td>0</td>\n",
       "      <td>I THOUGHT MOOS WERE CLOWNING BUT THEORIES WERE...</td>\n",
       "      <td>{#mamamoo, #mamamooiscoming, #travel}</td>\n",
       "      <td>3</td>\n",
       "      <td>1</td>\n",
       "      <td>0</td>\n",
       "      <td>15</td>\n",
       "      <td>63.779528</td>\n",
       "    </tr>\n",
       "  </tbody>\n",
       "</table>\n",
       "</div>"
      ],
      "text/plain": [
       "    user_name                                          user_desc  \\\n",
       "3  wheemoonve          moomoo-tomoon-weve fan account | she/her.   \n",
       "5    ddakwhee  fan account for MAMAMOO~\\nmoo since UOAY era, ...   \n",
       "\n",
       "               location  following  followers  totaltweets  \\\n",
       "3  01l | broken eng/ina        477        429        16205   \n",
       "5                   NaN        154         83         1995   \n",
       "\n",
       "        user_createdts      tweet_createdts  retweet_count  \\\n",
       "3  2020-07-31 11:58:21  2020-10-06 15:21:26              0   \n",
       "5  2020-07-17 14:39:30  2020-10-06 15:21:26              0   \n",
       "\n",
       "                                                text  \\\n",
       "3  chop chop mumu time to diligently collect star...   \n",
       "5  I THOUGHT MOOS WERE CLOWNING BUT THEORIES WERE...   \n",
       "\n",
       "                                hashtags  num_hashtags  num_search_tags  \\\n",
       "3    {#mamamoo, #mamamooisback, #travel}             3                1   \n",
       "5  {#mamamoo, #mamamooiscoming, #travel}             3                1   \n",
       "\n",
       "   label  tweet_length     % caps  \n",
       "3      0            29  12.500000  \n",
       "5      0            15  63.779528  "
      ]
     },
     "execution_count": 96,
     "metadata": {},
     "output_type": "execute_result"
    }
   ],
   "source": [
    "# define a function to get % of caps in a tweet\n",
    "def caps(text):\n",
    "    return np.mean([1 if i.isupper() else 0 for i in text]) * 100\n",
    "\n",
    "travel_df['% caps'] = travel_df['text'].apply(caps)\n",
    "travel_df.head(2)"
   ]
  },
  {
   "cell_type": "code",
   "execution_count": 97,
   "metadata": {},
   "outputs": [
    {
     "data": {
      "image/png": "[encoded data removed]",
      "text/plain": [
       "<Figure size 720x576 with 1 Axes>"
      ]
     },
     "metadata": {
      "needs_background": "light"
     },
     "output_type": "display_data"
    }
   ],
   "source": [
    "# Distribution of % of Caps in different followers count (labels)\n",
    "plt.figure(figsize=(10, 8))\n",
    "sns.boxplot(x = 'label', y = travel_df['% caps'], data = travel_df, showfliers=False, color='green')\n",
    "plt.xlabel('Label', fontsize=20)\n",
    "plt.ylabel('% of Capitals', fontsize=20)\n",
    "plt.title('Distribution of % caps (Travel Tweets)', fontsize=20)\n",
    "plt.xticks(fontsize=20)\n",
    "plt.yticks(fontsize=20)\n",
    "plt.show()"
   ]
  },
  {
   "cell_type": "code",
   "execution_count": 98,
   "metadata": {},
   "outputs": [
    {
     "data": {
      "text/html": [
       "<div>\n",
       "<style scoped>\n",
       "    .dataframe tbody tr th:only-of-type {\n",
       "        vertical-align: middle;\n",
       "    }\n",
       "\n",
       "    .dataframe tbody tr th {\n",
       "        vertical-align: top;\n",
       "    }\n",
       "\n",
       "    .dataframe thead th {\n",
       "        text-align: right;\n",
       "    }\n",
       "</style>\n",
       "<table border=\"1\" class=\"dataframe\">\n",
       "  <thead>\n",
       "    <tr style=\"text-align: right;\">\n",
       "      <th></th>\n",
       "      <th>% caps</th>\n",
       "    </tr>\n",
       "    <tr>\n",
       "      <th>label</th>\n",
       "      <th></th>\n",
       "    </tr>\n",
       "  </thead>\n",
       "  <tbody>\n",
       "    <tr>\n",
       "      <th>0</th>\n",
       "      <td>9.254603</td>\n",
       "    </tr>\n",
       "    <tr>\n",
       "      <th>1</th>\n",
       "      <td>9.539909</td>\n",
       "    </tr>\n",
       "  </tbody>\n",
       "</table>\n",
       "</div>"
      ],
      "text/plain": [
       "         % caps\n",
       "label          \n",
       "0      9.254603\n",
       "1      9.539909"
      ]
     },
     "execution_count": 98,
     "metadata": {},
     "output_type": "execute_result"
    }
   ],
   "source": [
    "travel_df[['label', '% caps']].groupby('label').mean()"
   ]
  },
  {
   "cell_type": "code",
   "execution_count": 99,
   "metadata": {},
   "outputs": [
    {
     "data": {
      "image/png": "[encoded data removed]",
      "text/plain": [
       "<Figure size 720x576 with 1 Axes>"
      ]
     },
     "metadata": {
      "needs_background": "light"
     },
     "output_type": "display_data"
    }
   ],
   "source": [
    "# Distribution of % caps\n",
    "plt.figure(figsize=(10,8))\n",
    "\n",
    "travel_df['% caps'].hist(color='green', alpha=0.8)\n",
    "plt.yscale('log', nonposy='clip')\n",
    "plt.title('Travel Tweets', fontsize=20)\n",
    "plt.xlabel('% Caps', fontsize=20)\n",
    "plt.ylabel('Count', fontsize=20)\n",
    "plt.xticks(fontsize=20)\n",
    "plt.yticks(fontsize=20)\n",
    "plt.show()"
   ]
  },
  {
   "cell_type": "code",
   "execution_count": 100,
   "metadata": {},
   "outputs": [
    {
     "data": {
      "text/html": [
       "<div>\n",
       "<style scoped>\n",
       "    .dataframe tbody tr th:only-of-type {\n",
       "        vertical-align: middle;\n",
       "    }\n",
       "\n",
       "    .dataframe tbody tr th {\n",
       "        vertical-align: top;\n",
       "    }\n",
       "\n",
       "    .dataframe thead th {\n",
       "        text-align: right;\n",
       "    }\n",
       "</style>\n",
       "<table border=\"1\" class=\"dataframe\">\n",
       "  <thead>\n",
       "    <tr style=\"text-align: right;\">\n",
       "      <th></th>\n",
       "      <th>user_name</th>\n",
       "      <th>user_desc</th>\n",
       "      <th>location</th>\n",
       "      <th>following</th>\n",
       "      <th>followers</th>\n",
       "      <th>totaltweets</th>\n",
       "      <th>user_createdts</th>\n",
       "      <th>tweet_createdts</th>\n",
       "      <th>retweet_count</th>\n",
       "      <th>text</th>\n",
       "      <th>hashtags</th>\n",
       "      <th>num_hashtags</th>\n",
       "      <th>num_search_tags</th>\n",
       "      <th>label</th>\n",
       "      <th>tweet_length</th>\n",
       "      <th>% caps</th>\n",
       "      <th>manycaps</th>\n",
       "    </tr>\n",
       "  </thead>\n",
       "  <tbody>\n",
       "    <tr>\n",
       "      <th>3</th>\n",
       "      <td>wheemoonve</td>\n",
       "      <td>moomoo-tomoon-weve fan account | she/her.</td>\n",
       "      <td>01l | broken eng/ina</td>\n",
       "      <td>477</td>\n",
       "      <td>429</td>\n",
       "      <td>16205</td>\n",
       "      <td>2020-07-31 11:58:21</td>\n",
       "      <td>2020-10-06 15:21:26</td>\n",
       "      <td>0</td>\n",
       "      <td>chop chop mumu time to diligently collect star...</td>\n",
       "      <td>{#mamamoo, #mamamooisback, #travel}</td>\n",
       "      <td>3</td>\n",
       "      <td>1</td>\n",
       "      <td>0</td>\n",
       "      <td>29</td>\n",
       "      <td>12.500000</td>\n",
       "      <td>False</td>\n",
       "    </tr>\n",
       "    <tr>\n",
       "      <th>5</th>\n",
       "      <td>ddakwhee</td>\n",
       "      <td>fan account for MAMAMOO~\\nmoo since UOAY era, ...</td>\n",
       "      <td>NaN</td>\n",
       "      <td>154</td>\n",
       "      <td>83</td>\n",
       "      <td>1995</td>\n",
       "      <td>2020-07-17 14:39:30</td>\n",
       "      <td>2020-10-06 15:21:26</td>\n",
       "      <td>0</td>\n",
       "      <td>I THOUGHT MOOS WERE CLOWNING BUT THEORIES WERE...</td>\n",
       "      <td>{#mamamoo, #mamamooiscoming, #travel}</td>\n",
       "      <td>3</td>\n",
       "      <td>1</td>\n",
       "      <td>0</td>\n",
       "      <td>15</td>\n",
       "      <td>63.779528</td>\n",
       "      <td>True</td>\n",
       "    </tr>\n",
       "  </tbody>\n",
       "</table>\n",
       "</div>"
      ],
      "text/plain": [
       "    user_name                                          user_desc  \\\n",
       "3  wheemoonve          moomoo-tomoon-weve fan account | she/her.   \n",
       "5    ddakwhee  fan account for MAMAMOO~\\nmoo since UOAY era, ...   \n",
       "\n",
       "               location  following  followers  totaltweets  \\\n",
       "3  01l | broken eng/ina        477        429        16205   \n",
       "5                   NaN        154         83         1995   \n",
       "\n",
       "        user_createdts      tweet_createdts  retweet_count  \\\n",
       "3  2020-07-31 11:58:21  2020-10-06 15:21:26              0   \n",
       "5  2020-07-17 14:39:30  2020-10-06 15:21:26              0   \n",
       "\n",
       "                                                text  \\\n",
       "3  chop chop mumu time to diligently collect star...   \n",
       "5  I THOUGHT MOOS WERE CLOWNING BUT THEORIES WERE...   \n",
       "\n",
       "                                hashtags  num_hashtags  num_search_tags  \\\n",
       "3    {#mamamoo, #mamamooisback, #travel}             3                1   \n",
       "5  {#mamamoo, #mamamooiscoming, #travel}             3                1   \n",
       "\n",
       "   label  tweet_length     % caps  manycaps  \n",
       "3      0            29  12.500000     False  \n",
       "5      0            15  63.779528      True  "
      ]
     },
     "execution_count": 100,
     "metadata": {},
     "output_type": "execute_result"
    }
   ],
   "source": [
    "# Distributions of % caps (> 20%) in different labels\n",
    "\n",
    "travel_df['manycaps'] = travel_df['% caps'].apply(lambda x: x > 20)\n",
    "travel_df.head(2)"
   ]
  },
  {
   "cell_type": "code",
   "execution_count": 101,
   "metadata": {},
   "outputs": [
    {
     "data": {
      "text/html": [
       "<div>\n",
       "<style scoped>\n",
       "    .dataframe tbody tr th:only-of-type {\n",
       "        vertical-align: middle;\n",
       "    }\n",
       "\n",
       "    .dataframe tbody tr th {\n",
       "        vertical-align: top;\n",
       "    }\n",
       "\n",
       "    .dataframe thead th {\n",
       "        text-align: right;\n",
       "    }\n",
       "</style>\n",
       "<table border=\"1\" class=\"dataframe\">\n",
       "  <thead>\n",
       "    <tr style=\"text-align: right;\">\n",
       "      <th></th>\n",
       "      <th>manycaps</th>\n",
       "    </tr>\n",
       "    <tr>\n",
       "      <th>label</th>\n",
       "      <th></th>\n",
       "    </tr>\n",
       "  </thead>\n",
       "  <tbody>\n",
       "    <tr>\n",
       "      <th>0</th>\n",
       "      <td>0.047300</td>\n",
       "    </tr>\n",
       "    <tr>\n",
       "      <th>1</th>\n",
       "      <td>0.008609</td>\n",
       "    </tr>\n",
       "  </tbody>\n",
       "</table>\n",
       "</div>"
      ],
      "text/plain": [
       "       manycaps\n",
       "label          \n",
       "0      0.047300\n",
       "1      0.008609"
      ]
     },
     "execution_count": 101,
     "metadata": {},
     "output_type": "execute_result"
    }
   ],
   "source": [
    "manycaps_travel = travel_df[['label', 'manycaps']].groupby('label').mean()\n",
    "manycaps_travel"
   ]
  },
  {
   "cell_type": "code",
   "execution_count": 102,
   "metadata": {},
   "outputs": [
    {
     "data": {
      "image/png": "[encoded data removed]",
      "text/plain": [
       "<Figure size 720x576 with 1 Axes>"
      ]
     },
     "metadata": {
      "needs_background": "light"
     },
     "output_type": "display_data"
    }
   ],
   "source": [
    "manycaps_travel.plot(kind='bar', color='green',rot = 0, figsize=(10, 8))\n",
    "plt.xlabel('Label', fontsize=20)\n",
    "plt.ylabel('% of tweets with >20% Capitals', fontsize=20)\n",
    "plt.title('Travel Tweets', fontsize=20)\n",
    "plt.xticks(fontsize=20)\n",
    "plt.yticks(fontsize=15)\n",
    "plt.show()"
   ]
  },
  {
   "cell_type": "code",
   "execution_count": 103,
   "metadata": {},
   "outputs": [
    {
     "data": {
      "image/png": "[encoded data removed]",
      "text/plain": [
       "<Figure size 720x576 with 1 Axes>"
      ]
     },
     "metadata": {
      "needs_background": "light"
     },
     "output_type": "display_data"
    }
   ],
   "source": [
    "# Distribution of number of hashtags in different labels\n",
    "plt.figure(figsize=(10, 8))\n",
    "sns.boxplot(x = 'label', y = 'num_hashtags', data = travel_df, showfliers=False, color='green')\n",
    "plt.xlabel('Label', fontsize=20)\n",
    "plt.ylabel('Hashtags Per Tweet', fontsize=20)\n",
    "plt.title('Distribution of hashtags per tweet (Travel Tweets)', fontsize=20)\n",
    "plt.xticks(fontsize=20)\n",
    "plt.yticks(fontsize=20)\n",
    "plt.show()"
   ]
  },
  {
   "cell_type": "code",
   "execution_count": 120,
   "metadata": {},
   "outputs": [
    {
     "data": {
      "image/png": "[encoded data removed]",
      "text/plain": [
       "<Figure size 720x576 with 1 Axes>"
      ]
     },
     "metadata": {
      "needs_background": "light"
     },
     "output_type": "display_data"
    }
   ],
   "source": [
    "# Distribution of reading level in different labels (Automated Readability Index)\n",
    "plt.figure(figsize=(10, 8))\n",
    "sns.boxplot(x = 'label', y = travel_df['text'].apply(lambda x: textstat.automated_readability_index(x)), data = travel_df, showfliers=False, color='green')\n",
    "plt.xlabel('Label', fontsize=20)\n",
    "plt.ylabel('Reading Level', fontsize=20)\n",
    "plt.title('Distribution of Tweet Reading Level (Travel Tweets)', fontsize=20)\n",
    "plt.xticks(fontsize=20)\n",
    "plt.yticks(fontsize=20)\n",
    "plt.show()"
   ]
  },
  {
   "cell_type": "code",
   "execution_count": 200,
   "metadata": {},
   "outputs": [
    {
     "data": {
      "image/png": "[encoded data removed]",
      "text/plain": [
       "<Figure size 720x576 with 1 Axes>"
      ]
     },
     "metadata": {
      "needs_background": "light"
     },
     "output_type": "display_data"
    }
   ],
   "source": [
    "# Distribution of reading level in different labels (Fog Scale)\n",
    "plt.figure(figsize=(10, 8))\n",
    "sns.boxplot(x = 'label', y = travel_df['text'].apply(lambda x: textstat.gunning_fog(x)), data = travel_df, showfliers=False, color='green').set(xlabel= 'Label',ylabel='Reading Level', title='Distribution of Tweet Reading Level (Travel Tweets)')\n",
    "plt.show()"
   ]
  },
  {
   "cell_type": "code",
   "execution_count": 201,
   "metadata": {},
   "outputs": [
    {
     "data": {
      "image/png": "[encoded data removed]",
      "text/plain": [
       "<Figure size 720x576 with 1 Axes>"
      ]
     },
     "metadata": {
      "needs_background": "light"
     },
     "output_type": "display_data"
    }
   ],
   "source": [
    "# Distribution of reading level in different labels (Coleman-Liau Index)\n",
    "plt.figure(figsize=(10, 8))\n",
    "sns.boxplot(x = 'label', y = travel_df['text'].apply(lambda x: textstat.coleman_liau_index(x)), data = travel_df, showfliers=False, color='green').set(xlabel= 'Label',ylabel='Reading Level', title='Distribution of Tweet Reading Level (Travel Tweets)')\n",
    "plt.show()"
   ]
  },
  {
   "cell_type": "code",
   "execution_count": 202,
   "metadata": {},
   "outputs": [
    {
     "data": {
      "image/png": "[encoded data removed]",
      "text/plain": [
       "<Figure size 720x576 with 1 Axes>"
      ]
     },
     "metadata": {
      "needs_background": "light"
     },
     "output_type": "display_data"
    }
   ],
   "source": [
    "# Distribution of reading level in different labels (Linsear Write Formula)\n",
    "plt.figure(figsize=(10, 8))\n",
    "sns.boxplot(x = 'label', y = travel_df['text'].apply(lambda x: textstat.linsear_write_formula(x)), data = travel_df, showfliers=False, color='green').set(xlabel= 'Label',ylabel='Reading Level', title='Distribution of Tweet Reading Level (Travel Tweets)')\n",
    "plt.show()"
   ]
  },
  {
   "cell_type": "markdown",
   "metadata": {},
   "source": [
    "### Filter examples of text containing most predictive words ( Machine Learning : Most Predictive word)"
   ]
  },
  {
   "cell_type": "code",
   "execution_count": 104,
   "metadata": {},
   "outputs": [
    {
     "name": "stdout",
     "output_type": "stream",
     "text": [
      "1559     #airport #aviation #airpllane #airbus #aircraf...\n",
      "11324    #travel #tour #tourism #vacation  Save Big on ...\n",
      "11720    #money #parking #airport #travel  Save Big on ...\n",
      "21563    #socialmedia #travel #tourism #parking #airpor...\n",
      "22281    #discount #discounts  #parking #airport #trave...\n",
      "30300    #socialmedia #travel #tourism #parking #airpor...\n",
      "30382    #travel #tour #tourism #vacation  Save Big on ...\n",
      "30733    #money #parking #airport #travel  Save Big on ...\n",
      "31010    #discount #discounts  #parking #airport #trave...\n",
      "36085    #socialmedia #travel #tourism #parking #airpor...\n",
      "36138    #travel #tour #tourism #vacation  Save Big on ...\n",
      "36554    #money #parking #airport #travel  Save Big on ...\n",
      "36762    #airport #aviation #airpllane #airbus #aircraf...\n",
      "36836    #discount #discounts  #parking #airport #trave...\n",
      "46105    #amazon #amazonprime #prime #travel #parking #...\n",
      "46607    #socialmedia #travel #tourism #parking #airpor...\n",
      "46658    #travel #tour #tourism #vacation  Save Big on ...\n",
      "47086    #money #parking #airport #travel  Save Big on ...\n",
      "47353    #airport #aviation #airpllane #airbus #aircraf...\n",
      "47398    #discount #discounts  #parking #airport #trave...\n",
      "55137    #socialmedia #travel #tourism #parking #airpor...\n",
      "55178    #travel #tour #tourism #vacation  Save Big on ...\n",
      "55429    #airport #aviation #airpllane #airbus #aircraf...\n",
      "55876    #discount #discounts  #parking #airport #trave...\n",
      "89375    #amazon #amazonprime #prime #travel #parking #...\n",
      "90473    #airport #aviation #airpllane #airbus #aircraf...\n",
      "Name: text, dtype: object\n"
     ]
    }
   ],
   "source": [
    "word1_travel = travel_df[travel_df['text'].str.contains('discount airport')].text\n",
    "print(word1_travel)"
   ]
  },
  {
   "cell_type": "code",
   "execution_count": 105,
   "metadata": {},
   "outputs": [
    {
     "data": {
      "text/plain": [
       "'#airport #aviation #airpllane #airbus #aircraft #travel Save Big on Airport Parking. Check for discount airport parking on https://t.co/Hk21gwU6Ai'"
      ]
     },
     "execution_count": 105,
     "metadata": {},
     "output_type": "execute_result"
    }
   ],
   "source": [
    "word1_travel[90473]"
   ]
  },
  {
   "cell_type": "code",
   "execution_count": 108,
   "metadata": {},
   "outputs": [
    {
     "data": {
      "text/plain": [
       "'#amazon #amazonprime #prime #travel #parking #airport Save Big on Airport Parking. Check for discount airport parking on https://t.co/Hk21gwU6Ai'"
      ]
     },
     "execution_count": 108,
     "metadata": {},
     "output_type": "execute_result"
    }
   ],
   "source": [
    "word1_travel[89375]"
   ]
  },
  {
   "cell_type": "code",
   "execution_count": 106,
   "metadata": {},
   "outputs": [
    {
     "data": {
      "text/plain": [
       "'#airport #aviation #airpllane #airbus #aircraft #travel Save Big on Airport Parking. Check for discount airport parking on https://t.co/Hk21gwU6Ai'"
      ]
     },
     "execution_count": 106,
     "metadata": {},
     "output_type": "execute_result"
    }
   ],
   "source": [
    "word1_travel[36762]"
   ]
  },
  {
   "cell_type": "code",
   "execution_count": 107,
   "metadata": {},
   "outputs": [
    {
     "name": "stdout",
     "output_type": "stream",
     "text": [
      "3938     #travel #tour #tourism #vacation Check out my ...\n",
      "14384    #travel #tour #tourism #vacation Check out my ...\n",
      "33355    #travel #tour #tourism #vacation Check out my ...\n",
      "49727    #travel #tour #tourism #vacation Check out my ...\n",
      "50454    #travel #tour #tourism #vacation #staycation  ...\n",
      "52071    #travel #tour #tourism #vacation  Check my web...\n",
      "55834    TripAdvisor CEO says Google uses its 'dominanc...\n",
      "57837    #travel #tour #tourism #vacation Check out my ...\n",
      "58170    #travel #tour #tourism #vacation Check out my ...\n",
      "84584    My top #recommended #affiliate #programs, #cry...\n",
      "84736    My top recommended #affiliate programs, #crypt...\n",
      "84960    My top #recommended #affiliate #programs, #cry...\n",
      "85231    #affiliate #business #crypto #bitcoin #shoppin...\n",
      "85402    #entrepreneurs #AffiliateMarketing #tourism #t...\n",
      "85596    Here my top #recommended #travel sites!  https...\n",
      "85649    #socialmedia #tourism #affiliatemarketing #aff...\n",
      "85715    #twitter #twitterfriends #twittercircle #tour ...\n",
      "85757    #entrepreneurs #AffiliateMarketing #tourism #t...\n",
      "85815    Check my website for my top affiliate programs...\n",
      "85906    Here my #top #recommended #travel sites!  http...\n",
      "85923    Here my top #recommended #travel sites!  https...\n",
      "85976    #socialmedia #tourism #affiliatemarketing #aff...\n",
      "85982    #traeling #tourism #tour #vacation Here my top...\n",
      "85988    #bayarea #sf #eastbay #southbay #northbay Here...\n",
      "86033    #bayarea #sf #sanfrancisco #eastbay #oakland #...\n",
      "86045    Check my #website for my top affiliate program...\n",
      "86105    Check my website for my top affiliate programs...\n",
      "86152    Check my website for my top affiliate programs...\n",
      "86257    #passiveincome #investor #businessowner #affil...\n",
      "86287    #affiliate #earnmoney #makemoney #socialmedia ...\n",
      "86306    #twitter #facebook #linkedin #socialmedia #soc...\n",
      "86329    #traeling #tourism #tour #vacation Here my top...\n",
      "86335    #bayarea #sf #eastbay #southbay #northbay Here...\n",
      "86380    #bayarea #sf #sanfrancisco #eastbay #oakland #...\n",
      "86994    #checkthisout My top recommended #affiliate pr...\n",
      "87318    #checkthisout My top recommended #affiliate pr...\n",
      "92889    #travel #tour #tourism #vacation Check out my ...\n",
      "94588    #twitter #socialmedia #crypto #bitcoin #btc #c...\n",
      "95429    My top recommended affiliate programs, crypto ...\n",
      "95611    My top recommended #affiliate programs, #crypt...\n",
      "95848    My top #recommended #affiliate #programs, #cry...\n",
      "Name: text, dtype: object\n"
     ]
    }
   ],
   "source": [
    "word2_travel = travel_df[travel_df['text'].str.contains('travel site')].text\n",
    "print(word2_travel)"
   ]
  },
  {
   "cell_type": "code",
   "execution_count": 128,
   "metadata": {},
   "outputs": [
    {
     "data": {
      "text/plain": [
       "'#entrepreneurs #AffiliateMarketing #tourism #travel #marketing #DigitalMarketing #EmailMarketing #InfluencerMarketing Here my top recommended travel sites!  https://t.co/Hk21gwU6Ai'"
      ]
     },
     "execution_count": 128,
     "metadata": {},
     "output_type": "execute_result"
    }
   ],
   "source": [
    "word2_travel[85402]"
   ]
  },
  {
   "cell_type": "code",
   "execution_count": 109,
   "metadata": {},
   "outputs": [
    {
     "data": {
      "text/plain": [
       "\"TripAdvisor CEO says Google uses its 'dominance in internet gatekeeping' against travel sites #wanderlust #travelgram #adventure\\n#travel #travelling #traveltheworld\\n- - Travel to Plan - Plan to Travel - - \\n- - Read the Full Story Here - https://t.co/FEZ5d17Tev\""
      ]
     },
     "execution_count": 109,
     "metadata": {},
     "output_type": "execute_result"
    }
   ],
   "source": [
    "word2_travel[55834]"
   ]
  },
  {
   "cell_type": "code",
   "execution_count": 143,
   "metadata": {},
   "outputs": [
    {
     "name": "stdout",
     "output_type": "stream",
     "text": [
      "6431     I see no end to #Traveling\\n#Paris, #France, a...\n",
      "6438     I see no end to #travelling\\nTongariro Nationa...\n",
      "6439     I see no end to #travelling\\nTongariro Nationa...\n",
      "6443     I see no end to #travelling\\n#Tongariro Nation...\n",
      "6450     I see no end to #traveling\\nTaurangi, Near #Or...\n",
      "6458     I see no end to #travelling\\nFrom Beijing to X...\n",
      "6462     I see no end to #travelling\\nThe Forbidden Cit...\n",
      "6463     I see no end to #travelling\\nThe Hutongs of Be...\n",
      "26128    -I see no end to #travelling\\nThe French Quart...\n",
      "26132    -I see no end to #travelling\\nThe Bund, Shangh...\n",
      "26137    -I see no end to #travelling\\nThe Maglev (Magn...\n",
      "26140    I see no end to #travelling\\nAnother quaint ho...\n",
      "26142    I see no end to #travelling\\nShanghai, China. ...\n",
      "26145    I see no end to #travelling\\nWest Lake, Hangzh...\n",
      "26148    I see no end to #travelling\\nFrom Hangzhou to ...\n",
      "26769    -I see no end to #travelling\\nAnother quaint h...\n",
      "26775    -I see no end to #travelling\\nShanghai, China....\n",
      "26787    I see no end to #travelling\\nWest Lake, Hangzh...\n",
      "26795    -I see no end to #travelling\\nFrom Hangzhou to...\n",
      "39277    Here is the latest post on my #travelblog ! Fe...\n",
      "63733    -I see no end to #travelling\\nThe French Quart...\n",
      "63737    -I see no end to #travelling\\nThe Bund, Shangh...\n",
      "63738    -I see no end to #travelling\\nThe Maglev (Magn...\n",
      "63740    I see no end to #travelling\\nAnother quaint ho...\n",
      "63741    I see no end to #travelling\\nShanghai, China. ...\n",
      "63744    I see no end to #travelling\\nWest Lake, Hangzh...\n",
      "63746    I see no end to #travelling\\nFrom Hangzhou to ...\n",
      "66399    I see no end to #travelling\\nFrom Hangzhou to ...\n",
      "66402    I see no end to #travelling\\nWest Lake, Hangzh...\n",
      "66404    I see no end to #travelling\\nShanghai, China. ...\n",
      "                               ...                        \n",
      "74971    I see no end to #travelling\\nShanghai, China. ...\n",
      "74975    I see no end to #travelling\\nAnother quaint ho...\n",
      "84120    I see no end to #Traveling\\n#Paris, #France, a...\n",
      "84121    I see no end to #travelling\\nTongariro Nationa...\n",
      "84126    I see no end to #travelling\\nTongariro Nationa...\n",
      "84132    I see no end to #travelling\\n#Tongariro Nation...\n",
      "84134    I see no end to #traveling\\nTaurangi, Near #Or...\n",
      "84151    I see no end to #travelling\\nFrom Beijing to X...\n",
      "84155    I see no end to #travelling\\nThe Forbidden Cit...\n",
      "84159    I see no end to #travelling\\nThe Hutongs of Be...\n",
      "84256    I see no end to #travelling\\nShanghai, China. ...\n",
      "84259    I see no end to #travelling\\nAnother quaint ho...\n",
      "84261    I see no end to #travelling\\nThe Maglev (Magne...\n",
      "84263    I see no end to #travelling\\nThe Bund, Shangha...\n",
      "84266    I see no end to #travelling\\nThe French Quarte...\n",
      "87983    I see no end to #traveling\\n#Waitomo caves hou...\n",
      "87984    I see no end to #travelling\\n#Taupo, #NewZeala...\n",
      "87987    I see no end to #travelling\\n#Taupo, #NewZeala...\n",
      "87989    I see no end to #travelling\\n#NewZealand, Nort...\n",
      "87992    I see no end to #travelling\\nTongrentang – Tra...\n",
      "87998    I see no end to #travelling\\nThe Great Wall of...\n",
      "88002    I see no end to #travelling\\nThe Jade Factory,...\n",
      "88316    I see no end to #traveling\\n#Oreti village, ne...\n",
      "88320    I see no end to #traveling\\n#Waitomo caves hou...\n",
      "88321    I see no end to #travelling\\n#Taupo, #NewZeala...\n",
      "88324    I see no end to #travelling\\n#Taupo, #NewZeala...\n",
      "88326    I see no end to #travelling\\n#NewZealand, Nort...\n",
      "88329    I see no end to #travelling\\nTongrentang – Tra...\n",
      "88335    I see no end to #travelling\\nThe Great Wall of...\n",
      "88339    I see no end to #travelling\\nThe Jade Factory,...\n",
      "Name: text, Length: 75, dtype: object\n"
     ]
    }
   ],
   "source": [
    "word3_travel = travel_df[travel_df['text'].str.contains('writerlife')].text\n",
    "print(word3_travel)"
   ]
  },
  {
   "cell_type": "code",
   "execution_count": 141,
   "metadata": {},
   "outputs": [
    {
     "data": {
      "text/plain": [
       "'I see no end to #Traveling\\n#Paris, #France, and #Disneyland on the side\\nFour days was not a long time\\nhttps://t.co/sH0HKBHRah\\n#travel #travelblogger #Traveller #blogs #RT #Holidays #vacation\\n#location #writerlife #Bloggers #blogging #blog'"
      ]
     },
     "execution_count": 141,
     "metadata": {},
     "output_type": "execute_result"
    }
   ],
   "source": [
    "word3_travel[6431]"
   ]
  },
  {
   "cell_type": "code",
   "execution_count": 113,
   "metadata": {},
   "outputs": [
    {
     "name": "stdout",
     "output_type": "stream",
     "text": [
      "3067     #Florida @JenkinsNissan checkout Special Offer...\n",
      "3184     #NewMexico @MelloyNissan checkout Special Offe...\n",
      "3281     #Nebraska @SidDillonNissanHyundai checkout Spe...\n",
      "3467     #NewYork @HittigNissan checkout Special Offers...\n",
      "3564     #Oregon @DickHannahNissan checkout Special Off...\n",
      "3769     #California @ChicoNissanHyundai checkout Speci...\n",
      "3915     #California @WestMitsubishi checkout Special O...\n",
      "4137     #Pennsylvania @TurnerKIA checkout Special Offe...\n",
      "4207     #California @KIA.Alhambra.7 checkout Special O...\n",
      "4303     #Iowa @KIAofDM checkout Special Offers and tes...\n",
      "4521     #NorthDakota @DonBessetteMazda checkout Specia...\n",
      "5040     #NewYork @SmithHavenMazda checkout Special Off...\n",
      "5657     #Florida @OrlandoVWNorth checkout Special Offe...\n",
      "5883     #Michigan @CadillacofNovi checkout Special Off...\n",
      "7644     #California @CerritosNissan checkout Special O...\n",
      "7856     #Georgia @GwinnettPlaceNissan checkout Special...\n",
      "8069     #NewMexico @ReliableNissan checkout Special Of...\n",
      "8138     #Arizona @ABCNissan checkout Special Offers an...\n",
      "8257     #Illinios @CrownNissanofDecatur checkout Speci...\n",
      "8336     #Arizona @MidwayNissan checkout Special Offers...\n",
      "8474     #Florida @EdMorseCadillacSawgrass checkout Spe...\n",
      "8657     #Texas @JoeMyersKIA checkout Special Offers an...\n",
      "9007     #Arizona @CamelbackVolkswagen checkout Special...\n",
      "9087     #Arizona @InfinitiofCamelback checkout Special...\n",
      "9179     #Arizona @SuperstitionSpringsLexus checkout Sp...\n",
      "9422     #Missouri @ReliableMazda checkout Special Offe...\n",
      "9576     #Florida @EdMorseBayviewCadillac checkout Spec...\n",
      "9621     #Missouri @InfinitiofSpringfield checkout Spec...\n",
      "9692     #Nebraska @BMWofLincoln checkout Special Offer...\n",
      "9777     #Missouri @BMWofSpringfield checkout Special O...\n",
      "                               ...                        \n",
      "91702    #Idaho @KendallChryslerJeepRam checkout Specia...\n",
      "92050    #Florida @JenkinsNissan checkout Special Offer...\n",
      "92143    #NewMexico @MelloyNissan checkout Special Offe...\n",
      "92232    #Nebraska @SidDillonNissanHyundai checkout Spe...\n",
      "92318    #NewYork @NissanUSA checkout Special Offers an...\n",
      "92454    #NewYork @HittigNissan checkout Special Offers...\n",
      "92564    #Oregon @DickHannahNissan checkout Special Off...\n",
      "92699    #California @ChicoNissanHyundai checkout Speci...\n",
      "92779    #Illinois @HoveNissan checkout Special Offers ...\n",
      "92869    #California @WestMitsubishi checkout Special O...\n",
      "92959    #Florida @KeyWestKIA checkout Special Offers a...\n",
      "92984    #NorthCarolina @LumbertonKIAUSA checkout Speci...\n",
      "93070    #Pennsylvania @TurnerKIA checkout Special Offe...\n",
      "93130    #Tennessee @ChantzScottKIA checkout Special Of...\n",
      "93265    #Iowa @KIAofDM checkout Special Offers and tes...\n",
      "93324    #Georgia @KIAofAugusta checkout Special Offers...\n",
      "93485    #NorthDakota @DonBessetteMazda checkout Specia...\n",
      "93560    #Mississippi @BarnesCrossingKIA checkout Speci...\n",
      "93606    #Florida @HyundaiofOrangePark checkout Special...\n",
      "93675    #Pennsylvania @PiazzaHyundaiWestChester checko...\n",
      "93804    #NorthDakota @DonBessetteHyundai checkout Spec...\n",
      "93872    #Mississippi @BCHyundaiMazda checkout Special ...\n",
      "94025    #NewYork @SmithHavenMazda checkout Special Off...\n",
      "94633    #Florida @OrlandoVWNorth checkout Special Offe...\n",
      "94848    #Michigan @CadillacofNovi checkout Special Off...\n",
      "95252    #Missouri @ReliableToyota checkout Special Off...\n",
      "95320    #Illinios @CrownToyota checkout Special Offers...\n",
      "95387    #Indiana @KennyKentToyota checkout Special Off...\n",
      "95454    #Florida @SeminoleToyota checkout Special Offe...\n",
      "95529    #Nebraska @VillagePointeToyota checkout Specia...\n",
      "Name: text, Length: 758, dtype: object\n"
     ]
    }
   ],
   "source": [
    "word4_travel = travel_df[travel_df['text'].str.contains('test drive')].text\n",
    "print(word4_travel)"
   ]
  },
  {
   "cell_type": "code",
   "execution_count": 111,
   "metadata": {},
   "outputs": [
    {
     "data": {
      "text/plain": [
       "'#Nebraska @VillagePointeToyota checkout Special Offers and test drive the all NEW @Toyota #Camry #TRD drive one #travel and post pics @MyNextToyota @CarandDriver @Motortrend #WebPass https://t.co/0uRU9rVdJz'"
      ]
     },
     "execution_count": 111,
     "metadata": {},
     "output_type": "execute_result"
    }
   ],
   "source": [
    "word4_travel[95529]"
   ]
  },
  {
   "cell_type": "markdown",
   "metadata": {},
   "source": [
    "### Tweet Pre-Processing"
   ]
  },
  {
   "cell_type": "code",
   "execution_count": 132,
   "metadata": {},
   "outputs": [
    {
     "data": {
      "text/html": [
       "<div>\n",
       "<style scoped>\n",
       "    .dataframe tbody tr th:only-of-type {\n",
       "        vertical-align: middle;\n",
       "    }\n",
       "\n",
       "    .dataframe tbody tr th {\n",
       "        vertical-align: top;\n",
       "    }\n",
       "\n",
       "    .dataframe thead th {\n",
       "        text-align: right;\n",
       "    }\n",
       "</style>\n",
       "<table border=\"1\" class=\"dataframe\">\n",
       "  <thead>\n",
       "    <tr style=\"text-align: right;\">\n",
       "      <th></th>\n",
       "      <th>user_name</th>\n",
       "      <th>user_desc</th>\n",
       "      <th>location</th>\n",
       "      <th>following</th>\n",
       "      <th>followers</th>\n",
       "      <th>totaltweets</th>\n",
       "      <th>user_createdts</th>\n",
       "      <th>tweet_createdts</th>\n",
       "      <th>retweet_count</th>\n",
       "      <th>text</th>\n",
       "      <th>hashtags</th>\n",
       "      <th>num_hashtags</th>\n",
       "      <th>num_search_tags</th>\n",
       "      <th>label</th>\n",
       "      <th>tweet_length</th>\n",
       "      <th>% caps</th>\n",
       "      <th>manycaps</th>\n",
       "      <th>clean_tweet</th>\n",
       "    </tr>\n",
       "  </thead>\n",
       "  <tbody>\n",
       "    <tr>\n",
       "      <th>3</th>\n",
       "      <td>wheemoonve</td>\n",
       "      <td>moomoo-tomoon-weve fan account | she/her.</td>\n",
       "      <td>01l | broken eng/ina</td>\n",
       "      <td>477</td>\n",
       "      <td>429</td>\n",
       "      <td>16205</td>\n",
       "      <td>2020-07-31 11:58:21</td>\n",
       "      <td>2020-10-06 15:21:26</td>\n",
       "      <td>0</td>\n",
       "      <td>chop chop mumu time to diligently collect star...</td>\n",
       "      <td>{#mamamooisback, #travel, #mamamoo}</td>\n",
       "      <td>3</td>\n",
       "      <td>1</td>\n",
       "      <td>0</td>\n",
       "      <td>29</td>\n",
       "      <td>12.500000</td>\n",
       "      <td>False</td>\n",
       "      <td>chop chop mumu time diligently collect stars h...</td>\n",
       "    </tr>\n",
       "    <tr>\n",
       "      <th>5</th>\n",
       "      <td>ddakwhee</td>\n",
       "      <td>fan account for MAMAMOO~\\nmoo since UOAY era, ...</td>\n",
       "      <td>NaN</td>\n",
       "      <td>154</td>\n",
       "      <td>83</td>\n",
       "      <td>1995</td>\n",
       "      <td>2020-07-17 14:39:30</td>\n",
       "      <td>2020-10-06 15:21:26</td>\n",
       "      <td>0</td>\n",
       "      <td>I THOUGHT MOOS WERE CLOWNING BUT THEORIES WERE...</td>\n",
       "      <td>{#travel, #mamamooiscoming, #mamamoo}</td>\n",
       "      <td>3</td>\n",
       "      <td>1</td>\n",
       "      <td>0</td>\n",
       "      <td>15</td>\n",
       "      <td>63.779528</td>\n",
       "      <td>True</td>\n",
       "      <td>thought moos clowning theories right #travel #...</td>\n",
       "    </tr>\n",
       "  </tbody>\n",
       "</table>\n",
       "</div>"
      ],
      "text/plain": [
       "    user_name                                          user_desc  \\\n",
       "3  wheemoonve          moomoo-tomoon-weve fan account | she/her.   \n",
       "5    ddakwhee  fan account for MAMAMOO~\\nmoo since UOAY era, ...   \n",
       "\n",
       "               location  following  followers  totaltweets  \\\n",
       "3  01l | broken eng/ina        477        429        16205   \n",
       "5                   NaN        154         83         1995   \n",
       "\n",
       "        user_createdts      tweet_createdts  retweet_count  \\\n",
       "3  2020-07-31 11:58:21  2020-10-06 15:21:26              0   \n",
       "5  2020-07-17 14:39:30  2020-10-06 15:21:26              0   \n",
       "\n",
       "                                                text  \\\n",
       "3  chop chop mumu time to diligently collect star...   \n",
       "5  I THOUGHT MOOS WERE CLOWNING BUT THEORIES WERE...   \n",
       "\n",
       "                                hashtags  num_hashtags  num_search_tags  \\\n",
       "3    {#mamamooisback, #travel, #mamamoo}             3                1   \n",
       "5  {#travel, #mamamooiscoming, #mamamoo}             3                1   \n",
       "\n",
       "   label  tweet_length     % caps  manycaps  \\\n",
       "3      0            29  12.500000     False   \n",
       "5      0            15  63.779528      True   \n",
       "\n",
       "                                         clean_tweet  \n",
       "3  chop chop mumu time diligently collect stars h...  \n",
       "5  thought moos clowning theories right #travel #...  "
      ]
     },
     "execution_count": 132,
     "metadata": {},
     "output_type": "execute_result"
    }
   ],
   "source": [
    "# import NLP packages\n",
    "import re\n",
    "import nltk\n",
    "from nltk.corpus import stopwords\n",
    "stop_words = set(stopwords.words('english'))\n",
    "\n",
    "# Preprocessed text (without lemmatization) before the findinding the most predictive words\n",
    "def text_preprocessing(text):\n",
    "    text = re.sub(r'http\\S+', '', text)   # removing URL\n",
    "    text = re.sub(r'@(\\w+)','',text, flags = re.MULTILINE) # remove mentions\n",
    "    text = re.sub('[^a-zA-Z#]', ' ', text) # keep only alpha (removing numbers, punctions and special characters)\n",
    "    text = str(text).lower()              # Lowercase all text\n",
    "    text = [w for w in text.split() if w not in stop_words] # Removing Stopwords\n",
    "    text = ' '.join(text)\n",
    "    return text\n",
    "\n",
    "travel_df[\"clean_tweet\"] = travel_df['text'].apply(text_preprocessing)\n",
    "travel_df.head(2)"
   ]
  },
  {
   "cell_type": "code",
   "execution_count": 178,
   "metadata": {},
   "outputs": [],
   "source": [
    "# make a pickled file to store the preprocessed tweets (without lemmatization)\n",
    "pd.to_pickle(travel_df, 'travel_preprocessed.pkl')"
   ]
  },
  {
   "cell_type": "code",
   "execution_count": null,
   "metadata": {},
   "outputs": [],
   "source": []
  }
 ],
 "metadata": {
  "kernelspec": {
   "display_name": "Python 3",
   "language": "python",
   "name": "python3"
  },
  "language_info": {
   "codemirror_mode": {
    "name": "ipython",
    "version": 3
   },
   "file_extension": ".py",
   "mimetype": "text/x-python",
   "name": "python",
   "nbconvert_exporter": "python",
   "pygments_lexer": "ipython3",
   "version": "3.7.6"
  }
 },
 "nbformat": 4,
 "nbformat_minor": 4
}
