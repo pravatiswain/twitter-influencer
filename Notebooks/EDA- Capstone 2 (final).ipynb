{
 "cells": [
  {
   "cell_type": "code",
   "execution_count": 1,
   "metadata": {},
   "outputs": [],
   "source": [
    "# impor libraries\n",
    "\n",
    "import pandas as pd\n",
    "import numpy as np\n",
    "\n",
    "import matplotlib.pyplot as plt\n",
    "import seaborn as sns\n",
    "\n",
    "import nltk \n",
    "from nltk.corpus import stopwords\n",
    "from nltk.tokenize import word_tokenize\n",
    "\n",
    "from wordcloud import WordCloud"
   ]
  },
  {
   "cell_type": "code",
   "execution_count": 2,
   "metadata": {},
   "outputs": [
    {
     "data": {
      "text/html": [
       "\n",
       "<style>\n",
       ".output_png {\n",
       "    display: table-cell;\n",
       "    text-align: center;\n",
       "    vertical-align: middle;\n",
       "}\n",
       "</style>\n"
      ],
      "text/plain": [
       "<IPython.core.display.HTML object>"
      ]
     },
     "execution_count": 2,
     "metadata": {},
     "output_type": "execute_result"
    }
   ],
   "source": [
    "# To center the images\n",
    "\n",
    "from IPython.core.display import HTML\n",
    "HTML(\"\"\"\n",
    "<style>\n",
    ".output_png {\n",
    "    display: table-cell;\n",
    "    text-align: center;\n",
    "    vertical-align: middle;\n",
    "}\n",
    "</style>\n",
    "\"\"\")"
   ]
  },
  {
   "cell_type": "code",
   "execution_count": 68,
   "metadata": {},
   "outputs": [
    {
     "data": {
      "text/html": [
       "<div>\n",
       "<style scoped>\n",
       "    .dataframe tbody tr th:only-of-type {\n",
       "        vertical-align: middle;\n",
       "    }\n",
       "\n",
       "    .dataframe tbody tr th {\n",
       "        vertical-align: top;\n",
       "    }\n",
       "\n",
       "    .dataframe thead th {\n",
       "        text-align: right;\n",
       "    }\n",
       "</style>\n",
       "<table border=\"1\" class=\"dataframe\">\n",
       "  <thead>\n",
       "    <tr style=\"text-align: right;\">\n",
       "      <th></th>\n",
       "      <th>user_name</th>\n",
       "      <th>user_desc</th>\n",
       "      <th>location</th>\n",
       "      <th>following</th>\n",
       "      <th>followers</th>\n",
       "      <th>totaltweets</th>\n",
       "      <th>user_createdts</th>\n",
       "      <th>tweet_createdts</th>\n",
       "      <th>retweet_count</th>\n",
       "      <th>text</th>\n",
       "    </tr>\n",
       "  </thead>\n",
       "  <tbody>\n",
       "    <tr>\n",
       "      <th>0</th>\n",
       "      <td>Michelleferg79</td>\n",
       "      <td>NaN</td>\n",
       "      <td>NaN</td>\n",
       "      <td>4981</td>\n",
       "      <td>669</td>\n",
       "      <td>98487</td>\n",
       "      <td>2013-10-25 18:38:52</td>\n",
       "      <td>2020-10-04 17:40:05</td>\n",
       "      <td>174</td>\n",
       "      <td>RT @AnythingGoesL: #Win the 3-Step Anthology f...</td>\n",
       "    </tr>\n",
       "    <tr>\n",
       "      <th>1</th>\n",
       "      <td>GillybeansH</td>\n",
       "      <td>NaN</td>\n",
       "      <td>England</td>\n",
       "      <td>4637</td>\n",
       "      <td>238</td>\n",
       "      <td>15409</td>\n",
       "      <td>2009-05-10 13:18:12</td>\n",
       "      <td>2020-10-04 17:40:05</td>\n",
       "      <td>476</td>\n",
       "      <td>RT @So_Lippy: Enter our #October #Competition ...</td>\n",
       "    </tr>\n",
       "    <tr>\n",
       "      <th>2</th>\n",
       "      <td>luccaromeo</td>\n",
       "      <td>Everything has beauty, but not everyone sees i...</td>\n",
       "      <td>Los Angeles, CA</td>\n",
       "      <td>275</td>\n",
       "      <td>179</td>\n",
       "      <td>21939</td>\n",
       "      <td>2015-09-08 17:43:34</td>\n",
       "      <td>2020-10-04 17:40:03</td>\n",
       "      <td>0</td>\n",
       "      <td>Visage de Layla also offers waxing treatment h...</td>\n",
       "    </tr>\n",
       "    <tr>\n",
       "      <th>3</th>\n",
       "      <td>FashListings</td>\n",
       "      <td>Sell fashion? List your business for FREE in o...</td>\n",
       "      <td>Northampton, UK</td>\n",
       "      <td>30747</td>\n",
       "      <td>35104</td>\n",
       "      <td>224859</td>\n",
       "      <td>2014-12-27 15:53:24</td>\n",
       "      <td>2020-10-04 17:40:03</td>\n",
       "      <td>0</td>\n",
       "      <td>Sell #fashion? Submit your website to our #dir...</td>\n",
       "    </tr>\n",
       "    <tr>\n",
       "      <th>4</th>\n",
       "      <td>_Fanii10</td>\n",
       "      <td>NaN</td>\n",
       "      <td>NaN</td>\n",
       "      <td>25</td>\n",
       "      <td>36</td>\n",
       "      <td>32</td>\n",
       "      <td>2015-06-21 21:26:09</td>\n",
       "      <td>2020-10-04 17:39:57</td>\n",
       "      <td>1</td>\n",
       "      <td>RT @theregoesjared: Candy Battle 🍬🍭🍫\\nStarburs...</td>\n",
       "    </tr>\n",
       "  </tbody>\n",
       "</table>\n",
       "</div>"
      ],
      "text/plain": [
       "        user_name                                          user_desc  \\\n",
       "0  Michelleferg79                                                NaN   \n",
       "1     GillybeansH                                                NaN   \n",
       "2      luccaromeo  Everything has beauty, but not everyone sees i...   \n",
       "3    FashListings  Sell fashion? List your business for FREE in o...   \n",
       "4        _Fanii10                                                NaN   \n",
       "\n",
       "          location  following  followers  totaltweets       user_createdts  \\\n",
       "0              NaN       4981        669        98487  2013-10-25 18:38:52   \n",
       "1          England       4637        238        15409  2009-05-10 13:18:12   \n",
       "2  Los Angeles, CA        275        179        21939  2015-09-08 17:43:34   \n",
       "3  Northampton, UK      30747      35104       224859  2014-12-27 15:53:24   \n",
       "4              NaN         25         36           32  2015-06-21 21:26:09   \n",
       "\n",
       "       tweet_createdts  retweet_count  \\\n",
       "0  2020-10-04 17:40:05            174   \n",
       "1  2020-10-04 17:40:05            476   \n",
       "2  2020-10-04 17:40:03              0   \n",
       "3  2020-10-04 17:40:03              0   \n",
       "4  2020-10-04 17:39:57              1   \n",
       "\n",
       "                                                text  \n",
       "0  RT @AnythingGoesL: #Win the 3-Step Anthology f...  \n",
       "1  RT @So_Lippy: Enter our #October #Competition ...  \n",
       "2  Visage de Layla also offers waxing treatment h...  \n",
       "3  Sell #fashion? Submit your website to our #dir...  \n",
       "4  RT @theregoesjared: Candy Battle 🍬🍭🍫\\nStarburs...  "
      ]
     },
     "execution_count": 68,
     "metadata": {},
     "output_type": "execute_result"
    }
   ],
   "source": [
    "# Load data into a pandas DataFrame\n",
    "fashion_df = pd.read_csv('fashion_tweets_allf.csv')\n",
    "fashion_df.head()"
   ]
  },
  {
   "cell_type": "code",
   "execution_count": 69,
   "metadata": {},
   "outputs": [
    {
     "data": {
      "text/plain": [
       "(70000, 10)"
      ]
     },
     "execution_count": 69,
     "metadata": {},
     "output_type": "execute_result"
    }
   ],
   "source": [
    "# Find out total no of rows and columns\n",
    "fashion_df.shape"
   ]
  },
  {
   "cell_type": "code",
   "execution_count": 70,
   "metadata": {},
   "outputs": [
    {
     "name": "stdout",
     "output_type": "stream",
     "text": [
      "<class 'pandas.core.frame.DataFrame'>\n",
      "RangeIndex: 70000 entries, 0 to 69999\n",
      "Data columns (total 10 columns):\n",
      " #   Column           Non-Null Count  Dtype \n",
      "---  ------           --------------  ----- \n",
      " 0   user_name        70000 non-null  object\n",
      " 1   user_desc        61260 non-null  object\n",
      " 2   location         46685 non-null  object\n",
      " 3   following        70000 non-null  int64 \n",
      " 4   followers        70000 non-null  int64 \n",
      " 5   totaltweets      70000 non-null  int64 \n",
      " 6   user_createdts   70000 non-null  object\n",
      " 7   tweet_createdts  70000 non-null  object\n",
      " 8   retweet_count    70000 non-null  int64 \n",
      " 9   text             70000 non-null  object\n",
      "dtypes: int64(4), object(6)\n",
      "memory usage: 5.3+ MB\n"
     ]
    }
   ],
   "source": [
    "# Count missing values\n",
    "fashion_df.info()"
   ]
  },
  {
   "cell_type": "code",
   "execution_count": 71,
   "metadata": {},
   "outputs": [
    {
     "data": {
      "text/plain": [
       "3293"
      ]
     },
     "execution_count": 71,
     "metadata": {},
     "output_type": "execute_result"
    }
   ],
   "source": [
    "# Check for duplicate tweets \n",
    "\n",
    "duplicate_tweets_fashion = fashion_df.duplicated(keep='first').sum()\n",
    "duplicate_tweets_fashion"
   ]
  },
  {
   "cell_type": "code",
   "execution_count": 72,
   "metadata": {},
   "outputs": [
    {
     "data": {
      "text/plain": [
       "66707"
      ]
     },
     "execution_count": 72,
     "metadata": {},
     "output_type": "execute_result"
    }
   ],
   "source": [
    "# drop duplicates\n",
    "fashion_df = fashion_df.drop_duplicates()\n",
    "len(fashion_df)"
   ]
  },
  {
   "cell_type": "code",
   "execution_count": 73,
   "metadata": {},
   "outputs": [
    {
     "data": {
      "text/plain": [
       "0.4437615242778119"
      ]
     },
     "execution_count": 73,
     "metadata": {},
     "output_type": "execute_result"
    }
   ],
   "source": [
    "# Check for % of retweets\n",
    "fashion_df['text'].apply(lambda x: 'RT' in x[:3]).mean()"
   ]
  },
  {
   "cell_type": "code",
   "execution_count": 74,
   "metadata": {},
   "outputs": [
    {
     "data": {
      "text/plain": [
       "37110"
      ]
     },
     "execution_count": 74,
     "metadata": {},
     "output_type": "execute_result"
    }
   ],
   "source": [
    "# Drop the retweets\n",
    "fashion_df = fashion_df[~fashion_df.text.str.startswith('RT')]\n",
    "len(fashion_df)"
   ]
  },
  {
   "cell_type": "code",
   "execution_count": 75,
   "metadata": {},
   "outputs": [
    {
     "data": {
      "text/html": [
       "<div>\n",
       "<style scoped>\n",
       "    .dataframe tbody tr th:only-of-type {\n",
       "        vertical-align: middle;\n",
       "    }\n",
       "\n",
       "    .dataframe tbody tr th {\n",
       "        vertical-align: top;\n",
       "    }\n",
       "\n",
       "    .dataframe thead th {\n",
       "        text-align: right;\n",
       "    }\n",
       "</style>\n",
       "<table border=\"1\" class=\"dataframe\">\n",
       "  <thead>\n",
       "    <tr style=\"text-align: right;\">\n",
       "      <th></th>\n",
       "      <th>user_name</th>\n",
       "      <th>user_desc</th>\n",
       "      <th>location</th>\n",
       "      <th>following</th>\n",
       "      <th>followers</th>\n",
       "      <th>totaltweets</th>\n",
       "      <th>user_createdts</th>\n",
       "      <th>tweet_createdts</th>\n",
       "      <th>retweet_count</th>\n",
       "      <th>text</th>\n",
       "    </tr>\n",
       "  </thead>\n",
       "  <tbody>\n",
       "    <tr>\n",
       "      <th>2</th>\n",
       "      <td>luccaromeo</td>\n",
       "      <td>Everything has beauty, but not everyone sees i...</td>\n",
       "      <td>Los Angeles, CA</td>\n",
       "      <td>275</td>\n",
       "      <td>179</td>\n",
       "      <td>21939</td>\n",
       "      <td>2015-09-08 17:43:34</td>\n",
       "      <td>2020-10-04 17:40:03</td>\n",
       "      <td>0</td>\n",
       "      <td>Visage de Layla also offers waxing treatment h...</td>\n",
       "    </tr>\n",
       "    <tr>\n",
       "      <th>3</th>\n",
       "      <td>FashListings</td>\n",
       "      <td>Sell fashion? List your business for FREE in o...</td>\n",
       "      <td>Northampton, UK</td>\n",
       "      <td>30747</td>\n",
       "      <td>35104</td>\n",
       "      <td>224859</td>\n",
       "      <td>2014-12-27 15:53:24</td>\n",
       "      <td>2020-10-04 17:40:03</td>\n",
       "      <td>0</td>\n",
       "      <td>Sell #fashion? Submit your website to our #dir...</td>\n",
       "    </tr>\n",
       "    <tr>\n",
       "      <th>7</th>\n",
       "      <td>dukebarrett</td>\n",
       "      <td>Baltimore based photographer. Ready to make yo...</td>\n",
       "      <td>Parkville, MD</td>\n",
       "      <td>136</td>\n",
       "      <td>257</td>\n",
       "      <td>8859</td>\n",
       "      <td>2009-07-14 03:15:32</td>\n",
       "      <td>2020-10-04 17:39:36</td>\n",
       "      <td>0</td>\n",
       "      <td>#model #fashion #texture #baltimorephotographe...</td>\n",
       "    </tr>\n",
       "    <tr>\n",
       "      <th>9</th>\n",
       "      <td>Panty_Buns</td>\n",
       "      <td>Love to male-model/review full brief panties+f...</td>\n",
       "      <td>Long Island, NY</td>\n",
       "      <td>1295</td>\n",
       "      <td>1276</td>\n",
       "      <td>63481</td>\n",
       "      <td>2011-09-09 01:22:26</td>\n",
       "      <td>2020-10-04 17:39:32</td>\n",
       "      <td>0</td>\n",
       "      <td>'Fall 2020 Fashion Trend' - #Fbloggers 5 #OOTD...</td>\n",
       "    </tr>\n",
       "    <tr>\n",
       "      <th>11</th>\n",
       "      <td>MartaFerrazAtom</td>\n",
       "      <td>Futurist Scientist, Polymath\\nAugmented Humans...</td>\n",
       "      <td>Netherlands</td>\n",
       "      <td>483</td>\n",
       "      <td>37</td>\n",
       "      <td>11</td>\n",
       "      <td>2010-03-30 20:21:44</td>\n",
       "      <td>2020-10-04 17:39:29</td>\n",
       "      <td>0</td>\n",
       "      <td>Design for the Future When the Future Is Bleak...</td>\n",
       "    </tr>\n",
       "  </tbody>\n",
       "</table>\n",
       "</div>"
      ],
      "text/plain": [
       "          user_name                                          user_desc  \\\n",
       "2        luccaromeo  Everything has beauty, but not everyone sees i...   \n",
       "3      FashListings  Sell fashion? List your business for FREE in o...   \n",
       "7       dukebarrett  Baltimore based photographer. Ready to make yo...   \n",
       "9        Panty_Buns  Love to male-model/review full brief panties+f...   \n",
       "11  MartaFerrazAtom  Futurist Scientist, Polymath\\nAugmented Humans...   \n",
       "\n",
       "           location  following  followers  totaltweets       user_createdts  \\\n",
       "2   Los Angeles, CA        275        179        21939  2015-09-08 17:43:34   \n",
       "3   Northampton, UK      30747      35104       224859  2014-12-27 15:53:24   \n",
       "7     Parkville, MD        136        257         8859  2009-07-14 03:15:32   \n",
       "9   Long Island, NY       1295       1276        63481  2011-09-09 01:22:26   \n",
       "11     Netherlands         483         37           11  2010-03-30 20:21:44   \n",
       "\n",
       "        tweet_createdts  retweet_count  \\\n",
       "2   2020-10-04 17:40:03              0   \n",
       "3   2020-10-04 17:40:03              0   \n",
       "7   2020-10-04 17:39:36              0   \n",
       "9   2020-10-04 17:39:32              0   \n",
       "11  2020-10-04 17:39:29              0   \n",
       "\n",
       "                                                 text  \n",
       "2   Visage de Layla also offers waxing treatment h...  \n",
       "3   Sell #fashion? Submit your website to our #dir...  \n",
       "7   #model #fashion #texture #baltimorephotographe...  \n",
       "9   'Fall 2020 Fashion Trend' - #Fbloggers 5 #OOTD...  \n",
       "11  Design for the Future When the Future Is Bleak...  "
      ]
     },
     "execution_count": 75,
     "metadata": {},
     "output_type": "execute_result"
    }
   ],
   "source": [
    "fashion_df.head(5)"
   ]
  },
  {
   "cell_type": "code",
   "execution_count": 76,
   "metadata": {},
   "outputs": [
    {
     "data": {
      "text/html": [
       "<div>\n",
       "<style scoped>\n",
       "    .dataframe tbody tr th:only-of-type {\n",
       "        vertical-align: middle;\n",
       "    }\n",
       "\n",
       "    .dataframe tbody tr th {\n",
       "        vertical-align: top;\n",
       "    }\n",
       "\n",
       "    .dataframe thead th {\n",
       "        text-align: right;\n",
       "    }\n",
       "</style>\n",
       "<table border=\"1\" class=\"dataframe\">\n",
       "  <thead>\n",
       "    <tr style=\"text-align: right;\">\n",
       "      <th></th>\n",
       "      <th>user_name</th>\n",
       "      <th>user_desc</th>\n",
       "      <th>location</th>\n",
       "      <th>following</th>\n",
       "      <th>followers</th>\n",
       "      <th>totaltweets</th>\n",
       "      <th>user_createdts</th>\n",
       "      <th>tweet_createdts</th>\n",
       "      <th>retweet_count</th>\n",
       "      <th>text</th>\n",
       "      <th>hashtags</th>\n",
       "    </tr>\n",
       "  </thead>\n",
       "  <tbody>\n",
       "    <tr>\n",
       "      <th>2</th>\n",
       "      <td>luccaromeo</td>\n",
       "      <td>Everything has beauty, but not everyone sees i...</td>\n",
       "      <td>Los Angeles, CA</td>\n",
       "      <td>275</td>\n",
       "      <td>179</td>\n",
       "      <td>21939</td>\n",
       "      <td>2015-09-08 17:43:34</td>\n",
       "      <td>2020-10-04 17:40:03</td>\n",
       "      <td>0</td>\n",
       "      <td>Visage de Layla also offers waxing treatment h...</td>\n",
       "      <td>{#beauty}</td>\n",
       "    </tr>\n",
       "    <tr>\n",
       "      <th>3</th>\n",
       "      <td>FashListings</td>\n",
       "      <td>Sell fashion? List your business for FREE in o...</td>\n",
       "      <td>Northampton, UK</td>\n",
       "      <td>30747</td>\n",
       "      <td>35104</td>\n",
       "      <td>224859</td>\n",
       "      <td>2014-12-27 15:53:24</td>\n",
       "      <td>2020-10-04 17:40:03</td>\n",
       "      <td>0</td>\n",
       "      <td>Sell #fashion? Submit your website to our #dir...</td>\n",
       "      <td>{#bizitalk, #directory, #fashion?, #seo, #fnzb}</td>\n",
       "    </tr>\n",
       "    <tr>\n",
       "      <th>7</th>\n",
       "      <td>dukebarrett</td>\n",
       "      <td>Baltimore based photographer. Ready to make yo...</td>\n",
       "      <td>Parkville, MD</td>\n",
       "      <td>136</td>\n",
       "      <td>257</td>\n",
       "      <td>8859</td>\n",
       "      <td>2009-07-14 03:15:32</td>\n",
       "      <td>2020-10-04 17:39:36</td>\n",
       "      <td>0</td>\n",
       "      <td>#model #fashion #texture #baltimorephotographe...</td>\n",
       "      <td>{#fashionphotography, #flannel, #baltimorephot...</td>\n",
       "    </tr>\n",
       "  </tbody>\n",
       "</table>\n",
       "</div>"
      ],
      "text/plain": [
       "      user_name                                          user_desc  \\\n",
       "2    luccaromeo  Everything has beauty, but not everyone sees i...   \n",
       "3  FashListings  Sell fashion? List your business for FREE in o...   \n",
       "7   dukebarrett  Baltimore based photographer. Ready to make yo...   \n",
       "\n",
       "          location  following  followers  totaltweets       user_createdts  \\\n",
       "2  Los Angeles, CA        275        179        21939  2015-09-08 17:43:34   \n",
       "3  Northampton, UK      30747      35104       224859  2014-12-27 15:53:24   \n",
       "7    Parkville, MD        136        257         8859  2009-07-14 03:15:32   \n",
       "\n",
       "       tweet_createdts  retweet_count  \\\n",
       "2  2020-10-04 17:40:03              0   \n",
       "3  2020-10-04 17:40:03              0   \n",
       "7  2020-10-04 17:39:36              0   \n",
       "\n",
       "                                                text  \\\n",
       "2  Visage de Layla also offers waxing treatment h...   \n",
       "3  Sell #fashion? Submit your website to our #dir...   \n",
       "7  #model #fashion #texture #baltimorephotographe...   \n",
       "\n",
       "                                            hashtags  \n",
       "2                                          {#beauty}  \n",
       "3    {#bizitalk, #directory, #fashion?, #seo, #fnzb}  \n",
       "7  {#fashionphotography, #flannel, #baltimorephot...  "
      ]
     },
     "execution_count": 76,
     "metadata": {},
     "output_type": "execute_result"
    }
   ],
   "source": [
    "# defind a function to find all the hashtags in a tweet\n",
    "\n",
    "def hashtag(text):\n",
    "    return (set([str(i.lower()) for i in text.split() if i.startswith(\"#\")]))\n",
    "\n",
    "fashion_df['hashtags'] = fashion_df['text'].apply(hashtag)\n",
    "fashion_df.head(3)"
   ]
  },
  {
   "cell_type": "code",
   "execution_count": 77,
   "metadata": {},
   "outputs": [
    {
     "data": {
      "text/html": [
       "<div>\n",
       "<style scoped>\n",
       "    .dataframe tbody tr th:only-of-type {\n",
       "        vertical-align: middle;\n",
       "    }\n",
       "\n",
       "    .dataframe tbody tr th {\n",
       "        vertical-align: top;\n",
       "    }\n",
       "\n",
       "    .dataframe thead th {\n",
       "        text-align: right;\n",
       "    }\n",
       "</style>\n",
       "<table border=\"1\" class=\"dataframe\">\n",
       "  <thead>\n",
       "    <tr style=\"text-align: right;\">\n",
       "      <th></th>\n",
       "      <th>user_name</th>\n",
       "      <th>user_desc</th>\n",
       "      <th>location</th>\n",
       "      <th>following</th>\n",
       "      <th>followers</th>\n",
       "      <th>totaltweets</th>\n",
       "      <th>user_createdts</th>\n",
       "      <th>tweet_createdts</th>\n",
       "      <th>retweet_count</th>\n",
       "      <th>text</th>\n",
       "      <th>hashtags</th>\n",
       "      <th>num_hashtags</th>\n",
       "    </tr>\n",
       "  </thead>\n",
       "  <tbody>\n",
       "    <tr>\n",
       "      <th>2</th>\n",
       "      <td>luccaromeo</td>\n",
       "      <td>Everything has beauty, but not everyone sees i...</td>\n",
       "      <td>Los Angeles, CA</td>\n",
       "      <td>275</td>\n",
       "      <td>179</td>\n",
       "      <td>21939</td>\n",
       "      <td>2015-09-08 17:43:34</td>\n",
       "      <td>2020-10-04 17:40:03</td>\n",
       "      <td>0</td>\n",
       "      <td>Visage de Layla also offers waxing treatment h...</td>\n",
       "      <td>{#beauty}</td>\n",
       "      <td>1</td>\n",
       "    </tr>\n",
       "    <tr>\n",
       "      <th>3</th>\n",
       "      <td>FashListings</td>\n",
       "      <td>Sell fashion? List your business for FREE in o...</td>\n",
       "      <td>Northampton, UK</td>\n",
       "      <td>30747</td>\n",
       "      <td>35104</td>\n",
       "      <td>224859</td>\n",
       "      <td>2014-12-27 15:53:24</td>\n",
       "      <td>2020-10-04 17:40:03</td>\n",
       "      <td>0</td>\n",
       "      <td>Sell #fashion? Submit your website to our #dir...</td>\n",
       "      <td>{#bizitalk, #directory, #fashion?, #seo, #fnzb}</td>\n",
       "      <td>5</td>\n",
       "    </tr>\n",
       "    <tr>\n",
       "      <th>7</th>\n",
       "      <td>dukebarrett</td>\n",
       "      <td>Baltimore based photographer. Ready to make yo...</td>\n",
       "      <td>Parkville, MD</td>\n",
       "      <td>136</td>\n",
       "      <td>257</td>\n",
       "      <td>8859</td>\n",
       "      <td>2009-07-14 03:15:32</td>\n",
       "      <td>2020-10-04 17:39:36</td>\n",
       "      <td>0</td>\n",
       "      <td>#model #fashion #texture #baltimorephotographe...</td>\n",
       "      <td>{#fashionphotography, #flannel, #baltimorephot...</td>\n",
       "      <td>15</td>\n",
       "    </tr>\n",
       "  </tbody>\n",
       "</table>\n",
       "</div>"
      ],
      "text/plain": [
       "      user_name                                          user_desc  \\\n",
       "2    luccaromeo  Everything has beauty, but not everyone sees i...   \n",
       "3  FashListings  Sell fashion? List your business for FREE in o...   \n",
       "7   dukebarrett  Baltimore based photographer. Ready to make yo...   \n",
       "\n",
       "          location  following  followers  totaltweets       user_createdts  \\\n",
       "2  Los Angeles, CA        275        179        21939  2015-09-08 17:43:34   \n",
       "3  Northampton, UK      30747      35104       224859  2014-12-27 15:53:24   \n",
       "7    Parkville, MD        136        257         8859  2009-07-14 03:15:32   \n",
       "\n",
       "       tweet_createdts  retweet_count  \\\n",
       "2  2020-10-04 17:40:03              0   \n",
       "3  2020-10-04 17:40:03              0   \n",
       "7  2020-10-04 17:39:36              0   \n",
       "\n",
       "                                                text  \\\n",
       "2  Visage de Layla also offers waxing treatment h...   \n",
       "3  Sell #fashion? Submit your website to our #dir...   \n",
       "7  #model #fashion #texture #baltimorephotographe...   \n",
       "\n",
       "                                            hashtags  num_hashtags  \n",
       "2                                          {#beauty}             1  \n",
       "3    {#bizitalk, #directory, #fashion?, #seo, #fnzb}             5  \n",
       "7  {#fashionphotography, #flannel, #baltimorephot...            15  "
      ]
     },
     "execution_count": 77,
     "metadata": {},
     "output_type": "execute_result"
    }
   ],
   "source": [
    "# Count the hashtags per each tweets\n",
    "fashion_df['num_hashtags'] = fashion_df['hashtags'].apply(len)\n",
    "fashion_df.head(3)"
   ]
  },
  {
   "cell_type": "code",
   "execution_count": 78,
   "metadata": {},
   "outputs": [
    {
     "data": {
      "text/html": [
       "<div>\n",
       "<style scoped>\n",
       "    .dataframe tbody tr th:only-of-type {\n",
       "        vertical-align: middle;\n",
       "    }\n",
       "\n",
       "    .dataframe tbody tr th {\n",
       "        vertical-align: top;\n",
       "    }\n",
       "\n",
       "    .dataframe thead th {\n",
       "        text-align: right;\n",
       "    }\n",
       "</style>\n",
       "<table border=\"1\" class=\"dataframe\">\n",
       "  <thead>\n",
       "    <tr style=\"text-align: right;\">\n",
       "      <th></th>\n",
       "      <th>user_name</th>\n",
       "      <th>user_desc</th>\n",
       "      <th>location</th>\n",
       "      <th>following</th>\n",
       "      <th>followers</th>\n",
       "      <th>totaltweets</th>\n",
       "      <th>user_createdts</th>\n",
       "      <th>tweet_createdts</th>\n",
       "      <th>retweet_count</th>\n",
       "      <th>text</th>\n",
       "      <th>hashtags</th>\n",
       "      <th>num_hashtags</th>\n",
       "      <th>num_search_tags</th>\n",
       "    </tr>\n",
       "  </thead>\n",
       "  <tbody>\n",
       "    <tr>\n",
       "      <th>2</th>\n",
       "      <td>luccaromeo</td>\n",
       "      <td>Everything has beauty, but not everyone sees i...</td>\n",
       "      <td>Los Angeles, CA</td>\n",
       "      <td>275</td>\n",
       "      <td>179</td>\n",
       "      <td>21939</td>\n",
       "      <td>2015-09-08 17:43:34</td>\n",
       "      <td>2020-10-04 17:40:03</td>\n",
       "      <td>0</td>\n",
       "      <td>Visage de Layla also offers waxing treatment h...</td>\n",
       "      <td>{#beauty}</td>\n",
       "      <td>1</td>\n",
       "      <td>1</td>\n",
       "    </tr>\n",
       "    <tr>\n",
       "      <th>3</th>\n",
       "      <td>FashListings</td>\n",
       "      <td>Sell fashion? List your business for FREE in o...</td>\n",
       "      <td>Northampton, UK</td>\n",
       "      <td>30747</td>\n",
       "      <td>35104</td>\n",
       "      <td>224859</td>\n",
       "      <td>2014-12-27 15:53:24</td>\n",
       "      <td>2020-10-04 17:40:03</td>\n",
       "      <td>0</td>\n",
       "      <td>Sell #fashion? Submit your website to our #dir...</td>\n",
       "      <td>{#bizitalk, #directory, #fashion?, #seo, #fnzb}</td>\n",
       "      <td>5</td>\n",
       "      <td>1</td>\n",
       "    </tr>\n",
       "    <tr>\n",
       "      <th>7</th>\n",
       "      <td>dukebarrett</td>\n",
       "      <td>Baltimore based photographer. Ready to make yo...</td>\n",
       "      <td>Parkville, MD</td>\n",
       "      <td>136</td>\n",
       "      <td>257</td>\n",
       "      <td>8859</td>\n",
       "      <td>2009-07-14 03:15:32</td>\n",
       "      <td>2020-10-04 17:39:36</td>\n",
       "      <td>0</td>\n",
       "      <td>#model #fashion #texture #baltimorephotographe...</td>\n",
       "      <td>{#fashionphotography, #flannel, #baltimorephot...</td>\n",
       "      <td>15</td>\n",
       "      <td>3</td>\n",
       "    </tr>\n",
       "    <tr>\n",
       "      <th>9</th>\n",
       "      <td>Panty_Buns</td>\n",
       "      <td>Love to male-model/review full brief panties+f...</td>\n",
       "      <td>Long Island, NY</td>\n",
       "      <td>1295</td>\n",
       "      <td>1276</td>\n",
       "      <td>63481</td>\n",
       "      <td>2011-09-09 01:22:26</td>\n",
       "      <td>2020-10-04 17:39:32</td>\n",
       "      <td>0</td>\n",
       "      <td>'Fall 2020 Fashion Trend' - #Fbloggers 5 #OOTD...</td>\n",
       "      <td>{#style, #ootd, #outfit, #lookbook, #fashion, ...</td>\n",
       "      <td>6</td>\n",
       "      <td>2</td>\n",
       "    </tr>\n",
       "    <tr>\n",
       "      <th>11</th>\n",
       "      <td>MartaFerrazAtom</td>\n",
       "      <td>Futurist Scientist, Polymath\\nAugmented Humans...</td>\n",
       "      <td>Netherlands</td>\n",
       "      <td>483</td>\n",
       "      <td>37</td>\n",
       "      <td>11</td>\n",
       "      <td>2010-03-30 20:21:44</td>\n",
       "      <td>2020-10-04 17:39:29</td>\n",
       "      <td>0</td>\n",
       "      <td>Design for the Future When the Future Is Bleak...</td>\n",
       "      <td>{#design, #fiction, #environment}</td>\n",
       "      <td>3</td>\n",
       "      <td>1</td>\n",
       "    </tr>\n",
       "  </tbody>\n",
       "</table>\n",
       "</div>"
      ],
      "text/plain": [
       "          user_name                                          user_desc  \\\n",
       "2        luccaromeo  Everything has beauty, but not everyone sees i...   \n",
       "3      FashListings  Sell fashion? List your business for FREE in o...   \n",
       "7       dukebarrett  Baltimore based photographer. Ready to make yo...   \n",
       "9        Panty_Buns  Love to male-model/review full brief panties+f...   \n",
       "11  MartaFerrazAtom  Futurist Scientist, Polymath\\nAugmented Humans...   \n",
       "\n",
       "           location  following  followers  totaltweets       user_createdts  \\\n",
       "2   Los Angeles, CA        275        179        21939  2015-09-08 17:43:34   \n",
       "3   Northampton, UK      30747      35104       224859  2014-12-27 15:53:24   \n",
       "7     Parkville, MD        136        257         8859  2009-07-14 03:15:32   \n",
       "9   Long Island, NY       1295       1276        63481  2011-09-09 01:22:26   \n",
       "11     Netherlands         483         37           11  2010-03-30 20:21:44   \n",
       "\n",
       "        tweet_createdts  retweet_count  \\\n",
       "2   2020-10-04 17:40:03              0   \n",
       "3   2020-10-04 17:40:03              0   \n",
       "7   2020-10-04 17:39:36              0   \n",
       "9   2020-10-04 17:39:32              0   \n",
       "11  2020-10-04 17:39:29              0   \n",
       "\n",
       "                                                 text  \\\n",
       "2   Visage de Layla also offers waxing treatment h...   \n",
       "3   Sell #fashion? Submit your website to our #dir...   \n",
       "7   #model #fashion #texture #baltimorephotographe...   \n",
       "9   'Fall 2020 Fashion Trend' - #Fbloggers 5 #OOTD...   \n",
       "11  Design for the Future When the Future Is Bleak...   \n",
       "\n",
       "                                             hashtags  num_hashtags  \\\n",
       "2                                           {#beauty}             1   \n",
       "3     {#bizitalk, #directory, #fashion?, #seo, #fnzb}             5   \n",
       "7   {#fashionphotography, #flannel, #baltimorephot...            15   \n",
       "9   {#style, #ootd, #outfit, #lookbook, #fashion, ...             6   \n",
       "11                  {#design, #fiction, #environment}             3   \n",
       "\n",
       "    num_search_tags  \n",
       "2                 1  \n",
       "3                 1  \n",
       "7                 3  \n",
       "9                 2  \n",
       "11                1  "
      ]
     },
     "execution_count": 78,
     "metadata": {},
     "output_type": "execute_result"
    }
   ],
   "source": [
    "# find the number of search hashtags (we used thsese tags to pull the tweet) in a tweet\n",
    "search_tags = ['#fashion', '#style',  '#design',  '#beauty',  '#fashiontrends',  '#fashionblogger', '#fashionstyle',  '#fashionweek',  '#fashionstylist',  '#fashionmodel' , '#fasionista' , '#model',  '#fashionlover',  '#womenfashion', '#menfashion']\n",
    "\n",
    "def search_hashtags(tags):\n",
    "    t = 0\n",
    "    for i in search_tags:\n",
    "        for j in tags:\n",
    "            if i in j:\n",
    "                t += 1\n",
    "    return t\n",
    "\n",
    "                \n",
    "fashion_df['num_search_tags'] = fashion_df['hashtags'].apply(search_hashtags)\n",
    "fashion_df.head()            "
   ]
  },
  {
   "cell_type": "code",
   "execution_count": 79,
   "metadata": {},
   "outputs": [
    {
     "data": {
      "text/plain": [
       "49"
      ]
     },
     "execution_count": 79,
     "metadata": {},
     "output_type": "execute_result"
    }
   ],
   "source": [
    "# find the the number of tweets with no search hashtags\n",
    "len(fashion_df[fashion_df.num_search_tags == 0])"
   ]
  },
  {
   "cell_type": "code",
   "execution_count": 81,
   "metadata": {},
   "outputs": [
    {
     "data": {
      "text/plain": [
       "37061"
      ]
     },
     "execution_count": 81,
     "metadata": {},
     "output_type": "execute_result"
    }
   ],
   "source": [
    "# drop the tweets with no search hashtags\n",
    "\n",
    "fashion_df = fashion_df[fashion_df.num_search_tags != 0]\n",
    "len(fashion_df)\n"
   ]
  },
  {
   "cell_type": "code",
   "execution_count": 83,
   "metadata": {},
   "outputs": [
    {
     "data": {
      "text/html": [
       "<div>\n",
       "<style scoped>\n",
       "    .dataframe tbody tr th:only-of-type {\n",
       "        vertical-align: middle;\n",
       "    }\n",
       "\n",
       "    .dataframe tbody tr th {\n",
       "        vertical-align: top;\n",
       "    }\n",
       "\n",
       "    .dataframe thead th {\n",
       "        text-align: right;\n",
       "    }\n",
       "</style>\n",
       "<table border=\"1\" class=\"dataframe\">\n",
       "  <thead>\n",
       "    <tr style=\"text-align: right;\">\n",
       "      <th></th>\n",
       "      <th>user_name</th>\n",
       "      <th>user_desc</th>\n",
       "      <th>location</th>\n",
       "      <th>following</th>\n",
       "      <th>followers</th>\n",
       "      <th>totaltweets</th>\n",
       "      <th>user_createdts</th>\n",
       "      <th>tweet_createdts</th>\n",
       "      <th>retweet_count</th>\n",
       "      <th>text</th>\n",
       "      <th>hashtags</th>\n",
       "      <th>num_hashtags</th>\n",
       "      <th>num_search_tags</th>\n",
       "      <th>label</th>\n",
       "    </tr>\n",
       "  </thead>\n",
       "  <tbody>\n",
       "    <tr>\n",
       "      <th>2</th>\n",
       "      <td>luccaromeo</td>\n",
       "      <td>Everything has beauty, but not everyone sees i...</td>\n",
       "      <td>Los Angeles, CA</td>\n",
       "      <td>275</td>\n",
       "      <td>179</td>\n",
       "      <td>21939</td>\n",
       "      <td>2015-09-08 17:43:34</td>\n",
       "      <td>2020-10-04 17:40:03</td>\n",
       "      <td>0</td>\n",
       "      <td>Visage de Layla also offers waxing treatment h...</td>\n",
       "      <td>{#beauty}</td>\n",
       "      <td>1</td>\n",
       "      <td>1</td>\n",
       "      <td>0</td>\n",
       "    </tr>\n",
       "    <tr>\n",
       "      <th>3</th>\n",
       "      <td>FashListings</td>\n",
       "      <td>Sell fashion? List your business for FREE in o...</td>\n",
       "      <td>Northampton, UK</td>\n",
       "      <td>30747</td>\n",
       "      <td>35104</td>\n",
       "      <td>224859</td>\n",
       "      <td>2014-12-27 15:53:24</td>\n",
       "      <td>2020-10-04 17:40:03</td>\n",
       "      <td>0</td>\n",
       "      <td>Sell #fashion? Submit your website to our #dir...</td>\n",
       "      <td>{#bizitalk, #directory, #fashion?, #seo, #fnzb}</td>\n",
       "      <td>5</td>\n",
       "      <td>1</td>\n",
       "      <td>1</td>\n",
       "    </tr>\n",
       "    <tr>\n",
       "      <th>7</th>\n",
       "      <td>dukebarrett</td>\n",
       "      <td>Baltimore based photographer. Ready to make yo...</td>\n",
       "      <td>Parkville, MD</td>\n",
       "      <td>136</td>\n",
       "      <td>257</td>\n",
       "      <td>8859</td>\n",
       "      <td>2009-07-14 03:15:32</td>\n",
       "      <td>2020-10-04 17:39:36</td>\n",
       "      <td>0</td>\n",
       "      <td>#model #fashion #texture #baltimorephotographe...</td>\n",
       "      <td>{#fashionphotography, #flannel, #baltimorephot...</td>\n",
       "      <td>15</td>\n",
       "      <td>3</td>\n",
       "      <td>0</td>\n",
       "    </tr>\n",
       "    <tr>\n",
       "      <th>9</th>\n",
       "      <td>Panty_Buns</td>\n",
       "      <td>Love to male-model/review full brief panties+f...</td>\n",
       "      <td>Long Island, NY</td>\n",
       "      <td>1295</td>\n",
       "      <td>1276</td>\n",
       "      <td>63481</td>\n",
       "      <td>2011-09-09 01:22:26</td>\n",
       "      <td>2020-10-04 17:39:32</td>\n",
       "      <td>0</td>\n",
       "      <td>'Fall 2020 Fashion Trend' - #Fbloggers 5 #OOTD...</td>\n",
       "      <td>{#style, #ootd, #outfit, #lookbook, #fashion, ...</td>\n",
       "      <td>6</td>\n",
       "      <td>2</td>\n",
       "      <td>0</td>\n",
       "    </tr>\n",
       "    <tr>\n",
       "      <th>11</th>\n",
       "      <td>MartaFerrazAtom</td>\n",
       "      <td>Futurist Scientist, Polymath\\nAugmented Humans...</td>\n",
       "      <td>Netherlands</td>\n",
       "      <td>483</td>\n",
       "      <td>37</td>\n",
       "      <td>11</td>\n",
       "      <td>2010-03-30 20:21:44</td>\n",
       "      <td>2020-10-04 17:39:29</td>\n",
       "      <td>0</td>\n",
       "      <td>Design for the Future When the Future Is Bleak...</td>\n",
       "      <td>{#design, #fiction, #environment}</td>\n",
       "      <td>3</td>\n",
       "      <td>1</td>\n",
       "      <td>0</td>\n",
       "    </tr>\n",
       "  </tbody>\n",
       "</table>\n",
       "</div>"
      ],
      "text/plain": [
       "          user_name                                          user_desc  \\\n",
       "2        luccaromeo  Everything has beauty, but not everyone sees i...   \n",
       "3      FashListings  Sell fashion? List your business for FREE in o...   \n",
       "7       dukebarrett  Baltimore based photographer. Ready to make yo...   \n",
       "9        Panty_Buns  Love to male-model/review full brief panties+f...   \n",
       "11  MartaFerrazAtom  Futurist Scientist, Polymath\\nAugmented Humans...   \n",
       "\n",
       "           location  following  followers  totaltweets       user_createdts  \\\n",
       "2   Los Angeles, CA        275        179        21939  2015-09-08 17:43:34   \n",
       "3   Northampton, UK      30747      35104       224859  2014-12-27 15:53:24   \n",
       "7     Parkville, MD        136        257         8859  2009-07-14 03:15:32   \n",
       "9   Long Island, NY       1295       1276        63481  2011-09-09 01:22:26   \n",
       "11     Netherlands         483         37           11  2010-03-30 20:21:44   \n",
       "\n",
       "        tweet_createdts  retweet_count  \\\n",
       "2   2020-10-04 17:40:03              0   \n",
       "3   2020-10-04 17:40:03              0   \n",
       "7   2020-10-04 17:39:36              0   \n",
       "9   2020-10-04 17:39:32              0   \n",
       "11  2020-10-04 17:39:29              0   \n",
       "\n",
       "                                                 text  \\\n",
       "2   Visage de Layla also offers waxing treatment h...   \n",
       "3   Sell #fashion? Submit your website to our #dir...   \n",
       "7   #model #fashion #texture #baltimorephotographe...   \n",
       "9   'Fall 2020 Fashion Trend' - #Fbloggers 5 #OOTD...   \n",
       "11  Design for the Future When the Future Is Bleak...   \n",
       "\n",
       "                                             hashtags  num_hashtags  \\\n",
       "2                                           {#beauty}             1   \n",
       "3     {#bizitalk, #directory, #fashion?, #seo, #fnzb}             5   \n",
       "7   {#fashionphotography, #flannel, #baltimorephot...            15   \n",
       "9   {#style, #ootd, #outfit, #lookbook, #fashion, ...             6   \n",
       "11                  {#design, #fiction, #environment}             3   \n",
       "\n",
       "    num_search_tags  label  \n",
       "2                 1      0  \n",
       "3                 1      1  \n",
       "7                 3      0  \n",
       "9                 2      0  \n",
       "11                1      0  "
      ]
     },
     "execution_count": 83,
     "metadata": {},
     "output_type": "execute_result"
    }
   ],
   "source": [
    "def label_func(followers):\n",
    "    if followers > 30000:\n",
    "        return 1\n",
    "    else:\n",
    "        return 0\n",
    "fashion_df['label'] = fashion_df['followers'].apply(label_func)\n",
    "fashion_df.head()"
   ]
  },
  {
   "cell_type": "code",
   "execution_count": 84,
   "metadata": {},
   "outputs": [
    {
     "data": {
      "text/plain": [
       "0    36369\n",
       "1      692\n",
       "Name: label, dtype: int64"
      ]
     },
     "execution_count": 84,
     "metadata": {},
     "output_type": "execute_result"
    }
   ],
   "source": [
    "followers_count = fashion_df['label'].value_counts().sort_index()\n",
    "followers_count"
   ]
  },
  {
   "cell_type": "code",
   "execution_count": 85,
   "metadata": {},
   "outputs": [
    {
     "data": {
      "image/png": "[encoded data removed]",
      "text/plain": [
       "<Figure size 576x432 with 1 Axes>"
      ]
     },
     "metadata": {},
     "output_type": "display_data"
    }
   ],
   "source": [
    "fig, ax = plt.subplots(figsize=(8, 6), subplot_kw=dict(aspect=\"equal\"))\n",
    "plt.pie(followers_count, labels=[0,1],startangle=90, autopct='%.0f%%')\n",
    "\n",
    "ax.legend([\"1: Followers count > 30000\", \"0: Followers count < 30000\"], loc=\"center left\",bbox_to_anchor=(1, 0, 0.5, 1))\n",
    "\n",
    "ax.set_title(\"Followers count\")\n",
    "\n",
    "plt.show()"
   ]
  },
  {
   "cell_type": "markdown",
   "metadata": {},
   "source": [
    "### Distribution of Word Count, % of caps, number of hashtags in different labels (followers count category)"
   ]
  },
  {
   "cell_type": "code",
   "execution_count": 87,
   "metadata": {},
   "outputs": [
    {
     "data": {
      "text/html": [
       "<div>\n",
       "<style scoped>\n",
       "    .dataframe tbody tr th:only-of-type {\n",
       "        vertical-align: middle;\n",
       "    }\n",
       "\n",
       "    .dataframe tbody tr th {\n",
       "        vertical-align: top;\n",
       "    }\n",
       "\n",
       "    .dataframe thead th {\n",
       "        text-align: right;\n",
       "    }\n",
       "</style>\n",
       "<table border=\"1\" class=\"dataframe\">\n",
       "  <thead>\n",
       "    <tr style=\"text-align: right;\">\n",
       "      <th></th>\n",
       "      <th>user_name</th>\n",
       "      <th>user_desc</th>\n",
       "      <th>location</th>\n",
       "      <th>following</th>\n",
       "      <th>followers</th>\n",
       "      <th>totaltweets</th>\n",
       "      <th>user_createdts</th>\n",
       "      <th>tweet_createdts</th>\n",
       "      <th>retweet_count</th>\n",
       "      <th>text</th>\n",
       "      <th>hashtags</th>\n",
       "      <th>num_hashtags</th>\n",
       "      <th>num_search_tags</th>\n",
       "      <th>label</th>\n",
       "      <th>tweet_length</th>\n",
       "    </tr>\n",
       "  </thead>\n",
       "  <tbody>\n",
       "    <tr>\n",
       "      <th>2</th>\n",
       "      <td>luccaromeo</td>\n",
       "      <td>Everything has beauty, but not everyone sees i...</td>\n",
       "      <td>Los Angeles, CA</td>\n",
       "      <td>275</td>\n",
       "      <td>179</td>\n",
       "      <td>21939</td>\n",
       "      <td>2015-09-08 17:43:34</td>\n",
       "      <td>2020-10-04 17:40:03</td>\n",
       "      <td>0</td>\n",
       "      <td>Visage de Layla also offers waxing treatment h...</td>\n",
       "      <td>{#beauty}</td>\n",
       "      <td>1</td>\n",
       "      <td>1</td>\n",
       "      <td>0</td>\n",
       "      <td>9</td>\n",
       "    </tr>\n",
       "    <tr>\n",
       "      <th>3</th>\n",
       "      <td>FashListings</td>\n",
       "      <td>Sell fashion? List your business for FREE in o...</td>\n",
       "      <td>Northampton, UK</td>\n",
       "      <td>30747</td>\n",
       "      <td>35104</td>\n",
       "      <td>224859</td>\n",
       "      <td>2014-12-27 15:53:24</td>\n",
       "      <td>2020-10-04 17:40:03</td>\n",
       "      <td>0</td>\n",
       "      <td>Sell #fashion? Submit your website to our #dir...</td>\n",
       "      <td>{#bizitalk, #directory, #fashion?, #seo, #fnzb}</td>\n",
       "      <td>5</td>\n",
       "      <td>1</td>\n",
       "      <td>1</td>\n",
       "      <td>13</td>\n",
       "    </tr>\n",
       "  </tbody>\n",
       "</table>\n",
       "</div>"
      ],
      "text/plain": [
       "      user_name                                          user_desc  \\\n",
       "2    luccaromeo  Everything has beauty, but not everyone sees i...   \n",
       "3  FashListings  Sell fashion? List your business for FREE in o...   \n",
       "\n",
       "          location  following  followers  totaltweets       user_createdts  \\\n",
       "2  Los Angeles, CA        275        179        21939  2015-09-08 17:43:34   \n",
       "3  Northampton, UK      30747      35104       224859  2014-12-27 15:53:24   \n",
       "\n",
       "       tweet_createdts  retweet_count  \\\n",
       "2  2020-10-04 17:40:03              0   \n",
       "3  2020-10-04 17:40:03              0   \n",
       "\n",
       "                                                text  \\\n",
       "2  Visage de Layla also offers waxing treatment h...   \n",
       "3  Sell #fashion? Submit your website to our #dir...   \n",
       "\n",
       "                                          hashtags  num_hashtags  \\\n",
       "2                                        {#beauty}             1   \n",
       "3  {#bizitalk, #directory, #fashion?, #seo, #fnzb}             5   \n",
       "\n",
       "   num_search_tags  label  tweet_length  \n",
       "2                1      0             9  \n",
       "3                1      1            13  "
      ]
     },
     "execution_count": 87,
     "metadata": {},
     "output_type": "execute_result"
    }
   ],
   "source": [
    "# Distribution of tweet length in different labels (followers category)\n",
    "\n",
    "fashion_df['tweet_length'] = fashion_df['text'].apply(lambda x: len(x.split())) # tweet length\n",
    "fashion_df.head(2)"
   ]
  },
  {
   "cell_type": "code",
   "execution_count": 88,
   "metadata": {},
   "outputs": [
    {
     "data": {
      "text/plain": [
       "voudaux            148\n",
       "FitCasuallySKIN    141\n",
       "DLentilse          122\n",
       "Kada_soulayman     106\n",
       "IAM__Network        99\n",
       "MGDezigns           96\n",
       "PrettyGemsLoved     89\n",
       "PPerceptions        86\n",
       "insoc_on_ebay       82\n",
       "RetrouvBiz          78\n",
       "Name: user_name, dtype: int64"
      ]
     },
     "execution_count": 88,
     "metadata": {},
     "output_type": "execute_result"
    }
   ],
   "source": [
    "# user with higest number of tweets on fashion\n",
    "user = fashion_df['user_name'].value_counts()\n",
    "user.head(10)"
   ]
  },
  {
   "cell_type": "code",
   "execution_count": 90,
   "metadata": {},
   "outputs": [
    {
     "data": {
      "image/png": "[encoded data removed]",
      "text/plain": [
       "<Figure size 720x576 with 1 Axes>"
      ]
     },
     "metadata": {
      "needs_background": "light"
     },
     "output_type": "display_data"
    }
   ],
   "source": [
    "# tweet length distribution at different labels\n",
    "plt.figure(figsize=(10, 8))\n",
    "sns.boxplot(x = 'label', y = 'tweet_length', data = fashion_df, showfliers=False).set(xlabel= 'Label', ylabel='Tweet Length', title='Distribution of Tweet Length (Fashion Tweets)')\n",
    "plt.show()"
   ]
  },
  {
   "cell_type": "code",
   "execution_count": 91,
   "metadata": {},
   "outputs": [
    {
     "data": {
      "image/png": "[encoded data removed]",
      "text/plain": [
       "<Figure size 720x576 with 1 Axes>"
      ]
     },
     "metadata": {
      "needs_background": "light"
     },
     "output_type": "display_data"
    }
   ],
   "source": [
    "# define a function to get % of caps in a tweet\n",
    "def caps(text):\n",
    "    return np.mean([1 if i.isupper() else 0 for i in text]) * 100\n",
    "\n",
    "# Distribution of % of Caps in different followers count (labels)\n",
    "plt.figure(figsize=(10, 8))\n",
    "sns.boxplot(x = 'label', y = fashion_df['text'].apply(caps), data = fashion_df, showfliers=False).set(xlabel= 'Label',ylabel='% of Capitals', title='Distribution of % caps (Fashion Tweets)')\n",
    "plt.show()"
   ]
  },
  {
   "cell_type": "code",
   "execution_count": 93,
   "metadata": {},
   "outputs": [
    {
     "data": {
      "image/png": "[encoded data removed]",
      "text/plain": [
       "<Figure size 720x576 with 1 Axes>"
      ]
     },
     "metadata": {
      "needs_background": "light"
     },
     "output_type": "display_data"
    }
   ],
   "source": [
    "# Distribution of number of hashtags in different labels\n",
    "plt.figure(figsize=(10, 8))\n",
    "sns.boxplot(x = 'label', y = 'num_hashtags', data = fashion_df, showfliers=False).set(xlabel= 'Label',ylabel='Hashtags Per Tweet', title='Distribution of hashtags per tweet (Fashion Tweets)')\n",
    "plt.show()"
   ]
  },
  {
   "cell_type": "code",
   "execution_count": 96,
   "metadata": {},
   "outputs": [],
   "source": [
    "# import textstat library and set it for English language\n",
    "import textstat\n",
    "textstat.set_lang('en')\n"
   ]
  },
  {
   "cell_type": "code",
   "execution_count": 99,
   "metadata": {},
   "outputs": [
    {
     "data": {
      "text/html": [
       "<div>\n",
       "<style scoped>\n",
       "    .dataframe tbody tr th:only-of-type {\n",
       "        vertical-align: middle;\n",
       "    }\n",
       "\n",
       "    .dataframe tbody tr th {\n",
       "        vertical-align: top;\n",
       "    }\n",
       "\n",
       "    .dataframe thead th {\n",
       "        text-align: right;\n",
       "    }\n",
       "</style>\n",
       "<table border=\"1\" class=\"dataframe\">\n",
       "  <thead>\n",
       "    <tr style=\"text-align: right;\">\n",
       "      <th></th>\n",
       "      <th>user_name</th>\n",
       "      <th>user_desc</th>\n",
       "      <th>location</th>\n",
       "      <th>following</th>\n",
       "      <th>followers</th>\n",
       "      <th>totaltweets</th>\n",
       "      <th>user_createdts</th>\n",
       "      <th>tweet_createdts</th>\n",
       "      <th>retweet_count</th>\n",
       "      <th>text</th>\n",
       "      <th>hashtags</th>\n",
       "      <th>num_hashtags</th>\n",
       "      <th>num_search_tags</th>\n",
       "      <th>label</th>\n",
       "      <th>tweet_length</th>\n",
       "      <th>reading_level (ARI)</th>\n",
       "    </tr>\n",
       "  </thead>\n",
       "  <tbody>\n",
       "    <tr>\n",
       "      <th>2</th>\n",
       "      <td>luccaromeo</td>\n",
       "      <td>Everything has beauty, but not everyone sees i...</td>\n",
       "      <td>Los Angeles, CA</td>\n",
       "      <td>275</td>\n",
       "      <td>179</td>\n",
       "      <td>21939</td>\n",
       "      <td>2015-09-08 17:43:34</td>\n",
       "      <td>2020-10-04 17:40:03</td>\n",
       "      <td>0</td>\n",
       "      <td>Visage de Layla also offers waxing treatment h...</td>\n",
       "      <td>{#beauty}</td>\n",
       "      <td>1</td>\n",
       "      <td>1</td>\n",
       "      <td>0</td>\n",
       "      <td>9</td>\n",
       "      <td>18.7</td>\n",
       "    </tr>\n",
       "    <tr>\n",
       "      <th>3</th>\n",
       "      <td>FashListings</td>\n",
       "      <td>Sell fashion? List your business for FREE in o...</td>\n",
       "      <td>Northampton, UK</td>\n",
       "      <td>30747</td>\n",
       "      <td>35104</td>\n",
       "      <td>224859</td>\n",
       "      <td>2014-12-27 15:53:24</td>\n",
       "      <td>2020-10-04 17:40:03</td>\n",
       "      <td>0</td>\n",
       "      <td>Sell #fashion? Submit your website to our #dir...</td>\n",
       "      <td>{#bizitalk, #directory, #fashion?, #seo, #fnzb}</td>\n",
       "      <td>5</td>\n",
       "      <td>1</td>\n",
       "      <td>1</td>\n",
       "      <td>13</td>\n",
       "      <td>19.1</td>\n",
       "    </tr>\n",
       "    <tr>\n",
       "      <th>7</th>\n",
       "      <td>dukebarrett</td>\n",
       "      <td>Baltimore based photographer. Ready to make yo...</td>\n",
       "      <td>Parkville, MD</td>\n",
       "      <td>136</td>\n",
       "      <td>257</td>\n",
       "      <td>8859</td>\n",
       "      <td>2009-07-14 03:15:32</td>\n",
       "      <td>2020-10-04 17:39:36</td>\n",
       "      <td>0</td>\n",
       "      <td>#model #fashion #texture #baltimorephotographe...</td>\n",
       "      <td>{#fashionphotography, #flannel, #baltimorephot...</td>\n",
       "      <td>15</td>\n",
       "      <td>3</td>\n",
       "      <td>0</td>\n",
       "      <td>19</td>\n",
       "      <td>41.9</td>\n",
       "    </tr>\n",
       "    <tr>\n",
       "      <th>9</th>\n",
       "      <td>Panty_Buns</td>\n",
       "      <td>Love to male-model/review full brief panties+f...</td>\n",
       "      <td>Long Island, NY</td>\n",
       "      <td>1295</td>\n",
       "      <td>1276</td>\n",
       "      <td>63481</td>\n",
       "      <td>2011-09-09 01:22:26</td>\n",
       "      <td>2020-10-04 17:39:32</td>\n",
       "      <td>0</td>\n",
       "      <td>'Fall 2020 Fashion Trend' - #Fbloggers 5 #OOTD...</td>\n",
       "      <td>{#style, #ootd, #outfit, #lookbook, #fashion, ...</td>\n",
       "      <td>6</td>\n",
       "      <td>2</td>\n",
       "      <td>0</td>\n",
       "      <td>19</td>\n",
       "      <td>21.1</td>\n",
       "    </tr>\n",
       "    <tr>\n",
       "      <th>11</th>\n",
       "      <td>MartaFerrazAtom</td>\n",
       "      <td>Futurist Scientist, Polymath\\nAugmented Humans...</td>\n",
       "      <td>Netherlands</td>\n",
       "      <td>483</td>\n",
       "      <td>37</td>\n",
       "      <td>11</td>\n",
       "      <td>2010-03-30 20:21:44</td>\n",
       "      <td>2020-10-04 17:39:29</td>\n",
       "      <td>0</td>\n",
       "      <td>Design for the Future When the Future Is Bleak...</td>\n",
       "      <td>{#design, #fiction, #environment}</td>\n",
       "      <td>3</td>\n",
       "      <td>1</td>\n",
       "      <td>0</td>\n",
       "      <td>14</td>\n",
       "      <td>17.9</td>\n",
       "    </tr>\n",
       "  </tbody>\n",
       "</table>\n",
       "</div>"
      ],
      "text/plain": [
       "          user_name                                          user_desc  \\\n",
       "2        luccaromeo  Everything has beauty, but not everyone sees i...   \n",
       "3      FashListings  Sell fashion? List your business for FREE in o...   \n",
       "7       dukebarrett  Baltimore based photographer. Ready to make yo...   \n",
       "9        Panty_Buns  Love to male-model/review full brief panties+f...   \n",
       "11  MartaFerrazAtom  Futurist Scientist, Polymath\\nAugmented Humans...   \n",
       "\n",
       "           location  following  followers  totaltweets       user_createdts  \\\n",
       "2   Los Angeles, CA        275        179        21939  2015-09-08 17:43:34   \n",
       "3   Northampton, UK      30747      35104       224859  2014-12-27 15:53:24   \n",
       "7     Parkville, MD        136        257         8859  2009-07-14 03:15:32   \n",
       "9   Long Island, NY       1295       1276        63481  2011-09-09 01:22:26   \n",
       "11     Netherlands         483         37           11  2010-03-30 20:21:44   \n",
       "\n",
       "        tweet_createdts  retweet_count  \\\n",
       "2   2020-10-04 17:40:03              0   \n",
       "3   2020-10-04 17:40:03              0   \n",
       "7   2020-10-04 17:39:36              0   \n",
       "9   2020-10-04 17:39:32              0   \n",
       "11  2020-10-04 17:39:29              0   \n",
       "\n",
       "                                                 text  \\\n",
       "2   Visage de Layla also offers waxing treatment h...   \n",
       "3   Sell #fashion? Submit your website to our #dir...   \n",
       "7   #model #fashion #texture #baltimorephotographe...   \n",
       "9   'Fall 2020 Fashion Trend' - #Fbloggers 5 #OOTD...   \n",
       "11  Design for the Future When the Future Is Bleak...   \n",
       "\n",
       "                                             hashtags  num_hashtags  \\\n",
       "2                                           {#beauty}             1   \n",
       "3     {#bizitalk, #directory, #fashion?, #seo, #fnzb}             5   \n",
       "7   {#fashionphotography, #flannel, #baltimorephot...            15   \n",
       "9   {#style, #ootd, #outfit, #lookbook, #fashion, ...             6   \n",
       "11                  {#design, #fiction, #environment}             3   \n",
       "\n",
       "    num_search_tags  label  tweet_length  reading_level (ARI)  \n",
       "2                 1      0             9                 18.7  \n",
       "3                 1      1            13                 19.1  \n",
       "7                 3      0            19                 41.9  \n",
       "9                 2      0            19                 21.1  \n",
       "11                1      0            14                 17.9  "
      ]
     },
     "execution_count": 99,
     "metadata": {},
     "output_type": "execute_result"
    }
   ],
   "source": [
    "fashion_df['reading_level (ARI)'] = fashion_df['text'].apply(lambda x: textstat.automated_readability_index(x))\n",
    "fashion_df.head()"
   ]
  },
  {
   "cell_type": "code",
   "execution_count": 98,
   "metadata": {},
   "outputs": [
    {
     "data": {
      "image/png": "[encoded data removed]",
      "text/plain": [
       "<Figure size 720x576 with 1 Axes>"
      ]
     },
     "metadata": {
      "needs_background": "light"
     },
     "output_type": "display_data"
    }
   ],
   "source": [
    "# Distribution of reading level in different labels (Automated Readability Index)\n",
    "plt.figure(figsize=(10, 8))\n",
    "sns.boxplot(x = 'label', y = fashion_df['text'].apply(lambda x: textstat.automated_readability_index(x)), data = fashion_df, showfliers=False).set(xlabel= 'Label',ylabel='Reading Level', title='Distribution of Tweet Reading Level (Fashion Tweets)')\n",
    "plt.show()"
   ]
  },
  {
   "cell_type": "code",
   "execution_count": 100,
   "metadata": {},
   "outputs": [
    {
     "data": {
      "image/png": "[encoded data removed]",
      "text/plain": [
       "<Figure size 720x576 with 1 Axes>"
      ]
     },
     "metadata": {
      "needs_background": "light"
     },
     "output_type": "display_data"
    }
   ],
   "source": [
    "# Distribution of reading level in different labels (Flesch Reading Ease Score)\n",
    "plt.figure(figsize=(10, 8))\n",
    "sns.boxplot(x = 'label', y = fashion_df['text'].apply(lambda x: textstat.flesch_reading_ease(x)), data = fashion_df, showfliers=False).set(xlabel= 'Label',ylabel='Reading Level', title='Distribution of Tweet Reading Level (Fashion Tweets)')\n",
    "plt.show()"
   ]
  },
  {
   "cell_type": "code",
   "execution_count": 101,
   "metadata": {},
   "outputs": [
    {
     "data": {
      "image/png": "[encoded data removed]",
      "text/plain": [
       "<Figure size 720x576 with 1 Axes>"
      ]
     },
     "metadata": {
      "needs_background": "light"
     },
     "output_type": "display_data"
    }
   ],
   "source": [
    "# Distribution of reading level in different labels (Fog Scale)\n",
    "plt.figure(figsize=(10, 8))\n",
    "sns.boxplot(x = 'label', y = fashion_df['text'].apply(lambda x: textstat.gunning_fog(x)), data = fashion_df, showfliers=False).set(xlabel= 'Label',ylabel='Reading Level', title='Distribution of Tweet Reading Level (Fashion Tweets)')\n",
    "plt.show()"
   ]
  },
  {
   "cell_type": "code",
   "execution_count": 103,
   "metadata": {},
   "outputs": [
    {
     "data": {
      "image/png": "[encoded data removed]",
      "text/plain": [
       "<Figure size 720x576 with 1 Axes>"
      ]
     },
     "metadata": {
      "needs_background": "light"
     },
     "output_type": "display_data"
    }
   ],
   "source": [
    "# Distribution of reading level in different labels (Coleman-Liau Index)\n",
    "plt.figure(figsize=(10, 8))\n",
    "sns.boxplot(x = 'label', y = fashion_df['text'].apply(lambda x: textstat.coleman_liau_index(x)), data = fashion_df, showfliers=False).set(xlabel= 'Label',ylabel='Reading Level', title='Distribution of Tweet Reading Level (Fashion Tweets)')\n",
    "plt.show()"
   ]
  },
  {
   "cell_type": "code",
   "execution_count": 104,
   "metadata": {},
   "outputs": [
    {
     "data": {
      "image/png": "[encoded data removed]",
      "text/plain": [
       "<Figure size 720x576 with 1 Axes>"
      ]
     },
     "metadata": {
      "needs_background": "light"
     },
     "output_type": "display_data"
    }
   ],
   "source": [
    "# Distribution of reading level in different labels (Linsear Write Formula)\n",
    "plt.figure(figsize=(10, 8))\n",
    "sns.boxplot(x = 'label', y = fashion_df['text'].apply(lambda x: textstat.linsear_write_formula(x)), data = fashion_df, showfliers=False).set(xlabel= 'Label',ylabel='Reading Level', title='Distribution of Tweet Reading Level (Fashion Tweets)')\n",
    "plt.show()"
   ]
  },
  {
   "cell_type": "code",
   "execution_count": null,
   "metadata": {},
   "outputs": [],
   "source": []
  },
  {
   "cell_type": "code",
   "execution_count": null,
   "metadata": {},
   "outputs": [],
   "source": []
  },
  {
   "cell_type": "code",
   "execution_count": null,
   "metadata": {},
   "outputs": [],
   "source": []
  },
  {
   "cell_type": "code",
   "execution_count": null,
   "metadata": {},
   "outputs": [],
   "source": []
  },
  {
   "cell_type": "markdown",
   "metadata": {},
   "source": [
    "## Fitness Tweets"
   ]
  },
  {
   "cell_type": "code",
   "execution_count": 105,
   "metadata": {},
   "outputs": [
    {
     "data": {
      "text/html": [
       "<div>\n",
       "<style scoped>\n",
       "    .dataframe tbody tr th:only-of-type {\n",
       "        vertical-align: middle;\n",
       "    }\n",
       "\n",
       "    .dataframe tbody tr th {\n",
       "        vertical-align: top;\n",
       "    }\n",
       "\n",
       "    .dataframe thead th {\n",
       "        text-align: right;\n",
       "    }\n",
       "</style>\n",
       "<table border=\"1\" class=\"dataframe\">\n",
       "  <thead>\n",
       "    <tr style=\"text-align: right;\">\n",
       "      <th></th>\n",
       "      <th>user_name</th>\n",
       "      <th>user_desc</th>\n",
       "      <th>location</th>\n",
       "      <th>following</th>\n",
       "      <th>followers</th>\n",
       "      <th>totaltweets</th>\n",
       "      <th>user_createdts</th>\n",
       "      <th>tweet_createdts</th>\n",
       "      <th>retweet_count</th>\n",
       "      <th>text</th>\n",
       "    </tr>\n",
       "  </thead>\n",
       "  <tbody>\n",
       "    <tr>\n",
       "      <th>0</th>\n",
       "      <td>anusualauthor</td>\n",
       "      <td>official tweet of Enigma Anu Aggarwal</td>\n",
       "      <td>Mumbai, India</td>\n",
       "      <td>544</td>\n",
       "      <td>3743</td>\n",
       "      <td>2661</td>\n",
       "      <td>2010-04-30 12:38:54</td>\n",
       "      <td>2020-10-05 15:34:17</td>\n",
       "      <td>0</td>\n",
       "      <td>You get to know your #true #nature in that mom...</td>\n",
       "    </tr>\n",
       "    <tr>\n",
       "      <th>1</th>\n",
       "      <td>WhtIStheSCIENCE</td>\n",
       "      <td>Clinical Director #BCBA for @SpecialNeedsLA #A...</td>\n",
       "      <td>Los Angeles, CA</td>\n",
       "      <td>1008</td>\n",
       "      <td>696</td>\n",
       "      <td>7214</td>\n",
       "      <td>2012-10-15 06:38:35</td>\n",
       "      <td>2020-10-05 15:34:07</td>\n",
       "      <td>1</td>\n",
       "      <td>RT @SpectrumSports8: Cone Flip Melee!! \\n\\n#do...</td>\n",
       "    </tr>\n",
       "    <tr>\n",
       "      <th>2</th>\n",
       "      <td>HeathAJordan</td>\n",
       "      <td>Entrepreneur/ Filmmaker/ CEO/ Producer/ Direct...</td>\n",
       "      <td>Sarasota Florida</td>\n",
       "      <td>6775</td>\n",
       "      <td>8567</td>\n",
       "      <td>50578</td>\n",
       "      <td>2011-06-21 22:56:28</td>\n",
       "      <td>2020-10-05 15:34:03</td>\n",
       "      <td>0</td>\n",
       "      <td>#RT @lucaslagoons: RT @LagoonsDesign: Want to ...</td>\n",
       "    </tr>\n",
       "    <tr>\n",
       "      <th>3</th>\n",
       "      <td>CeciliaMaundu</td>\n",
       "      <td>Broadcast journalist, Specialist in Gender Dig...</td>\n",
       "      <td>Nairobi</td>\n",
       "      <td>888</td>\n",
       "      <td>754</td>\n",
       "      <td>7282</td>\n",
       "      <td>2012-01-11 04:09:14</td>\n",
       "      <td>2020-10-05 15:34:00</td>\n",
       "      <td>4</td>\n",
       "      <td>RT @PollicyOrg: Register for our next hands-on...</td>\n",
       "    </tr>\n",
       "    <tr>\n",
       "      <th>4</th>\n",
       "      <td>LidiaSegundoCar</td>\n",
       "      <td>NaN</td>\n",
       "      <td>NaN</td>\n",
       "      <td>722</td>\n",
       "      <td>772</td>\n",
       "      <td>591</td>\n",
       "      <td>2019-04-09 00:48:01</td>\n",
       "      <td>2020-10-05 15:33:54</td>\n",
       "      <td>1</td>\n",
       "      <td>RT @petertamayo: Nada #cambia si tu no cambias...</td>\n",
       "    </tr>\n",
       "  </tbody>\n",
       "</table>\n",
       "</div>"
      ],
      "text/plain": [
       "         user_name                                          user_desc  \\\n",
       "0    anusualauthor              official tweet of Enigma Anu Aggarwal   \n",
       "1  WhtIStheSCIENCE  Clinical Director #BCBA for @SpecialNeedsLA #A...   \n",
       "2     HeathAJordan  Entrepreneur/ Filmmaker/ CEO/ Producer/ Direct...   \n",
       "3    CeciliaMaundu  Broadcast journalist, Specialist in Gender Dig...   \n",
       "4  LidiaSegundoCar                                                NaN   \n",
       "\n",
       "           location  following  followers  totaltweets       user_createdts  \\\n",
       "0     Mumbai, India        544       3743         2661  2010-04-30 12:38:54   \n",
       "1   Los Angeles, CA       1008        696         7214  2012-10-15 06:38:35   \n",
       "2  Sarasota Florida       6775       8567        50578  2011-06-21 22:56:28   \n",
       "3           Nairobi        888        754         7282  2012-01-11 04:09:14   \n",
       "4               NaN        722        772          591  2019-04-09 00:48:01   \n",
       "\n",
       "       tweet_createdts  retweet_count  \\\n",
       "0  2020-10-05 15:34:17              0   \n",
       "1  2020-10-05 15:34:07              1   \n",
       "2  2020-10-05 15:34:03              0   \n",
       "3  2020-10-05 15:34:00              4   \n",
       "4  2020-10-05 15:33:54              1   \n",
       "\n",
       "                                                text  \n",
       "0  You get to know your #true #nature in that mom...  \n",
       "1  RT @SpectrumSports8: Cone Flip Melee!! \\n\\n#do...  \n",
       "2  #RT @lucaslagoons: RT @LagoonsDesign: Want to ...  \n",
       "3  RT @PollicyOrg: Register for our next hands-on...  \n",
       "4  RT @petertamayo: Nada #cambia si tu no cambias...  "
      ]
     },
     "execution_count": 105,
     "metadata": {},
     "output_type": "execute_result"
    }
   ],
   "source": [
    "# Load fitness tweets into a pandas DataFrame\n",
    "fitness_df = pd.read_csv('fitness_tweets.csv')\n",
    "fitness_df.head()"
   ]
  },
  {
   "cell_type": "code",
   "execution_count": 106,
   "metadata": {},
   "outputs": [
    {
     "data": {
      "text/plain": [
       "(10000, 10)"
      ]
     },
     "execution_count": 106,
     "metadata": {},
     "output_type": "execute_result"
    }
   ],
   "source": [
    "# Find out total no of rows and columns\n",
    "fitness_df.shape"
   ]
  },
  {
   "cell_type": "code",
   "execution_count": 107,
   "metadata": {},
   "outputs": [
    {
     "name": "stdout",
     "output_type": "stream",
     "text": [
      "<class 'pandas.core.frame.DataFrame'>\n",
      "RangeIndex: 10000 entries, 0 to 9999\n",
      "Data columns (total 10 columns):\n",
      " #   Column           Non-Null Count  Dtype \n",
      "---  ------           --------------  ----- \n",
      " 0   user_name        10000 non-null  object\n",
      " 1   user_desc        9113 non-null   object\n",
      " 2   location         7244 non-null   object\n",
      " 3   following        10000 non-null  int64 \n",
      " 4   followers        10000 non-null  int64 \n",
      " 5   totaltweets      10000 non-null  int64 \n",
      " 6   user_createdts   10000 non-null  object\n",
      " 7   tweet_createdts  10000 non-null  object\n",
      " 8   retweet_count    10000 non-null  int64 \n",
      " 9   text             10000 non-null  object\n",
      "dtypes: int64(4), object(6)\n",
      "memory usage: 781.4+ KB\n"
     ]
    }
   ],
   "source": [
    "# Count missing values\n",
    "fitness_df.info()"
   ]
  },
  {
   "cell_type": "code",
   "execution_count": 108,
   "metadata": {},
   "outputs": [
    {
     "data": {
      "text/plain": [
       "1517"
      ]
     },
     "execution_count": 108,
     "metadata": {},
     "output_type": "execute_result"
    }
   ],
   "source": [
    "# Check for duplicate tweets \n",
    "duplicate_tweets_fitness = fitness_df.duplicated(keep='first').sum()\n",
    "duplicate_tweets_fitness"
   ]
  },
  {
   "cell_type": "code",
   "execution_count": 109,
   "metadata": {},
   "outputs": [
    {
     "data": {
      "text/plain": [
       "8483"
      ]
     },
     "execution_count": 109,
     "metadata": {},
     "output_type": "execute_result"
    }
   ],
   "source": [
    "# drop duplicates\n",
    "fitness_df = fitness_df.drop_duplicates()\n",
    "len(fitness_df)"
   ]
  },
  {
   "cell_type": "code",
   "execution_count": 110,
   "metadata": {},
   "outputs": [
    {
     "data": {
      "text/plain": [
       "0.42873983260638926"
      ]
     },
     "execution_count": 110,
     "metadata": {},
     "output_type": "execute_result"
    }
   ],
   "source": [
    "# Check for % of retweets\n",
    "fitness_df['text'].apply(lambda x: 'RT' in x[:3]).mean()"
   ]
  },
  {
   "cell_type": "code",
   "execution_count": 111,
   "metadata": {},
   "outputs": [
    {
     "data": {
      "text/plain": [
       "4849"
      ]
     },
     "execution_count": 111,
     "metadata": {},
     "output_type": "execute_result"
    }
   ],
   "source": [
    "# Drop the retweets\n",
    "fitness_df = fitness_df[~fitness_df.text.str.startswith('RT')]\n",
    "len(fitness_df)"
   ]
  },
  {
   "cell_type": "code",
   "execution_count": 112,
   "metadata": {},
   "outputs": [
    {
     "data": {
      "text/html": [
       "<div>\n",
       "<style scoped>\n",
       "    .dataframe tbody tr th:only-of-type {\n",
       "        vertical-align: middle;\n",
       "    }\n",
       "\n",
       "    .dataframe tbody tr th {\n",
       "        vertical-align: top;\n",
       "    }\n",
       "\n",
       "    .dataframe thead th {\n",
       "        text-align: right;\n",
       "    }\n",
       "</style>\n",
       "<table border=\"1\" class=\"dataframe\">\n",
       "  <thead>\n",
       "    <tr style=\"text-align: right;\">\n",
       "      <th></th>\n",
       "      <th>user_name</th>\n",
       "      <th>user_desc</th>\n",
       "      <th>location</th>\n",
       "      <th>following</th>\n",
       "      <th>followers</th>\n",
       "      <th>totaltweets</th>\n",
       "      <th>user_createdts</th>\n",
       "      <th>tweet_createdts</th>\n",
       "      <th>retweet_count</th>\n",
       "      <th>text</th>\n",
       "      <th>hashtags</th>\n",
       "    </tr>\n",
       "  </thead>\n",
       "  <tbody>\n",
       "    <tr>\n",
       "      <th>0</th>\n",
       "      <td>anusualauthor</td>\n",
       "      <td>official tweet of Enigma Anu Aggarwal</td>\n",
       "      <td>Mumbai, India</td>\n",
       "      <td>544</td>\n",
       "      <td>3743</td>\n",
       "      <td>2661</td>\n",
       "      <td>2010-04-30 12:38:54</td>\n",
       "      <td>2020-10-05 15:34:17</td>\n",
       "      <td>0</td>\n",
       "      <td>You get to know your #true #nature in that mom...</td>\n",
       "      <td>{#wellness, #anuaggarwalfoundation, #staysafe,...</td>\n",
       "    </tr>\n",
       "    <tr>\n",
       "      <th>2</th>\n",
       "      <td>HeathAJordan</td>\n",
       "      <td>Entrepreneur/ Filmmaker/ CEO/ Producer/ Direct...</td>\n",
       "      <td>Sarasota Florida</td>\n",
       "      <td>6775</td>\n",
       "      <td>8567</td>\n",
       "      <td>50578</td>\n",
       "      <td>2011-06-21 22:56:28</td>\n",
       "      <td>2020-10-05 15:34:03</td>\n",
       "      <td>0</td>\n",
       "      <td>#RT @lucaslagoons: RT @LagoonsDesign: Want to ...</td>\n",
       "      <td>{#insanepools, #workout, #rt, #lucaslagoons}</td>\n",
       "    </tr>\n",
       "    <tr>\n",
       "      <th>7</th>\n",
       "      <td>IHealthtou</td>\n",
       "      <td>Welcome to I Health 2 U store!</td>\n",
       "      <td>United States</td>\n",
       "      <td>1</td>\n",
       "      <td>45</td>\n",
       "      <td>3205</td>\n",
       "      <td>2019-12-15 18:16:24</td>\n",
       "      <td>2020-10-05 15:33:33</td>\n",
       "      <td>0</td>\n",
       "      <td>13.58I Health 2 U#inspiration #wellness 310 ml...</td>\n",
       "      <td>{#wellness}</td>\n",
       "    </tr>\n",
       "  </tbody>\n",
       "</table>\n",
       "</div>"
      ],
      "text/plain": [
       "       user_name                                          user_desc  \\\n",
       "0  anusualauthor              official tweet of Enigma Anu Aggarwal   \n",
       "2   HeathAJordan  Entrepreneur/ Filmmaker/ CEO/ Producer/ Direct...   \n",
       "7     IHealthtou                     Welcome to I Health 2 U store!   \n",
       "\n",
       "           location  following  followers  totaltweets       user_createdts  \\\n",
       "0     Mumbai, India        544       3743         2661  2010-04-30 12:38:54   \n",
       "2  Sarasota Florida       6775       8567        50578  2011-06-21 22:56:28   \n",
       "7     United States          1         45         3205  2019-12-15 18:16:24   \n",
       "\n",
       "       tweet_createdts  retweet_count  \\\n",
       "0  2020-10-05 15:34:17              0   \n",
       "2  2020-10-05 15:34:03              0   \n",
       "7  2020-10-05 15:33:33              0   \n",
       "\n",
       "                                                text  \\\n",
       "0  You get to know your #true #nature in that mom...   \n",
       "2  #RT @lucaslagoons: RT @LagoonsDesign: Want to ...   \n",
       "7  13.58I Health 2 U#inspiration #wellness 310 ml...   \n",
       "\n",
       "                                            hashtags  \n",
       "0  {#wellness, #anuaggarwalfoundation, #staysafe,...  \n",
       "2       {#insanepools, #workout, #rt, #lucaslagoons}  \n",
       "7                                        {#wellness}  "
      ]
     },
     "execution_count": 112,
     "metadata": {},
     "output_type": "execute_result"
    }
   ],
   "source": [
    "# defind a function to find all the hashtags in a tweet\n",
    "\n",
    "def hashtag(text):\n",
    "    return (set([str(i.lower()) for i in text.split() if i.startswith(\"#\")]))\n",
    "\n",
    "fitness_df['hashtags'] = fitness_df['text'].apply(hashtag)\n",
    "fitness_df.head(3)"
   ]
  },
  {
   "cell_type": "code",
   "execution_count": 113,
   "metadata": {},
   "outputs": [
    {
     "data": {
      "text/html": [
       "<div>\n",
       "<style scoped>\n",
       "    .dataframe tbody tr th:only-of-type {\n",
       "        vertical-align: middle;\n",
       "    }\n",
       "\n",
       "    .dataframe tbody tr th {\n",
       "        vertical-align: top;\n",
       "    }\n",
       "\n",
       "    .dataframe thead th {\n",
       "        text-align: right;\n",
       "    }\n",
       "</style>\n",
       "<table border=\"1\" class=\"dataframe\">\n",
       "  <thead>\n",
       "    <tr style=\"text-align: right;\">\n",
       "      <th></th>\n",
       "      <th>user_name</th>\n",
       "      <th>user_desc</th>\n",
       "      <th>location</th>\n",
       "      <th>following</th>\n",
       "      <th>followers</th>\n",
       "      <th>totaltweets</th>\n",
       "      <th>user_createdts</th>\n",
       "      <th>tweet_createdts</th>\n",
       "      <th>retweet_count</th>\n",
       "      <th>text</th>\n",
       "      <th>hashtags</th>\n",
       "      <th>num_hashtags</th>\n",
       "    </tr>\n",
       "  </thead>\n",
       "  <tbody>\n",
       "    <tr>\n",
       "      <th>0</th>\n",
       "      <td>anusualauthor</td>\n",
       "      <td>official tweet of Enigma Anu Aggarwal</td>\n",
       "      <td>Mumbai, India</td>\n",
       "      <td>544</td>\n",
       "      <td>3743</td>\n",
       "      <td>2661</td>\n",
       "      <td>2010-04-30 12:38:54</td>\n",
       "      <td>2020-10-05 15:34:17</td>\n",
       "      <td>0</td>\n",
       "      <td>You get to know your #true #nature in that mom...</td>\n",
       "      <td>{#wellness, #anuaggarwalfoundation, #staysafe,...</td>\n",
       "      <td>15</td>\n",
       "    </tr>\n",
       "    <tr>\n",
       "      <th>2</th>\n",
       "      <td>HeathAJordan</td>\n",
       "      <td>Entrepreneur/ Filmmaker/ CEO/ Producer/ Direct...</td>\n",
       "      <td>Sarasota Florida</td>\n",
       "      <td>6775</td>\n",
       "      <td>8567</td>\n",
       "      <td>50578</td>\n",
       "      <td>2011-06-21 22:56:28</td>\n",
       "      <td>2020-10-05 15:34:03</td>\n",
       "      <td>0</td>\n",
       "      <td>#RT @lucaslagoons: RT @LagoonsDesign: Want to ...</td>\n",
       "      <td>{#insanepools, #workout, #rt, #lucaslagoons}</td>\n",
       "      <td>4</td>\n",
       "    </tr>\n",
       "    <tr>\n",
       "      <th>7</th>\n",
       "      <td>IHealthtou</td>\n",
       "      <td>Welcome to I Health 2 U store!</td>\n",
       "      <td>United States</td>\n",
       "      <td>1</td>\n",
       "      <td>45</td>\n",
       "      <td>3205</td>\n",
       "      <td>2019-12-15 18:16:24</td>\n",
       "      <td>2020-10-05 15:33:33</td>\n",
       "      <td>0</td>\n",
       "      <td>13.58I Health 2 U#inspiration #wellness 310 ml...</td>\n",
       "      <td>{#wellness}</td>\n",
       "      <td>1</td>\n",
       "    </tr>\n",
       "  </tbody>\n",
       "</table>\n",
       "</div>"
      ],
      "text/plain": [
       "       user_name                                          user_desc  \\\n",
       "0  anusualauthor              official tweet of Enigma Anu Aggarwal   \n",
       "2   HeathAJordan  Entrepreneur/ Filmmaker/ CEO/ Producer/ Direct...   \n",
       "7     IHealthtou                     Welcome to I Health 2 U store!   \n",
       "\n",
       "           location  following  followers  totaltweets       user_createdts  \\\n",
       "0     Mumbai, India        544       3743         2661  2010-04-30 12:38:54   \n",
       "2  Sarasota Florida       6775       8567        50578  2011-06-21 22:56:28   \n",
       "7     United States          1         45         3205  2019-12-15 18:16:24   \n",
       "\n",
       "       tweet_createdts  retweet_count  \\\n",
       "0  2020-10-05 15:34:17              0   \n",
       "2  2020-10-05 15:34:03              0   \n",
       "7  2020-10-05 15:33:33              0   \n",
       "\n",
       "                                                text  \\\n",
       "0  You get to know your #true #nature in that mom...   \n",
       "2  #RT @lucaslagoons: RT @LagoonsDesign: Want to ...   \n",
       "7  13.58I Health 2 U#inspiration #wellness 310 ml...   \n",
       "\n",
       "                                            hashtags  num_hashtags  \n",
       "0  {#wellness, #anuaggarwalfoundation, #staysafe,...            15  \n",
       "2       {#insanepools, #workout, #rt, #lucaslagoons}             4  \n",
       "7                                        {#wellness}             1  "
      ]
     },
     "execution_count": 113,
     "metadata": {},
     "output_type": "execute_result"
    }
   ],
   "source": [
    "# Count the hashtags per each tweets\n",
    "fitness_df['num_hashtags'] = fitness_df['hashtags'].apply(len)\n",
    "fitness_df.head(3)"
   ]
  },
  {
   "cell_type": "code",
   "execution_count": 114,
   "metadata": {},
   "outputs": [
    {
     "data": {
      "text/html": [
       "<div>\n",
       "<style scoped>\n",
       "    .dataframe tbody tr th:only-of-type {\n",
       "        vertical-align: middle;\n",
       "    }\n",
       "\n",
       "    .dataframe tbody tr th {\n",
       "        vertical-align: top;\n",
       "    }\n",
       "\n",
       "    .dataframe thead th {\n",
       "        text-align: right;\n",
       "    }\n",
       "</style>\n",
       "<table border=\"1\" class=\"dataframe\">\n",
       "  <thead>\n",
       "    <tr style=\"text-align: right;\">\n",
       "      <th></th>\n",
       "      <th>user_name</th>\n",
       "      <th>user_desc</th>\n",
       "      <th>location</th>\n",
       "      <th>following</th>\n",
       "      <th>followers</th>\n",
       "      <th>totaltweets</th>\n",
       "      <th>user_createdts</th>\n",
       "      <th>tweet_createdts</th>\n",
       "      <th>retweet_count</th>\n",
       "      <th>text</th>\n",
       "      <th>hashtags</th>\n",
       "      <th>num_hashtags</th>\n",
       "      <th>num_search_tags</th>\n",
       "    </tr>\n",
       "  </thead>\n",
       "  <tbody>\n",
       "    <tr>\n",
       "      <th>0</th>\n",
       "      <td>anusualauthor</td>\n",
       "      <td>official tweet of Enigma Anu Aggarwal</td>\n",
       "      <td>Mumbai, India</td>\n",
       "      <td>544</td>\n",
       "      <td>3743</td>\n",
       "      <td>2661</td>\n",
       "      <td>2010-04-30 12:38:54</td>\n",
       "      <td>2020-10-05 15:34:17</td>\n",
       "      <td>0</td>\n",
       "      <td>You get to know your #true #nature in that mom...</td>\n",
       "      <td>{#wellness, #anuaggarwalfoundation, #staysafe,...</td>\n",
       "      <td>15</td>\n",
       "      <td>1</td>\n",
       "    </tr>\n",
       "    <tr>\n",
       "      <th>2</th>\n",
       "      <td>HeathAJordan</td>\n",
       "      <td>Entrepreneur/ Filmmaker/ CEO/ Producer/ Direct...</td>\n",
       "      <td>Sarasota Florida</td>\n",
       "      <td>6775</td>\n",
       "      <td>8567</td>\n",
       "      <td>50578</td>\n",
       "      <td>2011-06-21 22:56:28</td>\n",
       "      <td>2020-10-05 15:34:03</td>\n",
       "      <td>0</td>\n",
       "      <td>#RT @lucaslagoons: RT @LagoonsDesign: Want to ...</td>\n",
       "      <td>{#insanepools, #workout, #rt, #lucaslagoons}</td>\n",
       "      <td>4</td>\n",
       "      <td>1</td>\n",
       "    </tr>\n",
       "    <tr>\n",
       "      <th>7</th>\n",
       "      <td>IHealthtou</td>\n",
       "      <td>Welcome to I Health 2 U store!</td>\n",
       "      <td>United States</td>\n",
       "      <td>1</td>\n",
       "      <td>45</td>\n",
       "      <td>3205</td>\n",
       "      <td>2019-12-15 18:16:24</td>\n",
       "      <td>2020-10-05 15:33:33</td>\n",
       "      <td>0</td>\n",
       "      <td>13.58I Health 2 U#inspiration #wellness 310 ml...</td>\n",
       "      <td>{#wellness}</td>\n",
       "      <td>1</td>\n",
       "      <td>1</td>\n",
       "    </tr>\n",
       "    <tr>\n",
       "      <th>9</th>\n",
       "      <td>KavitaRaoMD</td>\n",
       "      <td>Dr. Kavita Rao M.D. is a Gulf Coast internist ...</td>\n",
       "      <td>St. Petersburg, FL</td>\n",
       "      <td>40</td>\n",
       "      <td>5</td>\n",
       "      <td>673</td>\n",
       "      <td>2014-12-19 18:06:56</td>\n",
       "      <td>2020-10-05 15:33:30</td>\n",
       "      <td>0</td>\n",
       "      <td>Love yourself enough to live a healthy lifesty...</td>\n",
       "      <td>{#wellness, #health, #healthyliving}</td>\n",
       "      <td>3</td>\n",
       "      <td>2</td>\n",
       "    </tr>\n",
       "    <tr>\n",
       "      <th>11</th>\n",
       "      <td>Crystal_Price13</td>\n",
       "      <td>Just me - all day - everyday</td>\n",
       "      <td>Panama City, FL</td>\n",
       "      <td>60</td>\n",
       "      <td>445</td>\n",
       "      <td>12936</td>\n",
       "      <td>2013-05-21 23:46:02</td>\n",
       "      <td>2020-10-05 15:33:25</td>\n",
       "      <td>0</td>\n",
       "      <td>I thought you might enjoy a 5 minute break wit...</td>\n",
       "      <td>{#stopbreathethink, #healthylifestyle, #health...</td>\n",
       "      <td>6</td>\n",
       "      <td>4</td>\n",
       "    </tr>\n",
       "  </tbody>\n",
       "</table>\n",
       "</div>"
      ],
      "text/plain": [
       "          user_name                                          user_desc  \\\n",
       "0     anusualauthor              official tweet of Enigma Anu Aggarwal   \n",
       "2      HeathAJordan  Entrepreneur/ Filmmaker/ CEO/ Producer/ Direct...   \n",
       "7        IHealthtou                     Welcome to I Health 2 U store!   \n",
       "9       KavitaRaoMD  Dr. Kavita Rao M.D. is a Gulf Coast internist ...   \n",
       "11  Crystal_Price13                       Just me - all day - everyday   \n",
       "\n",
       "              location  following  followers  totaltweets  \\\n",
       "0        Mumbai, India        544       3743         2661   \n",
       "2     Sarasota Florida       6775       8567        50578   \n",
       "7        United States          1         45         3205   \n",
       "9   St. Petersburg, FL         40          5          673   \n",
       "11     Panama City, FL         60        445        12936   \n",
       "\n",
       "         user_createdts      tweet_createdts  retweet_count  \\\n",
       "0   2010-04-30 12:38:54  2020-10-05 15:34:17              0   \n",
       "2   2011-06-21 22:56:28  2020-10-05 15:34:03              0   \n",
       "7   2019-12-15 18:16:24  2020-10-05 15:33:33              0   \n",
       "9   2014-12-19 18:06:56  2020-10-05 15:33:30              0   \n",
       "11  2013-05-21 23:46:02  2020-10-05 15:33:25              0   \n",
       "\n",
       "                                                 text  \\\n",
       "0   You get to know your #true #nature in that mom...   \n",
       "2   #RT @lucaslagoons: RT @LagoonsDesign: Want to ...   \n",
       "7   13.58I Health 2 U#inspiration #wellness 310 ml...   \n",
       "9   Love yourself enough to live a healthy lifesty...   \n",
       "11  I thought you might enjoy a 5 minute break wit...   \n",
       "\n",
       "                                             hashtags  num_hashtags  \\\n",
       "0   {#wellness, #anuaggarwalfoundation, #staysafe,...            15   \n",
       "2        {#insanepools, #workout, #rt, #lucaslagoons}             4   \n",
       "7                                         {#wellness}             1   \n",
       "9                {#wellness, #health, #healthyliving}             3   \n",
       "11  {#stopbreathethink, #healthylifestyle, #health...             6   \n",
       "\n",
       "    num_search_tags  \n",
       "0                 1  \n",
       "2                 1  \n",
       "7                 1  \n",
       "9                 2  \n",
       "11                4  "
      ]
     },
     "execution_count": 114,
     "metadata": {},
     "output_type": "execute_result"
    }
   ],
   "source": [
    "# find the number of search hashtags (we used thsese tags to pull the tweet) in a tweet\n",
    "fit_search_tags = ['#fitness', '#workout', '#gym', '#healthy', '#fitnessmotivation', '#fitnessmodel', '#healthylifestyle', '#fit', '#mtivation', '#wellness', '#lifestyle', '#mindbody', '#training', '#exercise', '#exercise', '#firnesslife', '#healthandfitness', '#exercisemotivation']\n",
    "\n",
    "\n",
    "def search_hashtags(tags):\n",
    "    t = 0\n",
    "    for i in fit_search_tags:\n",
    "        for j in tags:\n",
    "            if i in j:\n",
    "                t += 1\n",
    "    return t\n",
    "\n",
    "                \n",
    "fitness_df['num_search_tags'] = fitness_df['hashtags'].apply(search_hashtags)\n",
    "fitness_df.head()            "
   ]
  },
  {
   "cell_type": "code",
   "execution_count": 115,
   "metadata": {},
   "outputs": [
    {
     "data": {
      "text/plain": [
       "10"
      ]
     },
     "execution_count": 115,
     "metadata": {},
     "output_type": "execute_result"
    }
   ],
   "source": [
    "# find the the number of tweets with no search hashtags\n",
    "len(fitness_df[fitness_df.num_search_tags == 0])"
   ]
  },
  {
   "cell_type": "code",
   "execution_count": 116,
   "metadata": {},
   "outputs": [
    {
     "data": {
      "text/plain": [
       "4839"
      ]
     },
     "execution_count": 116,
     "metadata": {},
     "output_type": "execute_result"
    }
   ],
   "source": [
    "# drop the tweets with no search hashtags\n",
    "fitness_df = fitness_df[fitness_df.num_search_tags != 0]\n",
    "len(fitness_df)"
   ]
  },
  {
   "cell_type": "code",
   "execution_count": 117,
   "metadata": {},
   "outputs": [
    {
     "data": {
      "text/html": [
       "<div>\n",
       "<style scoped>\n",
       "    .dataframe tbody tr th:only-of-type {\n",
       "        vertical-align: middle;\n",
       "    }\n",
       "\n",
       "    .dataframe tbody tr th {\n",
       "        vertical-align: top;\n",
       "    }\n",
       "\n",
       "    .dataframe thead th {\n",
       "        text-align: right;\n",
       "    }\n",
       "</style>\n",
       "<table border=\"1\" class=\"dataframe\">\n",
       "  <thead>\n",
       "    <tr style=\"text-align: right;\">\n",
       "      <th></th>\n",
       "      <th>user_name</th>\n",
       "      <th>user_desc</th>\n",
       "      <th>location</th>\n",
       "      <th>following</th>\n",
       "      <th>followers</th>\n",
       "      <th>totaltweets</th>\n",
       "      <th>user_createdts</th>\n",
       "      <th>tweet_createdts</th>\n",
       "      <th>retweet_count</th>\n",
       "      <th>text</th>\n",
       "      <th>hashtags</th>\n",
       "      <th>num_hashtags</th>\n",
       "      <th>num_search_tags</th>\n",
       "      <th>label</th>\n",
       "    </tr>\n",
       "  </thead>\n",
       "  <tbody>\n",
       "    <tr>\n",
       "      <th>0</th>\n",
       "      <td>anusualauthor</td>\n",
       "      <td>official tweet of Enigma Anu Aggarwal</td>\n",
       "      <td>Mumbai, India</td>\n",
       "      <td>544</td>\n",
       "      <td>3743</td>\n",
       "      <td>2661</td>\n",
       "      <td>2010-04-30 12:38:54</td>\n",
       "      <td>2020-10-05 15:34:17</td>\n",
       "      <td>0</td>\n",
       "      <td>You get to know your #true #nature in that mom...</td>\n",
       "      <td>{#wellness, #anuaggarwalfoundation, #staysafe,...</td>\n",
       "      <td>15</td>\n",
       "      <td>1</td>\n",
       "      <td>0</td>\n",
       "    </tr>\n",
       "    <tr>\n",
       "      <th>2</th>\n",
       "      <td>HeathAJordan</td>\n",
       "      <td>Entrepreneur/ Filmmaker/ CEO/ Producer/ Direct...</td>\n",
       "      <td>Sarasota Florida</td>\n",
       "      <td>6775</td>\n",
       "      <td>8567</td>\n",
       "      <td>50578</td>\n",
       "      <td>2011-06-21 22:56:28</td>\n",
       "      <td>2020-10-05 15:34:03</td>\n",
       "      <td>0</td>\n",
       "      <td>#RT @lucaslagoons: RT @LagoonsDesign: Want to ...</td>\n",
       "      <td>{#insanepools, #workout, #rt, #lucaslagoons}</td>\n",
       "      <td>4</td>\n",
       "      <td>1</td>\n",
       "      <td>0</td>\n",
       "    </tr>\n",
       "    <tr>\n",
       "      <th>7</th>\n",
       "      <td>IHealthtou</td>\n",
       "      <td>Welcome to I Health 2 U store!</td>\n",
       "      <td>United States</td>\n",
       "      <td>1</td>\n",
       "      <td>45</td>\n",
       "      <td>3205</td>\n",
       "      <td>2019-12-15 18:16:24</td>\n",
       "      <td>2020-10-05 15:33:33</td>\n",
       "      <td>0</td>\n",
       "      <td>13.58I Health 2 U#inspiration #wellness 310 ml...</td>\n",
       "      <td>{#wellness}</td>\n",
       "      <td>1</td>\n",
       "      <td>1</td>\n",
       "      <td>0</td>\n",
       "    </tr>\n",
       "    <tr>\n",
       "      <th>9</th>\n",
       "      <td>KavitaRaoMD</td>\n",
       "      <td>Dr. Kavita Rao M.D. is a Gulf Coast internist ...</td>\n",
       "      <td>St. Petersburg, FL</td>\n",
       "      <td>40</td>\n",
       "      <td>5</td>\n",
       "      <td>673</td>\n",
       "      <td>2014-12-19 18:06:56</td>\n",
       "      <td>2020-10-05 15:33:30</td>\n",
       "      <td>0</td>\n",
       "      <td>Love yourself enough to live a healthy lifesty...</td>\n",
       "      <td>{#wellness, #health, #healthyliving}</td>\n",
       "      <td>3</td>\n",
       "      <td>2</td>\n",
       "      <td>0</td>\n",
       "    </tr>\n",
       "    <tr>\n",
       "      <th>11</th>\n",
       "      <td>Crystal_Price13</td>\n",
       "      <td>Just me - all day - everyday</td>\n",
       "      <td>Panama City, FL</td>\n",
       "      <td>60</td>\n",
       "      <td>445</td>\n",
       "      <td>12936</td>\n",
       "      <td>2013-05-21 23:46:02</td>\n",
       "      <td>2020-10-05 15:33:25</td>\n",
       "      <td>0</td>\n",
       "      <td>I thought you might enjoy a 5 minute break wit...</td>\n",
       "      <td>{#stopbreathethink, #healthylifestyle, #health...</td>\n",
       "      <td>6</td>\n",
       "      <td>4</td>\n",
       "      <td>0</td>\n",
       "    </tr>\n",
       "  </tbody>\n",
       "</table>\n",
       "</div>"
      ],
      "text/plain": [
       "          user_name                                          user_desc  \\\n",
       "0     anusualauthor              official tweet of Enigma Anu Aggarwal   \n",
       "2      HeathAJordan  Entrepreneur/ Filmmaker/ CEO/ Producer/ Direct...   \n",
       "7        IHealthtou                     Welcome to I Health 2 U store!   \n",
       "9       KavitaRaoMD  Dr. Kavita Rao M.D. is a Gulf Coast internist ...   \n",
       "11  Crystal_Price13                       Just me - all day - everyday   \n",
       "\n",
       "              location  following  followers  totaltweets  \\\n",
       "0        Mumbai, India        544       3743         2661   \n",
       "2     Sarasota Florida       6775       8567        50578   \n",
       "7        United States          1         45         3205   \n",
       "9   St. Petersburg, FL         40          5          673   \n",
       "11     Panama City, FL         60        445        12936   \n",
       "\n",
       "         user_createdts      tweet_createdts  retweet_count  \\\n",
       "0   2010-04-30 12:38:54  2020-10-05 15:34:17              0   \n",
       "2   2011-06-21 22:56:28  2020-10-05 15:34:03              0   \n",
       "7   2019-12-15 18:16:24  2020-10-05 15:33:33              0   \n",
       "9   2014-12-19 18:06:56  2020-10-05 15:33:30              0   \n",
       "11  2013-05-21 23:46:02  2020-10-05 15:33:25              0   \n",
       "\n",
       "                                                 text  \\\n",
       "0   You get to know your #true #nature in that mom...   \n",
       "2   #RT @lucaslagoons: RT @LagoonsDesign: Want to ...   \n",
       "7   13.58I Health 2 U#inspiration #wellness 310 ml...   \n",
       "9   Love yourself enough to live a healthy lifesty...   \n",
       "11  I thought you might enjoy a 5 minute break wit...   \n",
       "\n",
       "                                             hashtags  num_hashtags  \\\n",
       "0   {#wellness, #anuaggarwalfoundation, #staysafe,...            15   \n",
       "2        {#insanepools, #workout, #rt, #lucaslagoons}             4   \n",
       "7                                         {#wellness}             1   \n",
       "9                {#wellness, #health, #healthyliving}             3   \n",
       "11  {#stopbreathethink, #healthylifestyle, #health...             6   \n",
       "\n",
       "    num_search_tags  label  \n",
       "0                 1      0  \n",
       "2                 1      0  \n",
       "7                 1      0  \n",
       "9                 2      0  \n",
       "11                4      0  "
      ]
     },
     "execution_count": 117,
     "metadata": {},
     "output_type": "execute_result"
    }
   ],
   "source": [
    "# define a function to label the tweets based on the number of followers the user have\n",
    "def label_func(followers):\n",
    "    if followers > 30000:\n",
    "        return 1\n",
    "    else:\n",
    "        return 0\n",
    "fitness_df['label'] = fitness_df['followers'].apply(label_func)\n",
    "fitness_df.head()"
   ]
  },
  {
   "cell_type": "code",
   "execution_count": 119,
   "metadata": {},
   "outputs": [
    {
     "data": {
      "text/plain": [
       "0    4668\n",
       "1     171\n",
       "Name: label, dtype: int64"
      ]
     },
     "execution_count": 119,
     "metadata": {},
     "output_type": "execute_result"
    }
   ],
   "source": [
    "# counts the number of tweets in each label\n",
    "followers_count_fit = fitness_df['label'].value_counts().sort_index()\n",
    "followers_count_fit"
   ]
  },
  {
   "cell_type": "code",
   "execution_count": 120,
   "metadata": {},
   "outputs": [
    {
     "data": {
      "image/png": "[encoded data removed]",
      "text/plain": [
       "<Figure size 576x432 with 1 Axes>"
      ]
     },
     "metadata": {},
     "output_type": "display_data"
    }
   ],
   "source": [
    "# Pie plot to show the percentage of tweets in each label\n",
    "fig, ax = plt.subplots(figsize=(8, 6), subplot_kw=dict(aspect=\"equal\"))\n",
    "plt.pie(followers_count_fit, labels=[0,1],startangle=90, autopct='%.0f%%')\n",
    "\n",
    "ax.legend([\"1: Followers count > 30000\", \"0: Followers count < 30000\"], loc=\"center left\",bbox_to_anchor=(1, 0, 0.5, 1))\n",
    "\n",
    "ax.set_title(\"Followers Count (Fitness Tweets)\")\n",
    "\n",
    "plt.show()"
   ]
  },
  {
   "cell_type": "markdown",
   "metadata": {},
   "source": [
    "### Distribution of Word Count, % of caps, number of hashtags in different labels (followers count category)"
   ]
  },
  {
   "cell_type": "code",
   "execution_count": 123,
   "metadata": {},
   "outputs": [
    {
     "data": {
      "text/html": [
       "<div>\n",
       "<style scoped>\n",
       "    .dataframe tbody tr th:only-of-type {\n",
       "        vertical-align: middle;\n",
       "    }\n",
       "\n",
       "    .dataframe tbody tr th {\n",
       "        vertical-align: top;\n",
       "    }\n",
       "\n",
       "    .dataframe thead th {\n",
       "        text-align: right;\n",
       "    }\n",
       "</style>\n",
       "<table border=\"1\" class=\"dataframe\">\n",
       "  <thead>\n",
       "    <tr style=\"text-align: right;\">\n",
       "      <th></th>\n",
       "      <th>user_name</th>\n",
       "      <th>user_desc</th>\n",
       "      <th>location</th>\n",
       "      <th>following</th>\n",
       "      <th>followers</th>\n",
       "      <th>totaltweets</th>\n",
       "      <th>user_createdts</th>\n",
       "      <th>tweet_createdts</th>\n",
       "      <th>retweet_count</th>\n",
       "      <th>text</th>\n",
       "      <th>hashtags</th>\n",
       "      <th>num_hashtags</th>\n",
       "      <th>num_search_tags</th>\n",
       "      <th>label</th>\n",
       "      <th>tweet_length</th>\n",
       "    </tr>\n",
       "  </thead>\n",
       "  <tbody>\n",
       "    <tr>\n",
       "      <th>0</th>\n",
       "      <td>anusualauthor</td>\n",
       "      <td>official tweet of Enigma Anu Aggarwal</td>\n",
       "      <td>Mumbai, India</td>\n",
       "      <td>544</td>\n",
       "      <td>3743</td>\n",
       "      <td>2661</td>\n",
       "      <td>2010-04-30 12:38:54</td>\n",
       "      <td>2020-10-05 15:34:17</td>\n",
       "      <td>0</td>\n",
       "      <td>You get to know your #true #nature in that mom...</td>\n",
       "      <td>{#wellness, #anuaggarwalfoundation, #staysafe,...</td>\n",
       "      <td>15</td>\n",
       "      <td>1</td>\n",
       "      <td>0</td>\n",
       "      <td>36</td>\n",
       "    </tr>\n",
       "    <tr>\n",
       "      <th>2</th>\n",
       "      <td>HeathAJordan</td>\n",
       "      <td>Entrepreneur/ Filmmaker/ CEO/ Producer/ Direct...</td>\n",
       "      <td>Sarasota Florida</td>\n",
       "      <td>6775</td>\n",
       "      <td>8567</td>\n",
       "      <td>50578</td>\n",
       "      <td>2011-06-21 22:56:28</td>\n",
       "      <td>2020-10-05 15:34:03</td>\n",
       "      <td>0</td>\n",
       "      <td>#RT @lucaslagoons: RT @LagoonsDesign: Want to ...</td>\n",
       "      <td>{#insanepools, #workout, #rt, #lucaslagoons}</td>\n",
       "      <td>4</td>\n",
       "      <td>1</td>\n",
       "      <td>0</td>\n",
       "      <td>27</td>\n",
       "    </tr>\n",
       "  </tbody>\n",
       "</table>\n",
       "</div>"
      ],
      "text/plain": [
       "       user_name                                          user_desc  \\\n",
       "0  anusualauthor              official tweet of Enigma Anu Aggarwal   \n",
       "2   HeathAJordan  Entrepreneur/ Filmmaker/ CEO/ Producer/ Direct...   \n",
       "\n",
       "           location  following  followers  totaltweets       user_createdts  \\\n",
       "0     Mumbai, India        544       3743         2661  2010-04-30 12:38:54   \n",
       "2  Sarasota Florida       6775       8567        50578  2011-06-21 22:56:28   \n",
       "\n",
       "       tweet_createdts  retweet_count  \\\n",
       "0  2020-10-05 15:34:17              0   \n",
       "2  2020-10-05 15:34:03              0   \n",
       "\n",
       "                                                text  \\\n",
       "0  You get to know your #true #nature in that mom...   \n",
       "2  #RT @lucaslagoons: RT @LagoonsDesign: Want to ...   \n",
       "\n",
       "                                            hashtags  num_hashtags  \\\n",
       "0  {#wellness, #anuaggarwalfoundation, #staysafe,...            15   \n",
       "2       {#insanepools, #workout, #rt, #lucaslagoons}             4   \n",
       "\n",
       "   num_search_tags  label  tweet_length  \n",
       "0                1      0            36  \n",
       "2                1      0            27  "
      ]
     },
     "execution_count": 123,
     "metadata": {},
     "output_type": "execute_result"
    }
   ],
   "source": [
    "# Distribution of tweet length in different labels (followers category)\n",
    "\n",
    "fitness_df['tweet_length'] = fitness_df['text'].apply(lambda x: len(x.split())) # tweet length\n",
    "fitness_df.head(2)"
   ]
  },
  {
   "cell_type": "code",
   "execution_count": 124,
   "metadata": {},
   "outputs": [
    {
     "data": {
      "text/plain": [
       "EarthWizardInfo    25\n",
       "IAM__Network       18\n",
       "buzbuzhd           18\n",
       "LevaDuell          17\n",
       "StanleyEpstein     15\n",
       "HOTorganics        14\n",
       "kkidsboyssoccer    14\n",
       "Bariquins          14\n",
       "gofitfinder        11\n",
       "HOODZRADIO         11\n",
       "Name: user_name, dtype: int64"
      ]
     },
     "execution_count": 124,
     "metadata": {},
     "output_type": "execute_result"
    }
   ],
   "source": [
    "# user with higest number of tweets on fashion\n",
    "user_fit = fitness_df['user_name'].value_counts()\n",
    "user_fit.head(10)"
   ]
  },
  {
   "cell_type": "code",
   "execution_count": 125,
   "metadata": {},
   "outputs": [
    {
     "data": {
      "image/png": "[encoded data removed]",
      "text/plain": [
       "<Figure size 720x576 with 1 Axes>"
      ]
     },
     "metadata": {
      "needs_background": "light"
     },
     "output_type": "display_data"
    }
   ],
   "source": [
    "# tweet length distribution at different labels\n",
    "plt.figure(figsize=(10, 8))\n",
    "sns.boxplot(x = 'label', y = 'tweet_length', data = fitness_df, showfliers=False).set(xlabel= 'Label', ylabel='Tweet Length', title='Distribution of Tweet Length (Fitness Tweets)')\n",
    "plt.show()"
   ]
  },
  {
   "cell_type": "code",
   "execution_count": 126,
   "metadata": {},
   "outputs": [
    {
     "data": {
      "image/png": "[encoded data removed]",
      "text/plain": [
       "<Figure size 720x576 with 1 Axes>"
      ]
     },
     "metadata": {
      "needs_background": "light"
     },
     "output_type": "display_data"
    }
   ],
   "source": [
    "# define a function to get % of caps in a tweet\n",
    "def caps(text):\n",
    "    return np.mean([1 if i.isupper() else 0 for i in text]) * 100\n",
    "\n",
    "# Distribution of % of Caps in different followers count (labels)\n",
    "plt.figure(figsize=(10, 8))\n",
    "sns.boxplot(x = 'label', y = fitness_df['text'].apply(caps), data = fitness_df, showfliers=False).set(xlabel= 'Label',ylabel='% of Capitals', title='Distribution of % caps (Fitness Tweets)')\n",
    "plt.show()"
   ]
  },
  {
   "cell_type": "code",
   "execution_count": 127,
   "metadata": {},
   "outputs": [
    {
     "data": {
      "image/png": "[encoded data removed]",
      "text/plain": [
       "<Figure size 720x576 with 1 Axes>"
      ]
     },
     "metadata": {
      "needs_background": "light"
     },
     "output_type": "display_data"
    }
   ],
   "source": [
    "# Distribution of number of hashtags in different labels\n",
    "plt.figure(figsize=(10, 8))\n",
    "sns.boxplot(x = 'label', y = 'num_hashtags', data = fitness_df, showfliers=False).set(xlabel= 'Label',ylabel='Hashtags Per Tweet', title='Distribution of hashtags per tweet (Fitness Tweets)')\n",
    "plt.show()"
   ]
  },
  {
   "cell_type": "code",
   "execution_count": 128,
   "metadata": {},
   "outputs": [
    {
     "data": {
      "image/png": "[encoded data removed]",
      "text/plain": [
       "<Figure size 720x576 with 1 Axes>"
      ]
     },
     "metadata": {
      "needs_background": "light"
     },
     "output_type": "display_data"
    }
   ],
   "source": [
    "# Distribution of reading level in different labels (Automated Readability Index)\n",
    "plt.figure(figsize=(10, 8))\n",
    "sns.boxplot(x = 'label', y = fitness_df['text'].apply(lambda x: textstat.automated_readability_index(x)), data = fitness_df, showfliers=False).set(xlabel= 'Label',ylabel='Reading Level', title='Distribution of Tweet Reading Level (Fitness Tweets)')\n",
    "plt.show()"
   ]
  },
  {
   "cell_type": "code",
   "execution_count": 129,
   "metadata": {},
   "outputs": [
    {
     "data": {
      "image/png": "[encoded data removed]",
      "text/plain": [
       "<Figure size 720x576 with 1 Axes>"
      ]
     },
     "metadata": {
      "needs_background": "light"
     },
     "output_type": "display_data"
    }
   ],
   "source": [
    "# Distribution of reading level in different labels (Flesch Reading Ease Score)\n",
    "plt.figure(figsize=(10, 8))\n",
    "sns.boxplot(x = 'label', y = fitness_df['text'].apply(lambda x: textstat.flesch_reading_ease(x)), data = fitness_df, showfliers=False).set(xlabel= 'Label',ylabel='Reading Level', title='Distribution of Tweet Reading Level (Fitness Tweets)')\n",
    "plt.show()"
   ]
  },
  {
   "cell_type": "code",
   "execution_count": 130,
   "metadata": {},
   "outputs": [
    {
     "data": {
      "image/png": "[encoded data removed]",
      "text/plain": [
       "<Figure size 720x576 with 1 Axes>"
      ]
     },
     "metadata": {
      "needs_background": "light"
     },
     "output_type": "display_data"
    }
   ],
   "source": [
    "# Distribution of reading level in different labels (Fog Scale)\n",
    "plt.figure(figsize=(10, 8))\n",
    "sns.boxplot(x = 'label', y = fitness_df['text'].apply(lambda x: textstat.gunning_fog(x)), data = fitness_df, showfliers=False).set(xlabel= 'Label',ylabel='Reading Level', title='Distribution of Tweet Reading Level (Fitness Tweets)')\n",
    "plt.show()"
   ]
  },
  {
   "cell_type": "code",
   "execution_count": 131,
   "metadata": {},
   "outputs": [
    {
     "data": {
      "image/png": "[encoded data removed]",
      "text/plain": [
       "<Figure size 720x576 with 1 Axes>"
      ]
     },
     "metadata": {
      "needs_background": "light"
     },
     "output_type": "display_data"
    }
   ],
   "source": [
    "# Distribution of reading level in different labels (Coleman-Liau Index)\n",
    "plt.figure(figsize=(10, 8))\n",
    "sns.boxplot(x = 'label', y = fitness_df['text'].apply(lambda x: textstat.coleman_liau_index(x)), data = fitness_df, showfliers=False).set(xlabel= 'Label',ylabel='Reading Level', title='Distribution of Tweet Reading Level (Fitness Tweets)')\n",
    "plt.show()"
   ]
  },
  {
   "cell_type": "code",
   "execution_count": 132,
   "metadata": {},
   "outputs": [
    {
     "data": {
      "image/png": "[encoded data removed]",
      "text/plain": [
       "<Figure size 720x576 with 1 Axes>"
      ]
     },
     "metadata": {
      "needs_background": "light"
     },
     "output_type": "display_data"
    }
   ],
   "source": [
    "# Distribution of reading level in different labels (Linsear Write Formula)\n",
    "plt.figure(figsize=(10, 8))\n",
    "sns.boxplot(x = 'label', y = fitness_df['text'].apply(lambda x: textstat.linsear_write_formula(x)), data = fitness_df, showfliers=False).set(xlabel= 'Label',ylabel='Reading Level', title='Distribution of Tweet Reading Level (Fitness Tweets)')\n",
    "plt.show()"
   ]
  },
  {
   "cell_type": "code",
   "execution_count": null,
   "metadata": {},
   "outputs": [],
   "source": []
  },
  {
   "cell_type": "code",
   "execution_count": null,
   "metadata": {},
   "outputs": [],
   "source": []
  },
  {
   "cell_type": "code",
   "execution_count": null,
   "metadata": {},
   "outputs": [],
   "source": []
  },
  {
   "cell_type": "code",
   "execution_count": null,
   "metadata": {},
   "outputs": [],
   "source": []
  },
  {
   "cell_type": "code",
   "execution_count": null,
   "metadata": {},
   "outputs": [],
   "source": []
  },
  {
   "cell_type": "code",
   "execution_count": null,
   "metadata": {},
   "outputs": [],
   "source": []
  },
  {
   "cell_type": "code",
   "execution_count": null,
   "metadata": {},
   "outputs": [],
   "source": []
  },
  {
   "cell_type": "code",
   "execution_count": null,
   "metadata": {},
   "outputs": [],
   "source": []
  },
  {
   "cell_type": "code",
   "execution_count": null,
   "metadata": {},
   "outputs": [],
   "source": []
  },
  {
   "cell_type": "code",
   "execution_count": null,
   "metadata": {},
   "outputs": [],
   "source": []
  },
  {
   "cell_type": "code",
   "execution_count": null,
   "metadata": {},
   "outputs": [],
   "source": []
  },
  {
   "cell_type": "code",
   "execution_count": null,
   "metadata": {},
   "outputs": [],
   "source": []
  },
  {
   "cell_type": "code",
   "execution_count": null,
   "metadata": {},
   "outputs": [],
   "source": []
  },
  {
   "cell_type": "code",
   "execution_count": null,
   "metadata": {},
   "outputs": [],
   "source": []
  },
  {
   "cell_type": "code",
   "execution_count": null,
   "metadata": {},
   "outputs": [],
   "source": []
  },
  {
   "cell_type": "code",
   "execution_count": null,
   "metadata": {},
   "outputs": [],
   "source": []
  },
  {
   "cell_type": "code",
   "execution_count": null,
   "metadata": {},
   "outputs": [],
   "source": []
  },
  {
   "cell_type": "code",
   "execution_count": null,
   "metadata": {},
   "outputs": [],
   "source": []
  },
  {
   "cell_type": "code",
   "execution_count": null,
   "metadata": {},
   "outputs": [],
   "source": []
  },
  {
   "cell_type": "code",
   "execution_count": null,
   "metadata": {},
   "outputs": [],
   "source": []
  },
  {
   "cell_type": "code",
   "execution_count": null,
   "metadata": {},
   "outputs": [],
   "source": []
  },
  {
   "cell_type": "code",
   "execution_count": null,
   "metadata": {},
   "outputs": [],
   "source": []
  },
  {
   "cell_type": "code",
   "execution_count": null,
   "metadata": {},
   "outputs": [],
   "source": []
  },
  {
   "cell_type": "code",
   "execution_count": null,
   "metadata": {},
   "outputs": [],
   "source": []
  },
  {
   "cell_type": "code",
   "execution_count": null,
   "metadata": {},
   "outputs": [],
   "source": []
  },
  {
   "cell_type": "code",
   "execution_count": null,
   "metadata": {},
   "outputs": [],
   "source": [
    "# Load fitness tweets into a pandas DataFrame\n",
    "fitness_df = pd.read_csv('fitness_tweets.csv')\n",
    "fitness_df.head()\n",
    "\n",
    "# Find out total no of rows and columns\n",
    "fashion_df.shape\n",
    "# Count missing values\n",
    "fashion_df.info()\n",
    "\n",
    "# Check for duplicate tweets \n",
    "duplicate_tweets_fashion = fashion_df.duplicated(keep='first').sum()\n",
    "duplicate_tweets_fashion\n",
    "\n",
    "# drop duplicates\n",
    "fashion_df = fashion_df.drop_duplicates()\n",
    "len(fashion_df)\n",
    "\n",
    "# Check for % of retweets\n",
    "fashion_df['text'].apply(lambda x: 'RT' in x[:3]).mean()\n",
    "\n",
    "# Drop the retweets\n",
    "fashion_df = fashion_df[~fashion_df.text.str.startswith('RT')]\n",
    "len(fashion_df)\n",
    "\n",
    "# defind a function to find all the hashtags in a tweet\n",
    "\n",
    "def hashtag(text):\n",
    "    return (set([str(i.lower()) for i in text.split() if i.startswith(\"#\")]))\n",
    "\n",
    "fashion_df['hashtags'] = fashion_df['text'].apply(hashtag)\n",
    "fashion_df.head(3)\n",
    "\n",
    "# Count the hashtags per each tweets\n",
    "fashion_df['num_hashtags'] = fashion_df['hashtags'].apply(len)\n",
    "fashion_df.head(3)\n",
    "\n",
    "# find the number of search hashtags (we used thsese tags to pull the tweet) in a tweet\n",
    "search_tags = ['#fashion', '#style',  '#design',  '#beauty',  '#fashiontrends',  '#fashionblogger', '#fashionstyle',  '#fashionweek',  '#fashionstylist',  '#fashionmodel' , '#fasionista' , '#model',  '#fashionlover',  '#womenfashion', '#menfashion']\n",
    "\n",
    "def search_hashtags(tags):\n",
    "    t = 0\n",
    "    for i in search_tags:\n",
    "        for j in tags:\n",
    "            if i in j:\n",
    "                t += 1\n",
    "    return t\n",
    "\n",
    "                \n",
    "fashion_df['num_search_tags'] = fashion_df['hashtags'].apply(search_hashtags)\n",
    "fashion_df.head()            \n",
    "\n",
    "# find the the number of tweets with no search hashtags\n",
    "len(fashion_df[fashion_df.num_search_tags == 0])\n",
    "\n",
    "# drop the tweets with no search hashtags\n",
    "fashion_df = fashion_df[fashion_df.num_search_tags != 0]\n",
    "len(fashion_df)\n",
    "\n",
    "# define a function to label the tweets based on the number of followers the user have\n",
    "def label_func(followers):\n",
    "    if followers > 30000:\n",
    "        return 1\n",
    "    else:\n",
    "        return 0\n",
    "fashion_df['label'] = fashion_df['followers'].apply(label_func)\n",
    "fashion_df.head()\n",
    "\n",
    "# counts the number of tweets in each label\n",
    "followers_count = fashion_df['label'].value_counts().sort_index()\n",
    "followers_count\n",
    "\n",
    "# Pie plot to show the percentage of tweets in each label\n",
    "fig, ax = plt.subplots(figsize=(8, 6), subplot_kw=dict(aspect=\"equal\"))\n",
    "plt.pie(followers_count, labels=[0,1],startangle=90, autopct='%.0f%%')\n",
    "\n",
    "ax.legend([\"1: Followers count > 30000\", \"0: Followers count < 30000\"], loc=\"center left\",bbox_to_anchor=(1, 0, 0.5, 1))\n",
    "\n",
    "ax.set_title(\"Followers count\")\n",
    "\n",
    "plt.show()"
   ]
  },
  {
   "cell_type": "code",
   "execution_count": null,
   "metadata": {},
   "outputs": [],
   "source": []
  },
  {
   "cell_type": "code",
   "execution_count": null,
   "metadata": {},
   "outputs": [],
   "source": [
    "### Distribution of Word Count, % of caps, number of hashtags in different labels (followers count category)\n",
    "\n",
    "# Distribution of tweet length in different labels (followers category)\n",
    "\n",
    "fashion_df['tweet_length'] = fashion_df['text'].apply(lambda x: len(x.split())) # tweet length\n",
    "fashion_df.head(2)\n",
    "\n",
    "# user with higest number of tweets on fashion\n",
    "user = fashion_df['user_name'].value_counts()\n",
    "user.head(10)\n",
    "\n",
    "# tweet length distribution at different labels\n",
    "plt.figure(figsize=(10, 8))\n",
    "sns.boxplot(x = 'label', y = 'tweet_length', data = fashion_df, showfliers=False).set(xlabel= 'Label', ylabel='Tweet Length', title='Distribution of Tweet Length (Fashion Tweets)')\n",
    "plt.show()\n",
    "\n",
    "\n",
    "# define a function to get % of caps in a tweet\n",
    "def caps(text):\n",
    "    return np.mean([1 if i.isupper() else 0 for i in text]) * 100\n",
    "\n",
    "# Distribution of % of Caps in different followers count (labels)\n",
    "plt.figure(figsize=(10, 8))\n",
    "sns.boxplot(x = 'label', y = fashion_df['text'].apply(caps), data = fashion_df, showfliers=False).set(xlabel= 'Label',ylabel='% of Capitals', title='Distribution of % caps (Fashion Tweets)')\n",
    "plt.show()\n",
    "\n",
    "# Distribution of number of hashtags in different labels\n",
    "plt.figure(figsize=(10, 8))\n",
    "sns.boxplot(x = 'label', y = 'num_hashtags', data = fashion_df, showfliers=False).set(xlabel= 'Label',ylabel='Hashtags Per Tweet', title='Distribution of hashtags per tweet (Fashion Tweets)')\n",
    "plt.show()\n",
    "\n",
    "\n",
    "fashion_df['reading_level (ARI)'] = fashion_df['text'].apply(lambda x: textstat.automated_readability_index(x))\n",
    "fashion_df.head()\n",
    "\n",
    "# Distribution of reading level in different labels (Automated Readability Index)\n",
    "plt.figure(figsize=(10, 8))\n",
    "sns.boxplot(x = 'label', y = fashion_df['text'].apply(lambda x: textstat.automated_readability_index(x)), data = fashion_df, showfliers=False).set(xlabel= 'Label',ylabel='Reading Level', title='Distribution of Tweet Reading Level (Fashion Tweets)')\n",
    "plt.show()\n",
    "\n",
    "# Distribution of reading level in different labels (Flesch Reading Ease Score)\n",
    "plt.figure(figsize=(10, 8))\n",
    "sns.boxplot(x = 'label', y = fashion_df['text'].apply(lambda x: textstat.flesch_reading_ease(x)), data = fashion_df, showfliers=False).set(xlabel= 'Label',ylabel='Reading Level', title='Distribution of Tweet Reading Level (Fashion Tweets)')\n",
    "plt.show()\n",
    "\n",
    "# Distribution of reading level in different labels (Fog Scale)\n",
    "plt.figure(figsize=(10, 8))\n",
    "sns.boxplot(x = 'label', y = fashion_df['text'].apply(lambda x: textstat.gunning_fog(x)), data = fashion_df, showfliers=False).set(xlabel= 'Label',ylabel='Reading Level', title='Distribution of Tweet Reading Level (Fashion Tweets)')\n",
    "plt.show()\n",
    "\n",
    "# Distribution of reading level in different labels (Coleman-Liau Index)\n",
    "plt.figure(figsize=(10, 8))\n",
    "sns.boxplot(x = 'label', y = fashion_df['text'].apply(lambda x: textstat.coleman_liau_index(x)), data = fashion_df, showfliers=False).set(xlabel= 'Label',ylabel='Reading Level', title='Distribution of Tweet Reading Level (Fashion Tweets)')\n",
    "plt.show()\n",
    "\n",
    "# Distribution of reading level in different labels (Linsear Write Formula)\n",
    "plt.figure(figsize=(10, 8))\n",
    "sns.boxplot(x = 'label', y = fashion_df['text'].apply(lambda x: textstat.linsear_write_formula(x)), data = fashion_df, showfliers=False).set(xlabel= 'Label',ylabel='Reading Level', title='Distribution of Tweet Reading Level (Fashion Tweets)')\n",
    "plt.show()\n",
    "\n"
   ]
  },
  {
   "cell_type": "code",
   "execution_count": null,
   "metadata": {},
   "outputs": [],
   "source": []
  },
  {
   "cell_type": "code",
   "execution_count": null,
   "metadata": {},
   "outputs": [],
   "source": []
  },
  {
   "cell_type": "code",
   "execution_count": null,
   "metadata": {},
   "outputs": [],
   "source": []
  },
  {
   "cell_type": "code",
   "execution_count": null,
   "metadata": {},
   "outputs": [],
   "source": []
  },
  {
   "cell_type": "code",
   "execution_count": null,
   "metadata": {},
   "outputs": [],
   "source": []
  },
  {
   "cell_type": "code",
   "execution_count": null,
   "metadata": {},
   "outputs": [],
   "source": []
  },
  {
   "cell_type": "code",
   "execution_count": null,
   "metadata": {},
   "outputs": [],
   "source": []
  },
  {
   "cell_type": "code",
   "execution_count": null,
   "metadata": {},
   "outputs": [],
   "source": []
  },
  {
   "cell_type": "code",
   "execution_count": null,
   "metadata": {},
   "outputs": [],
   "source": []
  },
  {
   "cell_type": "code",
   "execution_count": null,
   "metadata": {},
   "outputs": [],
   "source": []
  },
  {
   "cell_type": "code",
   "execution_count": null,
   "metadata": {},
   "outputs": [],
   "source": []
  },
  {
   "cell_type": "code",
   "execution_count": null,
   "metadata": {},
   "outputs": [],
   "source": []
  },
  {
   "cell_type": "code",
   "execution_count": null,
   "metadata": {},
   "outputs": [],
   "source": []
  },
  {
   "cell_type": "code",
   "execution_count": null,
   "metadata": {},
   "outputs": [],
   "source": []
  },
  {
   "cell_type": "code",
   "execution_count": null,
   "metadata": {},
   "outputs": [],
   "source": []
  },
  {
   "cell_type": "code",
   "execution_count": null,
   "metadata": {},
   "outputs": [],
   "source": []
  },
  {
   "cell_type": "code",
   "execution_count": null,
   "metadata": {},
   "outputs": [],
   "source": []
  },
  {
   "cell_type": "code",
   "execution_count": null,
   "metadata": {},
   "outputs": [],
   "source": []
  },
  {
   "cell_type": "code",
   "execution_count": null,
   "metadata": {},
   "outputs": [],
   "source": []
  },
  {
   "cell_type": "code",
   "execution_count": null,
   "metadata": {},
   "outputs": [],
   "source": []
  },
  {
   "cell_type": "code",
   "execution_count": null,
   "metadata": {},
   "outputs": [],
   "source": []
  },
  {
   "cell_type": "code",
   "execution_count": null,
   "metadata": {},
   "outputs": [],
   "source": []
  },
  {
   "cell_type": "code",
   "execution_count": null,
   "metadata": {},
   "outputs": [],
   "source": []
  },
  {
   "cell_type": "code",
   "execution_count": null,
   "metadata": {},
   "outputs": [],
   "source": []
  },
  {
   "cell_type": "code",
   "execution_count": null,
   "metadata": {},
   "outputs": [],
   "source": []
  },
  {
   "cell_type": "code",
   "execution_count": null,
   "metadata": {},
   "outputs": [],
   "source": []
  },
  {
   "cell_type": "code",
   "execution_count": null,
   "metadata": {},
   "outputs": [],
   "source": []
  },
  {
   "cell_type": "code",
   "execution_count": null,
   "metadata": {},
   "outputs": [],
   "source": []
  },
  {
   "cell_type": "code",
   "execution_count": null,
   "metadata": {},
   "outputs": [],
   "source": []
  },
  {
   "cell_type": "code",
   "execution_count": null,
   "metadata": {},
   "outputs": [],
   "source": []
  },
  {
   "cell_type": "code",
   "execution_count": null,
   "metadata": {},
   "outputs": [],
   "source": []
  },
  {
   "cell_type": "code",
   "execution_count": null,
   "metadata": {},
   "outputs": [],
   "source": []
  },
  {
   "cell_type": "code",
   "execution_count": null,
   "metadata": {},
   "outputs": [],
   "source": []
  },
  {
   "cell_type": "code",
   "execution_count": null,
   "metadata": {},
   "outputs": [],
   "source": []
  },
  {
   "cell_type": "code",
   "execution_count": null,
   "metadata": {},
   "outputs": [],
   "source": []
  },
  {
   "cell_type": "code",
   "execution_count": null,
   "metadata": {},
   "outputs": [],
   "source": []
  },
  {
   "cell_type": "code",
   "execution_count": null,
   "metadata": {},
   "outputs": [],
   "source": []
  },
  {
   "cell_type": "code",
   "execution_count": null,
   "metadata": {},
   "outputs": [],
   "source": []
  },
  {
   "cell_type": "code",
   "execution_count": null,
   "metadata": {},
   "outputs": [],
   "source": []
  },
  {
   "cell_type": "code",
   "execution_count": null,
   "metadata": {},
   "outputs": [],
   "source": []
  },
  {
   "cell_type": "code",
   "execution_count": null,
   "metadata": {},
   "outputs": [],
   "source": []
  },
  {
   "cell_type": "code",
   "execution_count": null,
   "metadata": {},
   "outputs": [],
   "source": []
  },
  {
   "cell_type": "code",
   "execution_count": null,
   "metadata": {},
   "outputs": [],
   "source": []
  },
  {
   "cell_type": "code",
   "execution_count": null,
   "metadata": {},
   "outputs": [],
   "source": []
  },
  {
   "cell_type": "code",
   "execution_count": null,
   "metadata": {},
   "outputs": [],
   "source": []
  },
  {
   "cell_type": "code",
   "execution_count": null,
   "metadata": {},
   "outputs": [],
   "source": []
  },
  {
   "cell_type": "code",
   "execution_count": null,
   "metadata": {},
   "outputs": [],
   "source": []
  },
  {
   "cell_type": "code",
   "execution_count": null,
   "metadata": {},
   "outputs": [],
   "source": []
  },
  {
   "cell_type": "code",
   "execution_count": null,
   "metadata": {},
   "outputs": [],
   "source": []
  },
  {
   "cell_type": "code",
   "execution_count": null,
   "metadata": {},
   "outputs": [],
   "source": []
  },
  {
   "cell_type": "code",
   "execution_count": null,
   "metadata": {},
   "outputs": [],
   "source": []
  },
  {
   "cell_type": "code",
   "execution_count": null,
   "metadata": {},
   "outputs": [],
   "source": []
  },
  {
   "cell_type": "code",
   "execution_count": null,
   "metadata": {},
   "outputs": [],
   "source": []
  },
  {
   "cell_type": "code",
   "execution_count": null,
   "metadata": {},
   "outputs": [],
   "source": []
  },
  {
   "cell_type": "code",
   "execution_count": null,
   "metadata": {},
   "outputs": [],
   "source": []
  },
  {
   "cell_type": "code",
   "execution_count": null,
   "metadata": {},
   "outputs": [],
   "source": []
  },
  {
   "cell_type": "code",
   "execution_count": null,
   "metadata": {},
   "outputs": [],
   "source": []
  },
  {
   "cell_type": "code",
   "execution_count": null,
   "metadata": {},
   "outputs": [],
   "source": []
  },
  {
   "cell_type": "code",
   "execution_count": null,
   "metadata": {},
   "outputs": [],
   "source": []
  },
  {
   "cell_type": "code",
   "execution_count": null,
   "metadata": {},
   "outputs": [],
   "source": []
  },
  {
   "cell_type": "code",
   "execution_count": null,
   "metadata": {},
   "outputs": [],
   "source": []
  },
  {
   "cell_type": "code",
   "execution_count": null,
   "metadata": {},
   "outputs": [],
   "source": []
  },
  {
   "cell_type": "code",
   "execution_count": null,
   "metadata": {},
   "outputs": [],
   "source": []
  },
  {
   "cell_type": "code",
   "execution_count": null,
   "metadata": {},
   "outputs": [],
   "source": []
  },
  {
   "cell_type": "code",
   "execution_count": null,
   "metadata": {},
   "outputs": [],
   "source": []
  },
  {
   "cell_type": "code",
   "execution_count": null,
   "metadata": {},
   "outputs": [],
   "source": []
  },
  {
   "cell_type": "code",
   "execution_count": null,
   "metadata": {},
   "outputs": [],
   "source": []
  },
  {
   "cell_type": "code",
   "execution_count": null,
   "metadata": {},
   "outputs": [],
   "source": []
  },
  {
   "cell_type": "code",
   "execution_count": null,
   "metadata": {},
   "outputs": [],
   "source": []
  },
  {
   "cell_type": "code",
   "execution_count": null,
   "metadata": {},
   "outputs": [],
   "source": []
  },
  {
   "cell_type": "code",
   "execution_count": null,
   "metadata": {},
   "outputs": [],
   "source": []
  },
  {
   "cell_type": "code",
   "execution_count": null,
   "metadata": {},
   "outputs": [],
   "source": []
  },
  {
   "cell_type": "code",
   "execution_count": null,
   "metadata": {},
   "outputs": [],
   "source": []
  },
  {
   "cell_type": "code",
   "execution_count": null,
   "metadata": {},
   "outputs": [],
   "source": []
  },
  {
   "cell_type": "code",
   "execution_count": null,
   "metadata": {},
   "outputs": [],
   "source": []
  },
  {
   "cell_type": "code",
   "execution_count": null,
   "metadata": {},
   "outputs": [],
   "source": []
  },
  {
   "cell_type": "code",
   "execution_count": null,
   "metadata": {},
   "outputs": [],
   "source": []
  },
  {
   "cell_type": "code",
   "execution_count": null,
   "metadata": {},
   "outputs": [],
   "source": []
  },
  {
   "cell_type": "code",
   "execution_count": null,
   "metadata": {},
   "outputs": [],
   "source": []
  },
  {
   "cell_type": "code",
   "execution_count": null,
   "metadata": {},
   "outputs": [],
   "source": []
  },
  {
   "cell_type": "code",
   "execution_count": null,
   "metadata": {},
   "outputs": [],
   "source": []
  },
  {
   "cell_type": "code",
   "execution_count": null,
   "metadata": {},
   "outputs": [],
   "source": []
  },
  {
   "cell_type": "code",
   "execution_count": null,
   "metadata": {},
   "outputs": [],
   "source": []
  },
  {
   "cell_type": "code",
   "execution_count": null,
   "metadata": {},
   "outputs": [],
   "source": []
  },
  {
   "cell_type": "code",
   "execution_count": null,
   "metadata": {},
   "outputs": [],
   "source": []
  },
  {
   "cell_type": "code",
   "execution_count": null,
   "metadata": {},
   "outputs": [],
   "source": []
  },
  {
   "cell_type": "code",
   "execution_count": null,
   "metadata": {},
   "outputs": [],
   "source": []
  },
  {
   "cell_type": "code",
   "execution_count": null,
   "metadata": {},
   "outputs": [],
   "source": []
  },
  {
   "cell_type": "code",
   "execution_count": null,
   "metadata": {},
   "outputs": [],
   "source": []
  },
  {
   "cell_type": "code",
   "execution_count": null,
   "metadata": {},
   "outputs": [],
   "source": []
  },
  {
   "cell_type": "code",
   "execution_count": null,
   "metadata": {},
   "outputs": [],
   "source": []
  },
  {
   "cell_type": "code",
   "execution_count": null,
   "metadata": {},
   "outputs": [],
   "source": []
  },
  {
   "cell_type": "code",
   "execution_count": null,
   "metadata": {},
   "outputs": [],
   "source": []
  },
  {
   "cell_type": "code",
   "execution_count": null,
   "metadata": {},
   "outputs": [],
   "source": []
  },
  {
   "cell_type": "code",
   "execution_count": null,
   "metadata": {},
   "outputs": [],
   "source": []
  },
  {
   "cell_type": "code",
   "execution_count": null,
   "metadata": {},
   "outputs": [],
   "source": []
  },
  {
   "cell_type": "code",
   "execution_count": null,
   "metadata": {},
   "outputs": [],
   "source": []
  },
  {
   "cell_type": "code",
   "execution_count": null,
   "metadata": {},
   "outputs": [],
   "source": []
  },
  {
   "cell_type": "code",
   "execution_count": null,
   "metadata": {},
   "outputs": [],
   "source": []
  },
  {
   "cell_type": "code",
   "execution_count": null,
   "metadata": {},
   "outputs": [],
   "source": []
  },
  {
   "cell_type": "code",
   "execution_count": null,
   "metadata": {},
   "outputs": [],
   "source": []
  },
  {
   "cell_type": "code",
   "execution_count": null,
   "metadata": {},
   "outputs": [],
   "source": []
  }
 ],
 "metadata": {
  "kernelspec": {
   "display_name": "Python 3",
   "language": "python",
   "name": "python3"
  },
  "language_info": {
   "codemirror_mode": {
    "name": "ipython",
    "version": 3
   },
   "file_extension": ".py",
   "mimetype": "text/x-python",
   "name": "python",
   "nbconvert_exporter": "python",
   "pygments_lexer": "ipython3",
   "version": "3.7.6"
  }
 },
 "nbformat": 4,
 "nbformat_minor": 4
}
